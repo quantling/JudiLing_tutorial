{
 "cells": [
  {
   "cell_type": "markdown",
   "id": "51bc1e9f-2f57-44e4-9e01-47c6cea16f65",
   "metadata": {},
   "source": [
    "# 1. packages"
   ]
  },
  {
   "cell_type": "code",
   "execution_count": null,
   "id": "ce16fa66-e958-426f-9c0e-5fbc861a773a",
   "metadata": {
    "scrolled": true
   },
   "outputs": [],
   "source": [
    "using Flux\n",
    "import Pkg; Pkg.add(\"CUDA\")\n",
    "using CUDA"
   ]
  },
  {
   "cell_type": "code",
   "execution_count": null,
   "id": "239e63ce-68cc-4514-a723-bd1812b7d866",
   "metadata": {},
   "outputs": [],
   "source": [
    "using CSV, DataFrames, JudiLing, RCall"
   ]
  },
  {
   "cell_type": "markdown",
   "id": "c1916c9c-16b7-4721-980f-ecf8416c6ae0",
   "metadata": {},
   "source": [
    "# 2. dataset"
   ]
  },
  {
   "cell_type": "code",
   "execution_count": null,
   "id": "62f8e78e-4259-4fa1-8616-9d172d695eac",
   "metadata": {
    "scrolled": true
   },
   "outputs": [],
   "source": [
    "mp = JudiLing.load_dataset(\"../dat/mp.txt\", delim=\" \");\n",
    "mp[:,\"features\"] = string.(mp.Hub, \"_\", mp.Neighbor);\n",
    "first(mp, 10)"
   ]
  },
  {
   "cell_type": "markdown",
   "id": "b4da5519-c752-4307-b9b5-70879486628f",
   "metadata": {},
   "source": [
    "X and Y are the coordinates on an integer grid. The property to be predicted is in the column *Outcome* (binary version *R*). A datapoint is a *Hub* when it is surrounded completely by 8 points with outcome \"yes\". A datapoint is a *Neighbor* when it shares a \"yes\" datapoint with a *Hub*."
   ]
  },
  {
   "cell_type": "code",
   "execution_count": null,
   "id": "19ff3dbd-aefa-46dc-b6ff-ac79732cdfe7",
   "metadata": {},
   "outputs": [],
   "source": [
    "RCall.rcall_p(:options, rcalljl_options=Dict(:width => 600, :height => 600))\n",
    "@rput mp;\n",
    "R\"\"\"\n",
    "plot(mp$X, mp$Y, col=ifelse(mp$R==1, \"indianred\", \"steelblue2\"), xlab=\"x\", ylab=\"y\")\n",
    "\"\"\";"
   ]
  },
  {
   "cell_type": "markdown",
   "id": "f67a2507-7884-4b59-a388-e0d722b5202b",
   "metadata": {},
   "source": [
    "# 3. Linear mappings"
   ]
  },
  {
   "cell_type": "markdown",
   "id": "cd938033-b42b-4695-9385-e80e6160690b",
   "metadata": {},
   "source": [
    "## 3.1 A linear mapping using X and Y doesn't work."
   ]
  },
  {
   "cell_type": "markdown",
   "id": "75eac5d9-6ab0-4ccb-b327-f86e2c12d37d",
   "metadata": {},
   "source": [
    "A GLM given coordinates transformed into factors gets closest."
   ]
  },
  {
   "cell_type": "code",
   "execution_count": null,
   "id": "ac32c89e-caf4-4f36-901d-337208dcb3aa",
   "metadata": {},
   "outputs": [],
   "source": [
    "R\"\"\"\n",
    "mp$Xf=factor(mp$X)\n",
    "mp$Yf=factor(mp$Y)\n",
    "mp$Outcome = factor(mp$Outcome)\n",
    "mp.glm = glm(Outcome~ Xf+Yf, data=mp, family=\"binomial\")\n",
    "mp$glm_predict = predict(mp.glm, type=\"response\")\n",
    "\n",
    "mp$correct_pred = (mp$R==1 & mp$glm_predict > 0.5) | \n",
    "                  (mp$R==0 & mp$glm_predict < 0.5)\n",
    "mpx = mp[!mp$correct_pred,]\n",
    "\n",
    "plot(mp$X, mp$Y, col=ifelse(mp$R==1, \"indianred\", \"steelblue2\"), xlab=\"x\", ylab=\"y\")\n",
    "points(mpx$X, mpx$Y, pch=19)\n",
    "\"\"\";"
   ]
  },
  {
   "cell_type": "markdown",
   "id": "f6ae7f15-cea0-4fed-be41-8506d44d46e7",
   "metadata": {},
   "source": [
    "## 3.2 A linear mapping using Hub and Neighbor features is successful."
   ]
  },
  {
   "cell_type": "code",
   "execution_count": null,
   "id": "c822db68-440c-4116-8062-d290e733f6c3",
   "metadata": {},
   "outputs": [],
   "source": [
    "a = JudiLing.make_pS_matrix(mp, features_col=:features);\n",
    "C = a.pS;\n",
    "a.i2f"
   ]
  },
  {
   "cell_type": "code",
   "execution_count": null,
   "id": "7ea9ecdb-9271-4bbf-b1ae-a92dca94f6cf",
   "metadata": {},
   "outputs": [],
   "source": [
    "size(C)"
   ]
  },
  {
   "cell_type": "code",
   "execution_count": null,
   "id": "a56ac424-62dc-4b1d-adc2-96e2507ede26",
   "metadata": {},
   "outputs": [],
   "source": [
    "S = JudiLing.make_pS_matrix(mp, features_col=\"Outcome\").pS;\n",
    "first(Array(S),6)"
   ]
  },
  {
   "cell_type": "code",
   "execution_count": null,
   "id": "6113f3ea-377f-4987-8f46-2db769ba6cae",
   "metadata": {},
   "outputs": [],
   "source": [
    "F = JudiLing.make_transform_matrix(C, S);\n",
    "Shat = C * F;\n",
    "v = Shat .> 0.5\n",
    "sum(v[:,1] .== S)/size(S, 1)"
   ]
  },
  {
   "cell_type": "markdown",
   "id": "66a8f305-6481-4cdf-9a35-240389386221",
   "metadata": {},
   "source": [
    "# 4. Nonlinear mappings using deep learning"
   ]
  },
  {
   "cell_type": "markdown",
   "id": "0fbb7249-115a-4699-8a9f-2cca2dc46cd3",
   "metadata": {},
   "source": [
    "We ask deep networks to predict the four feature values of Hub and Neighbor. If these are learned correctly, then prediction of the Outcome will be perfect.  In other words, can a deep network learn the mathematically optimal representation of the problem?"
   ]
  },
  {
   "cell_type": "code",
   "execution_count": null,
   "id": "98c09c2a-64cc-4467-a608-3e86f312b262",
   "metadata": {},
   "outputs": [],
   "source": [
    "Input = Matrix(mp[:, 1:2]);\n",
    "# the coordinates\n",
    "Output = Array(C);\n",
    "# the four feature values"
   ]
  },
  {
   "cell_type": "markdown",
   "id": "89ffad2a-5aa1-4cb6-b999-9b40320a82d2",
   "metadata": {},
   "source": [
    "## 4.1 Hyperparameters settings that do not work"
   ]
  },
  {
   "cell_type": "markdown",
   "id": "ce3e233b-aaf7-40a2-9de1-7775e8f7ad39",
   "metadata": {},
   "source": [
    "### 4.1.1 a model with a single hidden layer"
   ]
  },
  {
   "cell_type": "code",
   "execution_count": null,
   "id": "f9812056-787d-4047-9607-cc6d2e115f9d",
   "metadata": {},
   "outputs": [],
   "source": [
    "model_test = Chain(\n",
    "Dense(size(Input, 2) => 1000, relu),\n",
    "Dense(1000 => size(Output, 2)),\n",
    "sigmoid) |> gpu"
   ]
  },
  {
   "cell_type": "code",
   "execution_count": null,
   "id": "d77f0563-30a8-4b6c-8337-b9240419a2de",
   "metadata": {},
   "outputs": [],
   "source": [
    "using Random\n",
    "Random.seed!(314);"
   ]
  },
  {
   "cell_type": "markdown",
   "id": "59ecb9b4-31b4-4864-b6fd-4a15f9ad0798",
   "metadata": {},
   "source": [
    "Training this model takes about 30 seconds."
   ]
  },
  {
   "cell_type": "code",
   "execution_count": null,
   "id": "e9574380-48e2-4eb3-af97-b3a127eb236d",
   "metadata": {
    "scrolled": true
   },
   "outputs": [],
   "source": [
    "m1 = JudiLing.get_and_train_model(\n",
    "            Input,\n",
    "            Output,\n",
    "            \"../res/m1.bcomp\",\n",
    "            verbose=true,\n",
    "            loss_func=Flux.binarycrossentropy,\n",
    "            n_epochs=1000,\n",
    "            model = model_test)"
   ]
  },
  {
   "cell_type": "code",
   "execution_count": null,
   "id": "119f8c59-4460-436f-98da-75382ff3ee9a",
   "metadata": {
    "scrolled": true
   },
   "outputs": [],
   "source": [
    "losses = m1.losses_train\n",
    "@rput losses\n",
    "R\"\"\"\n",
    "plot(1:length(losses), losses, type=\"l\", xlab=\"epoch\", ylab=\"loss\", col=\"steelblue2\")\n",
    "\"\"\";"
   ]
  },
  {
   "cell_type": "markdown",
   "id": "4759e6b7-8a01-4f1a-997d-825ead590b8b",
   "metadata": {},
   "source": [
    "The loss remains highly variable.  Performance at the end of training:"
   ]
  },
  {
   "cell_type": "code",
   "execution_count": null,
   "id": "617e4b94",
   "metadata": {},
   "outputs": [],
   "source": [
    "m1_pred = JudiLing.predict_from_deep_model(m1.model, Input)\n",
    "@rput m1_pred;"
   ]
  },
  {
   "cell_type": "code",
   "execution_count": null,
   "id": "5e62c77d",
   "metadata": {},
   "outputs": [],
   "source": [
    "R\"\"\"\n",
    "library(MASS)\n",
    "m1.lda = lda(m1_pred, mp$Outcome)\n",
    "tab = table(mp$Outcome, predict(m1.lda)$class)\n",
    "tab\n",
    "\"\"\""
   ]
  },
  {
   "cell_type": "code",
   "execution_count": null,
   "id": "d5b66d81",
   "metadata": {},
   "outputs": [],
   "source": [
    "R\"\"\"\n",
    "mp$m1_correct = predict(m1.lda)$class==mp$Outcome\n",
    "plot(mp$X, mp$Y, col=ifelse(mp$Outcome==\"yes\", \"indianred\", \"steelblue2\"), xlab=\"x\", ylab=\"y\")\n",
    "mpx = mp[!mp$m1_correct,]\n",
    "points(mpx$X, mpx$Y, col=\"black\", pch=19)\n",
    "\"\"\";"
   ]
  },
  {
   "cell_type": "markdown",
   "id": "9d70ed28-fd31-4c6b-9cb2-b1cae19de338",
   "metadata": {},
   "source": [
    "This model fails at the boundary, and at the center."
   ]
  },
  {
   "cell_type": "markdown",
   "id": "0e04a684-89bd-4515-95ab-a24cf959680a",
   "metadata": {},
   "source": [
    "### 4.1.2 a model with two large hidden layers"
   ]
  },
  {
   "cell_type": "code",
   "execution_count": null,
   "id": "f5f003ab-0ce4-4f99-86dc-1563ecedf800",
   "metadata": {},
   "outputs": [],
   "source": [
    "model_test = Chain(\n",
    "Dense(size(Input, 2) => 1000, relu),\n",
    "Dense(1000 => 1000, relu),\n",
    "Dense(1000 => size(Output, 2)), sigmoid) |> gpu"
   ]
  },
  {
   "cell_type": "code",
   "execution_count": null,
   "id": "fc3ec1ee-92a6-4935-99cc-ee3f409ad741",
   "metadata": {},
   "outputs": [],
   "source": [
    "Random.seed!(314);"
   ]
  },
  {
   "cell_type": "markdown",
   "id": "391455b1-98cc-451e-8c1e-785218c8eb39",
   "metadata": {},
   "source": [
    "This model takes about 90 minutes to train."
   ]
  },
  {
   "cell_type": "code",
   "execution_count": null,
   "id": "75f12b09-cd09-4d71-84c1-13981d6265b8",
   "metadata": {
    "scrolled": true
   },
   "outputs": [],
   "source": [
    "m2 = JudiLing.get_and_train_model(\n",
    "            Input,\n",
    "            Output,\n",
    "            \"../res/m2.bcomp\",\n",
    "            verbose=true,\n",
    "            loss_func=Flux.binarycrossentropy,\n",
    "            optimizer=Flux.Adam(0.0001),\n",
    "            n_epochs=1000,\n",
    "            model = model_test)"
   ]
  },
  {
   "cell_type": "code",
   "execution_count": null,
   "id": "8f421d6a-5e72-40cf-a664-53c00bd2c79c",
   "metadata": {},
   "outputs": [],
   "source": [
    "losses = m2.losses_train\n",
    "@rput losses\n",
    "R\"\"\"\n",
    "plot(1:length(losses), losses, type=\"l\", xlab=\"epoch\", ylab=\"loss\", col=\"steelblue2\", ylim=c(0,1))\n",
    "\"\"\";"
   ]
  },
  {
   "cell_type": "code",
   "execution_count": null,
   "id": "acdb1fa0-66bf-4b0d-bbde-c8decbb7c246",
   "metadata": {},
   "outputs": [],
   "source": [
    "R\"\"\"\n",
    "pdf(\"../fig/losses_large_model_doughnut.pdf\", he=5, wi=5)\n",
    "plot(1:length(losses), losses, type=\"l\", xlab=\"epoch\", ylab=\"loss\")\n",
    "dev.off()\n",
    "\"\"\";"
   ]
  },
  {
   "cell_type": "markdown",
   "id": "d41409ad-b065-49a9-be09-45c3334f2b2a",
   "metadata": {},
   "source": [
    "The loss remains highly variable.  Performance at the end of training:"
   ]
  },
  {
   "cell_type": "code",
   "execution_count": null,
   "id": "04d381e0-d744-414b-bf81-f63544de5a50",
   "metadata": {},
   "outputs": [],
   "source": [
    "m2_pred = JudiLing.predict_from_deep_model(m2.model, Input)\n",
    "@rput m2_pred;"
   ]
  },
  {
   "cell_type": "code",
   "execution_count": null,
   "id": "28228015-0693-45f0-88b2-d235599a9708",
   "metadata": {},
   "outputs": [],
   "source": [
    "R\"\"\"\n",
    "library(MASS)\n",
    "m2.lda = lda(m2_pred, mp$Outcome)\n",
    "tab = table(mp$Outcome, predict(m2.lda)$class)\n",
    "tab\n",
    "\"\"\""
   ]
  },
  {
   "cell_type": "code",
   "execution_count": null,
   "id": "f3faaee9-4e78-4052-b4b3-3e01e9e9045e",
   "metadata": {},
   "outputs": [],
   "source": [
    "R\"\"\"\n",
    "mp$m2_correct = predict(m2.lda)$class==mp$Outcome\n",
    "plot(mp$X, mp$Y, col=ifelse(mp$Outcome==\"yes\", \"indianred\", \"steelblue2\"), xlab=\"x\", ylab=\"y\")\n",
    "mpx = mp[!mp$m2_correct,]\n",
    "points(mpx$X, mpx$Y, col=\"black\", pch=19)\n",
    "\"\"\";"
   ]
  },
  {
   "cell_type": "markdown",
   "id": "7ac5ab71-be9a-43bd-a066-53bb8c00cd74",
   "metadata": {},
   "source": [
    "After 1.5 hours of training, with more than 1 million parameters, the model still makes errors at the boundary of the red area."
   ]
  },
  {
   "cell_type": "markdown",
   "id": "c8e7ca26-05b6-4431-a102-c5554a93fbf3",
   "metadata": {},
   "source": [
    "## 4.1 Hyperparameters that do work more efficiently"
   ]
  },
  {
   "cell_type": "code",
   "execution_count": null,
   "id": "9276a88f",
   "metadata": {},
   "outputs": [],
   "source": [
    "Random.seed!(314);\n",
    "\n",
    "model_test = Chain(\n",
    "Dense(size(Input, 2) => 20, relu),\n",
    "Dense(20 => 10, relu),\n",
    "Dense(10 => 4, relu),\n",
    "Dense(4 => 10, relu),\n",
    "Dense(10 => 20, relu),\n",
    "Dense(20 => 10, relu),\n",
    "Dense(10 => size(Output, 2)), sigmoid) |> gpu"
   ]
  },
  {
   "cell_type": "markdown",
   "id": "8fb65c46-2036-4527-9275-f5ac41980b9c",
   "metadata": {},
   "source": [
    "Training this model takes about 5.5 minutes."
   ]
  },
  {
   "cell_type": "code",
   "execution_count": null,
   "id": "c4ec0dff",
   "metadata": {},
   "outputs": [],
   "source": [
    "m3 = JudiLing.get_and_train_model(\n",
    "        Input,\n",
    "        Output, \n",
    "        \"../res/m3.bcomp\",\n",
    "        verbose=true,\n",
    "        loss_func=Flux.binarycrossentropy,\n",
    "        n_epochs=6000,\n",
    "        optimizer=Flux.Adam(0.0001),\n",
    "        model = model_test);\n",
    "\n",
    "m3_pred = JudiLing.predict_from_deep_model(m3.model, Input);\n",
    "@rput m3_pred;"
   ]
  },
  {
   "cell_type": "markdown",
   "id": "0458ad6b-8fd4-41d8-8b1f-24f77d120a18",
   "metadata": {},
   "source": [
    "Classification accuracy is almost perfect:"
   ]
  },
  {
   "cell_type": "code",
   "execution_count": null,
   "id": "9008b4e6-58b2-490d-b0b4-d9e4afceb8b1",
   "metadata": {},
   "outputs": [],
   "source": [
    "R\"\"\"\n",
    "m3.lda = lda(m3_pred, mp$Outcome)\n",
    "tab = table(mp$Outcome, predict(m3.lda)$class)\n",
    "tab\n",
    "\"\"\""
   ]
  },
  {
   "cell_type": "code",
   "execution_count": null,
   "id": "aa938f09-164d-4cb9-818d-45b31002787f",
   "metadata": {},
   "outputs": [],
   "source": [
    "R\"\"\"\n",
    "mp$m3_correct = predict(m3.lda)$class==mp$Outcome\n",
    "plot(mp$X, mp$Y, col=ifelse(mp$Outcome==\"yes\", \"indianred\", \"steelblue2\"), xlab=\"x\", ylab=\"y\")\n",
    "mpx = mp[!mp$m3_correct,]\n",
    "points(mpx$X, mpx$Y, col=\"black\", pch=19)\n",
    "\"\"\";"
   ]
  },
  {
   "cell_type": "markdown",
   "id": "a7f18a0a-4d03-489f-aa0e-dcbdfe3a160e",
   "metadata": {},
   "source": [
    "The loss function is very noisy, though:"
   ]
  },
  {
   "cell_type": "code",
   "execution_count": null,
   "id": "01f9a9a1-d55d-4212-a197-06c66159e91d",
   "metadata": {},
   "outputs": [],
   "source": [
    "losses = m3.losses_train\n",
    "@rput losses\n",
    "R\"\"\"\n",
    "plot(1:length(losses), losses, type=\"l\", xlab=\"epoch\", ylab=\"loss\", col=\"steelblue2\")\n",
    "\"\"\";"
   ]
  },
  {
   "cell_type": "code",
   "execution_count": null,
   "id": "2fe71cf7-496f-4c2b-b939-adad9169f04b",
   "metadata": {},
   "outputs": [],
   "source": [
    "R\"\"\"\n",
    "pdf(\"../fig/losses_small_deepnetwork_doughnut.pdf\", he=5, wi=5)\n",
    "plot(1:length(losses), losses, type=\"l\", xlab=\"epoch\", ylab=\"loss\")\n",
    "dev.off()\n",
    "\"\"\";"
   ]
  },
  {
   "cell_type": "markdown",
   "id": "35c14cef-4913-4e01-8753-f5675fba8646",
   "metadata": {},
   "source": [
    "With a different seed, we might be lucky and achieve 100% accuracy."
   ]
  },
  {
   "cell_type": "code",
   "execution_count": null,
   "id": "6a72fe33-e0f6-40ba-a999-46a5396c3f95",
   "metadata": {},
   "outputs": [],
   "source": [
    "Random.seed!(2718);\n",
    "\n",
    "model_test = Chain(\n",
    "Dense(size(Input, 2) => 20, relu),\n",
    "Dense(20 => 10, relu),\n",
    "Dense(10 => 4, relu),\n",
    "Dense(4 => 10, relu),\n",
    "Dense(10 => 20, relu),\n",
    "Dense(20 => 10, relu),\n",
    "Dense(10 => size(Output, 2)), sigmoid) |> gpu"
   ]
  },
  {
   "cell_type": "markdown",
   "id": "0098014f-ec68-4f92-9d5c-8ee766db1caa",
   "metadata": {},
   "source": [
    "Training this model takes 5.5 minutes."
   ]
  },
  {
   "cell_type": "code",
   "execution_count": null,
   "id": "bf133596-71bc-47b0-8861-8c315f95cddf",
   "metadata": {},
   "outputs": [],
   "source": [
    "m4 = JudiLing.get_and_train_model(\n",
    "        Input,\n",
    "        Output, \n",
    "        \"../res/m3.bcomp\",\n",
    "        verbose=true,\n",
    "        loss_func=Flux.binarycrossentropy,\n",
    "        n_epochs=6000,\n",
    "    optimizer=Flux.Adam(0.0001),\n",
    "        model = model_test);\n",
    "\n",
    "m4_pred = JudiLing.predict_from_deep_model(m4.model, Input);\n",
    "@rput m4_pred;"
   ]
  },
  {
   "cell_type": "markdown",
   "id": "0f2acda8-d01e-4c31-9d9c-541bb1b610a4",
   "metadata": {},
   "source": [
    "And indeed:"
   ]
  },
  {
   "cell_type": "code",
   "execution_count": null,
   "id": "d942bd4d-7a83-4821-9d54-7ee48a28b3ad",
   "metadata": {},
   "outputs": [],
   "source": [
    "R\"\"\"\n",
    "m4.lda = lda(m4_pred, mp$Outcome)\n",
    "tab = table(mp$Outcome, predict(m4.lda)$class)\n",
    "tab\n",
    "\"\"\""
   ]
  },
  {
   "cell_type": "code",
   "execution_count": null,
   "id": "6a432efc-ed72-4c36-a443-835b13cd21b0",
   "metadata": {
    "scrolled": true
   },
   "outputs": [],
   "source": [
    "losses = m4.losses_train\n",
    "@rput losses\n",
    "R\"\"\"\n",
    "plot(1:length(losses), losses, type=\"l\", xlab=\"epoch\", ylab=\"loss\", col=\"steelblue2\")\n",
    "\"\"\";"
   ]
  }
 ],
 "metadata": {
  "kernelspec": {
   "display_name": "Julia 1.11.2",
   "language": "julia",
   "name": "julia-1.11"
  },
  "language_info": {
   "file_extension": ".jl",
   "mimetype": "application/julia",
   "name": "julia",
   "version": "1.11.2"
  }
 },
 "nbformat": 4,
 "nbformat_minor": 5
}
