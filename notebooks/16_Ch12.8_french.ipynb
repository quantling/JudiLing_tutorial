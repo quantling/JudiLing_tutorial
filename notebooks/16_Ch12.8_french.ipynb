{
 "cells": [
  {
   "cell_type": "markdown",
   "id": "0c2e168e",
   "metadata": {},
   "source": [
    "# Chapter 12.8: French verb phrases"
   ]
  },
  {
   "cell_type": "markdown",
   "id": "0c216d3d-9e4c-47e3-8b76-484a0d54788f",
   "metadata": {},
   "source": [
    "__NOTE: MANY CODE SNIPPETS FOR PRODUCTION TAKE A LONG TIME TO EVALUATE__"
   ]
  },
  {
   "cell_type": "code",
   "execution_count": null,
   "id": "8571785a",
   "metadata": {},
   "outputs": [],
   "source": [
    "using DataFrames, JudiLing"
   ]
  },
  {
   "cell_type": "markdown",
   "id": "3abcb0cd",
   "metadata": {},
   "source": [
    "Loading the data"
   ]
  },
  {
   "cell_type": "code",
   "execution_count": null,
   "id": "e632eb7d",
   "metadata": {
    "scrolled": true
   },
   "outputs": [],
   "source": [
    "french = JudiLing.load_dataset(\"../dat/french.csv\");"
   ]
  },
  {
   "cell_type": "code",
   "execution_count": null,
   "id": "cf7cbbf8",
   "metadata": {},
   "outputs": [],
   "source": [
    "size(french)"
   ]
  },
  {
   "cell_type": "code",
   "execution_count": null,
   "id": "0337c88b",
   "metadata": {
    "scrolled": true
   },
   "outputs": [],
   "source": [
    "first(french, 10)"
   ]
  },
  {
   "cell_type": "markdown",
   "id": "1bcdf86f",
   "metadata": {},
   "source": [
    "## Di-syllables"
   ]
  },
  {
   "cell_type": "markdown",
   "id": "3100a705",
   "metadata": {},
   "source": [
    "### Full dataset"
   ]
  },
  {
   "cell_type": "markdown",
   "id": "102d02d7",
   "metadata": {},
   "source": [
    "Creating C and S matrices"
   ]
  },
  {
   "cell_type": "code",
   "execution_count": null,
   "id": "1ec1f197",
   "metadata": {},
   "outputs": [],
   "source": [
    "cue_obj = JudiLing.make_cue_matrix(french,\n",
    "                                   grams=2,\n",
    "                                   tokenized=true,\n",
    "                                   sep_token=\"-\",\n",
    "                                   keep_sep=true,\n",
    "                                   target_col = :Syllables);"
   ]
  },
  {
   "cell_type": "code",
   "execution_count": null,
   "id": "3d5dbdeb",
   "metadata": {
    "scrolled": true
   },
   "outputs": [],
   "source": [
    "S = JudiLing.make_S_matrix(french,\n",
    "     [\"Lexeme\"],\n",
    "     [\"Person\", \"Number\", \"Gender\", \"Tense\", \"Aspect\", \"Class\", \"Mood\"],\n",
    "     ncol=1000)"
   ]
  },
  {
   "cell_type": "markdown",
   "id": "56733d93",
   "metadata": {},
   "source": [
    "Comprehension"
   ]
  },
  {
   "cell_type": "code",
   "execution_count": null,
   "id": "c50c67ae",
   "metadata": {},
   "outputs": [],
   "source": [
    "F = JudiLing.make_transform_matrix(cue_obj.C, S);\n",
    "Shat = cue_obj.C * F;\n",
    "JudiLing.eval_SC(Shat, S, french, :Syllables)"
   ]
  },
  {
   "cell_type": "markdown",
   "id": "43ebf2c2",
   "metadata": {},
   "source": [
    "Production"
   ]
  },
  {
   "cell_type": "code",
   "execution_count": null,
   "id": "a443fac5",
   "metadata": {},
   "outputs": [],
   "source": [
    "G = JudiLing.make_transform_matrix(S, cue_obj.C);\n",
    "Chat = S * G;\n",
    "JudiLing.eval_SC(Chat, cue_obj.C, french, :Syllables)"
   ]
  },
  {
   "cell_type": "code",
   "execution_count": null,
   "id": "ae017aff",
   "metadata": {
    "scrolled": true
   },
   "outputs": [],
   "source": [
    "@time res = JudiLing.learn_paths(french,\n",
    "                           cue_obj,\n",
    "                           S,\n",
    "                           F,\n",
    "                           Chat,\n",
    "                           threshold=0.01,\n",
    "                           Shat_val=Shat, \n",
    "                           verbose=true);"
   ]
  },
  {
   "cell_type": "markdown",
   "id": "956bd31e-3e0a-451c-bc15-4db3de870c8f",
   "metadata": {},
   "source": [
    "321-762 seconds"
   ]
  },
  {
   "cell_type": "code",
   "execution_count": null,
   "id": "c62798bf",
   "metadata": {},
   "outputs": [],
   "source": [
    "JudiLing.eval_acc(res, cue_obj)"
   ]
  },
  {
   "cell_type": "markdown",
   "id": "cf31daa1",
   "metadata": {},
   "source": [
    "### Training and held-out data"
   ]
  },
  {
   "cell_type": "markdown",
   "id": "7c789c7a",
   "metadata": {},
   "source": [
    "Loading the data with careful split."
   ]
  },
  {
   "cell_type": "code",
   "execution_count": null,
   "id": "07163e0c",
   "metadata": {
    "scrolled": true
   },
   "outputs": [],
   "source": [
    "data_train, data_val = JudiLing.loading_data_careful_split(\n",
    "     \"../dat/french.csv\", \"french\", \"../dat/careful\",\n",
    "     [\"Lexeme\", \"Person\", \"Number\", \"Gender\", \"Tense\", \"Aspect\", \"Class\", \"Mood\"],\n",
    "     n_grams_target_col = \"Syllables\",\n",
    "     grams = 2,\n",
    "     val_sample_size = 2000,\n",
    "     random_seed = 314)"
   ]
  },
  {
   "cell_type": "markdown",
   "id": "e2593d6f",
   "metadata": {},
   "source": [
    "Creating C and S matrices."
   ]
  },
  {
   "cell_type": "code",
   "execution_count": null,
   "id": "2b46b6b0",
   "metadata": {},
   "outputs": [],
   "source": [
    "cue_obj_train, cue_obj_val  = JudiLing.make_combined_cue_matrix(\n",
    "          data_train,\n",
    "          data_val,\n",
    "          grams=2,\n",
    "          sep_token=\"-\",\n",
    "          target_col=\"Syllables\");"
   ]
  },
  {
   "cell_type": "code",
   "execution_count": null,
   "id": "f0b57342",
   "metadata": {},
   "outputs": [],
   "source": [
    "S_train, S_val = JudiLing.make_combined_S_matrix(\n",
    "          data_train,\n",
    "          data_val,\n",
    "          [\"Lexeme\"],\n",
    "          [\"Person\", \"Number\", \"Gender\", \"Tense\", \"Aspect\", \"Class\", \"Mood\"],\n",
    "          ncol=1000);"
   ]
  },
  {
   "cell_type": "markdown",
   "id": "749a67de",
   "metadata": {},
   "source": [
    "Comprehension"
   ]
  },
  {
   "cell_type": "code",
   "execution_count": null,
   "id": "3af5da1b",
   "metadata": {},
   "outputs": [],
   "source": [
    "F = JudiLing.make_transform_matrix(cue_obj_train.C, S_train);\n",
    "Shat_val = cue_obj_val.C * F;\n",
    "@time JudiLing.eval_SC(Shat_val, S_val, S_train)"
   ]
  },
  {
   "cell_type": "code",
   "execution_count": null,
   "id": "d431d1c2",
   "metadata": {},
   "outputs": [],
   "source": [
    "@time JudiLing.eval_SC_loose(Shat_val, S_val, S_train, 5)"
   ]
  },
  {
   "cell_type": "code",
   "execution_count": null,
   "id": "31b7f79f",
   "metadata": {},
   "outputs": [],
   "source": [
    "@time JudiLing.eval_SC_loose(Shat_val, S_val, S_train, 10)"
   ]
  },
  {
   "cell_type": "markdown",
   "id": "2b2eef04",
   "metadata": {},
   "source": [
    "Production"
   ]
  },
  {
   "cell_type": "code",
   "execution_count": null,
   "id": "2f4d0564",
   "metadata": {},
   "outputs": [],
   "source": [
    "G = JudiLing.make_transform_matrix(S_train, cue_obj_train.C);\n",
    "Chat_val = S_val * G;"
   ]
  },
  {
   "cell_type": "code",
   "execution_count": null,
   "id": "7dc46402",
   "metadata": {},
   "outputs": [],
   "source": [
    "max_t = JudiLing.cal_max_timestep(data_train, data_val, \"Syllables\", sep_token=\"-\")"
   ]
  },
  {
   "cell_type": "code",
   "execution_count": null,
   "id": "a498ee11",
   "metadata": {
    "scrolled": true
   },
   "outputs": [],
   "source": [
    "@time prod_val = JudiLing.learn_paths(\n",
    "        data_train,            \n",
    "        data_val,              \n",
    "        cue_obj_train.C,       \n",
    "        S_val,                 \n",
    "        F,                     \n",
    "        Chat_val,              \n",
    "        cue_obj_val.A,         \n",
    "        cue_obj_train.i2f,     \n",
    "        cue_obj_train.f2i,     \n",
    "        max_t=max_t,\n",
    "        threshold=0.025,\n",
    "        grams=2,\n",
    "        sep_token=\"-\",\n",
    "        target_col=\"Syllables\",\n",
    "        verbose=true);"
   ]
  },
  {
   "cell_type": "markdown",
   "id": "f180c854-994c-4e4f-962f-42100f8fd9b6",
   "metadata": {},
   "source": [
    "623 seconds"
   ]
  },
  {
   "cell_type": "code",
   "execution_count": null,
   "id": "f3ce9b51",
   "metadata": {},
   "outputs": [],
   "source": [
    "@time JudiLing.eval_acc(prod_val, cue_obj_val)"
   ]
  },
  {
   "cell_type": "markdown",
   "id": "189e3eec",
   "metadata": {},
   "source": [
    "Now with tolerance mode on."
   ]
  },
  {
   "cell_type": "code",
   "execution_count": null,
   "id": "f91e4c8a",
   "metadata": {
    "scrolled": true
   },
   "outputs": [],
   "source": [
    "@time prod_val = JudiLing.learn_paths(\n",
    "        data_train,            \n",
    "        data_val,              \n",
    "        cue_obj_train.C,       \n",
    "        S_val,                 \n",
    "        F,                     \n",
    "        Chat_val,              \n",
    "        cue_obj_val.A,         \n",
    "        cue_obj_train.i2f,     \n",
    "        cue_obj_train.f2i,     \n",
    "        max_t=max_t,\n",
    "        threshold=0.05,\n",
    "        grams=2,\n",
    "        sep_token=\"-\",\n",
    "        target_col=\"Syllables\",\n",
    "        is_tolerant = true,\n",
    "        tolerance = -0.1,\n",
    "        max_tolerance = 1,  \n",
    "        verbose=true);"
   ]
  },
  {
   "cell_type": "markdown",
   "id": "86ed88f4-154c-4f1d-8ed7-85a69a16faca",
   "metadata": {},
   "source": [
    "1022 seconds"
   ]
  },
  {
   "cell_type": "code",
   "execution_count": null,
   "id": "e31a665d",
   "metadata": {},
   "outputs": [],
   "source": [
    "JudiLing.eval_acc(prod_val, cue_obj_val)"
   ]
  },
  {
   "cell_type": "markdown",
   "id": "49697cc6-12e2-4625-a59b-e9878444bc9a",
   "metadata": {},
   "source": [
    "Running the model with threshold = 0.025 and tolerance mode on takes extremely long to estimate (at least a day), illustrating the limits of what the production algorithm can accomplish for a large dataset with long words.  We expect improved performance with higher thresholds if the Chat matrix is estimated more precisely (for instance, by using the cross-entropy loss).  In what follows, we move from syllables to triphones. "
   ]
  },
  {
   "cell_type": "markdown",
   "id": "ccd6ea31",
   "metadata": {},
   "source": [
    "## Triphones"
   ]
  },
  {
   "cell_type": "markdown",
   "id": "54f91059",
   "metadata": {},
   "source": [
    "### Full dataset"
   ]
  },
  {
   "cell_type": "markdown",
   "id": "ab22f0fc",
   "metadata": {},
   "source": [
    "Creating C and S matrices"
   ]
  },
  {
   "cell_type": "code",
   "execution_count": null,
   "id": "0356dadc",
   "metadata": {},
   "outputs": [],
   "source": [
    "cue_obj = JudiLing.make_cue_matrix(french,\n",
    "                                   grams=3,\n",
    "                                   target_col = :Phon2);\n",
    "size(cue_obj.C)\n",
    "# (21360, 3354)"
   ]
  },
  {
   "cell_type": "code",
   "execution_count": null,
   "id": "38c84394",
   "metadata": {},
   "outputs": [],
   "source": [
    "S = JudiLing.make_S_matrix(french,\n",
    "     [\"Lexeme\"],\n",
    "     [\"Person\", \"Number\", \"Gender\", \"Tense\", \"Aspect\", \"Class\", \"Mood\"],\n",
    "     ncol=1000)"
   ]
  },
  {
   "cell_type": "markdown",
   "id": "a856f9a1",
   "metadata": {},
   "source": [
    "Comprehension"
   ]
  },
  {
   "cell_type": "code",
   "execution_count": null,
   "id": "b6ed4db2",
   "metadata": {},
   "outputs": [],
   "source": [
    "F = JudiLing.make_transform_matrix(cue_obj.C, S);\n",
    "Shat = cue_obj.C * F;\n",
    "JudiLing.eval_SC(Shat, S, french, :Phon2)"
   ]
  },
  {
   "cell_type": "markdown",
   "id": "4c292f61",
   "metadata": {},
   "source": [
    "Production"
   ]
  },
  {
   "cell_type": "code",
   "execution_count": null,
   "id": "1c290398",
   "metadata": {},
   "outputs": [],
   "source": [
    "G = JudiLing.make_transform_matrix(S, cue_obj.C);\n",
    "Chat = S * G;\n",
    "JudiLing.eval_SC(Chat, cue_obj.C, french, :Phon2)"
   ]
  },
  {
   "cell_type": "code",
   "execution_count": null,
   "id": "b4c77b71",
   "metadata": {
    "scrolled": true
   },
   "outputs": [],
   "source": [
    "@time res = JudiLing.learn_paths(french,\n",
    "                           cue_obj,\n",
    "                           S,\n",
    "                           F,\n",
    "                           Chat,\n",
    "                           threshold=0.01,\n",
    "                           Shat_val=Shat, \n",
    "                           verbose=true);"
   ]
  },
  {
   "cell_type": "markdown",
   "id": "3b04721d-03f4-41dc-b673-66ced72eb665",
   "metadata": {},
   "source": [
    "528 seconds"
   ]
  },
  {
   "cell_type": "code",
   "execution_count": null,
   "id": "51aba1b0",
   "metadata": {},
   "outputs": [],
   "source": [
    "JudiLing.eval_acc(res, cue_obj)"
   ]
  },
  {
   "cell_type": "markdown",
   "id": "62cf9303",
   "metadata": {},
   "source": [
    "Next, check whether the speech errors are ok, i.e., whether the model gets the liaison right."
   ]
  },
  {
   "cell_type": "code",
   "execution_count": null,
   "id": "a9eda3db",
   "metadata": {},
   "outputs": [],
   "source": [
    "JudiLing.write2csv(res, french, cue_obj, cue_obj,\n",
    "                          \"../res/french_prod.csv\", target_col=:Phon2)"
   ]
  },
  {
   "cell_type": "markdown",
   "id": "222cf2ec",
   "metadata": {},
   "source": [
    "### Held-out data"
   ]
  },
  {
   "cell_type": "markdown",
   "id": "17886b70",
   "metadata": {},
   "source": [
    "Careful split, this time based on triphones rather than di-syllables"
   ]
  },
  {
   "cell_type": "code",
   "execution_count": null,
   "id": "86bed01d",
   "metadata": {
    "scrolled": true
   },
   "outputs": [],
   "source": [
    "data_train, data_val = JudiLing.loading_data_careful_split(\n",
    "     \"../dat/french.csv\", \"french\", \"../dat/careful\",\n",
    "     [\"Lexeme\", \"Person\", \"Number\", \"Gender\", \"Tense\", \"Aspect\", \"Class\", \"Mood\"],\n",
    "     n_grams_target_col = \"Phon2\",\n",
    "     grams = 3,\n",
    "     val_sample_size = 2000,\n",
    "     random_seed = 314)"
   ]
  },
  {
   "cell_type": "markdown",
   "id": "bdb067db",
   "metadata": {},
   "source": [
    "Creating C and S matrices"
   ]
  },
  {
   "cell_type": "code",
   "execution_count": null,
   "id": "9edf333f",
   "metadata": {},
   "outputs": [],
   "source": [
    "cue_obj_train, cue_obj_val  = JudiLing.make_combined_cue_matrix(\n",
    "          data_train,\n",
    "          data_val,\n",
    "          grams=3,\n",
    "          target_col=\"Phon2\");"
   ]
  },
  {
   "cell_type": "code",
   "execution_count": null,
   "id": "238cbc7a",
   "metadata": {},
   "outputs": [],
   "source": [
    "S_train, S_val = JudiLing.make_combined_S_matrix(\n",
    "          data_train,\n",
    "          data_val,\n",
    "          [\"Lexeme\"],\n",
    "          [\"Person\", \"Number\", \"Gender\", \"Tense\", \"Aspect\", \"Class\", \"Mood\"],\n",
    "          ncol=1000);"
   ]
  },
  {
   "cell_type": "markdown",
   "id": "af8701ea",
   "metadata": {},
   "source": [
    "Comprehension"
   ]
  },
  {
   "cell_type": "code",
   "execution_count": null,
   "id": "f8b39e1a",
   "metadata": {},
   "outputs": [],
   "source": [
    "F = JudiLing.make_transform_matrix(cue_obj_train.C, S_train);\n",
    "Shat_val = cue_obj_val.C * F;\n",
    "JudiLing.eval_SC(Shat_val, S_val, S_train)"
   ]
  },
  {
   "cell_type": "code",
   "execution_count": null,
   "id": "49d77fb8",
   "metadata": {},
   "outputs": [],
   "source": [
    "JudiLing.eval_SC_loose(Shat_val, S_val, S_train, 5)"
   ]
  },
  {
   "cell_type": "code",
   "execution_count": null,
   "id": "c31df42b",
   "metadata": {},
   "outputs": [],
   "source": [
    "JudiLing.eval_SC_loose(Shat_val, S_val, S_train, 10)"
   ]
  },
  {
   "cell_type": "markdown",
   "id": "09464d4e",
   "metadata": {},
   "source": [
    "Production"
   ]
  },
  {
   "cell_type": "code",
   "execution_count": null,
   "id": "edafe78a",
   "metadata": {},
   "outputs": [],
   "source": [
    "G = JudiLing.make_transform_matrix(S_train, cue_obj_train.C);\n",
    "Chat_val = S_val * G;"
   ]
  },
  {
   "cell_type": "code",
   "execution_count": null,
   "id": "bb9a7d26",
   "metadata": {},
   "outputs": [],
   "source": [
    "max_t = JudiLing.cal_max_timestep(data_train, data_val, \"Phon2\")"
   ]
  },
  {
   "cell_type": "code",
   "execution_count": null,
   "id": "aa07ad4a",
   "metadata": {
    "scrolled": true
   },
   "outputs": [],
   "source": [
    "@time prod_val = JudiLing.learn_paths(\n",
    "        data_train,            \n",
    "        data_val,              \n",
    "        cue_obj_train.C,       \n",
    "        S_val,                 \n",
    "        F,                     \n",
    "        Chat_val,              \n",
    "        cue_obj_val.A,         \n",
    "        cue_obj_train.i2f,     \n",
    "        cue_obj_train.f2i,     \n",
    "        max_t=max_t,\n",
    "        threshold=0.025,\n",
    "        grams=3,\n",
    "        target_col=\"Phon2\",\n",
    "        verbose=true);"
   ]
  },
  {
   "cell_type": "markdown",
   "id": "b0bc5b7c-57a5-497a-9958-b40054ea2859",
   "metadata": {},
   "source": [
    "33 seconds"
   ]
  },
  {
   "cell_type": "code",
   "execution_count": null,
   "id": "f804a8e2",
   "metadata": {},
   "outputs": [],
   "source": [
    "JudiLing.eval_acc(prod_val, cue_obj_val)"
   ]
  },
  {
   "cell_type": "markdown",
   "id": "9e33d2c8",
   "metadata": {},
   "source": [
    "now with tolerance mode on:"
   ]
  },
  {
   "cell_type": "code",
   "execution_count": null,
   "id": "eda73ffe",
   "metadata": {
    "scrolled": true
   },
   "outputs": [],
   "source": [
    "@time prod_val = JudiLing.learn_paths(\n",
    "        data_train,            \n",
    "        data_val,              \n",
    "        cue_obj_train.C,       \n",
    "        S_val,                 \n",
    "        F,                     \n",
    "        Chat_val,              \n",
    "        cue_obj_val.A,         \n",
    "        cue_obj_train.i2f,     \n",
    "        cue_obj_train.f2i,     \n",
    "        max_t=max_t,\n",
    "        threshold=0.025,\n",
    "        grams=3,\n",
    "        target_col=\"Phon2\",\n",
    "        is_tolerant = true,\n",
    "        tolerance = -0.1,\n",
    "        max_tolerance = 1,  \n",
    "        verbose=true);\n",
    "\n",
    "JudiLing.eval_acc(prod_val, cue_obj_val)"
   ]
  },
  {
   "cell_type": "markdown",
   "id": "bfd6f5e8-2d2b-4182-b9a6-1bcc890efe1a",
   "metadata": {},
   "source": [
    "125 seconds"
   ]
  },
  {
   "cell_type": "code",
   "execution_count": null,
   "id": "e82b0034",
   "metadata": {
    "scrolled": true
   },
   "outputs": [],
   "source": [
    "@time prod_val2 = JudiLing.learn_paths(\n",
    "        data_train,            \n",
    "        data_val,              \n",
    "        cue_obj_train.C,       \n",
    "        S_val,                 \n",
    "        F,                     \n",
    "        Chat_val,              \n",
    "        cue_obj_val.A,         \n",
    "        cue_obj_train.i2f,     \n",
    "        cue_obj_train.f2i,     \n",
    "        max_t=max_t,\n",
    "        threshold=0.01,\n",
    "        grams=3,\n",
    "        target_col=\"Phon2\",\n",
    "        is_tolerant = true,\n",
    "        tolerance = -0.1,\n",
    "        max_tolerance = 1,  \n",
    "        verbose=true);\n",
    "\n",
    "JudiLing.eval_acc(prod_val2, cue_obj_val)"
   ]
  },
  {
   "cell_type": "markdown",
   "id": "9de7ded9-5fb2-4ff2-a71c-c31edd4db2e1",
   "metadata": {},
   "source": [
    "304 seconds"
   ]
  },
  {
   "cell_type": "markdown",
   "id": "bbd7bcb5-fc04-470c-a94d-7a1b773d48de",
   "metadata": {},
   "source": [
    "## Exercises"
   ]
  },
  {
   "cell_type": "markdown",
   "id": "322a49c1-ea3f-47ac-9469-1e3d21a6cfcf",
   "metadata": {},
   "source": [
    "Run learn paths on the triphone model without tolerance mode and higher thresholds."
   ]
  },
  {
   "cell_type": "code",
   "execution_count": null,
   "id": "1c8df816-90ec-438f-ad4f-37ab4c9d3516",
   "metadata": {
    "scrolled": true
   },
   "outputs": [],
   "source": [
    "# Threshold 0.05\n",
    "@time prod_val3 = JudiLing.learn_paths(\n",
    "        data_train,            \n",
    "        data_val,              \n",
    "        cue_obj_train.C,       \n",
    "        S_val,                 \n",
    "        F,                     \n",
    "        Chat_val,              \n",
    "        cue_obj_val.A,         \n",
    "        cue_obj_train.i2f,     \n",
    "        cue_obj_train.f2i,     \n",
    "        max_t=max_t,\n",
    "        threshold=0.05,\n",
    "        grams=3,\n",
    "        target_col=\"Phon2\",\n",
    "        verbose=true);"
   ]
  },
  {
   "cell_type": "markdown",
   "id": "8b4efc82-8059-4f20-a46b-3103ebcb6790",
   "metadata": {},
   "source": [
    "30.8 seconds"
   ]
  },
  {
   "cell_type": "code",
   "execution_count": null,
   "id": "99e8a53b-8074-4cde-8c2a-674e17d54f11",
   "metadata": {},
   "outputs": [],
   "source": [
    "JudiLing.eval_acc(prod_val3, cue_obj_val)"
   ]
  },
  {
   "cell_type": "code",
   "execution_count": null,
   "id": "afc93a9c-dcb6-4478-9aab-c869f16ba95d",
   "metadata": {
    "scrolled": true
   },
   "outputs": [],
   "source": [
    "# Threshold 0.1\n",
    "@time prod_val4 = JudiLing.learn_paths(\n",
    "        data_train,            \n",
    "        data_val,              \n",
    "        cue_obj_train.C,       \n",
    "        S_val,                 \n",
    "        F,                     \n",
    "        Chat_val,              \n",
    "        cue_obj_val.A,         \n",
    "        cue_obj_train.i2f,     \n",
    "        cue_obj_train.f2i,     \n",
    "        max_t=max_t,\n",
    "        threshold=0.1,\n",
    "        grams=3,\n",
    "        target_col=\"Phon2\",\n",
    "        verbose=true);"
   ]
  },
  {
   "cell_type": "markdown",
   "id": "3d6c2ce7-9b3b-400b-87af-9e3c25e1ee8a",
   "metadata": {},
   "source": [
    "29.6 seconds"
   ]
  },
  {
   "cell_type": "code",
   "execution_count": null,
   "id": "115f2668-e022-4a8b-9d0f-6f9155bcc56a",
   "metadata": {},
   "outputs": [],
   "source": [
    "JudiLing.eval_acc(prod_val4, cue_obj_val)"
   ]
  },
  {
   "cell_type": "markdown",
   "id": "672d8110-19f9-4c0d-b473-8fe620ef4fd5",
   "metadata": {},
   "source": [
    "With a threshold of 0.025 we had some 95 paths to consider per target word. With a threshold of 0.05, this goes down to about 5 and with a threshold of 0.1, there typically is only one path (or even none). This also strongly affects accuracy, which went down from about 36% with a threshold of 0.025 to about 0.2% with a threshold of 0.1."
   ]
  },
  {
   "cell_type": "code",
   "execution_count": null,
   "id": "fd522fe0-7a74-4317-a55d-b6283ba63fa7",
   "metadata": {},
   "outputs": [],
   "source": []
  },
  {
   "cell_type": "code",
   "execution_count": null,
   "id": "fe5f76a2-d0db-474b-84a8-f40cc531a726",
   "metadata": {},
   "outputs": [],
   "source": []
  }
 ],
 "metadata": {
  "kernelspec": {
   "display_name": "Julia 1.11.2",
   "language": "julia",
   "name": "julia-1.11"
  },
  "language_info": {
   "file_extension": ".jl",
   "mimetype": "application/julia",
   "name": "julia",
   "version": "1.11.2"
  },
  "toc": {
   "base_numbering": 1,
   "nav_menu": {},
   "number_sections": true,
   "sideBar": true,
   "skip_h1_title": false,
   "title_cell": "Table of Contents",
   "title_sidebar": "Contents",
   "toc_cell": false,
   "toc_position": {},
   "toc_section_display": true,
   "toc_window_display": false
  }
 },
 "nbformat": 4,
 "nbformat_minor": 5
}
