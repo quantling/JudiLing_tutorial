{
 "cells": [
  {
   "cell_type": "markdown",
   "id": "74e584cc",
   "metadata": {},
   "source": [
    "# Chapter 14.2: Spoken word duration of English homophones EOL (statistics)"
   ]
  },
  {
   "cell_type": "markdown",
   "id": "2f53ee45",
   "metadata": {},
   "source": [
    "## Preparations"
   ]
  },
  {
   "cell_type": "markdown",
   "id": "29bc52ab-1992-4af0-bea0-f581f50341e3",
   "metadata": {},
   "source": [
    "Load csv file with EOL measures calculated for the training dataset"
   ]
  },
  {
   "cell_type": "code",
   "execution_count": null,
   "id": "fb64efa0-02d1-4b79-b311-eb45be2924cc",
   "metadata": {},
   "outputs": [],
   "source": [
    "eol = read.csv(\"../res/timeAndThyme_EOL_measures.csv\")\n",
    "head(eol)"
   ]
  },
  {
   "cell_type": "markdown",
   "id": "788c9259-0db6-4d60-8770-7f50393c2e70",
   "metadata": {},
   "source": [
    "Load the dataset with the homophones from Gahl and Baayen (2024)"
   ]
  },
  {
   "cell_type": "code",
   "execution_count": null,
   "id": "c107786b-b4b0-493e-ab7b-d5ec8e67e788",
   "metadata": {},
   "outputs": [],
   "source": [
    "dat = read.table(\"../dat/time_thyme.txt\", header=TRUE)\n",
    "head(dat)"
   ]
  },
  {
   "cell_type": "code",
   "execution_count": null,
   "id": "7d7ffb92-2ad9-46c3-93e3-59a7ba5be606",
   "metadata": {},
   "outputs": [],
   "source": [
    "homophones = merge(dat, eol, by.x=\"Spelling\", by.y=\"Word\")"
   ]
  },
  {
   "cell_type": "markdown",
   "id": "ee4294a8-53be-4dea-82f2-a6e656937a7e",
   "metadata": {},
   "source": [
    "__not all homophones have fasttext embeddings__"
   ]
  },
  {
   "cell_type": "code",
   "execution_count": null,
   "id": "a245db05-58a6-4076-a1bd-5dd5a39e1fe2",
   "metadata": {},
   "outputs": [],
   "source": [
    "nrow(dat) - nrow(homophones)"
   ]
  },
  {
   "cell_type": "markdown",
   "id": "d7baf061-7c97-4a43-aae0-0d761cdb716c",
   "metadata": {},
   "source": [
    "Load the GAM library"
   ]
  },
  {
   "cell_type": "code",
   "execution_count": null,
   "id": "781caf0c",
   "metadata": {},
   "outputs": [],
   "source": [
    "library(mgcv)"
   ]
  },
  {
   "cell_type": "markdown",
   "id": "e4dfcdf9-55dc-4e8a-aa12-326eebb0a6fe",
   "metadata": {},
   "source": [
    "Prepare predictor variables"
   ]
  },
  {
   "cell_type": "code",
   "execution_count": null,
   "id": "e8fb87d6-52ae-4431-afa6-121f93f2c386",
   "metadata": {},
   "outputs": [],
   "source": [
    "homophones$NounBias = factor(homophones$NounBias)\n",
    "homophones$LogMeanBigramProbability = log(homophones$MeanBigramProbability)"
   ]
  },
  {
   "cell_type": "markdown",
   "id": "2333d85a-90cb-44ae-9fdd-60c622a7ba66",
   "metadata": {},
   "source": [
    "Following Gahl & Baayen (2024), we use a baseline duration measure from which other predictors have been partialled out, we do this for both a model with localist variables, and a model with DLM variables."
   ]
  },
  {
   "cell_type": "code",
   "execution_count": null,
   "id": "a75e527e-bdfe-4c30-ade3-368a5ea76090",
   "metadata": {},
   "outputs": [],
   "source": [
    "homophones$ResidualLogBaselineDuration =\n",
    "   resid(gam(LogBaselineDuration ~ s(LogPronunciationFrequency, k=3) +\n",
    "                                   s(PhonologicalNeighborhoodDensity) +\n",
    "                                   s(LogMeanBigramProbability, k=5),\n",
    "             data=homophones)\n",
    "   )"
   ]
  },
  {
   "cell_type": "markdown",
   "id": "f2f39431",
   "metadata": {},
   "source": [
    "## GAMs"
   ]
  },
  {
   "cell_type": "markdown",
   "id": "d652dc22-aecb-4460-bd73-5cf35b2cff0e",
   "metadata": {},
   "source": [
    "### Localist GAM"
   ]
  },
  {
   "cell_type": "code",
   "execution_count": null,
   "id": "7fb334d0-62e5-48dc-9cad-f481caf14f8f",
   "metadata": {},
   "outputs": [],
   "source": [
    "localist.gam = gam(list(LogMeanDuration ~ s(PauseQuotient) +\n",
    "                                          NounBias +\n",
    "                                          s(PhonologicalNeighborhoodDensity) +\n",
    "                                          s(OrthographicRegularity) +\n",
    "                                          te(LogCelexFrequency, LogRelativeFrequency) +\n",
    "                                          s(ResidualLogBaselineDuration),\n",
    "                                        ~ s(LogCelexFrequency)),\n",
    "                   data=homophones, family=\"gaulss\", method=\"ML\")"
   ]
  },
  {
   "cell_type": "code",
   "execution_count": null,
   "id": "84303a43-a0c5-4fe1-b9ba-589887ed9836",
   "metadata": {},
   "outputs": [],
   "source": [
    "summary(localist.gam)"
   ]
  },
  {
   "cell_type": "code",
   "execution_count": null,
   "id": "0b6c9972-f9df-495b-b8ea-a8bc7f10ffca",
   "metadata": {},
   "outputs": [],
   "source": [
    "AIC(localist.gam)"
   ]
  },
  {
   "cell_type": "code",
   "execution_count": null,
   "id": "b1e2ac20-29c8-4c59-9a7e-3c1289a00798",
   "metadata": {},
   "outputs": [],
   "source": [
    "plot(localist.gam, pages=1, scale=0)"
   ]
  },
  {
   "cell_type": "markdown",
   "id": "6d1750e0-0a3e-4a86-a3db-e325a2ce1890",
   "metadata": {},
   "source": [
    "### GAM with DLM predictors"
   ]
  },
  {
   "cell_type": "markdown",
   "id": "6b7e6c96-a50c-4a4c-9a8e-ddbf96deaac0",
   "metadata": {},
   "source": [
    "SemanticSupportForForm and C.Precision are strongly correlated predictors, unsurprisingly:"
   ]
  },
  {
   "cell_type": "code",
   "execution_count": null,
   "id": "a54452ac-5e0d-4809-962e-b6c0e15b9d33",
   "metadata": {},
   "outputs": [],
   "source": [
    "cor(homophones$SemanticSupportForForm, homophones$C.Precision, method=\"sp\")"
   ]
  },
  {
   "cell_type": "markdown",
   "id": "e4c769b7-0afc-4420-bd83-f9878a89ace0",
   "metadata": {},
   "source": [
    "Gahl & Baayen (2024) selected SemanticSupportForForm, but this variable has a strong right skew, which requires a transformation. C.Precision doesn't require a transformation. In what follows, we consider both predictors."
   ]
  },
  {
   "cell_type": "code",
   "execution_count": null,
   "id": "b0157d2c-b10e-4100-9a2c-3b0380bdb25f",
   "metadata": {},
   "outputs": [],
   "source": [
    "options(repr.plot.width=10, repr.plot.height=5)\n",
    "par(mfrow=c(1,2))\n",
    "plot(density(homophones$SemanticSupportForForm), main=\"SemanticSupportForForm\")\n",
    "plot(density(homophones$C.Precision), main=\"C.Precision\")"
   ]
  },
  {
   "cell_type": "code",
   "execution_count": null,
   "id": "61de0206-f68b-4df9-99a3-7829087275e9",
   "metadata": {},
   "outputs": [],
   "source": [
    "#pdf(\"../fig/densities_SSFF_CP.pdf\", he=4,wi=8)\n",
    "par(mfrow=c(1,2))\n",
    "plot(density(homophones$SemanticSupportForForm), main=\"SemanticSupportForForm\", col=\"steelblue2\", lwd=3)\n",
    "plot(density(homophones$C.Precision), main=\"C.Precision\", col=\"steelblue2\", lwd=3)\n",
    "#dev.off()"
   ]
  },
  {
   "cell_type": "code",
   "execution_count": null,
   "id": "0b46077a-163a-441e-889d-256937fe4b91",
   "metadata": {},
   "outputs": [],
   "source": [
    "homophones$LogSemanticSupportForForm = log(homophones$SemanticSupportForForm+0.05)"
   ]
  },
  {
   "cell_type": "code",
   "execution_count": null,
   "id": "505fa263-1244-4a67-a371-a6df8dfc8409",
   "metadata": {
    "scrolled": true
   },
   "outputs": [],
   "source": [
    "options(repr.plot.width=5, repr.plot.height=5)\n",
    "plot(density(homophones$LogSemanticSupportForForm))"
   ]
  },
  {
   "cell_type": "markdown",
   "id": "5cf6bd4f-64d3-4472-a467-c3a0dfa21bc3",
   "metadata": {},
   "source": [
    "Note that after the transformation, we still have fairly long tails."
   ]
  },
  {
   "cell_type": "code",
   "execution_count": null,
   "id": "a0b52277-5be2-4508-953c-fe36071b8673",
   "metadata": {},
   "outputs": [],
   "source": [
    "resid.gam = gam(LogBaselineDuration ~ s(C.Precision, k=3) +\n",
    "                                      s(Cind) +\n",
    "                                      s(HomophoneSemanticSimilarity, k=3),\n",
    "                data = homophones)\n",
    "homophones$ResidualLogBaselineDurationEOL = resid(resid.gam)"
   ]
  },
  {
   "cell_type": "code",
   "execution_count": null,
   "id": "7e2828d1-a6f6-4b0f-948e-759bfa388a97",
   "metadata": {},
   "outputs": [],
   "source": [
    "dlm_eol.gam = gam(list(LogMeanDuration ~ s(PauseQuotient) +\n",
    "                                         NounBias +\n",
    "                                         HomophoneSemanticSimilarity +\n",
    "                                         C.Precision +\n",
    "                                         OrthographicRegularity +\n",
    "                                         ResidualLogBaselineDurationEOL +\n",
    "                                         s(Cind),\n",
    "                                       ~ s(Cind)),\n",
    "                  data=homophones, family=\"gaulss\", method=\"ML\")"
   ]
  },
  {
   "cell_type": "code",
   "execution_count": null,
   "id": "46701e95-dd25-4c4f-91b8-35c8403f4cc7",
   "metadata": {},
   "outputs": [],
   "source": [
    "summary(dlm_eol.gam)"
   ]
  },
  {
   "cell_type": "code",
   "execution_count": null,
   "id": "7a3587bf-0867-40a7-a329-5d5a8020da34",
   "metadata": {},
   "outputs": [],
   "source": [
    "AIC(dlm_eol.gam, localist.gam)"
   ]
  },
  {
   "cell_type": "markdown",
   "id": "2d4f4849-0718-49b1-b2c7-e5b5bd7d9155",
   "metadata": {},
   "source": [
    "Model refitted with smooths for known linear terms, for ease of visualization."
   ]
  },
  {
   "cell_type": "code",
   "execution_count": null,
   "id": "fb733060-921d-4d00-8635-8d2e6e53b3fe",
   "metadata": {},
   "outputs": [],
   "source": [
    "dlm_eol.gam0 = gam(list(LogMeanDuration ~ s(PauseQuotient) +\n",
    "                                          NounBias +\n",
    "                                          s(HomophoneSemanticSimilarity) +\n",
    "                                          s(C.Precision) +\n",
    "                                          s(OrthographicRegularity) +\n",
    "                                          s(ResidualLogBaselineDurationEOL) +\n",
    "                                          s(Cind),\n",
    "                                        ~ s(Cind)),\n",
    "                   data=homophones, family=\"gaulss\", method=\"ML\")"
   ]
  },
  {
   "cell_type": "code",
   "execution_count": null,
   "id": "711cef21-577d-4642-a40b-ad4ab76c7a60",
   "metadata": {},
   "outputs": [],
   "source": [
    "options(repr.plot.width=8, repr.plot.height=8)\n",
    "par(mfrow=c(2,2))\n",
    "ylimit=c(-0.25, 0.2)\n",
    "plot(dlm_eol.gam0, select =2, scheme=1, scale=0, shade.col=\"steelblue2\", ylab=\"partial effect (mean)\", ylim=ylimit)\n",
    "abline(h=0, col=\"indianred\")\n",
    "plot(dlm_eol.gam0, select =3, scheme=1, scale=0, shade.col=\"steelblue2\", ylab=\"partial effect (mean)\", ylim=ylimit)\n",
    "abline(h=0, col=\"indianred\")\n",
    "plot(dlm_eol.gam0, select =6, scheme=1, scale=0, shade.col=\"steelblue2\", ylab=\"partial effect (mean)\", ylim=ylimit)\n",
    "abline(h=0, col=\"indianred\")\n",
    "plot(dlm_eol.gam0, select =7, scheme=1, scale=0, shade.col=\"steelblue2\", ylab=\"partial effect (variance)\")\n",
    "abline(h=0, col=\"indianred\")"
   ]
  },
  {
   "cell_type": "code",
   "execution_count": null,
   "id": "2b8f9608-09ee-475a-b0bb-57a552d2611b",
   "metadata": {},
   "outputs": [],
   "source": [
    "#pdf(\"../fig/time_thyme_gam.pdf\", he=8, wi=8)\n",
    "par(mfrow=c(2,2), oma=rep(0,4), mar=c(5,5,1,1))\n",
    "ylimit=c(-0.25, 0.2)\n",
    "plot(dlm_eol.gam0, select =2, scheme=1, scale=0, shade.col=\"steelblue2\", ylab=\"partial effect (mean)\", ylim=ylimit)\n",
    "abline(h=0, col=\"indianred\")\n",
    "plot(dlm_eol.gam0, select =3, scheme=1, scale=0, shade.col=\"steelblue2\", ylab=\"partial effect (mean)\", ylim=ylimit)\n",
    "abline(h=0, col=\"indianred\")\n",
    "plot(dlm_eol.gam0, select =6, scheme=1, scale=0, shade.col=\"steelblue2\", ylab=\"partial effect (mean)\", ylim=ylimit,\n",
    "    xlab=\"contextual independence\")\n",
    "abline(h=0, col=\"indianred\")\n",
    "plot(dlm_eol.gam0, select =7, scheme=1, scale=0, shade.col=\"steelblue2\", ylab=\"partial effect (variance)\",\n",
    "    xlab=\"contextual independence\")\n",
    "abline(h=0, col=\"indianred\")\n",
    "#dev.off()"
   ]
  },
  {
   "cell_type": "code",
   "execution_count": null,
   "id": "7957ae44-4b3d-44ee-a9ea-00ece79d3cf0",
   "metadata": {},
   "outputs": [],
   "source": [
    "cor(homophones$Cind, homophones$LogCelexFrequency)"
   ]
  },
  {
   "cell_type": "markdown",
   "id": "fd48fbed-e24d-4f8a-bc1c-7a42a99dd5a8",
   "metadata": {},
   "source": [
    "### Analysis with SemanticSupportForForm (instead of C.Precision)"
   ]
  },
  {
   "cell_type": "code",
   "execution_count": null,
   "id": "1bc5dfd1-e1ef-4a16-a17a-536d1330c679",
   "metadata": {},
   "outputs": [],
   "source": [
    "resid.gam = gam(LogBaselineDuration ~ s(LogSemanticSupportForForm, k=3) +\n",
    "                                      s(Cind) +\n",
    "                                      s(HomophoneSemanticSimilarity, k=3),\n",
    "                data = homophones)\n",
    "homophones$ResidualLogBaselineDurationEOLssf = resid(resid.gam)"
   ]
  },
  {
   "cell_type": "code",
   "execution_count": null,
   "id": "122c5561-2d7e-4142-81b1-7d65d57379f6",
   "metadata": {},
   "outputs": [],
   "source": [
    "dlm_eol.gam2 = gam(list(LogMeanDuration ~ s(PauseQuotient) +\n",
    "                                          NounBias +\n",
    "                                          HomophoneSemanticSimilarity +\n",
    "                                          LogSemanticSupportForForm +\n",
    "                                          OrthographicRegularity +\n",
    "                                          ResidualLogBaselineDurationEOLssf +\n",
    "                                          s(Cind),\n",
    "                                        ~ s(Cind)),\n",
    "                   data=homophones, family=\"gaulss\", method=\"ML\")"
   ]
  },
  {
   "cell_type": "code",
   "execution_count": null,
   "id": "b2e7f847-d22f-4777-9a54-9dd44898af86",
   "metadata": {},
   "outputs": [],
   "source": [
    "summary(dlm_eol.gam2)"
   ]
  },
  {
   "cell_type": "code",
   "execution_count": null,
   "id": "9e7ea5e7-70c3-492e-8631-cdcfec4f509a",
   "metadata": {},
   "outputs": [],
   "source": [
    "AIC(dlm_eol.gam, localist.gam, dlm_eol.gam2)"
   ]
  },
  {
   "cell_type": "code",
   "execution_count": null,
   "id": "7a724fc4-4596-400e-82dd-d22c2289fcb7",
   "metadata": {},
   "outputs": [],
   "source": [
    "options(repr.plot.width=10, repr.plot.height=10)\n",
    "plot(dlm_eol.gam2, pages=1, scale=0, scheme=1)"
   ]
  },
  {
   "cell_type": "markdown",
   "id": "fee10a32-623a-4011-a3f2-e88ea1526ba9",
   "metadata": {},
   "source": [
    "# References\n",
    "\n",
    "Gahl, S. and Baayen, R. H. (2024). Time and thyme again: Connecting spoken word duration to models of the mental lexicon. Language. accepted for publication."
   ]
  },
  {
   "cell_type": "code",
   "execution_count": null,
   "id": "cfe9d8c7-c363-4744-9257-572936386969",
   "metadata": {},
   "outputs": [],
   "source": []
  }
 ],
 "metadata": {
  "kernelspec": {
   "display_name": "R",
   "language": "R",
   "name": "ir"
  },
  "language_info": {
   "codemirror_mode": "r",
   "file_extension": ".r",
   "mimetype": "text/x-r-source",
   "name": "R",
   "pygments_lexer": "r",
   "version": "4.2.3"
  },
  "toc": {
   "base_numbering": 1,
   "nav_menu": {},
   "number_sections": true,
   "sideBar": true,
   "skip_h1_title": false,
   "title_cell": "Table of Contents",
   "title_sidebar": "Contents",
   "toc_cell": false,
   "toc_position": {},
   "toc_section_display": true,
   "toc_window_display": false
  }
 },
 "nbformat": 4,
 "nbformat_minor": 5
}
