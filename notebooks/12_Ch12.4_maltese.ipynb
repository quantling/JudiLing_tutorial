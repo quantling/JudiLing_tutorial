{
 "cells": [
  {
   "cell_type": "markdown",
   "id": "8a8171d6",
   "metadata": {},
   "source": [
    "# Chapter 12.4: Maltese nouns"
   ]
  },
  {
   "cell_type": "code",
   "execution_count": null,
   "id": "583fb89b",
   "metadata": {
    "scrolled": true
   },
   "outputs": [],
   "source": [
    "using JudiLing, DataFrames, Statistics"
   ]
  },
  {
   "cell_type": "markdown",
   "id": "03e9cccd",
   "metadata": {},
   "source": [
    "Download the maltese data (Nieder et al., 2023) from OSF and save in the `dat` directory."
   ]
  },
  {
   "cell_type": "code",
   "execution_count": null,
   "id": "33bf9b2d",
   "metadata": {},
   "outputs": [],
   "source": [
    "download(\"https://osf.io/download/whrqs/\",\n",
    "         \"../dat/maltese.csv\")"
   ]
  },
  {
   "cell_type": "markdown",
   "id": "13bde09c",
   "metadata": {},
   "source": [
    "Inspect the dataframe:"
   ]
  },
  {
   "cell_type": "code",
   "execution_count": null,
   "id": "8b4eb7ef",
   "metadata": {},
   "outputs": [],
   "source": [
    "dat = JudiLing.load_dataset(\"../dat/maltese.csv\");\n",
    "size(dat)"
   ]
  },
  {
   "cell_type": "code",
   "execution_count": null,
   "id": "81a8de22",
   "metadata": {},
   "outputs": [],
   "source": [
    "first(dat, 5)"
   ]
  },
  {
   "cell_type": "markdown",
   "id": "23f4b435",
   "metadata": {},
   "source": [
    "Do a careful split of the maltese data, making sure that all lemmas and numbers as well as bisyllables have already occurred in the training data.\n",
    "The `:Word_syll` columns contains already syllabified words, and we have to inform the function about the separator token etc."
   ]
  },
  {
   "cell_type": "code",
   "execution_count": null,
   "id": "dc430dac",
   "metadata": {},
   "outputs": [],
   "source": [
    "data_train, data_val = JudiLing.loading_data_careful_split(\n",
    "                        \"../dat/maltese.csv\", \"maltese\", \"../dat/careful\",\n",
    "                        [\"Lemma\", \"Number\"],\n",
    "                        n_grams_target_col = \"Word_syll\",\n",
    "                        n_grams_tokenized = true,\n",
    "                        n_grams_sep_token = \".\",\n",
    "                        n_grams_keep_sep = true,\n",
    "                        grams = 2,\n",
    "                        val_ratio = 0.1,\n",
    "                        random_seed = 42)\n",
    "first(data_train, 5)"
   ]
  },
  {
   "cell_type": "code",
   "execution_count": null,
   "id": "88b32b1d",
   "metadata": {},
   "outputs": [],
   "source": [
    "size(data_train)"
   ]
  },
  {
   "cell_type": "code",
   "execution_count": null,
   "id": "c9017990",
   "metadata": {
    "scrolled": true
   },
   "outputs": [],
   "source": [
    "size(data_val)"
   ]
  },
  {
   "cell_type": "markdown",
   "id": "19e79d59",
   "metadata": {},
   "source": [
    "Now we load fasttext vectors for both the training and the validation data."
   ]
  },
  {
   "cell_type": "code",
   "execution_count": null,
   "id": "fcc111f5",
   "metadata": {
    "scrolled": true
   },
   "outputs": [],
   "source": [
    "data_train_small, data_val_small, S_train, S_val = JudiLing.load_S_matrix_from_fasttext(data_train, data_val,\n",
    "                                                                                       :mt, target_col=:Word)"
   ]
  },
  {
   "cell_type": "markdown",
   "id": "4f83287f",
   "metadata": {},
   "source": [
    "We evidently lose a significant part of the data because no embeddings are available."
   ]
  },
  {
   "cell_type": "code",
   "execution_count": null,
   "id": "6ad57036",
   "metadata": {},
   "outputs": [],
   "source": [
    "size(data_train_small)"
   ]
  },
  {
   "cell_type": "code",
   "execution_count": null,
   "id": "24da2b92",
   "metadata": {},
   "outputs": [],
   "source": [
    "size(data_val_small)"
   ]
  },
  {
   "cell_type": "markdown",
   "id": "e62f5d9a",
   "metadata": {},
   "source": [
    "Create cue matrices for training and validation data, based on bi-syllables."
   ]
  },
  {
   "cell_type": "code",
   "execution_count": null,
   "id": "f0f8e883",
   "metadata": {},
   "outputs": [],
   "source": [
    "cue_obj_train, cue_obj_val = JudiLing.make_combined_cue_matrix(data_train_small,\n",
    "                                                               data_val_small,\n",
    "                                                               grams=2,\n",
    "                                                               target_col=\"Word_syll\",\n",
    "                                                               tokenized=true,\n",
    "                                                               sep_token=\".\",\n",
    "                                                               keep_sep=true);"
   ]
  },
  {
   "cell_type": "code",
   "execution_count": null,
   "id": "ad18850c",
   "metadata": {},
   "outputs": [],
   "source": [
    "JudiLing.display_matrix(data_train_small, :Word_syll, cue_obj_train, cue_obj_train.C, :C)"
   ]
  },
  {
   "cell_type": "markdown",
   "id": "c3781ff6",
   "metadata": {},
   "source": [
    "Train comprehension and production matrices."
   ]
  },
  {
   "cell_type": "code",
   "execution_count": null,
   "id": "9c128169",
   "metadata": {
    "scrolled": true
   },
   "outputs": [],
   "source": [
    "F_train = JudiLing.make_transform_matrix(cue_obj_train.C, S_train)\n",
    "G_train = JudiLing.make_transform_matrix(S_train, cue_obj_train.C)"
   ]
  },
  {
   "cell_type": "markdown",
   "id": "52543463",
   "metadata": {},
   "source": [
    "Predict semantic and form matrices for the training data."
   ]
  },
  {
   "cell_type": "code",
   "execution_count": null,
   "id": "5922b547",
   "metadata": {
    "scrolled": true
   },
   "outputs": [],
   "source": [
    "Shat_train = cue_obj_train.C * F_train\n",
    "Chat_train = S_train * G_train"
   ]
  },
  {
   "cell_type": "markdown",
   "id": "0174ead2",
   "metadata": {},
   "source": [
    "Evaluate comprehension accuracy."
   ]
  },
  {
   "cell_type": "code",
   "execution_count": null,
   "id": "e7dd0b63",
   "metadata": {
    "scrolled": true
   },
   "outputs": [],
   "source": [
    "JudiLing.eval_SC(Shat_train, S_train, data_train_small, :Word_syll)"
   ]
  },
  {
   "cell_type": "markdown",
   "id": "6001cea1",
   "metadata": {},
   "source": [
    "Use the learn paths algorithm to predict forms for the training data."
   ]
  },
  {
   "cell_type": "code",
   "execution_count": null,
   "id": "ee3eb54d",
   "metadata": {
    "scrolled": true
   },
   "outputs": [],
   "source": [
    "res_learn_train = JudiLing.learn_paths(data_train_small, cue_obj_train, S_train, F_train, Chat_train,\n",
    "                                       threshold=0.005)"
   ]
  },
  {
   "cell_type": "code",
   "execution_count": null,
   "id": "ac956ba8",
   "metadata": {},
   "outputs": [],
   "source": [
    "JudiLing.eval_acc(res_learn_train, cue_obj_train)"
   ]
  },
  {
   "cell_type": "markdown",
   "id": "d440c160",
   "metadata": {},
   "source": [
    "Moving on to the validation data.\n",
    "\n",
    "Predict semantic and form matrices for the validation data."
   ]
  },
  {
   "cell_type": "code",
   "execution_count": null,
   "id": "cbfda3bd",
   "metadata": {
    "scrolled": true
   },
   "outputs": [],
   "source": [
    "Shat_val = cue_obj_val.C * F_train\n",
    "Chat_val = S_val * G_train"
   ]
  },
  {
   "cell_type": "markdown",
   "id": "c2dfafd8",
   "metadata": {},
   "source": [
    "Compute accuracy."
   ]
  },
  {
   "cell_type": "code",
   "execution_count": null,
   "id": "f51ca241",
   "metadata": {},
   "outputs": [],
   "source": [
    "JudiLing.eval_SC(Shat_val, S_val, S_train, data_val_small, data_train_small, :Word_syll)"
   ]
  },
  {
   "cell_type": "markdown",
   "id": "7be822d6",
   "metadata": {},
   "source": [
    "Compute accuracy@10"
   ]
  },
  {
   "cell_type": "code",
   "execution_count": null,
   "id": "6b0f5f95",
   "metadata": {
    "scrolled": true
   },
   "outputs": [],
   "source": [
    "JudiLing.eval_SC_loose(Shat_val, S_val, S_train, 10, data_val_small, data_train_small, :Word_syll)"
   ]
  },
  {
   "cell_type": "markdown",
   "id": "0a7ab17d",
   "metadata": {},
   "source": [
    "Write comprehension results to a dataframe"
   ]
  },
  {
   "cell_type": "code",
   "execution_count": null,
   "id": "bc47ca1d",
   "metadata": {
    "scrolled": true
   },
   "outputs": [],
   "source": [
    "acc_comp = JudiLing.accuracy_comprehension(S_val, S_train, Shat_val, data_val_small, data_train_small,\n",
    "                                           target_col=:Word_syll);\n",
    "acc_comp_dfr = acc_comp.dfr"
   ]
  },
  {
   "cell_type": "markdown",
   "id": "efb9ca06",
   "metadata": {},
   "source": [
    "Combine with validation dataframe"
   ]
  },
  {
   "cell_type": "code",
   "execution_count": null,
   "id": "04092488",
   "metadata": {
    "scrolled": true
   },
   "outputs": [],
   "source": [
    "data_val_small_comp = hcat(data_val_small, acc_comp.dfr)"
   ]
  },
  {
   "cell_type": "markdown",
   "id": "053eed00",
   "metadata": {},
   "source": [
    "Compute accuracy per plural type"
   ]
  },
  {
   "cell_type": "code",
   "execution_count": null,
   "id": "a980d742",
   "metadata": {
    "scrolled": true
   },
   "outputs": [],
   "source": [
    "gdf = groupby(data_val_small_comp, [:Number, :pluralType])\n",
    "combine(gdf, :correct => mean)"
   ]
  },
  {
   "cell_type": "code",
   "execution_count": null,
   "id": "dc8e0767",
   "metadata": {},
   "outputs": [],
   "source": [
    "gdf = groupby(data_val_small_comp, [:Number, :pluralType])\n",
    "combine(gdf, nrow)"
   ]
  },
  {
   "cell_type": "markdown",
   "id": "d2c84488",
   "metadata": {},
   "source": [
    "# Exercises\n",
    "\n",
    "## Exercise 1\n",
    "Running the learn paths algorithm on the held-out data:"
   ]
  },
  {
   "cell_type": "markdown",
   "id": "f5626904",
   "metadata": {},
   "source": [
    "Production of validation forms"
   ]
  },
  {
   "cell_type": "code",
   "execution_count": null,
   "id": "14529c3d",
   "metadata": {},
   "outputs": [],
   "source": [
    "max_t = JudiLing.cal_max_timestep(data_train_small, data_val_small, :Word_syll, tokenized=true, sep_token=\".\")"
   ]
  },
  {
   "cell_type": "code",
   "execution_count": null,
   "id": "8fa438f5",
   "metadata": {
    "scrolled": true
   },
   "outputs": [],
   "source": [
    "res_learn_val = JudiLing.learn_paths(data_train_small,\n",
    "data_val_small,\n",
    "cue_obj_train.C,\n",
    "S_val,\n",
    "F_train,\n",
    "Chat_val,\n",
    "cue_obj_val.A,\n",
    "cue_obj_train.i2f,\n",
    "cue_obj_train.f2i,\n",
    "Shat_val = Shat_val,\n",
    "threshold=0.0005,\n",
    "    is_tolerant=true,\n",
    "    tolerance=-0.1,\n",
    "    max_tolerance=2,\n",
    "target_col=:Word_syll,\n",
    "max_t = max_t,\n",
    "tokenized=true,\n",
    "sep_token=\".\",\n",
    "keep_sep=true,\n",
    "grams=2,\n",
    "verbose=true)"
   ]
  },
  {
   "cell_type": "markdown",
   "id": "ee32cd89",
   "metadata": {},
   "source": [
    "Accuracy"
   ]
  },
  {
   "cell_type": "code",
   "execution_count": null,
   "id": "c2586465",
   "metadata": {
    "scrolled": true
   },
   "outputs": [],
   "source": [
    "JudiLing.eval_acc(res_learn_val, cue_obj_val)"
   ]
  },
  {
   "cell_type": "markdown",
   "id": "5e7f1659",
   "metadata": {},
   "source": [
    "## Exercise 2\n",
    "Compute learn paths accuracy on singulars and plurals (broken down by broken and sound) respectively"
   ]
  },
  {
   "cell_type": "markdown",
   "id": "ae3e680d",
   "metadata": {},
   "source": [
    "Write results to dataframe"
   ]
  },
  {
   "cell_type": "code",
   "execution_count": null,
   "id": "3a95ff04",
   "metadata": {
    "scrolled": true
   },
   "outputs": [],
   "source": [
    "prod_acc = JudiLing.write2df(res_learn_val, data_val_small, cue_obj_train, \n",
    "                  cue_obj_val, target_col=:Word_syll, tokenized=true,\n",
    "                sep_token=\".\", output_sep_token=\"\")"
   ]
  },
  {
   "cell_type": "markdown",
   "id": "6b015f75",
   "metadata": {},
   "source": [
    "Subset dataframe to only include the top candidates and combine with validation dataframe"
   ]
  },
  {
   "cell_type": "code",
   "execution_count": null,
   "id": "8676a292",
   "metadata": {
    "scrolled": true
   },
   "outputs": [],
   "source": [
    "prod_acc_best = prod_acc[prod_acc.isbest .== true,:]\n",
    "data_val_small_prod = hcat(data_val_small, prod_acc_best)"
   ]
  },
  {
   "cell_type": "markdown",
   "id": "20b6b562",
   "metadata": {},
   "source": [
    "Compute accuracy per plural type"
   ]
  },
  {
   "cell_type": "code",
   "execution_count": null,
   "id": "61091714",
   "metadata": {},
   "outputs": [],
   "source": [
    "gdf = groupby(data_val_small_prod, [:Number, :pluralType])\n",
    "combine(gdf, :iscorrect => mean)"
   ]
  },
  {
   "cell_type": "markdown",
   "id": "5154a7c6",
   "metadata": {},
   "source": [
    "It is noteworthy, that the broken plurals show much higher accuracy than the sound plurals. This might be because the data is unequally distributed: due to the careful split, there are only 12 broken plurals, but 212 sound plurals in the data."
   ]
  },
  {
   "cell_type": "code",
   "execution_count": null,
   "id": "0531635e",
   "metadata": {},
   "outputs": [],
   "source": [
    "gdf = groupby(data_val_small_prod, [:Number, :pluralType])\n",
    "combine(gdf, nrow)"
   ]
  },
  {
   "cell_type": "markdown",
   "id": "6c3e8183",
   "metadata": {},
   "source": [
    "One possible reason is therefore simply that the high accuracy of the broken plurals might be due to chance, since the low number of tokens makes the accuracy estimate not statistically reliable.\n",
    "However, further inspection reveals that all but one of these forms have a homograph in the training data:"
   ]
  },
  {
   "cell_type": "code",
   "execution_count": null,
   "id": "0034dfef",
   "metadata": {
    "scrolled": true
   },
   "outputs": [],
   "source": [
    "for f in data_val_small_prod[data_val_small_prod.pluralType .== \"broken\", :Word]\n",
    "    println(\"Broken plural: \", f)\n",
    "    if f in data_train_small.Word\n",
    "        println(\"\\t Homograph lemma:\", data_train_small[data_train_small.Word .== f, :Lemma])\n",
    "    end\n",
    "end"
   ]
  },
  {
   "cell_type": "markdown",
   "id": "8dc86e3e",
   "metadata": {},
   "source": [
    "Since we use fasttext vectors which do not distinguish the meanings of homographs, these are effectively not real held-out words, since they already occur in the training data. Therefore, their accuracy is exceptionally high. Incidentally, the only word which is not a homograph (\"trabi\") is also the only incorrectly produced form:"
   ]
  },
  {
   "cell_type": "code",
   "execution_count": null,
   "id": "95aa1ab4",
   "metadata": {
    "scrolled": true
   },
   "outputs": [],
   "source": [
    "data_val_small_prod[data_val_small_prod.pluralType .== \"broken\",[:Word, :iscorrect]]"
   ]
  },
  {
   "cell_type": "markdown",
   "id": "818714c2-c883-4f5b-b7e3-b28e44a36bae",
   "metadata": {
    "jp-MarkdownHeadingCollapsed": true
   },
   "source": [
    "# References\n",
    "\n",
    "Nieder, J., Chuang, Y.-Y., van de Vijver, R., and Baayen, H. (2023). A discriminative lexi-\n",
    "con approach to word comprehension, production, and processing: Maltese plurals. Language,\n",
    "99(2):242–274."
   ]
  }
 ],
 "metadata": {
  "kernelspec": {
   "display_name": "Julia 1.11.2",
   "language": "julia",
   "name": "julia-1.11"
  },
  "language_info": {
   "file_extension": ".jl",
   "mimetype": "application/julia",
   "name": "julia",
   "version": "1.11.2"
  },
  "toc": {
   "base_numbering": 1,
   "nav_menu": {},
   "number_sections": true,
   "sideBar": true,
   "skip_h1_title": false,
   "title_cell": "Table of Contents",
   "title_sidebar": "Contents",
   "toc_cell": false,
   "toc_position": {},
   "toc_section_display": true,
   "toc_window_display": false
  }
 },
 "nbformat": 4,
 "nbformat_minor": 5
}
