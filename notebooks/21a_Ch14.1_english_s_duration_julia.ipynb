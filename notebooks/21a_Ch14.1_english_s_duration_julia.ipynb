{
 "cells": [
  {
   "cell_type": "markdown",
   "id": "b3a94bcc",
   "metadata": {},
   "source": [
    "# Chapter 14.1: English s-duration (DLM simulation in julia)\n",
    "\n",
    "First load the usual packages, including `JudiLingMeasures`, since we want to predict behavioural data."
   ]
  },
  {
   "cell_type": "code",
   "execution_count": null,
   "id": "f7d8f57c",
   "metadata": {
    "scrolled": true
   },
   "outputs": [],
   "source": [
    "using JudiLing, JudiLingMeasures, CSV, DataFrames"
   ]
  },
  {
   "cell_type": "markdown",
   "id": "73103aed",
   "metadata": {},
   "source": [
    "## Data preparation"
   ]
  },
  {
   "cell_type": "markdown",
   "id": "8df2470e",
   "metadata": {},
   "source": [
    "We load the prepared subset of [MALD](https://era.library.ualberta.ca/items/3344343b-2b4a-4b8c-af8e-8bd829c76472) (Tucker et al, 2019) paired with phonological transcriptions from CELEX (Baayen et al., 1997)."
   ]
  },
  {
   "cell_type": "code",
   "execution_count": null,
   "id": "606a442d",
   "metadata": {},
   "outputs": [],
   "source": [
    "mald = JudiLing.load_dataset(\"../dat/s_durations_base_data.csv\")\n",
    "first(mald, 5)"
   ]
  },
  {
   "cell_type": "markdown",
   "id": "c0a46846",
   "metadata": {},
   "source": [
    "Load a subset of fasttext vectors for the words in the MALD dataset. A smaller dataset containing only the words for which fasttext vectors are available is stored in `mald_small`:"
   ]
  },
  {
   "cell_type": "code",
   "execution_count": null,
   "id": "f4d4c70d",
   "metadata": {
    "scrolled": true
   },
   "outputs": [],
   "source": [
    "mald_small, S = JudiLing.load_S_matrix_from_fasttext(mald, :en, target_col=:Word);"
   ]
  },
  {
   "cell_type": "markdown",
   "id": "70cd6e31",
   "metadata": {},
   "source": [
    "Download the s-durations data from Schmitz et al. (2021) from OSF:"
   ]
  },
  {
   "cell_type": "code",
   "execution_count": null,
   "id": "55af63c1",
   "metadata": {},
   "outputs": [],
   "source": [
    "download(\"https://osf.io/download/8ze5b/?view_only=ef43a5caf6444270a56074027d7d6482\", \n",
    "    \"../dat/s_durations.csv\")"
   ]
  },
  {
   "cell_type": "markdown",
   "id": "413552c1",
   "metadata": {},
   "source": [
    "Load the s-duration data and throw away all columns containing LDL measures as computed by Schmitz et al. (2021):"
   ]
  },
  {
   "cell_type": "code",
   "execution_count": null,
   "id": "e19a90a6",
   "metadata": {
    "scrolled": true
   },
   "outputs": [],
   "source": [
    "s_duration = JudiLing.load_dataset(\"../dat/s_durations.csv\")\n",
    "s_duration = s_duration[:, 1:32]\n",
    "first(s_duration, 5)"
   ]
  },
  {
   "cell_type": "markdown",
   "id": "c677a440",
   "metadata": {},
   "source": [
    "Create a subset of the s-duration data containing only unique stimuli"
   ]
  },
  {
   "cell_type": "code",
   "execution_count": null,
   "id": "74a5697e",
   "metadata": {
    "scrolled": true
   },
   "outputs": [],
   "source": [
    "s_duration_unique = unique(s_duration[:,[:DISC, :Word, :Base, :Affix]])"
   ]
  },
  {
   "cell_type": "markdown",
   "id": "f12b2c6b",
   "metadata": {},
   "source": [
    "## Creating semantic vectors for the pseudowords\n",
    "\n",
    "Create cue objects for the words from MALD and the pseudowords. We use triphones, following Schmitz et al. (2021)"
   ]
  },
  {
   "cell_type": "code",
   "execution_count": null,
   "id": "85e37a5a",
   "metadata": {
    "scrolled": true
   },
   "outputs": [],
   "source": [
    "cue_obj_mald, cue_obj_s_dur = JudiLing.make_combined_cue_matrix(mald_small[:,[:Word, :DISC]],\n",
    "                                                                s_duration_unique[:,[:Word, :DISC]],\n",
    "                                                                target_col = :DISC,\n",
    "                                                                grams=3);"
   ]
  },
  {
   "cell_type": "markdown",
   "id": "2b74b77d",
   "metadata": {},
   "source": [
    "Train a comprehension matrix based on the MALD data:"
   ]
  },
  {
   "cell_type": "code",
   "execution_count": null,
   "id": "52c5dcad",
   "metadata": {
    "scrolled": true
   },
   "outputs": [],
   "source": [
    "F_train = JudiLing.make_transform_matrix(cue_obj_mald.C, S, mald_small.frequency)"
   ]
  },
  {
   "cell_type": "markdown",
   "id": "31670db5",
   "metadata": {},
   "source": [
    "Create predicted semantic vectors for the pseudowords"
   ]
  },
  {
   "cell_type": "code",
   "execution_count": null,
   "id": "a586c876",
   "metadata": {
    "scrolled": true
   },
   "outputs": [],
   "source": [
    "S_s_dur = cue_obj_s_dur.C * F_train"
   ]
  },
  {
   "cell_type": "markdown",
   "id": "c64428f4",
   "metadata": {},
   "source": [
    "Now, we need to impute semantic vectors for all lemmas and inflectional/declensional features using the technique from Nikolaev et al. (2023). For this, we make use of the `:features` column in the `mald_small` dataset:"
   ]
  },
  {
   "cell_type": "code",
   "execution_count": null,
   "id": "c4ac04b4",
   "metadata": {},
   "outputs": [],
   "source": [
    "mald_small.features[1:5]"
   ]
  },
  {
   "cell_type": "markdown",
   "id": "fab358e8",
   "metadata": {},
   "source": [
    "We hand this column to the `make_pS_matrix` function, which creates a binary matrix indicating for each word form which features it contains:"
   ]
  },
  {
   "cell_type": "code",
   "execution_count": null,
   "id": "08f8da1d",
   "metadata": {
    "scrolled": true
   },
   "outputs": [],
   "source": [
    "L = JudiLing.make_pS_matrix(mald_small, \n",
    "    features_col=:features)\n",
    "JudiLing.display_matrix(mald_small, :Word, L, L.pS, :pS)"
   ]
  },
  {
   "cell_type": "markdown",
   "id": "f7decce3",
   "metadata": {},
   "source": [
    "Next, we create a transformation matrix W, which contains the imputed vectors for all lexemes and features. For further information on this method see Nikolaev et al. (2023)."
   ]
  },
  {
   "cell_type": "code",
   "execution_count": null,
   "id": "b89ed94b",
   "metadata": {
    "scrolled": true
   },
   "outputs": [],
   "source": [
    "W = JudiLing.make_transform_matrix(L.pS, S)\n",
    "JudiLing.display_matrix(mald_small, :word, L, W, :F, ncol=5, nrow=4)"
   ]
  },
  {
   "cell_type": "markdown",
   "id": "34b19718",
   "metadata": {},
   "source": [
    "From this, we extract semantic vectors for the meanings of plural, singular, alien and creature:"
   ]
  },
  {
   "cell_type": "code",
   "execution_count": null,
   "id": "14ef6f42",
   "metadata": {
    "scrolled": true
   },
   "outputs": [],
   "source": [
    "plural_vec = W[L.f2i[\"P\"],:]\n",
    "sing_vec = W[L.f2i[\"S\"],:]\n",
    "alien_vec = W[L.f2i[\"alien\"],:]\n",
    "creature_vec = W[L.f2i[\"creature\"],:]"
   ]
  },
  {
   "cell_type": "markdown",
   "id": "c9d6b3b3",
   "metadata": {},
   "source": [
    "...and add these to the predicted semantic vectors we created earlier."
   ]
  },
  {
   "cell_type": "code",
   "execution_count": null,
   "id": "267c688b",
   "metadata": {},
   "outputs": [],
   "source": [
    "for i in 1:size(S_s_dur,1)\n",
    "    S_s_dur[i,:] = S_s_dur[i,:] + alien_vec + creature_vec\n",
    "    if s_duration_unique[i, :Affix] == \"PL\"\n",
    "        S_s_dur[i,:] = S_s_dur[i,:] + plural_vec\n",
    "    else\n",
    "        S_s_dur[i,:] = S_s_dur[i,:] + sing_vec\n",
    "    end\n",
    "end"
   ]
  },
  {
   "cell_type": "markdown",
   "id": "b6074f42",
   "metadata": {},
   "source": [
    "## Learning the meanings of the pseudowords\n",
    "\n",
    "All words in MALD are learned according to their frequency. Since participants see the pseudowords in the experiment only once, they get a frequency of 1. Then, the two datasets are combined into one big dataset."
   ]
  },
  {
   "cell_type": "code",
   "execution_count": null,
   "id": "b7231dad",
   "metadata": {
    "scrolled": true
   },
   "outputs": [],
   "source": [
    "s_duration_unique[!,:frequency] .= 1\n",
    "combined_dataset = vcat(mald_small[:,[:Word, :DISC, :frequency]], s_duration_unique[:,[:Word, :DISC, :frequency]])"
   ]
  },
  {
   "cell_type": "markdown",
   "id": "0c1e40c4",
   "metadata": {},
   "source": [
    "Now we create a cue object for the combined dataset. We provide the previous cue object for the words in MALD to it, so that the function re-uses the `i2f` and `f2i` mappings created earlier. This will allow us to later reuse the cue object created for the pseudowords."
   ]
  },
  {
   "cell_type": "code",
   "execution_count": null,
   "id": "b6df1839",
   "metadata": {
    "scrolled": true
   },
   "outputs": [],
   "source": [
    "cue_obj_comb = JudiLing.make_cue_matrix(combined_dataset, cue_obj_mald, grams=3, target_col=:DISC);"
   ]
  },
  {
   "cell_type": "markdown",
   "id": "684cbb8f",
   "metadata": {},
   "source": [
    "We also need an S matrix containing all semantic vectors:"
   ]
  },
  {
   "cell_type": "code",
   "execution_count": null,
   "id": "4e58debe",
   "metadata": {
    "scrolled": true
   },
   "outputs": [],
   "source": [
    "S_comb = vcat(S, S_s_dur)"
   ]
  },
  {
   "cell_type": "markdown",
   "id": "2a9ef479",
   "metadata": {},
   "source": [
    "Now we train F and G matrices based on the combined dataset."
   ]
  },
  {
   "cell_type": "code",
   "execution_count": null,
   "id": "6c5da97d",
   "metadata": {
    "scrolled": true
   },
   "outputs": [],
   "source": [
    "F_train_comb = JudiLing.make_transform_matrix(cue_obj_comb.C, S_comb, combined_dataset.frequency)\n",
    "G_train_comb = JudiLing.make_transform_matrix(S_comb, cue_obj_comb.C, combined_dataset.frequency)"
   ]
  },
  {
   "cell_type": "markdown",
   "id": "f7ba3e46",
   "metadata": {},
   "source": [
    "And calculate predicted semantic and form matrices for the pseudowords:"
   ]
  },
  {
   "cell_type": "code",
   "execution_count": null,
   "id": "e9f073e3",
   "metadata": {},
   "outputs": [],
   "source": [
    "Shat_s_dur = cue_obj_s_dur.C * F_train_comb\n",
    "Chat_s_dur = S_s_dur * G_train_comb"
   ]
  },
  {
   "cell_type": "markdown",
   "id": "5cdcf6c8",
   "metadata": {},
   "source": [
    "We now evaluate the predicted semantic vectors. Given their low frequency during training it's unsurprising that we get low accuracy:"
   ]
  },
  {
   "cell_type": "code",
   "execution_count": null,
   "id": "56c47f1a",
   "metadata": {},
   "outputs": [],
   "source": [
    "JudiLing.eval_SC(Shat_s_dur, S_s_dur, S, s_duration_unique[:,[:Word, :DISC]], mald_small[:,[:Word, :DISC]], :DISC)"
   ]
  },
  {
   "cell_type": "markdown",
   "id": "809c4860",
   "metadata": {},
   "source": [
    "## Computing the measures\n",
    "\n",
    "We use the JudiLingMeasures package to compute all measures. Since we do this only on a small subset of the data that the mappings were trained on, but want to make sure that the training data is taken into account when computing measures such as semantic density, we use the `compute_all_measures_val` function, which is informed about the validation and training data and returns measures for only the validation data."
   ]
  },
  {
   "cell_type": "code",
   "execution_count": null,
   "id": "249b4106",
   "metadata": {
    "scrolled": true
   },
   "outputs": [],
   "source": [
    "all_measures = JudiLingMeasures.compute_all_measures_val(s_duration_unique,\n",
    "                                          cue_obj_mald, \n",
    "                                          cue_obj_s_dur, \n",
    "                                          Chat_s_dur, \n",
    "                                          S, \n",
    "                                          S_s_dur, \n",
    "                                          Shat_s_dur, \n",
    "                                          F_train_comb, \n",
    "                                          G_train_comb, \n",
    "                                          low_cost_measures_only=true)"
   ]
  },
  {
   "cell_type": "markdown",
   "id": "f8b156d7",
   "metadata": {},
   "source": [
    "We computed measures only for the unique set of pseudowords, but for easier processing later on, we want to remerge these measures into the dataset with responses from all participants. For this we use a `leftjoin` operation:"
   ]
  },
  {
   "cell_type": "code",
   "execution_count": null,
   "id": "1d42e39b",
   "metadata": {
    "scrolled": true
   },
   "outputs": [],
   "source": [
    "all_measures_full = leftjoin(s_duration, all_measures, on = [:DISC, :Word, :Base, :Affix])"
   ]
  },
  {
   "cell_type": "markdown",
   "id": "7feb060c",
   "metadata": {},
   "source": [
    "Finally, we can save this dataframe as a csv file:"
   ]
  },
  {
   "cell_type": "code",
   "execution_count": null,
   "id": "21813dde",
   "metadata": {},
   "outputs": [],
   "source": [
    "CSV.write(\"../res/s_duration_measures.csv\", all_measures_full)"
   ]
  },
  {
   "cell_type": "markdown",
   "id": "795a84ac-af95-48d0-b6b7-7cfc92f2730e",
   "metadata": {},
   "source": [
    "Please see the next notebook for the R analysis."
   ]
  },
  {
   "cell_type": "markdown",
   "id": "37f41dd5",
   "metadata": {},
   "source": [
    "## References\n",
    "\n",
    "Baayen, R. H., Piepenbrock, R., & Gulikers, L. (1996). The CELEX lexical database (cd-rom).\n",
    "\n",
    "Nikolaev, A., Chuang, Y.-Y., and Baayen, R. H. (2023). A generating model for finnish nominal\n",
    "inflection using distributional semantics. The Mental Lexicon.\n",
    "\n",
    "Tucker, B. V., Brenner, D., Danielson, D. K., Kelley, M. C., Nenadić, F., & Sims, M. (2019). The massive auditory lexical decision (MALD) database. Behavior research methods, 51, 1187-1204."
   ]
  }
 ],
 "metadata": {
  "kernelspec": {
   "display_name": "Julia 1.11.2",
   "language": "julia",
   "name": "julia-1.11"
  },
  "language_info": {
   "file_extension": ".jl",
   "mimetype": "application/julia",
   "name": "julia",
   "version": "1.11.2"
  },
  "toc": {
   "base_numbering": 1,
   "nav_menu": {},
   "number_sections": true,
   "sideBar": true,
   "skip_h1_title": false,
   "title_cell": "Table of Contents",
   "title_sidebar": "Contents",
   "toc_cell": false,
   "toc_position": {},
   "toc_section_display": true,
   "toc_window_display": true
  }
 },
 "nbformat": 4,
 "nbformat_minor": 5
}
