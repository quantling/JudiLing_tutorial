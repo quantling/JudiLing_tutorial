{
 "cells": [
  {
   "cell_type": "markdown",
   "id": "3d20bb7a-b9eb-4fbc-be80-8ccc153eb897",
   "metadata": {},
   "source": [
    "# Chapter 16.3: Conceptual relations and CARIN\n",
    "\n",
    "## Getting the datasets"
   ]
  },
  {
   "cell_type": "markdown",
   "id": "9940b97c-4980-49a8-b794-fae9c9f61549",
   "metadata": {},
   "source": [
    "Download LADECv1-2019.csv from [here](https://era.library.ualberta.ca/items/dc3b9033-14d0-48d7-b6fa-6398a30e61e4). This is a database of compounds. We will use this for setting up mappings. Save it in `../dat`."
   ]
  },
  {
   "cell_type": "markdown",
   "id": "6ac70ba1-65f8-4263-b701-af7ffb601429",
   "metadata": {},
   "source": [
    "Download 13423_2018_1478_MOESM1_ESM.csv from [here](https://static-content.springer.com/esm/art%3A10.3758%2Fs13423-018-1478-x/MediaObjects/13423_2018_1478_MOESM1_ESM.csv).  This is a database of conceptual relations, the \"top relations\" data of Schmidtke et al. (2018). We will use this dataset to zoom in on the role of conceptual relations. Store it in `../dat`."
   ]
  },
  {
   "cell_type": "markdown",
   "id": "7237b9c3-8fe5-45aa-a012-64e181252b33",
   "metadata": {},
   "source": [
    "For reaction times, we'll use the BLP.  If you haven't done so before, download blp-items.txt.zip from [here](https://osf.io/b5sdk/files/osfstorage), unzip, and place in `../dat`."
   ]
  },
  {
   "cell_type": "markdown",
   "id": "d552b1d3-07c3-4b92-89ad-779e901124f5",
   "metadata": {},
   "source": [
    "## Packages"
   ]
  },
  {
   "cell_type": "code",
   "execution_count": null,
   "id": "cc66b729-b5c9-49f5-9141-ddf8637fd00f",
   "metadata": {},
   "outputs": [],
   "source": [
    "using JudiLing, JudiLingMeasures, CSV, DataFrames, RCall;"
   ]
  },
  {
   "cell_type": "code",
   "execution_count": null,
   "id": "0e6976df-a42c-4f9a-8cb4-8418a8aea056",
   "metadata": {
    "scrolled": true
   },
   "outputs": [],
   "source": [
    "R\"\"\"\n",
    "library(MASS)\n",
    "library(mgcv)\n",
    "library(party)\n",
    "library(lattice)\n",
    "\"\"\";"
   ]
  },
  {
   "cell_type": "markdown",
   "id": "4b1d77e4-856a-420d-9756-671c0dfcaa96",
   "metadata": {},
   "source": [
    "## Data preparation for DLM modeling"
   ]
  },
  {
   "cell_type": "code",
   "execution_count": null,
   "id": "7caa4b9a-0075-47fd-841a-18cfb5cc8b99",
   "metadata": {},
   "outputs": [],
   "source": [
    "R\"\"\"\n",
    "ladec = read.csv(\"../dat/LADECv1-2019.csv\")\n",
    "ladec = unique(ladec[,c(\"c1\", \"c2\", \"stim\")]) \n",
    "words = unique(c(ladec$c1, ladec$c2, ladec$stim))\n",
    "dat = data.frame(Word=words, IsCompound=words %in% ladec$stim)\n",
    "bnc = read.table(\"../dat/bnc_frequencies.txt\", T)\n",
    "dat$Frequency = bnc$Frequency+1\n",
    "head(dat)\n",
    "\"\"\""
   ]
  },
  {
   "cell_type": "code",
   "execution_count": null,
   "id": "f6858095-ee64-4fa2-b668-87400ba6dad5",
   "metadata": {},
   "outputs": [],
   "source": [
    "@rget dat;"
   ]
  },
  {
   "cell_type": "code",
   "execution_count": null,
   "id": "1031faf7-319d-4734-84e9-7043b783a67e",
   "metadata": {},
   "outputs": [],
   "source": [
    "size(dat)"
   ]
  },
  {
   "cell_type": "code",
   "execution_count": null,
   "id": "bdf2a455-1dcb-4326-b2de-e039ace11148",
   "metadata": {},
   "outputs": [],
   "source": [
    "R\"\"\"\n",
    "table(dat$IsCompound)\n",
    "\"\"\""
   ]
  },
  {
   "cell_type": "markdown",
   "id": "d8de9100-4d4e-4c8c-85c1-66c3038b8afa",
   "metadata": {},
   "source": [
    "# Defining form and meaning matrices"
   ]
  },
  {
   "cell_type": "code",
   "execution_count": null,
   "id": "bd21fbdf-7fda-4aa7-8bf0-7c2bd57bf8ff",
   "metadata": {},
   "outputs": [],
   "source": [
    "dat2, S = JudiLing.load_S_matrix_from_fasttext(dat, :en, target_col=:Word);"
   ]
  },
  {
   "cell_type": "markdown",
   "id": "f94c491f-394f-4212-8e70-898d343d5473",
   "metadata": {},
   "source": [
    "This dataset is somewhat smaller, as not all words are available with fasttext embeddings."
   ]
  },
  {
   "cell_type": "code",
   "execution_count": null,
   "id": "dc1ff212-8e64-4dbd-af37-dd3a87a7cc6c",
   "metadata": {},
   "outputs": [],
   "source": [
    "size(dat2)"
   ]
  },
  {
   "cell_type": "code",
   "execution_count": null,
   "id": "331eae55-babf-490a-ba9d-c8d5ce785016",
   "metadata": {},
   "outputs": [],
   "source": [
    "cue_obj = JudiLing.make_cue_matrix(dat2, grams=3, target_col=\"Word\");\n",
    "size(cue_obj.C)"
   ]
  },
  {
   "cell_type": "code",
   "execution_count": null,
   "id": "e30bf702-dc21-455f-8242-394589818ef5",
   "metadata": {},
   "outputs": [],
   "source": [
    "dat2.origOrder = collect(1:size(dat2)[1]);"
   ]
  },
  {
   "cell_type": "markdown",
   "id": "1ebde72d-611f-4f0e-8ee2-e091b7aba12f",
   "metadata": {},
   "source": [
    "# Endstate learning"
   ]
  },
  {
   "cell_type": "code",
   "execution_count": null,
   "id": "8f5a7ae6-6a3c-4b5e-a757-8029665444ce",
   "metadata": {},
   "outputs": [],
   "source": [
    "F = JudiLing.make_transform_matrix(cue_obj.C, S);\n",
    "G = JudiLing.make_transform_matrix(S, cue_obj.C);"
   ]
  },
  {
   "cell_type": "code",
   "execution_count": null,
   "id": "fa527b4c-ea79-4e6f-a9f9-2890895e3237",
   "metadata": {},
   "outputs": [],
   "source": [
    "Shat = cue_obj.C * F;\n",
    "Chat = S * G;"
   ]
  },
  {
   "cell_type": "code",
   "execution_count": null,
   "id": "1d7389a1-1caa-423f-b1a2-b1be07ba5b3f",
   "metadata": {},
   "outputs": [],
   "source": [
    "JudiLing.eval_SC(Shat, S, dat2, \"Word\")"
   ]
  },
  {
   "cell_type": "code",
   "execution_count": null,
   "id": "3faae580-4bb7-4ad5-8710-c47b9a97ba7f",
   "metadata": {},
   "outputs": [],
   "source": [
    "JudiLing.eval_SC_loose(Shat, S, 5, dat2, :Word)"
   ]
  },
  {
   "cell_type": "code",
   "execution_count": null,
   "id": "3d0ccbff-c90a-4053-83d6-7f9cc272584d",
   "metadata": {},
   "outputs": [],
   "source": [
    "all_measures = JudiLingMeasures.compute_all_measures_train(\n",
    "    dat2, cue_obj, Chat, S, Shat, F, G, \n",
    "    low_cost_measures_only=true);\n",
    "CSV.write(\"../res/endstate_measures.csv\", all_measures);"
   ]
  },
  {
   "cell_type": "markdown",
   "id": "f47c51d2-c680-45af-9f19-694cc190437e",
   "metadata": {},
   "source": [
    "# FIL"
   ]
  },
  {
   "cell_type": "code",
   "execution_count": null,
   "id": "73a21394-f551-485e-9412-b3c9f63a0a7d",
   "metadata": {},
   "outputs": [],
   "source": [
    "dat2.Frequency = Int.(dat2.Frequency);"
   ]
  },
  {
   "cell_type": "code",
   "execution_count": null,
   "id": "1d5e1125-fa18-4e68-96ac-b7600d67c890",
   "metadata": {},
   "outputs": [],
   "source": [
    "F = JudiLing.make_transform_matrix(cue_obj.C, S, dat2.Frequency);\n",
    "G = JudiLing.make_transform_matrix(S, cue_obj.C, dat2.Frequency);"
   ]
  },
  {
   "cell_type": "code",
   "execution_count": null,
   "id": "c81fe899-c133-4268-9087-4e0ae173b29f",
   "metadata": {},
   "outputs": [],
   "source": [
    "Shat = cue_obj.C * F;\n",
    "Chat = S * G;"
   ]
  },
  {
   "cell_type": "code",
   "execution_count": null,
   "id": "ec3bcb1e-2900-4d3a-a651-9458bed9f94b",
   "metadata": {},
   "outputs": [],
   "source": [
    "JudiLing.eval_SC(Shat, S, dat2, \"Word\")"
   ]
  },
  {
   "cell_type": "code",
   "execution_count": null,
   "id": "fb9cdd30-ff1a-40a7-9df4-bf38d565c27a",
   "metadata": {},
   "outputs": [],
   "source": [
    "JudiLing.eval_SC_loose(Shat, S, 5, dat2, :Word)"
   ]
  },
  {
   "cell_type": "code",
   "execution_count": null,
   "id": "c189d068-ee19-4898-bf35-4450d3fb7635",
   "metadata": {},
   "outputs": [],
   "source": [
    "JudiLing.eval_SC(Shat, S, dat2, :Word, freq=dat2.Frequency)"
   ]
  },
  {
   "cell_type": "code",
   "execution_count": null,
   "id": "91f6ef6e-01e6-440f-a43a-dfee7736b574",
   "metadata": {},
   "outputs": [],
   "source": [
    "all_measures = JudiLingMeasures.compute_all_measures_train(\n",
    "    dat2, cue_obj, Chat, S, Shat, F, G, \n",
    "    low_cost_measures_only=true);\n",
    "CSV.write(\"../res/FIL_measures.csv\", all_measures)"
   ]
  },
  {
   "cell_type": "code",
   "execution_count": null,
   "id": "ad4fb98c-0bd1-4690-8d07-d04a5ab463dd",
   "metadata": {},
   "outputs": [],
   "source": [
    "@rput S;"
   ]
  },
  {
   "cell_type": "markdown",
   "id": "e5e1cfa6-8d20-4ef8-a9ed-9ed06764934f",
   "metadata": {},
   "source": [
    "# Putting everything together for analyses of the compounds"
   ]
  },
  {
   "cell_type": "code",
   "execution_count": null,
   "id": "e37b7008-3931-4409-8cf9-9dc6cb6f936f",
   "metadata": {
    "scrolled": true
   },
   "outputs": [],
   "source": [
    "R\"\"\"\n",
    "fil = read.csv(\"../res/FIL_measures.csv\")\n",
    "colnames(fil)[5:ncol(fil)]=paste(\"FIL\", colnames(fil)[5:ncol(fil)], sep=\"_\")\n",
    "head(fil)\n",
    "eol = read.csv(\"../res/endstate_measures.csv\")\n",
    "colnames(eol)[5:ncol(eol)]=paste(\"EOL\", colnames(eol)[5:ncol(eol)], sep=\"_\")\n",
    "dat3 = cbind(fil, eol[,5:ncol(eol)])\n",
    "head(dat3, 3)\n",
    "\"\"\""
   ]
  },
  {
   "cell_type": "markdown",
   "id": "4a00bf47-a3dd-4b70-a932-77380722deaf",
   "metadata": {},
   "source": [
    "Restrict to compounds."
   ]
  },
  {
   "cell_type": "code",
   "execution_count": null,
   "id": "dbccc358-b0a0-473f-b568-535a19937602",
   "metadata": {},
   "outputs": [],
   "source": [
    "R\"\"\"\n",
    "compounds = dat3[dat3$IsCompound==\"true\",]\n",
    "nrow(compounds)\n",
    "\"\"\""
   ]
  },
  {
   "cell_type": "markdown",
   "id": "f0c09460-b6c9-4a01-9d58-c4717774a421",
   "metadata": {},
   "source": [
    "Add in information about the constituents."
   ]
  },
  {
   "cell_type": "code",
   "execution_count": null,
   "id": "41cc3a9c-444f-42f1-81f6-b13ebf9af9d3",
   "metadata": {},
   "outputs": [],
   "source": [
    "R\"\"\"\n",
    "head(ladec)\n",
    "\"\"\""
   ]
  },
  {
   "cell_type": "code",
   "execution_count": null,
   "id": "3a15778d-15ac-46e0-b19c-74057b0d8351",
   "metadata": {},
   "outputs": [],
   "source": [
    "R\"\"\"\n",
    "table(table(ladec$stim))\n",
    "\"\"\""
   ]
  },
  {
   "cell_type": "markdown",
   "id": "3d35ec22-3833-4e9f-bfe7-edfbeaffb16b",
   "metadata": {},
   "source": [
    "We eliminate duplicates of compounds (such as compounds with multiple parses). "
   ]
  },
  {
   "cell_type": "code",
   "execution_count": null,
   "id": "33675a0b-a4f5-4ea0-96d9-7d48148fd88a",
   "metadata": {},
   "outputs": [],
   "source": [
    "R\"\"\"\n",
    "ladec2 = ladec[!duplicated(ladec$stim),]\n",
    "c(nrow(ladec), nrow(ladec2))\n",
    "\"\"\""
   ]
  },
  {
   "cell_type": "code",
   "execution_count": null,
   "id": "ff422635-04f3-4471-9936-553bd37542fb",
   "metadata": {},
   "outputs": [],
   "source": [
    "R\"\"\"\n",
    "compounds2 = merge(compounds, ladec2, by.x=\"Word\", by.y=\"stim\")\n",
    "head(compounds2,3)\n",
    "\"\"\""
   ]
  },
  {
   "cell_type": "code",
   "execution_count": null,
   "id": "60651f88-184f-44c8-a5ea-fcf54b80ff7a",
   "metadata": {},
   "outputs": [],
   "source": [
    "R\"\"\"\n",
    "c1Count = table(compounds2$c1)\n",
    "c2Count = table(compounds2$c2)\n",
    "compounds2$c1Count = as.vector(c1Count[compounds2$c1])\n",
    "compounds2$c2Count = as.vector(c2Count[compounds2$c2])\n",
    "head(compounds2)\n",
    "\"\"\""
   ]
  },
  {
   "cell_type": "markdown",
   "id": "9484c6ab-f352-4126-b793-be4ca158d523",
   "metadata": {},
   "source": [
    "# Add in information about conceptual relations."
   ]
  },
  {
   "cell_type": "code",
   "execution_count": null,
   "id": "c035d68d-c870-4d9f-93b2-909fd739d172",
   "metadata": {},
   "outputs": [],
   "source": [
    "R\"\"\"\n",
    "rels = read.csv(\"../dat/13423_2018_1478_MOESM1_ESM.csv\")\n",
    "head(rels)\n",
    "\"\"\""
   ]
  },
  {
   "cell_type": "code",
   "execution_count": null,
   "id": "325cb9e1-ec66-49d1-b96c-31a9d583c5aa",
   "metadata": {},
   "outputs": [],
   "source": [
    "R\"\"\"\n",
    "table(rels$PrintExposure)\n",
    "\"\"\""
   ]
  },
  {
   "cell_type": "code",
   "execution_count": null,
   "id": "88ee6d4d-b046-461f-876b-86bdbead63a8",
   "metadata": {
    "scrolled": true
   },
   "outputs": [],
   "source": [
    "R\"\"\"\n",
    "rels_high = rels[rels$PrintExposure==\"high\",]\n",
    "\"\"\""
   ]
  },
  {
   "cell_type": "code",
   "execution_count": null,
   "id": "e71348cd-5915-4685-91a8-39eb39a25768",
   "metadata": {},
   "outputs": [],
   "source": [
    "R\"\"\"\n",
    "tab = table(apply(rels_high[,3:18], 1, FUN=function(v)sum(v>0)))\n",
    "tab\n",
    "\"\"\""
   ]
  },
  {
   "cell_type": "code",
   "execution_count": null,
   "id": "b7c8fa3c-1253-4b7c-85a5-e3807b0b51c7",
   "metadata": {},
   "outputs": [],
   "source": [
    "R\"\"\"\n",
    "median(apply(rels_high[,3:18], 1, FUN=function(v)sum(v>0)))\n",
    "\"\"\""
   ]
  },
  {
   "cell_type": "code",
   "execution_count": null,
   "id": "4d921681-d8d0-4e59-ae3d-744c9c2d97c2",
   "metadata": {},
   "outputs": [],
   "source": [
    "R\"\"\"\n",
    "rels_high[which(apply(rels_high[,3:18], 1, FUN=function(v)sum(v>0))==1),]\n",
    "\"\"\""
   ]
  },
  {
   "cell_type": "code",
   "execution_count": null,
   "id": "80f6745f-5662-4d14-af5e-3a0da41537c9",
   "metadata": {},
   "outputs": [],
   "source": [
    "R\"\"\"\n",
    "pos = which(compounds2$Word %in% rels$Compound)\n",
    "length(pos)\n",
    "\"\"\""
   ]
  },
  {
   "cell_type": "code",
   "execution_count": null,
   "id": "065444fe-fab8-4736-8efb-0709f7a701b5",
   "metadata": {},
   "outputs": [],
   "source": [
    "R\"\"\"\n",
    "compounds3 = compounds2[pos,]\n",
    "S_compounds3 = S[compounds3$origOrder,]\n",
    "\"\"\";"
   ]
  },
  {
   "cell_type": "code",
   "execution_count": null,
   "id": "70a8a571-e7b9-4ffe-99f4-8033ed232972",
   "metadata": {},
   "outputs": [],
   "source": [
    "R\"\"\"\n",
    "head(compounds3,3)\n",
    "\"\"\""
   ]
  },
  {
   "cell_type": "code",
   "execution_count": null,
   "id": "d607c54d-4727-4d55-92ff-d930af5f0f55",
   "metadata": {},
   "outputs": [],
   "source": [
    "R\"\"\"\n",
    "rels_high = rels_high[rels_high$Compound %in% compounds3$Word,]\n",
    "sum(rels_high$Compound==compounds3$Word) == nrow(compounds3)\n",
    "\"\"\""
   ]
  },
  {
   "cell_type": "markdown",
   "id": "6550b602-e92e-4828-9ebc-2803392031bb",
   "metadata": {},
   "source": [
    "Add in the compound relation that is most often selected in rels_high.  Ties are solved randomly."
   ]
  },
  {
   "cell_type": "code",
   "execution_count": null,
   "id": "9a350ddf-3b70-47ad-bfbd-13dc3a47b2c0",
   "metadata": {},
   "outputs": [],
   "source": [
    "R\"\"\"\n",
    "semrels = colnames(rels_high[3:18])\n",
    "is_best_jitter = function(v) {\n",
    "  v = jitter(as.numeric(v))\n",
    "  return(semrels[which(v==max(v))])\n",
    "}\n",
    "set.seed(314)\n",
    "compounds3$bestSemRel_high = apply(rels_high[,3:18], 1, is_best_jitter)\n",
    "compounds3$ent = rels_high$ent\n",
    "head(compounds3)\n",
    "\"\"\""
   ]
  },
  {
   "cell_type": "code",
   "execution_count": null,
   "id": "4c8c82af-aafe-49e4-a876-31000be87f6e",
   "metadata": {},
   "outputs": [],
   "source": [
    "R\"\"\"\n",
    "nrow(compounds3)\n",
    "\"\"\""
   ]
  },
  {
   "cell_type": "markdown",
   "id": "5aba2d19-d32c-40ec-b8e0-75ea2d4693f3",
   "metadata": {},
   "source": [
    "# FastText embeddings and conceptual relations"
   ]
  },
  {
   "cell_type": "markdown",
   "id": "158980e8-885f-4d17-b3c9-3c7ce443ea8b",
   "metadata": {},
   "source": [
    "Can we predict the best supported conceptual relation form FastText embeddings?"
   ]
  },
  {
   "cell_type": "code",
   "execution_count": null,
   "id": "04ffd1fa-7eb6-4957-8c79-639688ca1572",
   "metadata": {},
   "outputs": [],
   "source": [
    "R\"\"\"\n",
    "set.seed(314)\n",
    "library(MASS)\n",
    "m = lda(S_compounds3, as.factor(compounds3$bestSemRel_high), CV=TRUE) \n",
    "tab = table(compounds3$bestSemRel_high, m$class)\n",
    "sum(diag(tab))/sum(tab)\n",
    "\"\"\""
   ]
  },
  {
   "cell_type": "markdown",
   "id": "bf9d1200-e2fe-4b7c-abc8-8f18d551e7c3",
   "metadata": {},
   "source": [
    "Comparison with majority baseline:"
   ]
  },
  {
   "cell_type": "code",
   "execution_count": null,
   "id": "df363942-9471-489d-b387-b234dadd8715",
   "metadata": {},
   "outputs": [],
   "source": [
    "R\"\"\"\n",
    "class_counts = table(compounds3$bestSemRel_high)\n",
    "prop.test(c(max(class_counts), sum(diag(tab))), rep(nrow(compounds3),2))\n",
    "\"\"\""
   ]
  },
  {
   "cell_type": "markdown",
   "id": "663d8569-6f03-4bc1-9a0d-7a103b33c18b",
   "metadata": {},
   "source": [
    "What about a non-linear classifier?"
   ]
  },
  {
   "cell_type": "code",
   "execution_count": null,
   "id": "e1a768d2-f067-4cf6-bd66-70ffee0587e4",
   "metadata": {
    "scrolled": true
   },
   "outputs": [],
   "source": [
    "R\"\"\"\n",
    "library(e1071)\n",
    "msvm = svm(S_compounds3, as.factor(compounds3$bestSemRel_high), cross=10)\n",
    "summary(msvm)\n",
    "\"\"\""
   ]
  },
  {
   "cell_type": "code",
   "execution_count": null,
   "id": "4f2178a0-9b64-4d70-9435-12b517c77fcc",
   "metadata": {},
   "outputs": [],
   "source": [
    "R\"\"\"\n",
    "prop.test(c(max(class_counts), floor(0.364*nrow(compounds3))), rep(nrow(compounds3),2))\n",
    "\"\"\""
   ]
  },
  {
   "cell_type": "markdown",
   "id": "d5ae84e8-5ac7-4ec4-bb9f-9369fc77a1c4",
   "metadata": {},
   "source": [
    "Conclusion: there is some information about conceptual relations in the embeddings, but it is hardly above baseline when it comes to prediction for held-out data. "
   ]
  },
  {
   "cell_type": "markdown",
   "id": "94f13ac0-61bf-4525-b18e-81134ec19acb",
   "metadata": {},
   "source": [
    "# RTs"
   ]
  },
  {
   "cell_type": "code",
   "execution_count": null,
   "id": "fb95eee2-c21d-43f8-b5b6-2c256b3882be",
   "metadata": {},
   "outputs": [],
   "source": [
    "R\"\"\"\n",
    "blp = read.table(\"../dat/blp-items.txt\",T)\n",
    "\"\"\";"
   ]
  },
  {
   "cell_type": "code",
   "execution_count": null,
   "id": "0cbc6a71-0c1b-48ec-9145-a9850912a3ec",
   "metadata": {},
   "outputs": [],
   "source": [
    "R\"\"\"\n",
    "compounds4 = merge(compounds3, blp[,c(\"spelling\", \"rt\")], by.x=\"Word\", by.y=\"spelling\")\n",
    "compounds4$WordLen = nchar(compounds4$Word)\n",
    "compounds4 = compounds4[!is.na(compounds4$rt),]\n",
    "compounds4$RTinv = -1000/compounds4$rt\n",
    "nrow(compounds4)\n",
    "\"\"\""
   ]
  },
  {
   "cell_type": "code",
   "execution_count": null,
   "id": "9ad4ee8f-349b-4ef9-aa6d-55a67eab07ca",
   "metadata": {},
   "outputs": [],
   "source": [
    "R\"\"\"\n",
    "head(compounds4, 3)\n",
    "\"\"\""
   ]
  },
  {
   "cell_type": "markdown",
   "id": "787293ed-eea2-47a3-9cd5-1501cf584b53",
   "metadata": {},
   "source": [
    "# Modeling of RTs with GAM."
   ]
  },
  {
   "cell_type": "markdown",
   "id": "61b48536-0005-4c7a-852c-4afbd3eecafc",
   "metadata": {},
   "source": [
    "Exploratory model using Endstate Learning."
   ]
  },
  {
   "cell_type": "code",
   "execution_count": null,
   "id": "1ff9aa84-fcc0-4479-8f62-27fa9e7323dd",
   "metadata": {
    "scrolled": true
   },
   "outputs": [],
   "source": [
    "R\"\"\"\n",
    "compounds4.gam = gam(RTinv~s(EOL_L1Chat)+s(EOL_L1Shat)+s(EOL_C.Precision)+WordLen+s(ent), data=compounds4)\n",
    "summary(compounds4.gam)\n",
    "\"\"\""
   ]
  },
  {
   "cell_type": "markdown",
   "id": "52d2261a-f02d-4d75-bd1a-242ec5fb67dc",
   "metadata": {},
   "source": [
    "Now a model using FIL measures."
   ]
  },
  {
   "cell_type": "code",
   "execution_count": null,
   "id": "26f5e2bb",
   "metadata": {},
   "outputs": [],
   "source": [
    "R\"\"\"\n",
    "compounds4.gamF = gam(RTinv~s(FIL_L1Chat)+s(FIL_L1Shat)+s(FIL_C.Precision)+WordLen+s(ent), data=compounds4)\n",
    "summary(compounds4.gamF)\n",
    "\"\"\""
   ]
  },
  {
   "cell_type": "markdown",
   "id": "3f9d7ce8-e535-4fe3-a1c3-6cec1c71dc33",
   "metadata": {},
   "source": [
    "The FIL model appears preferable, supporting the importance of taking frequency into account."
   ]
  },
  {
   "cell_type": "code",
   "execution_count": null,
   "id": "864c3020-029c-488c-999a-981c4ab3663a",
   "metadata": {},
   "outputs": [],
   "source": [
    "R\"\"\"\n",
    "AIC(compounds4.gam, compounds4.gamF)\n",
    "\"\"\""
   ]
  },
  {
   "cell_type": "markdown",
   "id": "c4b89f1b-b6ef-4b85-8497-6df17a741986",
   "metadata": {},
   "source": [
    "A simplified version:"
   ]
  },
  {
   "cell_type": "code",
   "execution_count": null,
   "id": "4b1b7f8a",
   "metadata": {},
   "outputs": [],
   "source": [
    "R\"\"\"\n",
    "compounds4.gamF2 = gam(RTinv~s(FIL_L1Chat)+(FIL_TargetCorrelation), data=compounds4)\n",
    "summary(compounds4.gamF2)\n",
    "\"\"\""
   ]
  },
  {
   "cell_type": "code",
   "execution_count": null,
   "id": "b36f1bcd-4d2c-4b6e-b543-41a5584416d4",
   "metadata": {},
   "outputs": [],
   "source": [
    "R\"\"\"\n",
    "AIC(compounds4.gamF, compounds4.gamF2)\n",
    "\"\"\""
   ]
  },
  {
   "cell_type": "markdown",
   "id": "193b080f-c09d-4d52-a091-6383822cd830",
   "metadata": {},
   "source": [
    "The simplified model has a tiny bit lower AIC."
   ]
  },
  {
   "cell_type": "code",
   "execution_count": null,
   "id": "86ac2270-d724-4303-a750-0ed86bd9f04b",
   "metadata": {},
   "outputs": [],
   "source": [
    "R\"\"\"\n",
    "plot(compounds4.gamF2, scheme=1, shade.col=\"steelblue2\");abline(h=0, col=\"indianred\")\n",
    "\"\"\";"
   ]
  },
  {
   "cell_type": "markdown",
   "id": "2fbb2bcd-67fe-41a6-b77f-d53aa3eb1eed",
   "metadata": {},
   "source": [
    "# Random Forest Analysis with measures form LADEC for which there are no missing values."
   ]
  },
  {
   "cell_type": "code",
   "execution_count": null,
   "id": "870d84cc-39fe-45b5-8a03-4253767dbf24",
   "metadata": {},
   "outputs": [],
   "source": [
    "R\"\"\"\n",
    "ladec = read.csv(\"../dat/LADECv1-2019.csv\")\n",
    "head(ladec, 3) \n",
    "\"\"\""
   ]
  },
  {
   "cell_type": "code",
   "execution_count": null,
   "id": "4b91900e-3b5c-43e1-b6e6-88061b3493c3",
   "metadata": {},
   "outputs": [],
   "source": [
    "R\"\"\"\n",
    "vars=c(\n",
    "#\"id_master\"               , \"c1\"                       ,\n",
    "#\"c2\"                      , \n",
    "\"stim\"                     ,\n",
    "\"obs\"                     , \"obsc1\"                    ,\n",
    "\"obsc2\"                   , #\"stimlen\"                  ,\n",
    "\"c1len\"                   , \"c2len\"                    ,\n",
    "\"nparses\"                 , \"correctParse\"             ,\n",
    "\"ratingcmp\"               , \"ratingC1\"                 ,\n",
    "\"ratingC2\"                , \"isPlural\"                 ,\n",
    "\"nc1_cmp\"                 , \"nc2_cmp\"                  ,\n",
    "\"nc1_cmpnoplural\"         , \"nc2_cmpnoplural\"          ,\n",
    "\"sentiment_stim\"          , \"sentiment_c1\"             ,\n",
    "\"sentiment_c2\"            , \"sentimentprobpos_stim\"    ,\n",
    "\"sentimentprobpos_c1\"     , \"sentimentprobpos_c2\"      ,\n",
    "\"sentimentprobneg_stim\"   , \"sentimentprobneg_c1\"      ,\n",
    "\"sentimentprobneg_c2\"     , \"sentimentratioposneg_stim\",\n",
    "\"sentimentratioposneg_c1\" , \"sentimentratioposneg_c2\"  ,\n",
    "\"profanity_stim\"          , \"profanity_c1\"             ,\n",
    "\"profanity_c2\"            , #\"isCommonstim\"             ,\n",
    "#\"isCommonC1\"              , \"isCommonC2\"               ,\n",
    "#\"bg_boundary\"             , \n",
    "\"bgJonesMewhort\"           ,\n",
    "\"bgSUBTLEX\"               , \"bgFacebook\"               ,\n",
    "#\"inSUBTLEX\"               , \"inBLP\"                    ,\n",
    "#\"inELP\"                   , \"inJuhaszLaiWoodcock\"      ,\n",
    "#\"c1_inELP\"                , \"c1_inBrysbaert\"           ,\n",
    "#\"c1_inWordnet\"            , \"c1_inMMA\"                 ,\n",
    "#\"c2_inELP\"                , \"c2_inBrysbaert\"           ,\n",
    "#\"c2_inWordnet\"            , \"c2_inMMA\"                 ,\n",
    "#\"LSAc1c2\"                 , \"LSAc1stim\"                ,\n",
    "#\"LSAc2stim\"               , \"stim_SLlg10wf\"            ,\n",
    "\"BLPbncfrequency\"         , #\"BLPbncfrequencymillion\"   ,\n",
    "#\"BLPrt\"                   , \"elp_ld_rt\"                ,\n",
    "#\"elp_naming_mean_rt\"      , \n",
    "\"c1c2_snautCos\"            ,\n",
    "#\"c1stim_snautCos\"         , \"c2stim_snautCos\"          ,\n",
    "#\"fbusfreq\"                , \"fbukfreq\"                 ,\n",
    "\"valence_stim\"            , \"valence_c1\"               ,\n",
    "\"valence_c2\"              , \"concreteness_stim\"        ,\n",
    "\"concreteness_c1\"         , \"concreteness_c2\"          ,\n",
    "#\"Juhasz_tran\"             , \"st_c1_mean\"               ,\n",
    "#\"st_c2_mean\"              , \"Zipfvalue\"                ,\n",
    "\"c1_SLlg10wf\"             , \"c2_SLlg10wf\"              ,\n",
    "\"c1_BLPbncfrequency\"      , #\"c1_BLPbncfrequencymillion\",\n",
    "\"c2_BLPbncfrequency\")     # , \"c2_BLPbncfrequencymillion\")\n",
    "\"\"\";"
   ]
  },
  {
   "cell_type": "code",
   "execution_count": null,
   "id": "5d1a2b1d-76d5-4537-a6f0-354229d861dc",
   "metadata": {},
   "outputs": [],
   "source": [
    "R\"\"\"\n",
    "missingCounts = apply(ladec[,vars], 2, FUN=function(v)sum(is.na(v)))\n",
    "vars = vars[missingCounts == 0]\n",
    "vars\n",
    "\"\"\""
   ]
  },
  {
   "cell_type": "code",
   "execution_count": null,
   "id": "7bc02161-f9da-42f1-aeee-568defa6bf85",
   "metadata": {},
   "outputs": [],
   "source": [
    "R\"\"\"\n",
    "ladec1 = ladec[,vars]\n",
    "ladec1$sentiment_stim = as.factor(ladec1$sentiment_stim)\n",
    "ladec1$sentiment_c1 = as.factor(ladec1$sentiment_c1)\n",
    "ladec1$sentiment_c2 = as.factor(ladec1$sentiment_c2)\n",
    "ladec1$profanity_stim = as.factor(ladec1$profanity_stim)\n",
    "ladec1$profanity_c1 = as.factor(ladec1$profanity_c1)\n",
    "ladec1$profanity_c2 = as.factor(ladec1$profanity_c2)\n",
    "\"\"\";"
   ]
  },
  {
   "cell_type": "code",
   "execution_count": null,
   "id": "5e2cee18-73b4-4a78-9741-a1f2bcf685a0",
   "metadata": {},
   "outputs": [],
   "source": [
    "R\"\"\"\n",
    "nrow(compounds4)\n",
    "\"\"\""
   ]
  },
  {
   "cell_type": "code",
   "execution_count": null,
   "id": "d5df7d5d-1a9a-4f0c-a1aa-d378cd261d66",
   "metadata": {},
   "outputs": [],
   "source": [
    "R\"\"\"\n",
    "compounds5 = merge(compounds4, ladec1, by.x=\"Word\", by.y=\"stim\")\n",
    "nrow(compounds5)\n",
    "\"\"\""
   ]
  },
  {
   "cell_type": "markdown",
   "id": "8b3ebff6-699b-4390-87ef-a6b69d07bc16",
   "metadata": {},
   "source": [
    "We are still missing constituent frequencies. We add these in from the bnc."
   ]
  },
  {
   "cell_type": "code",
   "execution_count": null,
   "id": "4bebf098-efa5-4000-9299-94acf4ff8b17",
   "metadata": {},
   "outputs": [],
   "source": [
    "R\"\"\"\n",
    "head(bnc)\n",
    "freqs = bnc$Frequency\n",
    "names(freqs) = bnc$Word\n",
    "compounds5$C1Freq = freqs[as.character(compounds5$c1)]\n",
    "compounds5$C2Freq = freqs[as.character(compounds5$c2)]\n",
    "ncol(compounds5)\n",
    "\"\"\""
   ]
  },
  {
   "cell_type": "code",
   "execution_count": null,
   "id": "d86846d7-27ae-4e67-9d91-8698554dc275",
   "metadata": {},
   "outputs": [],
   "source": [
    "R\"\"\"\n",
    "head(compounds5, 3)\n",
    "\"\"\""
   ]
  },
  {
   "cell_type": "code",
   "execution_count": null,
   "id": "3a9bc5ec-0f6a-4476-8e5d-50a81301cd3f",
   "metadata": {},
   "outputs": [],
   "source": [
    "R\"\"\"\n",
    "vars = c(3, 5:12,14:25,27:30,33:34,35,36,37,38, 40:69)\n",
    "colnames(compounds5)[vars]\n",
    "\"\"\""
   ]
  },
  {
   "cell_type": "code",
   "execution_count": null,
   "id": "91eb3b40-174a-4af6-a074-0dc73ceb337e",
   "metadata": {},
   "outputs": [],
   "source": [
    "R\"\"\"\n",
    "forest_input = compounds5[,vars]\n",
    "head(forest_input,3)\n",
    "\"\"\""
   ]
  },
  {
   "cell_type": "code",
   "execution_count": null,
   "id": "f6a77392-eaa2-4276-9a52-e340edf5264e",
   "metadata": {},
   "outputs": [],
   "source": [
    "R\"\"\"\n",
    "forest_input$bestSemRel_high = as.factor(forest_input$bestSemRel_high)\n",
    "forest_input$correctParse = as.factor(forest_input$correctParse)\n",
    "\"\"\";"
   ]
  },
  {
   "cell_type": "code",
   "execution_count": null,
   "id": "21ea1456-f167-4f6f-8ba5-3418778f40e3",
   "metadata": {},
   "outputs": [],
   "source": [
    "R\"\"\"\n",
    "compounds.cforest = cforest(rt~., forest_input)\n",
    "varimps = varimp(compounds.cforest)\n",
    "\"\"\";"
   ]
  },
  {
   "cell_type": "code",
   "execution_count": null,
   "id": "ee161028-68cb-4f78-ae77-c28bb36cebb7",
   "metadata": {},
   "outputs": [],
   "source": [
    "R\"\"\"\n",
    "pdf(\"../fig/dotplot_vars.pdf\", he=10, wi=6)\n",
    "print(dotplot(sort(varimps),xlab=\"variable importance\"))\n",
    "dev.off()\n",
    "\"\"\";"
   ]
  },
  {
   "cell_type": "code",
   "execution_count": null,
   "id": "3876ec46-9d0a-4187-9dab-9855f0802d03",
   "metadata": {},
   "outputs": [],
   "source": [
    "R\"\"\"\n",
    "png(\"../fig/dotplot_vars.png\", he=960, wi=480)\n",
    "print(dotplot(sort(varimps), xlab=\"variable importance\"))\n",
    "dev.off()\n",
    "\"\"\";"
   ]
  },
  {
   "cell_type": "code",
   "execution_count": null,
   "id": "392a55ef",
   "metadata": {},
   "outputs": [],
   "source": [
    "R\"\"\"\n",
    "png(\"../fig/dotplot_vars_small.png\", he=480, wi=480)\n",
    "print(dotplot(tail(sort(varimps),25), xlab=\"variable importance\"))\n",
    "dev.off()\n",
    "\"\"\";"
   ]
  },
  {
   "cell_type": "code",
   "execution_count": null,
   "id": "9d7d7778",
   "metadata": {},
   "outputs": [],
   "source": [
    "R\"\"\"\n",
    "pdf(\"../fig/dotplot_vars_small.pdf\", he=6, wi=8)\n",
    "print(dotplot(tail(sort(varimps),25), xlab=\"variable importance\"))\n",
    "dev.off()\n",
    "\"\"\";"
   ]
  },
  {
   "cell_type": "markdown",
   "id": "443c4d38-c3ea-414e-a1ca-b794eeceeec5",
   "metadata": {},
   "source": [
    "![dotplot](../fig/dotplot_vars.png)"
   ]
  },
  {
   "cell_type": "markdown",
   "id": "375eb9a7-1f04-401f-a49c-a46517b526be",
   "metadata": {},
   "source": [
    "# Final GAM analysis taking the sentiment measures into account."
   ]
  },
  {
   "cell_type": "code",
   "execution_count": null,
   "id": "e57e91e9-dd07-4544-9186-5d55547c7285",
   "metadata": {},
   "outputs": [],
   "source": [
    "R\"\"\"\n",
    "compounds5.gam = gam(RTinv~s(FIL_L1Chat)+(FIL_TargetCorrelation) + #s(FIL_C.Precision)+\n",
    "   s(sentimentprobneg_stim), # + s(sentimentratioposneg_stim),\n",
    "  data=compounds5)\n",
    "summary(compounds5.gam)\n",
    "\"\"\""
   ]
  },
  {
   "cell_type": "code",
   "execution_count": null,
   "id": "fd5ecac7-1e9e-4ce1-8bfe-860a380c751e",
   "metadata": {},
   "outputs": [],
   "source": [
    "R\"\"\"\n",
    "par(mfrow=c(1,2))\n",
    "plot(compounds5.gam, select=1, scheme=1, shade.col=\"steelblue2\", ylab=\"partial effect\");abline(h=0, col=\"indianred\")\n",
    "plot(compounds5.gam, select=2, scheme=1, shade.col=\"steelblue2\", ylab=\"partial effect\");abline(h=0, col=\"indianred\")\n",
    "abline(v=median(compounds5$sentimentprobneg_stim))\n",
    "\"\"\";"
   ]
  },
  {
   "cell_type": "code",
   "execution_count": null,
   "id": "f265e21a",
   "metadata": {},
   "outputs": [],
   "source": [
    "R\"\"\"\n",
    "pdf(\"../fig/CARIN_compounds_partial_effects.pdf\", he=5, wi=10)\n",
    "par(mfrow=c(1,2))\n",
    "plot(compounds5.gam, select=1, scheme=1, shade.col=\"steelblue2\", \n",
    "   xlab=\"L1Chat (FIL)\",\n",
    "   ylab=\"partial effect\");abline(h=0, col=\"indianred\")\n",
    "plot(compounds5.gam, select=2, scheme=1, shade.col=\"steelblue2\", \n",
    "   xlab = \"probability of negative sentiment (compound)\", \n",
    "   ylab=\"partial effect\");abline(h=0, col=\"indianred\")\n",
    "abline(v=median(compounds5$sentimentprobneg_stim), col=\"indianred\")\n",
    "dev.off()\n",
    "\"\"\";"
   ]
  },
  {
   "cell_type": "markdown",
   "id": "0af94f41-82f5-41fb-9338-741325c10b8e",
   "metadata": {},
   "source": [
    "Conclusions: \n",
    "\n",
    "1. RT decleases with greater TargetCorrelation, as expected.\n",
    "2. Greater uncertainty about the spoken form leads to longer RTs, this is by far the strongest effect.\n",
    "3. The sentiment measure suggests response optimization, with the slowest responses for median negativity, and faster responses for less common negativities."
   ]
  },
  {
   "cell_type": "markdown",
   "id": "2b7f56ee-abd8-4a24-af62-d96ffb69c633",
   "metadata": {},
   "source": [
    "Frequency is the strongest predictor, which is unsurprising because (1) it captures much more than lexical learning, and (2) the model was trained only on the words in this small dataset, which is only a sample of real experience."
   ]
  },
  {
   "cell_type": "code",
   "execution_count": null,
   "id": "cec6996a-3ee8-4e4a-a9d2-138f56978c7b",
   "metadata": {},
   "outputs": [],
   "source": [
    "R\"\"\"\n",
    "compounds5$LogCompFreq = log(compounds5$Frequency+1)\n",
    "compounds5.gam2 = gam(RTinv~s(FIL_L1Chat)+(FIL_TargetCorrelation) + s(LogCompFreq)+\n",
    "   s(sentimentprobneg_stim), # + s(sentimentratioposneg_stim),\n",
    "  data=compounds5)\n",
    "summary(compounds5.gam2)\n",
    "\"\"\""
   ]
  },
  {
   "cell_type": "code",
   "execution_count": null,
   "id": "81f18858-4007-4467-93e2-78247a428646",
   "metadata": {},
   "outputs": [],
   "source": [
    "R\"\"\"\n",
    "concurvity(compounds5.gam2)\n",
    "\"\"\""
   ]
  },
  {
   "cell_type": "markdown",
   "id": "289ec8fc-d635-4041-991c-360060016369",
   "metadata": {},
   "source": [
    "The L1Chat measure surves, but the sentiment measure does not."
   ]
  }
 ],
 "metadata": {
  "kernelspec": {
   "display_name": "Julia 1.11.2",
   "language": "julia",
   "name": "julia-1.11"
  },
  "language_info": {
   "file_extension": ".jl",
   "mimetype": "application/julia",
   "name": "julia",
   "version": "1.11.2"
  }
 },
 "nbformat": 4,
 "nbformat_minor": 5
}
