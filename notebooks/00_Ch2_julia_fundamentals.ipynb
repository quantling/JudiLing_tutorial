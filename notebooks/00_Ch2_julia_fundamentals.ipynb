{
 "cells": [
  {
   "cell_type": "markdown",
   "id": "0559eac2",
   "metadata": {},
   "source": [
    "# Chapter 2: Julia fundamentals\n",
    "\n",
    "This is an introduction into very basic commands in Julia. Make sure that all of these commands run for you, and keep it as a cheatsheet for the rest of the book.\n"
   ]
  },
  {
   "cell_type": "markdown",
   "id": "c4c3649a",
   "metadata": {},
   "source": [
    "## Install packages\n",
    "To install external packages, we first activate the builtin package manager:"
   ]
  },
  {
   "cell_type": "code",
   "execution_count": null,
   "id": "1e1af66c",
   "metadata": {
    "scrolled": true
   },
   "outputs": [],
   "source": [
    "using Pkg"
   ]
  },
  {
   "cell_type": "markdown",
   "id": "f7da5a27",
   "metadata": {},
   "source": [
    "Then we can install the packages of interest as follows:"
   ]
  },
  {
   "cell_type": "code",
   "execution_count": null,
   "id": "a39c5f42",
   "metadata": {
    "scrolled": true
   },
   "outputs": [],
   "source": [
    "Pkg.add(\"CSV\")\n",
    "Pkg.add(\"DataFrames\")"
   ]
  },
  {
   "cell_type": "markdown",
   "id": "d7802309",
   "metadata": {},
   "source": [
    "Since the **JudiLing** package is already in the Julia repository, we can install the stable version by specifying:"
   ]
  },
  {
   "cell_type": "code",
   "execution_count": null,
   "id": "b3cdc47e",
   "metadata": {
    "scrolled": true
   },
   "outputs": [],
   "source": [
    "Pkg.add(\"JudiLing\")"
   ]
  },
  {
   "cell_type": "markdown",
   "id": "305228e9",
   "metadata": {},
   "source": [
    "But if you are interested in the developing version, then install package from its url:"
   ]
  },
  {
   "cell_type": "code",
   "execution_count": null,
   "id": "bf2efa5d",
   "metadata": {},
   "outputs": [],
   "source": [
    "# uncomment to run\n",
    "# Pkg.add(url=\"https://github.com/quantling/JudiLing.jl\")"
   ]
  },
  {
   "cell_type": "markdown",
   "id": "d0e702ba",
   "metadata": {},
   "source": [
    "### Exercise solutions"
   ]
  },
  {
   "cell_type": "markdown",
   "id": "47e43d99",
   "metadata": {},
   "source": [
    "#### Exercise 1\n",
    "\n",
    "Install the `Plots` package."
   ]
  },
  {
   "cell_type": "code",
   "execution_count": null,
   "id": "e54fd8f2",
   "metadata": {
    "scrolled": true
   },
   "outputs": [],
   "source": [
    "Pkg.add(\"Plots\")"
   ]
  },
  {
   "cell_type": "markdown",
   "id": "4ca827f4",
   "metadata": {},
   "source": [
    "#### Exercise 2"
   ]
  },
  {
   "cell_type": "markdown",
   "id": "426380d9",
   "metadata": {},
   "source": [
    "Use `Pkg.status()` to ensure that at least version 0.11 of JudiLing is installed."
   ]
  },
  {
   "cell_type": "code",
   "execution_count": null,
   "id": "8da75638",
   "metadata": {
    "scrolled": true
   },
   "outputs": [],
   "source": [
    "Pkg.status()"
   ]
  },
  {
   "cell_type": "markdown",
   "id": "0ad8c94e",
   "metadata": {},
   "source": [
    "## Mathematical operations"
   ]
  },
  {
   "cell_type": "markdown",
   "id": "8852ec42",
   "metadata": {},
   "source": [
    "Next we introduce some basic commands for doing mathematical calculations. As a first step, we can use **Julia** as a simple calculator."
   ]
  },
  {
   "cell_type": "code",
   "execution_count": null,
   "id": "11a0d4c3",
   "metadata": {
    "scrolled": true
   },
   "outputs": [],
   "source": [
    "1 + 1"
   ]
  },
  {
   "cell_type": "code",
   "execution_count": null,
   "id": "c90727d0",
   "metadata": {},
   "outputs": [],
   "source": [
    "2 * 3"
   ]
  },
  {
   "cell_type": "code",
   "execution_count": null,
   "id": "47451bea",
   "metadata": {},
   "outputs": [],
   "source": [
    "1/2"
   ]
  },
  {
   "cell_type": "markdown",
   "id": "2e8a3e3f",
   "metadata": {},
   "source": [
    "Other useful commands include e.g., to obtain the absolute value:"
   ]
  },
  {
   "cell_type": "code",
   "execution_count": null,
   "id": "c3b34d4e",
   "metadata": {},
   "outputs": [],
   "source": [
    "abs(-1)"
   ]
  },
  {
   "cell_type": "markdown",
   "id": "206670c8",
   "metadata": {},
   "source": [
    "Or to get the square root:"
   ]
  },
  {
   "cell_type": "code",
   "execution_count": null,
   "id": "c4f31673",
   "metadata": {},
   "outputs": [],
   "source": [
    "sqrt(144)"
   ]
  },
  {
   "cell_type": "markdown",
   "id": "04d95075",
   "metadata": {},
   "source": [
    "One special funcionality of **Julia** is that we can directly make use of the math unicode symbols:"
   ]
  },
  {
   "cell_type": "code",
   "execution_count": null,
   "id": "74566b17",
   "metadata": {},
   "outputs": [],
   "source": [
    "√144"
   ]
  },
  {
   "cell_type": "markdown",
   "id": "b00e4970",
   "metadata": {},
   "source": [
    "### Exercises\n",
    "\n",
    "#### Exercise 3"
   ]
  },
  {
   "cell_type": "markdown",
   "id": "04232f7d",
   "metadata": {},
   "source": [
    "$25^{17}$"
   ]
  },
  {
   "cell_type": "code",
   "execution_count": null,
   "id": "c9cf87df",
   "metadata": {},
   "outputs": [],
   "source": [
    "25^17"
   ]
  },
  {
   "cell_type": "markdown",
   "id": "3b3cb653",
   "metadata": {},
   "source": [
    "#### Exercise 4\n",
    "\n",
    "$8273451751 \\mod 12$"
   ]
  },
  {
   "cell_type": "code",
   "execution_count": null,
   "id": "716fd389",
   "metadata": {
    "scrolled": true
   },
   "outputs": [],
   "source": [
    "mod(8273451751, 12)"
   ]
  },
  {
   "cell_type": "markdown",
   "id": "fad7b215",
   "metadata": {},
   "source": [
    "#### Exercise 5\n",
    "\n",
    "$421403 > 178231234$"
   ]
  },
  {
   "cell_type": "code",
   "execution_count": null,
   "id": "3548101c",
   "metadata": {
    "scrolled": true
   },
   "outputs": [],
   "source": [
    "421403 > 178231234"
   ]
  },
  {
   "cell_type": "markdown",
   "id": "db38c4b3",
   "metadata": {},
   "source": [
    "#### Exercise 6\n",
    "\n",
    "$1 \\neq -1$"
   ]
  },
  {
   "cell_type": "code",
   "execution_count": null,
   "id": "43cf4361",
   "metadata": {},
   "outputs": [],
   "source": [
    "1 != −1\n",
    "# or alternatively\n",
    "1 ≠ −1"
   ]
  },
  {
   "cell_type": "markdown",
   "id": "1d163330",
   "metadata": {},
   "source": [
    "#### Exercise 7\n",
    "\n",
    "$\\cos(90^{\\circ})$"
   ]
  },
  {
   "cell_type": "code",
   "execution_count": null,
   "id": "6cb453b9",
   "metadata": {},
   "outputs": [],
   "source": [
    "cosd(90)"
   ]
  },
  {
   "cell_type": "markdown",
   "id": "c8175d80",
   "metadata": {},
   "source": [
    "## String operations\n",
    "In julia, strings are always denoted with `\"...\"`, not with `'...'` as in other programming languages!"
   ]
  },
  {
   "cell_type": "code",
   "execution_count": null,
   "id": "dedf81ff",
   "metadata": {},
   "outputs": [],
   "source": [
    "a_string = \"abc\""
   ]
  },
  {
   "cell_type": "markdown",
   "id": "1c455b68",
   "metadata": {},
   "source": [
    "To paste two or more strings together, we can simply do"
   ]
  },
  {
   "cell_type": "code",
   "execution_count": null,
   "id": "abfd65ad",
   "metadata": {},
   "outputs": [],
   "source": [
    "string(\"a\", \"b\", \"c\")"
   ]
  },
  {
   "cell_type": "markdown",
   "id": "6fec3496",
   "metadata": {},
   "source": [
    "Count letters in a string:"
   ]
  },
  {
   "cell_type": "code",
   "execution_count": null,
   "id": "6f6a9c0f",
   "metadata": {
    "scrolled": true
   },
   "outputs": [],
   "source": [
    "length(a_string)"
   ]
  },
  {
   "cell_type": "markdown",
   "id": "d1a76cc4",
   "metadata": {},
   "source": [
    "### Exercises"
   ]
  },
  {
   "cell_type": "markdown",
   "id": "72ccb4e3",
   "metadata": {},
   "source": [
    "#### Exercise 8\n",
    "\n",
    "Define the variables `firstname` and `surname` to contain your first name and surname respectively."
   ]
  },
  {
   "cell_type": "code",
   "execution_count": null,
   "id": "f84faba3",
   "metadata": {},
   "outputs": [],
   "source": [
    "firstname = \"Jane\"\n",
    "surname = \"Doe\""
   ]
  },
  {
   "cell_type": "markdown",
   "id": "2fe751a6",
   "metadata": {},
   "source": [
    "Compute the length of your first name and surname."
   ]
  },
  {
   "cell_type": "code",
   "execution_count": null,
   "id": "fde134af",
   "metadata": {},
   "outputs": [],
   "source": [
    "length(firstname)"
   ]
  },
  {
   "cell_type": "code",
   "execution_count": null,
   "id": "f9e6dfa6",
   "metadata": {},
   "outputs": [],
   "source": [
    "length(surname)"
   ]
  },
  {
   "cell_type": "markdown",
   "id": "fd0d307c",
   "metadata": {},
   "source": [
    "#### Exercise 9\n",
    "\n",
    "Paste `firstname` and `surname` together, separated by a whitespace."
   ]
  },
  {
   "cell_type": "code",
   "execution_count": null,
   "id": "70642b22",
   "metadata": {},
   "outputs": [],
   "source": [
    "name = string(firstname, \" \", surname)\n",
    "# alternatively\n",
    "name = join([firstname, surname], \" \")"
   ]
  },
  {
   "cell_type": "markdown",
   "id": "8771264a",
   "metadata": {},
   "source": [
    "#### Exercise 10\n",
    "\n",
    "Compute the length of the full name."
   ]
  },
  {
   "cell_type": "code",
   "execution_count": null,
   "id": "cbed88aa",
   "metadata": {},
   "outputs": [],
   "source": [
    "length(name)"
   ]
  },
  {
   "cell_type": "markdown",
   "id": "e7e41f18",
   "metadata": {},
   "source": [
    "#### Exercise 11\n",
    "\n",
    "Split `firstname` into letters."
   ]
  },
  {
   "cell_type": "code",
   "execution_count": null,
   "id": "b67e87b4",
   "metadata": {
    "scrolled": true
   },
   "outputs": [],
   "source": [
    "split(firstname, \"\")"
   ]
  },
  {
   "cell_type": "markdown",
   "id": "7ee26483",
   "metadata": {},
   "source": [
    "Split `name` into first name and surname."
   ]
  },
  {
   "cell_type": "code",
   "execution_count": null,
   "id": "3927691c",
   "metadata": {},
   "outputs": [],
   "source": [
    "split(name, \" \")"
   ]
  },
  {
   "cell_type": "markdown",
   "id": "d9ef7325",
   "metadata": {},
   "source": [
    "## Vector operations"
   ]
  },
  {
   "cell_type": "markdown",
   "id": "7249da8d",
   "metadata": {},
   "source": [
    "Defining a vector in julia:"
   ]
  },
  {
   "cell_type": "code",
   "execution_count": null,
   "id": "d10da2fb",
   "metadata": {
    "scrolled": true
   },
   "outputs": [],
   "source": [
    "v1 = [-1,2,3]"
   ]
  },
  {
   "cell_type": "markdown",
   "id": "c406e4eb",
   "metadata": {},
   "source": [
    "The `length` function, when provided with a vector as input, returns the number of elements in that vector"
   ]
  },
  {
   "cell_type": "code",
   "execution_count": null,
   "id": "6ab73240",
   "metadata": {},
   "outputs": [],
   "source": [
    "length(v1)"
   ]
  },
  {
   "cell_type": "markdown",
   "id": "02e67050",
   "metadata": {},
   "source": [
    "Different methods of a given function are usually well documented. To access the documentation, we can enter the **help** mode by pressing `?`, then type in the name of the function"
   ]
  },
  {
   "cell_type": "code",
   "execution_count": null,
   "id": "232e036d",
   "metadata": {
    "scrolled": true
   },
   "outputs": [],
   "source": [
    "?length"
   ]
  },
  {
   "cell_type": "markdown",
   "id": "f8ede1f5",
   "metadata": {},
   "source": [
    "Next, elementa in a vector are extracted by specifying their position between square brackets,"
   ]
  },
  {
   "cell_type": "code",
   "execution_count": null,
   "id": "9bf509b9",
   "metadata": {},
   "outputs": [],
   "source": [
    "v1[2]"
   ]
  },
  {
   "cell_type": "markdown",
   "id": "6a0e416c",
   "metadata": {},
   "source": [
    "or the range of the positions:"
   ]
  },
  {
   "cell_type": "code",
   "execution_count": null,
   "id": "41284c99",
   "metadata": {},
   "outputs": [],
   "source": [
    "v1[1:2]"
   ]
  },
  {
   "cell_type": "markdown",
   "id": "840c0ce3",
   "metadata": {},
   "source": [
    "There are some builtin functions for numeric vectors, such as `sum`, which calculates the sum of the vector,"
   ]
  },
  {
   "cell_type": "code",
   "execution_count": null,
   "id": "5df07ae0",
   "metadata": {},
   "outputs": [],
   "source": [
    "sum(v1)"
   ]
  },
  {
   "cell_type": "markdown",
   "id": "6b56217f",
   "metadata": {},
   "source": [
    "`findmax` and `findmin` return a tuple, the first element of which is the maximum and minimum value of the vector respectively. The second element indicates the position of the maximum/minimum value in the vector."
   ]
  },
  {
   "cell_type": "code",
   "execution_count": null,
   "id": "e0f98c3c",
   "metadata": {},
   "outputs": [],
   "source": [
    "findmax(v1)"
   ]
  },
  {
   "cell_type": "code",
   "execution_count": null,
   "id": "07dab3f7",
   "metadata": {},
   "outputs": [],
   "source": [
    "findmin(v1)"
   ]
  },
  {
   "cell_type": "markdown",
   "id": "22cb534a",
   "metadata": {},
   "source": [
    "### Loop\n",
    "To do the same operation for every element in a vector, we will need to use a **for** loop. For example, if we want to add 10 to each element of our \"v1\" vector, we can define a loop as follows:"
   ]
  },
  {
   "cell_type": "code",
   "execution_count": null,
   "id": "fc559dc0",
   "metadata": {},
   "outputs": [],
   "source": [
    "for i in 1:length(v1)\n",
    "    v1[i] = v1[i] + 10\n",
    "end"
   ]
  },
  {
   "cell_type": "markdown",
   "id": "3d9d5925",
   "metadata": {},
   "source": [
    "Now our new \"v1\" looks like:"
   ]
  },
  {
   "cell_type": "code",
   "execution_count": null,
   "id": "be7a90d3",
   "metadata": {},
   "outputs": [],
   "source": [
    "v1"
   ]
  },
  {
   "cell_type": "markdown",
   "id": "45ed5a09",
   "metadata": {},
   "source": [
    "A simpler way to achieve the same effect is by making use of the dot operator."
   ]
  },
  {
   "cell_type": "code",
   "execution_count": null,
   "id": "4d0fef97",
   "metadata": {},
   "outputs": [],
   "source": [
    "v1 = [-1, 2, 3];\n",
    "v1 .+ 10"
   ]
  },
  {
   "cell_type": "markdown",
   "id": "201cb0af",
   "metadata": {},
   "source": [
    "We can likewise `broadcast` other functions by adding the dot operator to other functions. The following code returns the absolute value of all the elements in \"v1\":"
   ]
  },
  {
   "cell_type": "code",
   "execution_count": null,
   "id": "3a2d6838",
   "metadata": {
    "scrolled": true
   },
   "outputs": [],
   "source": [
    "abs.(v1)"
   ]
  },
  {
   "cell_type": "markdown",
   "id": "021dcf13",
   "metadata": {},
   "source": [
    "This is equivalent to:"
   ]
  },
  {
   "cell_type": "code",
   "execution_count": null,
   "id": "a588040b",
   "metadata": {},
   "outputs": [],
   "source": [
    "map(abs, v1)"
   ]
  },
  {
   "cell_type": "markdown",
   "id": "c01a3f3a",
   "metadata": {},
   "source": [
    "Or we can request the length of each element in a string vector:"
   ]
  },
  {
   "cell_type": "code",
   "execution_count": null,
   "id": "269b7dc3",
   "metadata": {},
   "outputs": [],
   "source": [
    "v2 = [\"ab\", \"abc\", \"cdef\"]"
   ]
  },
  {
   "cell_type": "code",
   "execution_count": null,
   "id": "9c77a280",
   "metadata": {},
   "outputs": [],
   "source": [
    "length.(v2)"
   ]
  },
  {
   "cell_type": "markdown",
   "id": "75600616",
   "metadata": {},
   "source": [
    "Note that the `map` function also does the same job, where we specify the function name first, followed by the input vector:"
   ]
  },
  {
   "cell_type": "code",
   "execution_count": null,
   "id": "c5eb42ff",
   "metadata": {},
   "outputs": [],
   "source": [
    "map(length, v2)"
   ]
  },
  {
   "cell_type": "markdown",
   "id": "55679193",
   "metadata": {},
   "source": [
    "And nesting multiple functions:"
   ]
  },
  {
   "cell_type": "code",
   "execution_count": null,
   "id": "0f58d7b3",
   "metadata": {
    "scrolled": true
   },
   "outputs": [],
   "source": [
    "sum(map(length, v2))"
   ]
  },
  {
   "cell_type": "markdown",
   "id": "d5616a73",
   "metadata": {},
   "source": [
    "### Exercises\n",
    "\n",
    "#### Exercise 12"
   ]
  },
  {
   "cell_type": "markdown",
   "id": "5f40cbf4",
   "metadata": {},
   "source": [
    "Defining a vector $v = \\begin{pmatrix}8 & 89 & 123 & -1 \\end{pmatrix}$ and printing each value in a new line:"
   ]
  },
  {
   "cell_type": "code",
   "execution_count": null,
   "id": "697fcd3a",
   "metadata": {
    "scrolled": true
   },
   "outputs": [],
   "source": [
    "v = [8, 89, 123, -1]"
   ]
  },
  {
   "cell_type": "code",
   "execution_count": null,
   "id": "d5b18e26",
   "metadata": {},
   "outputs": [],
   "source": [
    "for val in v\n",
    "    println(val)\n",
    "end"
   ]
  },
  {
   "cell_type": "code",
   "execution_count": null,
   "id": "a928e084",
   "metadata": {
    "scrolled": true
   },
   "outputs": [],
   "source": [
    "# alternatively\n",
    "println.(v);"
   ]
  },
  {
   "cell_type": "markdown",
   "id": "d389b995",
   "metadata": {},
   "source": [
    "#### Exercise 13\n",
    "\n",
    "Summing the last three elements of $v$:"
   ]
  },
  {
   "cell_type": "code",
   "execution_count": null,
   "id": "af72b167",
   "metadata": {},
   "outputs": [],
   "source": [
    "sum(v[2:4])"
   ]
  },
  {
   "cell_type": "code",
   "execution_count": null,
   "id": "4e69e38c",
   "metadata": {
    "scrolled": true
   },
   "outputs": [],
   "source": [
    "# alternatively\n",
    "sum(v[(end-2): end])"
   ]
  },
  {
   "cell_type": "markdown",
   "id": "a6dd8e6c",
   "metadata": {},
   "source": [
    "#### Exercise 14\n",
    "\n",
    "Defining a vector with values from -513 to 8089, taking the absolute value of all elements and summing over them:"
   ]
  },
  {
   "cell_type": "code",
   "execution_count": null,
   "id": "9f04be82",
   "metadata": {},
   "outputs": [],
   "source": [
    "sum(abs.(collect(-513:8089)))"
   ]
  },
  {
   "cell_type": "markdown",
   "id": "1223146d",
   "metadata": {},
   "source": [
    "## Matrix operations\n",
    "To define a matrix in **Julia**, we do:"
   ]
  },
  {
   "cell_type": "code",
   "execution_count": null,
   "id": "3140f155",
   "metadata": {},
   "outputs": [],
   "source": [
    "m1 = [[-1 2 3]\n",
    "      [4 -5 6]]\n"
   ]
  },
  {
   "cell_type": "markdown",
   "id": "1e42eb81",
   "metadata": {},
   "source": [
    "All commands above apply in the same way to matrices, e.g."
   ]
  },
  {
   "cell_type": "code",
   "execution_count": null,
   "id": "828623f0",
   "metadata": {},
   "outputs": [],
   "source": [
    "sum(m1)\n"
   ]
  },
  {
   "cell_type": "code",
   "execution_count": null,
   "id": "98bdb1ba",
   "metadata": {},
   "outputs": [],
   "source": [
    "abs.(m1)\n"
   ]
  },
  {
   "cell_type": "code",
   "execution_count": null,
   "id": "f466fbca",
   "metadata": {},
   "outputs": [],
   "source": [
    "m1 .+ m1\n"
   ]
  },
  {
   "cell_type": "code",
   "execution_count": null,
   "id": "c063089f",
   "metadata": {},
   "outputs": [],
   "source": [
    "size(m1)"
   ]
  },
  {
   "cell_type": "markdown",
   "id": "8b8ba444",
   "metadata": {},
   "source": [
    "Applying a function across rows only. Some functions have this built-in, such as `sum`, where you can just define the dimension across which to apply the function:"
   ]
  },
  {
   "cell_type": "code",
   "execution_count": null,
   "id": "cdf6080a",
   "metadata": {},
   "outputs": [],
   "source": [
    "sum(m1, dims=2)"
   ]
  },
  {
   "cell_type": "markdown",
   "id": "fdac39e1",
   "metadata": {},
   "source": [
    "To use the `map` function, we will need the `eachrow` function to do the operation row-wise:"
   ]
  },
  {
   "cell_type": "code",
   "execution_count": null,
   "id": "dee96764",
   "metadata": {
    "scrolled": true
   },
   "outputs": [],
   "source": [
    "map(sum, eachrow(m1))"
   ]
  },
  {
   "cell_type": "markdown",
   "id": "f5825c6e",
   "metadata": {},
   "source": [
    "...or column-wise:"
   ]
  },
  {
   "cell_type": "code",
   "execution_count": null,
   "id": "9a68123d",
   "metadata": {},
   "outputs": [],
   "source": [
    "map(sum, eachcol(m1))"
   ]
  },
  {
   "cell_type": "markdown",
   "id": "cb9073ec",
   "metadata": {},
   "source": [
    "For indexing, we have to first specify the row number, then the column number, e.g.,"
   ]
  },
  {
   "cell_type": "code",
   "execution_count": null,
   "id": "462f1671",
   "metadata": {},
   "outputs": [],
   "source": [
    "m1[1,3]"
   ]
  },
  {
   "cell_type": "markdown",
   "id": "39efa884",
   "metadata": {},
   "source": [
    "When referring to the entire row/column, we have to specify the row or column number in the respective position, and put colon marks in the other position. For example, to get all the values of the first row, we do:"
   ]
  },
  {
   "cell_type": "code",
   "execution_count": null,
   "id": "0cc10dc0",
   "metadata": {},
   "outputs": [],
   "source": [
    "m1[1, :]"
   ]
  },
  {
   "cell_type": "markdown",
   "id": "fbc25854",
   "metadata": {},
   "source": [
    "And to get all the values of the second column, we do:"
   ]
  },
  {
   "cell_type": "code",
   "execution_count": null,
   "id": "4163e399",
   "metadata": {},
   "outputs": [],
   "source": [
    "m1[:, 2]"
   ]
  },
  {
   "cell_type": "markdown",
   "id": "ca7a526e",
   "metadata": {},
   "source": [
    "When working with two or more matrices, sometimes we may want to combine them. The `vcat` and `hcat` functions concatenate two (or more) matrices vertically and horizontally respectively. For instance, let's first create another matrix \"m2\" by multiplying every value of \"m1\" by 2:"
   ]
  },
  {
   "cell_type": "code",
   "execution_count": null,
   "id": "d859840d",
   "metadata": {},
   "outputs": [],
   "source": [
    "m2= m1 .* 2"
   ]
  },
  {
   "cell_type": "markdown",
   "id": "de3b3b21",
   "metadata": {},
   "source": [
    "Now we can combine \"m1\" and \"m2\" by:"
   ]
  },
  {
   "cell_type": "code",
   "execution_count": null,
   "id": "31e6074d",
   "metadata": {},
   "outputs": [],
   "source": [
    "vcat(m1, m2)"
   ]
  },
  {
   "cell_type": "code",
   "execution_count": null,
   "id": "7ddbd1cd",
   "metadata": {},
   "outputs": [],
   "source": [
    "hcat(m1, m2)"
   ]
  },
  {
   "cell_type": "markdown",
   "id": "2cfebdd6",
   "metadata": {},
   "source": [
    "### Exercises"
   ]
  },
  {
   "cell_type": "markdown",
   "id": "7c01e8d9",
   "metadata": {},
   "source": [
    "#### Exercise 15\n",
    "\n",
    "Define a matrix $m = \\begin{pmatrix}8 & 89 \\\\ 73 & -1236876 \\\\\n",
    "    0.6 & 1.9\\end{pmatrix}$ and divide each element by 0.35"
   ]
  },
  {
   "cell_type": "code",
   "execution_count": null,
   "id": "76fc114c",
   "metadata": {
    "scrolled": true
   },
   "outputs": [],
   "source": [
    "m = [[8 89]\n",
    "     [73 -1236876]\n",
    "     [0.6 1.9]]"
   ]
  },
  {
   "cell_type": "code",
   "execution_count": null,
   "id": "913b81ed",
   "metadata": {},
   "outputs": [],
   "source": [
    "m ./ 0.35"
   ]
  },
  {
   "cell_type": "markdown",
   "id": "29f9fdab",
   "metadata": {},
   "source": [
    "#### Exercise 16\n",
    "\n",
    "Try out `zeros` and `ones`"
   ]
  },
  {
   "cell_type": "code",
   "execution_count": null,
   "id": "afb098c5",
   "metadata": {},
   "outputs": [],
   "source": [
    "zeros(12,13)"
   ]
  },
  {
   "cell_type": "code",
   "execution_count": null,
   "id": "f5ea2d5c",
   "metadata": {},
   "outputs": [],
   "source": [
    "ones(12,13)"
   ]
  },
  {
   "cell_type": "markdown",
   "id": "0b15002b",
   "metadata": {},
   "source": [
    "#### Exercise 17\n",
    "\n",
    "Define a random matrix of 5 by 5."
   ]
  },
  {
   "cell_type": "code",
   "execution_count": null,
   "id": "62b40e3f",
   "metadata": {},
   "outputs": [],
   "source": [
    "m3 = rand(5,5)"
   ]
  },
  {
   "cell_type": "markdown",
   "id": "8bece81b",
   "metadata": {},
   "source": [
    "#### Exercise 18\n",
    "\n",
    "Use `diag` from the `LinearAlgebra` package to get the diagonal of `m3`."
   ]
  },
  {
   "cell_type": "code",
   "execution_count": null,
   "id": "42d047d8",
   "metadata": {},
   "outputs": [],
   "source": [
    "using LinearAlgebra"
   ]
  },
  {
   "cell_type": "code",
   "execution_count": null,
   "id": "ca389eb2",
   "metadata": {
    "scrolled": true
   },
   "outputs": [],
   "source": [
    "diag(m3)"
   ]
  },
  {
   "cell_type": "markdown",
   "id": "54f3697c",
   "metadata": {},
   "source": [
    "#### Exercise 19\n",
    "\n",
    "Define a second random matrix `m4` with the same dimensions as `m3`:"
   ]
  },
  {
   "cell_type": "code",
   "execution_count": null,
   "id": "640fe489",
   "metadata": {},
   "outputs": [],
   "source": [
    "m4 = rand(5, 5)\n",
    "# or alternatively\n",
    "m4 = rand(size(m3)...) # note for python programmers: ... in julia is similar to ** in python for unpacking vectors/lists into arguments"
   ]
  },
  {
   "cell_type": "markdown",
   "id": "3bf0eb41",
   "metadata": {},
   "source": [
    "Divide `m3` by `m4` elementwise"
   ]
  },
  {
   "cell_type": "code",
   "execution_count": null,
   "id": "f9267789",
   "metadata": {},
   "outputs": [],
   "source": [
    "m3 ./ m4"
   ]
  },
  {
   "cell_type": "markdown",
   "id": "b669645d",
   "metadata": {},
   "source": [
    "Concatenate `m3` and `m4` vertically."
   ]
  },
  {
   "cell_type": "code",
   "execution_count": null,
   "id": "e6009221",
   "metadata": {
    "scrolled": true
   },
   "outputs": [],
   "source": [
    "vcat(m3, m4)"
   ]
  },
  {
   "cell_type": "markdown",
   "id": "28b2978d",
   "metadata": {},
   "source": [
    "## Defining functions\n",
    "Beside the built-in functions we used so far, we can also import external packages:"
   ]
  },
  {
   "cell_type": "code",
   "execution_count": null,
   "id": "2534bc13",
   "metadata": {},
   "outputs": [],
   "source": [
    "using Statistics"
   ]
  },
  {
   "cell_type": "code",
   "execution_count": null,
   "id": "93bdaf6e",
   "metadata": {},
   "outputs": [],
   "source": [
    "mean(v1)"
   ]
  },
  {
   "cell_type": "code",
   "execution_count": null,
   "id": "216fad52",
   "metadata": {},
   "outputs": [],
   "source": [
    "v2 = [9, -8, 2]\n",
    "cor(v1, v2)"
   ]
  },
  {
   "cell_type": "markdown",
   "id": "05d08585",
   "metadata": {},
   "source": [
    "When there are no available functions in **Julia** that do the tasks we want, we can define our own functions, like the example shown below:"
   ]
  },
  {
   "cell_type": "code",
   "execution_count": null,
   "id": "06292177",
   "metadata": {},
   "outputs": [],
   "source": [
    "function my_func0(x)\n",
    "    x + 1\n",
    "end"
   ]
  },
  {
   "cell_type": "markdown",
   "id": "16f04800",
   "metadata": {},
   "source": [
    "This newly-defined function is called `my_func0`, which takes a number as input, adds 1, and returns it. For example,"
   ]
  },
  {
   "cell_type": "code",
   "execution_count": null,
   "id": "52a8dd66",
   "metadata": {},
   "outputs": [],
   "source": [
    "my_func0(5)"
   ]
  },
  {
   "cell_type": "markdown",
   "id": "5e6ae1d5",
   "metadata": {},
   "source": [
    "Self-defined functions can be broadcasted as well:"
   ]
  },
  {
   "cell_type": "code",
   "execution_count": null,
   "id": "437f07db",
   "metadata": {},
   "outputs": [],
   "source": [
    "my_func0.(v1)"
   ]
  },
  {
   "cell_type": "code",
   "execution_count": null,
   "id": "5d98a77f",
   "metadata": {},
   "outputs": [],
   "source": [
    "my_func0.(m1)"
   ]
  },
  {
   "cell_type": "markdown",
   "id": "174c1476",
   "metadata": {},
   "source": [
    "We can make this function more complicated by building in some **if** statements."
   ]
  },
  {
   "cell_type": "code",
   "execution_count": null,
   "id": "60de3fbb",
   "metadata": {},
   "outputs": [],
   "source": [
    "function my_func1(x)\n",
    "    if x < 0\n",
    "        x + 1\n",
    "    else\n",
    "        x - 10\n",
    "    end\n",
    "end"
   ]
  },
  {
   "cell_type": "markdown",
   "id": "a4cf317d",
   "metadata": {},
   "source": [
    "This function first evalutes whether the input number is smaller than 0. If so, it adds 1 to the input; otherwise it substracts 10 from it."
   ]
  },
  {
   "cell_type": "code",
   "execution_count": null,
   "id": "259eea91",
   "metadata": {},
   "outputs": [],
   "source": [
    "my_func1.(v1)"
   ]
  },
  {
   "cell_type": "markdown",
   "id": "1128a666",
   "metadata": {},
   "source": [
    "### Exercises\n",
    "\n",
    "#### Exercise 20\n",
    "\n",
    "How to fix the following error?\n",
    "```\n",
    "julia> Plots.plot(v)\n",
    "UndefVarError: `Plots` not defined\n",
    "\n",
    "Stacktrace:\n",
    " [1] top-level scope\n",
    "   @ In[57]:1\n",
    "```"
   ]
  },
  {
   "cell_type": "markdown",
   "id": "67cb5714",
   "metadata": {},
   "source": [
    "The `Plots` package needs to be loaded first."
   ]
  },
  {
   "cell_type": "code",
   "execution_count": null,
   "id": "e370e6c8",
   "metadata": {},
   "outputs": [],
   "source": [
    "# This will only work if you have done all exercises in Section 2.1, otherwise install Plots first:\n",
    "# using Pkg\n",
    "# Pkg.add(\"Plots\")\n",
    "using Plots"
   ]
  },
  {
   "cell_type": "code",
   "execution_count": null,
   "id": "8a3dabea",
   "metadata": {
    "scrolled": true
   },
   "outputs": [],
   "source": [
    "Plots.plot(v)"
   ]
  },
  {
   "cell_type": "markdown",
   "id": "3d2aaa82",
   "metadata": {},
   "source": [
    "#### Exercise 21\n",
    "\n",
    "How to fix the following error?\n",
    "```\n",
    "julia> using RCall\n",
    "\n",
    "ArgumentError: Package RCall not found in current path.\n",
    "- Run `import Pkg; Pkg.add(\"RCall\")` to install the RCall package.\n",
    "\n",
    "Stacktrace:\n",
    " [1] macro expansion\n",
    "   @ ./loading.jl:1630 [inlined]\n",
    " [2] macro expansion\n",
    "   @ ./lock.jl:267 [inlined]\n",
    " [3] require(into::Module, mod::Symbol)\n",
    "   @ Base ./loading.jl:1611\n",
    "```"
   ]
  },
  {
   "cell_type": "markdown",
   "id": "dd725c50",
   "metadata": {},
   "source": [
    "The `RCall` package needs to be installed first."
   ]
  },
  {
   "cell_type": "code",
   "execution_count": null,
   "id": "f22b7272",
   "metadata": {
    "scrolled": true
   },
   "outputs": [],
   "source": [
    "import Pkg; Pkg.add(\"RCall\")\n",
    "using RCall"
   ]
  },
  {
   "cell_type": "markdown",
   "id": "25bb6658",
   "metadata": {},
   "source": [
    "#### Exercise 22\n",
    "\n",
    "Write a function which takes a list as input, loops through the list and prints for each value if it's even or odd"
   ]
  },
  {
   "cell_type": "code",
   "execution_count": null,
   "id": "329cba65",
   "metadata": {},
   "outputs": [],
   "source": [
    "function print_even_odd(li)\n",
    "    for l in li\n",
    "        if iseven(l)\n",
    "            println(\"even\")\n",
    "        else\n",
    "            println(\"odd\")\n",
    "        end\n",
    "    end\n",
    "end"
   ]
  },
  {
   "cell_type": "code",
   "execution_count": null,
   "id": "61792b8f",
   "metadata": {
    "scrolled": true
   },
   "outputs": [],
   "source": [
    "print_even_odd(collect(5:10))"
   ]
  },
  {
   "cell_type": "markdown",
   "id": "9416587f",
   "metadata": {},
   "source": [
    "#### Exercise 23\n",
    "\n",
    "Write a function that takes two strings s1 and s2 and an integer x. It concatenates s2 to s1 while s1 is shorter than x."
   ]
  },
  {
   "cell_type": "code",
   "execution_count": null,
   "id": "0f99ca3e",
   "metadata": {},
   "outputs": [],
   "source": [
    "function paste_while(s1, s2, x)\n",
    "    while length(s1) < x\n",
    "        s1 = string(s1, s2)\n",
    "    end\n",
    "    return s1\n",
    "end"
   ]
  },
  {
   "cell_type": "code",
   "execution_count": null,
   "id": "c8945a2b",
   "metadata": {},
   "outputs": [],
   "source": [
    "paste_while(\"ab\", \"c\", 10)"
   ]
  },
  {
   "cell_type": "markdown",
   "id": "7a8524e8",
   "metadata": {},
   "source": [
    "## Dataframes\n",
    "To work with dataframes in **Julia**, usually we need the `DataFrames` package. After installing it, we need to make it available to the working space as follows:"
   ]
  },
  {
   "cell_type": "code",
   "execution_count": null,
   "id": "1d9e9396",
   "metadata": {
    "scrolled": true
   },
   "outputs": [],
   "source": [
    "using DataFrames"
   ]
  },
  {
   "cell_type": "markdown",
   "id": "f2ff6e96",
   "metadata": {},
   "source": [
    "Next, let's define a dataframe object:"
   ]
  },
  {
   "cell_type": "code",
   "execution_count": null,
   "id": "bb232a61",
   "metadata": {},
   "outputs": [],
   "source": [
    "dat = DataFrame(A=0:3, B=5:8, C=[\"ab\",\"bcd\",\"def\",\"fg\"])"
   ]
  },
  {
   "cell_type": "markdown",
   "id": "8ac1edfe",
   "metadata": {},
   "source": [
    "To display the dataframe, we can use the `display` function."
   ]
  },
  {
   "cell_type": "code",
   "execution_count": null,
   "id": "a5fbbec4",
   "metadata": {},
   "outputs": [],
   "source": [
    "display(dat)"
   ]
  },
  {
   "cell_type": "markdown",
   "id": "89d99209",
   "metadata": {},
   "source": [
    "The `first` and `last` functions show the very top and bottom row of the dataframe respectively:"
   ]
  },
  {
   "cell_type": "code",
   "execution_count": null,
   "id": "7d44120b",
   "metadata": {},
   "outputs": [],
   "source": [
    "first(dat)"
   ]
  },
  {
   "cell_type": "code",
   "execution_count": null,
   "id": "426e0eea",
   "metadata": {},
   "outputs": [],
   "source": [
    "last(dat)"
   ]
  },
  {
   "cell_type": "markdown",
   "id": "f12533d7",
   "metadata": {},
   "source": [
    "The indexing system for dataframes is the same as the one for matrices."
   ]
  },
  {
   "cell_type": "code",
   "execution_count": null,
   "id": "eea41e7d",
   "metadata": {},
   "outputs": [],
   "source": [
    "dat[2,3]"
   ]
  },
  {
   "cell_type": "code",
   "execution_count": null,
   "id": "01d37d1c",
   "metadata": {},
   "outputs": [],
   "source": [
    "dat[:,1]"
   ]
  },
  {
   "cell_type": "markdown",
   "id": "64111724",
   "metadata": {},
   "source": [
    "To access the entire column, in addition to do indexing, we can also specify the column names:"
   ]
  },
  {
   "cell_type": "code",
   "execution_count": null,
   "id": "0f6d614f",
   "metadata": {},
   "outputs": [],
   "source": [
    "dat.A"
   ]
  },
  {
   "cell_type": "code",
   "execution_count": null,
   "id": "bfb3a726",
   "metadata": {},
   "outputs": [],
   "source": [
    "dat[:,\"A\"]"
   ]
  },
  {
   "cell_type": "code",
   "execution_count": null,
   "id": "fd44e571",
   "metadata": {},
   "outputs": [],
   "source": [
    "dat[:,:A]"
   ]
  },
  {
   "cell_type": "markdown",
   "id": "db7beae3",
   "metadata": {},
   "source": [
    "All of them do the same thing."
   ]
  },
  {
   "cell_type": "markdown",
   "id": "bf713027",
   "metadata": {},
   "source": [
    "To add a new column to the current dataframe, we can do:"
   ]
  },
  {
   "cell_type": "code",
   "execution_count": null,
   "id": "7b7bf3d0",
   "metadata": {},
   "outputs": [],
   "source": [
    "dat[!, \"D\"] = length.(dat.C);"
   ]
  },
  {
   "cell_type": "markdown",
   "id": "f178245d",
   "metadata": {},
   "source": [
    "This means that we want a new column called \"D\" in our dataframe, and for the values in this column, calculate the length of the respective string in the column \"C\". Now the new dataframe looks like:"
   ]
  },
  {
   "cell_type": "code",
   "execution_count": null,
   "id": "2f8dc149",
   "metadata": {},
   "outputs": [],
   "source": [
    "dat"
   ]
  },
  {
   "cell_type": "markdown",
   "id": "1f487c56",
   "metadata": {},
   "source": [
    "To subset the dataset by row, we can specify the condition in the row-indexing position:"
   ]
  },
  {
   "cell_type": "code",
   "execution_count": null,
   "id": "0a7483e7",
   "metadata": {
    "scrolled": true
   },
   "outputs": [],
   "source": [
    "dat[dat.B .> 7, :]"
   ]
  },
  {
   "cell_type": "markdown",
   "id": "d81dd81b",
   "metadata": {},
   "source": [
    "### Exercises"
   ]
  },
  {
   "cell_type": "markdown",
   "id": "ec7dc966",
   "metadata": {},
   "source": [
    "#### Exercise 24\n",
    "\n",
    "Second column by name..."
   ]
  },
  {
   "cell_type": "code",
   "execution_count": null,
   "id": "f16cacc4",
   "metadata": {
    "scrolled": true
   },
   "outputs": [],
   "source": [
    "dat.B"
   ]
  },
  {
   "cell_type": "markdown",
   "id": "84a142a2",
   "metadata": {},
   "source": [
    "...and by index."
   ]
  },
  {
   "cell_type": "code",
   "execution_count": null,
   "id": "d781916d",
   "metadata": {},
   "outputs": [],
   "source": [
    "dat[:, 2]"
   ]
  },
  {
   "cell_type": "markdown",
   "id": "49bb734a",
   "metadata": {},
   "source": [
    "#### Exercise 25\n",
    "\n",
    "Column E is the rowwise sum of the values in A and B"
   ]
  },
  {
   "cell_type": "code",
   "execution_count": null,
   "id": "4ec3e303",
   "metadata": {
    "scrolled": true
   },
   "outputs": [],
   "source": [
    "dat[!,\"E\"] = dat.A .+ dat.B"
   ]
  },
  {
   "cell_type": "markdown",
   "id": "a87ff1cd",
   "metadata": {},
   "source": [
    "#### Exercise 26\n",
    "\n",
    "All rows where E is bigger than 2 and smaller than 6."
   ]
  },
  {
   "cell_type": "code",
   "execution_count": null,
   "id": "4d28f3a6",
   "metadata": {},
   "outputs": [],
   "source": [
    "dat[2 .< dat.E .< 6, :]\n",
    "# alternatively\n",
    "dat[(dat.E .> 2) .& (dat.E .< 6), :]"
   ]
  },
  {
   "cell_type": "markdown",
   "id": "85ec76f8",
   "metadata": {},
   "source": [
    "## The `RCall` package\n",
    "A handy package called `RCall` makes it possible to run **R** in the **Julia** environment."
   ]
  },
  {
   "cell_type": "code",
   "execution_count": null,
   "id": "aa291820",
   "metadata": {
    "scrolled": true
   },
   "outputs": [],
   "source": [
    "Pkg.add(\"RCall\")"
   ]
  },
  {
   "cell_type": "code",
   "execution_count": null,
   "id": "ac8e4e09",
   "metadata": {
    "scrolled": true
   },
   "outputs": [],
   "source": [
    "using RCall"
   ]
  },
  {
   "cell_type": "markdown",
   "id": "3980a18d",
   "metadata": {},
   "source": [
    "In the Julia REPL, to enter the **R** environment, we type the dollar sign. We then see `R>`, meaning that you're now in the R environment. In jupyter notebook, we have do the following:"
   ]
  },
  {
   "cell_type": "code",
   "execution_count": null,
   "id": "0936d86f",
   "metadata": {},
   "outputs": [],
   "source": [
    "R\"\"\"\n",
    "1 + 1\n",
    "\"\"\""
   ]
  },
  {
   "cell_type": "markdown",
   "id": "3cdb1055",
   "metadata": {},
   "source": [
    "Now we can export data from Julia to R by doing:"
   ]
  },
  {
   "cell_type": "code",
   "execution_count": null,
   "id": "158b4bd4",
   "metadata": {},
   "outputs": [],
   "source": [
    "@rput dat;"
   ]
  },
  {
   "cell_type": "code",
   "execution_count": null,
   "id": "f4053d52",
   "metadata": {},
   "outputs": [],
   "source": [
    "R\"\"\"\n",
    "head(dat)\n",
    "\"\"\""
   ]
  },
  {
   "cell_type": "markdown",
   "id": "96d50957",
   "metadata": {},
   "source": [
    "To import objects from R to Julia, we use `@rget`."
   ]
  },
  {
   "cell_type": "code",
   "execution_count": null,
   "id": "9bdbc4ad",
   "metadata": {},
   "outputs": [],
   "source": [
    "R\"\"\"\n",
    "mat = matrix(1:4, 2, 2)\n",
    "\"\"\""
   ]
  },
  {
   "cell_type": "code",
   "execution_count": null,
   "id": "3cd4b536",
   "metadata": {},
   "outputs": [],
   "source": [
    "@rget mat"
   ]
  },
  {
   "cell_type": "markdown",
   "id": "b206e3b4",
   "metadata": {},
   "source": [
    "### Exercises"
   ]
  },
  {
   "cell_type": "markdown",
   "id": "00ea3551",
   "metadata": {},
   "source": [
    "#### Exercise 27\n",
    "\n",
    "Create two random vectors."
   ]
  },
  {
   "cell_type": "code",
   "execution_count": null,
   "id": "44670dfa",
   "metadata": {
    "scrolled": true
   },
   "outputs": [],
   "source": [
    "x = rand(100)\n",
    "y = rand(100)"
   ]
  },
  {
   "cell_type": "markdown",
   "id": "85b8e02a",
   "metadata": {},
   "source": [
    "Move them to R"
   ]
  },
  {
   "cell_type": "code",
   "execution_count": null,
   "id": "10afbf02",
   "metadata": {},
   "outputs": [],
   "source": [
    "@rput x\n",
    "@rput y;"
   ]
  },
  {
   "cell_type": "markdown",
   "id": "9cf615e0",
   "metadata": {},
   "source": [
    "Compute the Pearson correlation between the two."
   ]
  },
  {
   "cell_type": "code",
   "execution_count": null,
   "id": "c38ab2ae",
   "metadata": {},
   "outputs": [],
   "source": [
    "R\"\"\"\n",
    "cor.test(x,y)\n",
    "\"\"\""
   ]
  },
  {
   "cell_type": "markdown",
   "id": "d2e09183",
   "metadata": {},
   "source": [
    "#### Exercise 28\n",
    "\n",
    "Create a scatter plot."
   ]
  },
  {
   "cell_type": "code",
   "execution_count": null,
   "id": "dc1d0432",
   "metadata": {
    "scrolled": true
   },
   "outputs": [],
   "source": [
    "R\"\"\"\n",
    "plot(x,y)\n",
    "\"\"\""
   ]
  },
  {
   "cell_type": "markdown",
   "id": "f7c1972b",
   "metadata": {},
   "source": [
    "## PyCall"
   ]
  },
  {
   "cell_type": "markdown",
   "id": "8fbdf12b",
   "metadata": {},
   "source": [
    "Install and load the PyCall package:"
   ]
  },
  {
   "cell_type": "code",
   "execution_count": null,
   "id": "8f660b38",
   "metadata": {},
   "outputs": [],
   "source": [
    "Pkg.add(\"PyCall\")"
   ]
  },
  {
   "cell_type": "code",
   "execution_count": null,
   "id": "34fb2a13",
   "metadata": {},
   "outputs": [],
   "source": [
    "using PyCall"
   ]
  },
  {
   "cell_type": "markdown",
   "id": "078001ab",
   "metadata": {},
   "source": [
    "Print 1+1 in python:"
   ]
  },
  {
   "cell_type": "code",
   "execution_count": null,
   "id": "0c3144e9",
   "metadata": {
    "scrolled": true
   },
   "outputs": [],
   "source": [
    "py\"\"\"\n",
    "print(1+1)\n",
    "\"\"\""
   ]
  },
  {
   "cell_type": "markdown",
   "id": "40898b17",
   "metadata": {},
   "source": [
    "Import and use a package in python:"
   ]
  },
  {
   "cell_type": "code",
   "execution_count": null,
   "id": "cb9cd78c",
   "metadata": {},
   "outputs": [],
   "source": [
    "py\"\"\"\n",
    "import math\n",
    "\n",
    "x = math.sin(math.radians(90))\n",
    "\"\"\""
   ]
  },
  {
   "cell_type": "markdown",
   "id": "4db28b1d",
   "metadata": {},
   "source": [
    "Get a variable from python"
   ]
  },
  {
   "cell_type": "code",
   "execution_count": null,
   "id": "6c417540",
   "metadata": {
    "scrolled": true
   },
   "outputs": [],
   "source": [
    "x = py\"x\""
   ]
  },
  {
   "cell_type": "markdown",
   "id": "2c7b1879",
   "metadata": {},
   "source": [
    "Define a function in python:"
   ]
  },
  {
   "cell_type": "code",
   "execution_count": null,
   "id": "8256625c",
   "metadata": {},
   "outputs": [],
   "source": [
    "py\"\"\"\n",
    "def abs_add(x, y):\n",
    "    return abs(x) + abs(y)\n",
    "\"\"\""
   ]
  },
  {
   "cell_type": "markdown",
   "id": "1fd66a02",
   "metadata": {},
   "source": [
    "Use the function in Julia:"
   ]
  },
  {
   "cell_type": "code",
   "execution_count": null,
   "id": "7de79b96",
   "metadata": {
    "scrolled": true
   },
   "outputs": [],
   "source": [
    "py\"abs_add\"(-3,-4)"
   ]
  },
  {
   "cell_type": "markdown",
   "id": "56697169",
   "metadata": {},
   "source": [
    "Use a Julia variable in python"
   ]
  },
  {
   "cell_type": "code",
   "execution_count": null,
   "id": "e8cb0f07",
   "metadata": {},
   "outputs": [],
   "source": [
    "y = 2\n",
    "py\"\"\"\n",
    "print($y + 3)\n",
    "\"\"\""
   ]
  },
  {
   "cell_type": "markdown",
   "id": "85b17571",
   "metadata": {},
   "source": [
    "Import a python package directly in Julia:"
   ]
  },
  {
   "cell_type": "code",
   "execution_count": null,
   "id": "4665f281",
   "metadata": {},
   "outputs": [],
   "source": [
    "math = pyimport(\"math\")"
   ]
  },
  {
   "cell_type": "markdown",
   "id": "3b983b0d",
   "metadata": {},
   "source": [
    "Use it."
   ]
  },
  {
   "cell_type": "code",
   "execution_count": null,
   "id": "9bbb11b5",
   "metadata": {},
   "outputs": [],
   "source": [
    "math.sin(math.radians(90))"
   ]
  },
  {
   "cell_type": "markdown",
   "id": "5a038839",
   "metadata": {},
   "source": [
    "### Exercises\n",
    "\n",
    "#### Exercise 29"
   ]
  },
  {
   "cell_type": "markdown",
   "id": "9227622a",
   "metadata": {},
   "source": [
    "Sum 456 and 128 in Python and access from Julia."
   ]
  },
  {
   "cell_type": "code",
   "execution_count": null,
   "id": "a15457cf",
   "metadata": {
    "scrolled": true
   },
   "outputs": [],
   "source": [
    "py\"\"\"\n",
    "n = 456 + 128\n",
    "\"\"\"\n",
    "py\"n\""
   ]
  },
  {
   "cell_type": "markdown",
   "id": "32a30b52",
   "metadata": {},
   "source": [
    "#### Exercise 30\n",
    "\n",
    "Generate a random number `a` in Julia"
   ]
  },
  {
   "cell_type": "code",
   "execution_count": null,
   "id": "ec0abace",
   "metadata": {},
   "outputs": [],
   "source": [
    "a = rand()"
   ]
  },
  {
   "cell_type": "markdown",
   "id": "b4a673b2",
   "metadata": {},
   "source": [
    "Generate a random number in Python and add it to `a`"
   ]
  },
  {
   "cell_type": "code",
   "execution_count": null,
   "id": "7f73e27d",
   "metadata": {
    "scrolled": true
   },
   "outputs": [],
   "source": [
    "py\"\"\"\n",
    "import random\n",
    "\n",
    "b = random.random()\n",
    "\n",
    "print($a + b)\n",
    "\"\"\""
   ]
  }
 ],
 "metadata": {
  "kernelspec": {
   "display_name": "Julia 1.11.2",
   "language": "julia",
   "name": "julia-1.11"
  },
  "language_info": {
   "file_extension": ".jl",
   "mimetype": "application/julia",
   "name": "julia",
   "version": "1.11.2"
  },
  "toc": {
   "base_numbering": 1,
   "nav_menu": {},
   "number_sections": true,
   "sideBar": true,
   "skip_h1_title": false,
   "title_cell": "Table of Contents",
   "title_sidebar": "Contents",
   "toc_cell": false,
   "toc_position": {},
   "toc_section_display": true,
   "toc_window_display": false
  }
 },
 "nbformat": 4,
 "nbformat_minor": 5
}
