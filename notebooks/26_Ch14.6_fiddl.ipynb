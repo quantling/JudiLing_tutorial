{
 "cells": [
  {
   "cell_type": "markdown",
   "id": "7668f63e-c117-4d72-bcd4-14f9dc7e227d",
   "metadata": {},
   "source": [
    "# Chapter 14.6: Comparing EL, FIL, DDL and FIDDL"
   ]
  },
  {
   "cell_type": "markdown",
   "id": "4dace305-5c25-4080-a8c7-49851fd56557",
   "metadata": {},
   "source": [
    "## Preparation\n",
    "\n",
    "Load the necessary packages:"
   ]
  },
  {
   "cell_type": "code",
   "execution_count": null,
   "id": "6f325d29-4963-4bdb-9fc6-6262e7e1dc1b",
   "metadata": {},
   "outputs": [],
   "source": [
    "using Flux\n",
    "using JudiLing, DataFrames, JudiLingMeasures, RCall"
   ]
  },
  {
   "cell_type": "markdown",
   "id": "cfee44fb-f1b6-40d4-ada9-81d07a38ea95",
   "metadata": {},
   "source": [
    "Prepare the data (DLP data from Keuleers et al, 2010, can be found [here](https://osf.io/uw7t6/) if you haven't downloaded it previously)."
   ]
  },
  {
   "cell_type": "code",
   "execution_count": null,
   "id": "be330fea-8cf4-451a-acfb-7b6b1ede16ba",
   "metadata": {
    "scrolled": true
   },
   "outputs": [],
   "source": [
    "dlp_items = JudiLing.load_dataset(\"../dat/dlp-items.txt\", delim=\"\\t\", missingstring=\"NA\")\n",
    "dlp_stimuli = JudiLing.load_dataset(\"../dat/dlp-stimuli.txt\", delim=\"\\t\", missingstring=\"NA\")\n",
    "\n",
    "dlp = leftjoin(dlp_items, dlp_stimuli, on=:spelling)\n",
    "\n",
    "words = dlp[dlp.lexicality .== \"W\",:]\n",
    "\n",
    "# fill in NAs in celex frequency with zeros and make sure they are all integers\n",
    "words[ismissing.(words.\"celex.frequency\"),\"celex.frequency\"] .= 0\n",
    "words.\"celex.frequency\" = Int.(words.\"celex.frequency\")\n",
    "\n",
    "# scale down the frequencies to make sure this code runs in a reasonable time frame for demonstration purposes\n",
    "words.\"celex.frequency.scaled\" = Int.(ceil.(words.\"celex.frequency\"/100))"
   ]
  },
  {
   "cell_type": "markdown",
   "id": "1146e733-a677-4456-8fe8-48b575ed6734",
   "metadata": {},
   "source": [
    "Prepare C and S matrices:"
   ]
  },
  {
   "cell_type": "code",
   "execution_count": null,
   "id": "c139145f-93a9-4229-8353-5efd1232414a",
   "metadata": {
    "scrolled": true
   },
   "outputs": [],
   "source": [
    "words, S = JudiLing.load_S_matrix_from_fasttext(words, :nl, target_col=\"spelling\")"
   ]
  },
  {
   "cell_type": "code",
   "execution_count": null,
   "id": "c53ed7c0-b847-4af6-9dfb-0f02fc771e5b",
   "metadata": {},
   "outputs": [],
   "source": [
    "cue_obj = JudiLing.make_cue_matrix(words, target_col=\"spelling\", grams=3);"
   ]
  },
  {
   "cell_type": "markdown",
   "id": "f7d3a638-874d-41fe-a3aa-0a3760b23b16",
   "metadata": {},
   "source": [
    "## Compute the various mappings\n",
    "\n",
    "### Endstate of Learning (EL)"
   ]
  },
  {
   "cell_type": "code",
   "execution_count": null,
   "id": "142ffeaa-8777-4282-9f21-365f771b66e5",
   "metadata": {
    "scrolled": true
   },
   "outputs": [],
   "source": [
    "F = JudiLing.make_transform_matrix(cue_obj.C, S)\n",
    "Shat_el = cue_obj.C * F"
   ]
  },
  {
   "cell_type": "markdown",
   "id": "1dfd5c65-d610-4d62-a308-a8d9676f7897",
   "metadata": {},
   "source": [
    "Compute target correlation:"
   ]
  },
  {
   "cell_type": "code",
   "execution_count": null,
   "id": "28150858-e608-4138-b582-a2d4db643dc4",
   "metadata": {
    "scrolled": true
   },
   "outputs": [],
   "source": [
    "words[!, \"TargetCorrelationEL\"] = JudiLingMeasures.target_correlation(Shat_el, S) "
   ]
  },
  {
   "cell_type": "markdown",
   "id": "d51166cc-2956-42de-8ee9-b0f2be803a56",
   "metadata": {},
   "source": [
    "### Frequency-informed Learning (FIL)"
   ]
  },
  {
   "cell_type": "code",
   "execution_count": null,
   "id": "c32f610d-123b-452b-b575-568e327bb6b5",
   "metadata": {
    "scrolled": true
   },
   "outputs": [],
   "source": [
    "F_fil = JudiLing.make_transform_matrix(cue_obj.C, S, words.\"celex.frequency.scaled\")\n",
    "Shat_fil = cue_obj.C * F_fil"
   ]
  },
  {
   "cell_type": "code",
   "execution_count": null,
   "id": "911770f6-f4de-4dd0-8f86-f16ea20b2f8b",
   "metadata": {
    "scrolled": true
   },
   "outputs": [],
   "source": [
    "words[!, \"TargetCorrelationFIL\"] = JudiLingMeasures.target_correlation(Shat_fil, S) "
   ]
  },
  {
   "cell_type": "markdown",
   "id": "bf22934f-22f6-45fe-9c62-b583d0a67c55",
   "metadata": {},
   "source": [
    "### Deep Discriminative Learning (DDL)"
   ]
  },
  {
   "cell_type": "markdown",
   "id": "f591dca4-01e5-43fc-bb5e-802872de2162",
   "metadata": {},
   "source": [
    "Train a model using default parameters:"
   ]
  },
  {
   "cell_type": "code",
   "execution_count": null,
   "id": "7aaf069b-5629-417a-8db4-4070e0b24ec9",
   "metadata": {
    "scrolled": true
   },
   "outputs": [],
   "source": [
    "res = JudiLing.get_and_train_model(cue_obj.C, \n",
    "                    S,\n",
    "                    \"../res/dlp_ddl_model.bson\", \n",
    "                    batchsize=512)"
   ]
  },
  {
   "cell_type": "markdown",
   "id": "0e83152c-7c4e-4d4a-a777-f1f473ae72e4",
   "metadata": {},
   "source": [
    "Predict semantic matrix and compute target correlations:"
   ]
  },
  {
   "cell_type": "code",
   "execution_count": null,
   "id": "dd85bcf7-8c8b-46e6-8c0e-52b14fb50940",
   "metadata": {
    "scrolled": true
   },
   "outputs": [],
   "source": [
    "Shat_ddl = JudiLing.predict_from_deep_model(res.model, cue_obj.C)\n",
    "words[!, \"TargetCorrelationDDL\"] = JudiLingMeasures.target_correlation(Shat_ddl, S) "
   ]
  },
  {
   "cell_type": "markdown",
   "id": "36abcba4-1768-4a9f-ad1d-3f58160737cd",
   "metadata": {},
   "source": [
    "### Frequency-informed linear discriminative learning (FIDDL)"
   ]
  },
  {
   "cell_type": "code",
   "execution_count": null,
   "id": "556f9e7c-406c-4542-8752-29c5f2ff88ef",
   "metadata": {
    "scrolled": true
   },
   "outputs": [],
   "source": [
    "# generate a learning sequence based on words' frequencies:\n",
    "learn_seq = JudiLing.make_learn_seq(words.\"celex.frequency.scaled\", random_seed=0422)"
   ]
  },
  {
   "cell_type": "markdown",
   "id": "6b6d2918-8039-48bd-bfe7-3fc2cbe6ec29",
   "metadata": {},
   "source": [
    "Run the `fiddl` function:"
   ]
  },
  {
   "cell_type": "code",
   "execution_count": null,
   "id": "aa63f2f2-19e3-4087-80b4-da377a62f9dd",
   "metadata": {
    "scrolled": true
   },
   "outputs": [],
   "source": [
    "res = JudiLing.fiddl(cue_obj.C, \n",
    "                    S, \n",
    "                    learn_seq, \n",
    "                    words, \n",
    "                    \"spelling\", \n",
    "                    \"../res/dlp_fiddl_model.bson\", \n",
    "                    batchsize=512, \n",
    "                    n_batch_eval=1000)"
   ]
  },
  {
   "cell_type": "markdown",
   "id": "1e3a97c0-f6a3-4527-8df2-1ce8576452fe",
   "metadata": {},
   "source": [
    "Predict semantic matrix and compute target correlations:"
   ]
  },
  {
   "cell_type": "code",
   "execution_count": null,
   "id": "b9cf9a75-18af-4b23-8acb-426379d8754f",
   "metadata": {
    "scrolled": true
   },
   "outputs": [],
   "source": [
    "Shat_fiddl = JudiLing.predict_from_deep_model(res.model, cue_obj.C)"
   ]
  },
  {
   "cell_type": "code",
   "execution_count": null,
   "id": "21e3de1f-2e3f-49e8-907b-df65858b1653",
   "metadata": {
    "scrolled": true
   },
   "outputs": [],
   "source": [
    "words[!, \"TargetCorrelationFIDDL\"] = JudiLingMeasures.target_correlation(Shat_fiddl, S) "
   ]
  },
  {
   "cell_type": "markdown",
   "id": "a6fc1a56-4e78-4346-b957-e4731570df8a",
   "metadata": {},
   "source": [
    "## Statistical analysis"
   ]
  },
  {
   "cell_type": "markdown",
   "id": "96011c96-6361-4731-8eed-06a90ed89299",
   "metadata": {},
   "source": [
    "Move to R and run GAMs with target correlation from the three models respectively:"
   ]
  },
  {
   "cell_type": "code",
   "execution_count": null,
   "id": "440cd3c6-ece1-476f-a2af-88aefa695f04",
   "metadata": {},
   "outputs": [],
   "source": [
    "@rput words;"
   ]
  },
  {
   "cell_type": "code",
   "execution_count": null,
   "id": "9a3342ce-75ae-4afa-b31c-8b947febdf30",
   "metadata": {
    "scrolled": true
   },
   "outputs": [],
   "source": [
    "R\"\"\"\n",
    "library(mgcv)\n",
    "library(itsadug)\n",
    "\n",
    "words$RTinv = -1000/words$rt\n",
    "\n",
    "\"\"\";"
   ]
  },
  {
   "cell_type": "code",
   "execution_count": null,
   "id": "6a9ab0da-38af-4964-af16-bb95aeb9422e",
   "metadata": {},
   "outputs": [],
   "source": [
    "R\"\"\"\n",
    "gm_el = gam(RTinv ~ s(TargetCorrelationEL), data=words)\n",
    "\n",
    "print(AIC(gm_el))\n",
    "summary(gm_el)\n",
    "\"\"\""
   ]
  },
  {
   "cell_type": "code",
   "execution_count": null,
   "id": "25803f85-745f-43cb-965b-8d6ed0f18f39",
   "metadata": {
    "scrolled": true
   },
   "outputs": [],
   "source": [
    "R\"\"\"\n",
    "gm_fil = gam(RTinv ~ s(TargetCorrelationFIL), data=words)\n",
    "\n",
    "print(AIC(gm_fil))\n",
    "summary(gm_fil)\n",
    "\"\"\""
   ]
  },
  {
   "cell_type": "code",
   "execution_count": null,
   "id": "5c13aff9-02da-482c-a3c1-b2ee5d7ccc43",
   "metadata": {},
   "outputs": [],
   "source": [
    "R\"\"\"\n",
    "gm_ddl = gam(RTinv ~ s(TargetCorrelationDDL), data=words)\n",
    "\n",
    "print(AIC(gm_ddl))\n",
    "summary(gm_ddl)\n",
    "\"\"\""
   ]
  },
  {
   "cell_type": "code",
   "execution_count": null,
   "id": "c000c85d-8c7e-488f-addf-e474f9ab0e6c",
   "metadata": {
    "scrolled": true
   },
   "outputs": [],
   "source": [
    "R\"\"\"\n",
    "gm_fiddl = gam(RTinv ~ s(TargetCorrelationFIDDL), data=words)\n",
    "\n",
    "print(AIC(gm_fiddl))\n",
    "summary(gm_fiddl)\n",
    "\"\"\""
   ]
  },
  {
   "cell_type": "markdown",
   "id": "7459ef4e-457f-4f81-a646-e6837bd7b56e",
   "metadata": {},
   "source": [
    "The model with FIDDL ends up with the lowest AIC."
   ]
  },
  {
   "cell_type": "markdown",
   "id": "35dde8b6-1b0d-4a2b-ad76-62e882e8faf9",
   "metadata": {},
   "source": [
    "## Development of AICs over time"
   ]
  },
  {
   "cell_type": "markdown",
   "id": "73be26d4-d628-49ea-b55b-9f95ffd4836e",
   "metadata": {},
   "source": [
    "Define a function for computing target correlations:"
   ]
  },
  {
   "cell_type": "code",
   "execution_count": null,
   "id": "81d2d356-de22-4660-8121-c8aa73aac0bf",
   "metadata": {},
   "outputs": [],
   "source": [
    "function compute_target_corr(X_train, Y_train, X_val, Y_val,\n",
    "                                    Yhat_train, Yhat_val, data_train,\n",
    "                                    data_val, target_col, model, epoch)\n",
    "    data_train[!, string(\"target_corr_\", epoch)] = JudiLingMeasures.target_correlation(Yhat_train, Y_train)\n",
    "    return(data_train, data_val)\n",
    "end"
   ]
  },
  {
   "cell_type": "markdown",
   "id": "5c71bbe7-2f96-4589-8f3b-c763ca7735fb",
   "metadata": {},
   "source": [
    "Train a model while computing target correlations after each epoch:"
   ]
  },
  {
   "cell_type": "code",
   "execution_count": null,
   "id": "3047fd5e-676e-4fe8-8432-dfa7a923b69b",
   "metadata": {
    "scrolled": true
   },
   "outputs": [],
   "source": [
    "res_ddl_eval = JudiLing.get_and_train_model(cue_obj.C, \n",
    "                    S,\n",
    "                    \"../res/dlp_ddl_model2.bson\",\n",
    "                    data_train=words, \n",
    "                    target_col=\"spelling\", \n",
    "                    batchsize=512,\n",
    "                    measures_func = compute_target_corr,\n",
    "                    return_train_acc=true) # set return_train_acc to true so that we can inspect training accuracies"
   ]
  },
  {
   "cell_type": "markdown",
   "id": "b23769cf-17bf-4210-9d10-49c2492fa79b",
   "metadata": {},
   "source": [
    "Inspect a few of the new columns in the training data:"
   ]
  },
  {
   "cell_type": "code",
   "execution_count": null,
   "id": "2024f8db-81cb-4f5e-af76-4e79ac30a590",
   "metadata": {
    "scrolled": true
   },
   "outputs": [],
   "source": [
    "res_ddl_eval.data_train[1:5, [:spelling, :target_corr_1, :target_corr_50, :target_corr_100]]"
   ]
  },
  {
   "cell_type": "markdown",
   "id": "2a43bd95-3dcc-4075-97a4-726f8d3c1739",
   "metadata": {},
   "source": [
    "Move the dataframe to R:"
   ]
  },
  {
   "cell_type": "code",
   "execution_count": null,
   "id": "4b397ee4-752c-4795-8e84-da35983cc581",
   "metadata": {
    "scrolled": true
   },
   "outputs": [],
   "source": [
    "ddl_data = res_ddl_eval.data_train\n",
    "@rput ddl_data"
   ]
  },
  {
   "cell_type": "markdown",
   "id": "c4e7d5db-9a6c-4250-bede-c6d49b4b5e39",
   "metadata": {},
   "source": [
    "Compute AICs for the target correlations across epochs:"
   ]
  },
  {
   "cell_type": "code",
   "execution_count": null,
   "id": "4dd23510-576e-4a7c-aaca-15c303497def",
   "metadata": {},
   "outputs": [],
   "source": [
    "R\"\"\"\n",
    "ddl_data$RTinv = -1000/ddl_data$rt\n",
    "\n",
    "aics = c()\n",
    "for (i in 1:100){\n",
    "\n",
    "    f = formula(paste0(\"RTinv ~ s(target_corr_\", i, \")\"))\n",
    "    gm = gam(f, data=ddl_data)\n",
    "    aics = c(aics, AIC(gm))\n",
    "}\n",
    "\"\"\""
   ]
  },
  {
   "cell_type": "markdown",
   "id": "6b1aa9e4-fd7c-4f5f-b5b5-d854dcc7c3eb",
   "metadata": {},
   "source": [
    "Plot AICs and accuracies:"
   ]
  },
  {
   "cell_type": "code",
   "execution_count": null,
   "id": "11b8b941-5849-4875-ab99-f0751e67d681",
   "metadata": {},
   "outputs": [],
   "source": [
    "@rget aics;"
   ]
  },
  {
   "cell_type": "code",
   "execution_count": null,
   "id": "642faec4-8541-4d4b-b0b5-07d011fc42c0",
   "metadata": {},
   "outputs": [],
   "source": [
    "using Plots\n",
    "default(fmt=:jpg)"
   ]
  },
  {
   "cell_type": "code",
   "execution_count": null,
   "id": "cf295535-1ed8-4cf0-a20f-e5ce43f6cf8c",
   "metadata": {
    "scrolled": true
   },
   "outputs": [],
   "source": [
    "scatter(aics, label=false, xlab=\"epoch\", ylab=\"AIC\", size=(400,300))"
   ]
  },
  {
   "cell_type": "code",
   "execution_count": null,
   "id": "f9ab9401-62eb-4708-859f-aff8698843c7",
   "metadata": {},
   "outputs": [],
   "source": [
    "savefig(\"../fig/ddl_aic_dev.pdf\")"
   ]
  },
  {
   "cell_type": "code",
   "execution_count": null,
   "id": "77b42ad5-5fef-4f7c-9643-6d4382d6127c",
   "metadata": {},
   "outputs": [],
   "source": [
    "scatter(res_ddl_eval.accs_train, label=false, xlab=\"epoch\", ylab=\"Correlation accuracy\", size=(400,300))"
   ]
  },
  {
   "cell_type": "code",
   "execution_count": null,
   "id": "a663db95-904d-4339-9184-79293e53858d",
   "metadata": {
    "scrolled": true
   },
   "outputs": [],
   "source": [
    "savefig(\"../fig/ddl_acc_dev.pdf\")"
   ]
  },
  {
   "cell_type": "markdown",
   "id": "8d95ca2e-499f-446c-9b35-4012a902fc50",
   "metadata": {},
   "source": [
    "## Exercises"
   ]
  },
  {
   "cell_type": "markdown",
   "id": "d5231cb1-ab9c-4e42-bf8e-5476379251c5",
   "metadata": {},
   "source": [
    "### Exercise 1\n",
    "\n",
    "Comparing incremental learning to the other models:\n",
    "\n",
    "Train a linear model with incremental learning, re-using the learning sequence generated for FIDDL. We leave the learning rate at its default value."
   ]
  },
  {
   "cell_type": "code",
   "execution_count": null,
   "id": "8f4f693d-ef08-40bc-abb4-2167247570df",
   "metadata": {
    "scrolled": true
   },
   "outputs": [],
   "source": [
    "F_whl = JudiLing.wh_learn(cue_obj.C, S, learn_seq=learn_seq, n_epochs=1, verbose=true)"
   ]
  },
  {
   "cell_type": "markdown",
   "id": "c1924551-c415-491a-b9bf-07004c477b1e",
   "metadata": {},
   "source": [
    "Predict semantic matrix and compute target correlations."
   ]
  },
  {
   "cell_type": "code",
   "execution_count": null,
   "id": "5880de1f-448a-464c-89a4-abd803c5740c",
   "metadata": {
    "scrolled": true
   },
   "outputs": [],
   "source": [
    "Shat_whl = cue_obj.C * F_whl"
   ]
  },
  {
   "cell_type": "code",
   "execution_count": null,
   "id": "6e630196-c440-4d7e-a00c-3e8c39b88472",
   "metadata": {
    "scrolled": true
   },
   "outputs": [],
   "source": [
    "words[!, \"TargetCorrelationWHL\"] = JudiLingMeasures.target_correlation(Shat_whl, S) "
   ]
  },
  {
   "cell_type": "markdown",
   "id": "d7839b18-c1e0-4b0d-a46c-93900f050314",
   "metadata": {},
   "source": [
    "Move to R and compute AIC:"
   ]
  },
  {
   "cell_type": "code",
   "execution_count": null,
   "id": "36e9bd25-b826-43ea-a99f-c6d7d91ba2db",
   "metadata": {
    "scrolled": true
   },
   "outputs": [],
   "source": [
    "@rput words;\n",
    "R\"\"\"\n",
    "words$RTinv = -1000/words$rt\n",
    "\n",
    "gm_whl = gam(RTinv ~ s(TargetCorrelationWHL), data=words)\n",
    "\n",
    "print(AIC(gm_whl))\n",
    "summary(gm_whl)\n",
    "\"\"\""
   ]
  },
  {
   "cell_type": "markdown",
   "id": "7392ea1c-8bfd-4f12-8fa4-890ba63a0fac",
   "metadata": {},
   "source": [
    "The AIC is lower than with EL and higher than FIDDL. Surprisingly, it is also lower than with FIL. Why could this be the case?\n",
    "\n",
    "Let's first inspect the accuracies of the two models:"
   ]
  },
  {
   "cell_type": "code",
   "execution_count": null,
   "id": "65ebadb5-9011-4b6c-9d2d-c3985d560972",
   "metadata": {},
   "outputs": [],
   "source": [
    "JudiLing.eval_SC(Shat_whl, S)"
   ]
  },
  {
   "cell_type": "code",
   "execution_count": null,
   "id": "d8df43d4-45fa-4d5a-8018-d4584cc9797c",
   "metadata": {},
   "outputs": [],
   "source": [
    "JudiLing.eval_SC(Shat_fil, S)"
   ]
  },
  {
   "cell_type": "markdown",
   "id": "02d99119-f880-4458-b7ab-ccc37fe883c4",
   "metadata": {},
   "source": [
    "WHL shows higher accuracy than FIL. How do the target correlations computed by the two models compare to each other?"
   ]
  },
  {
   "cell_type": "code",
   "execution_count": null,
   "id": "695a9704-0be2-49bf-a835-b74e5fa6f158",
   "metadata": {},
   "outputs": [],
   "source": [
    "scatter(words.TargetCorrelationFIL, words.TargetCorrelationWHL, xlab=\"Target correlation FIL\", ylab=\"Target correlation WHL\",\n",
    "label=false)\n",
    "plot!([0,1], [0,1], linewidth=2, label=\"x=y\")"
   ]
  },
  {
   "cell_type": "markdown",
   "id": "20f49c93-1848-42eb-866e-d29125209942",
   "metadata": {},
   "source": [
    "Comparison to the x=y line shows that FIL overestimates target correlations for lower values of target correlations in WHL and underestimates them for higher values in WHL. Let's now inspect the effects the two target correlations have on reaction times:"
   ]
  },
  {
   "cell_type": "code",
   "execution_count": null,
   "id": "7fc27e89-7085-444a-ae74-12527d0084b3",
   "metadata": {},
   "outputs": [],
   "source": [
    "R\"\"\"\n",
    "plot(gm_fil)\n",
    "\"\"\";"
   ]
  },
  {
   "cell_type": "code",
   "execution_count": null,
   "id": "9d4ea98b-b0e0-4776-bbeb-4a4af115ef4a",
   "metadata": {},
   "outputs": [],
   "source": [
    "R\"\"\"\n",
    "plot(gm_whl)\n",
    "\"\"\";"
   ]
  },
  {
   "cell_type": "markdown",
   "id": "06661c72-de8f-46ba-a32d-303330241da6",
   "metadata": {},
   "source": [
    "This suggests that the overestimates for target correlation for lower values in FIL may lead to less predictability for reaction times compared to WHL, as indicated by the flatter line for lower values of target correlation in the FIL model."
   ]
  },
  {
   "cell_type": "markdown",
   "id": "88af3d63-3e46-4f7f-9140-e59d17fb0530",
   "metadata": {},
   "source": [
    "### Exercise 2\n",
    "\n",
    "Target correlations across time with FIDDL:"
   ]
  },
  {
   "cell_type": "markdown",
   "id": "58c4f563-4f52-4553-a50f-96bc9f95411e",
   "metadata": {},
   "source": [
    "Adapt the `compute_target_corr` function to run with the `fiddl` function:"
   ]
  },
  {
   "cell_type": "code",
   "execution_count": null,
   "id": "593cccc5-58fc-4179-92f5-2ea63353149f",
   "metadata": {},
   "outputs": [],
   "source": [
    "function compute_target_corr2(X, Y, Yhat, data, target_col, model, step)\n",
    "    data[!, string(\"target_corr_\", step)] = JudiLingMeasures.target_correlation(Yhat, Y)\n",
    "    return(data)\n",
    "end"
   ]
  },
  {
   "cell_type": "markdown",
   "id": "dc4ece8c-543f-4ca9-9f51-eee076bd4458",
   "metadata": {},
   "source": [
    "Run fiddl while supplying `compute_target_corr2`:"
   ]
  },
  {
   "cell_type": "code",
   "execution_count": null,
   "id": "e550d57d-87c9-4bf3-a99f-047faff9e038",
   "metadata": {
    "scrolled": true
   },
   "outputs": [],
   "source": [
    "res_fiddl_target_corr = JudiLing.fiddl(cue_obj.C, \n",
    "                    S, \n",
    "                    learn_seq, \n",
    "                    words, \n",
    "                    \"spelling\", \n",
    "                    \"../res/dlp_fiddl_model2.bson\", \n",
    "                    batchsize=512, \n",
    "                    n_batch_eval=10,\n",
    "                    measures_func=compute_target_corr2)"
   ]
  },
  {
   "cell_type": "code",
   "execution_count": null,
   "id": "16159e3d-3bfe-44a4-88ee-df43fbeada30",
   "metadata": {
    "scrolled": true
   },
   "outputs": [],
   "source": [
    "res_fiddl_target_corr.data[1:5, 49:end]"
   ]
  },
  {
   "cell_type": "markdown",
   "id": "1e2a7bff-1887-4885-ae16-ea0127583f06",
   "metadata": {},
   "source": [
    "Move to R for the statistical analysis:"
   ]
  },
  {
   "cell_type": "code",
   "execution_count": null,
   "id": "b1563303-76ae-4a94-9113-9f3116f95b38",
   "metadata": {},
   "outputs": [],
   "source": [
    "res_fiddl_target_corr_data = res_fiddl_target_corr.data\n",
    "@rput res_fiddl_target_corr_data;"
   ]
  },
  {
   "cell_type": "code",
   "execution_count": null,
   "id": "cc247a09-0acc-4dcb-9b8c-1103714b6a2e",
   "metadata": {
    "scrolled": true
   },
   "outputs": [],
   "source": [
    "R\"\"\"\n",
    "head(res_fiddl_target_corr_data[,c(49:(49+66))])\n",
    "\"\"\""
   ]
  },
  {
   "cell_type": "markdown",
   "id": "ef8c34eb-a0b7-4b94-bcaf-2f10dd691503",
   "metadata": {},
   "source": [
    "Run a GAM for target correlations:"
   ]
  },
  {
   "cell_type": "code",
   "execution_count": null,
   "id": "806fdcfe-3fb4-4b40-938a-dec3466fb91d",
   "metadata": {},
   "outputs": [],
   "source": [
    "R\"\"\"\n",
    "res_fiddl_target_corr_data$RTinv = -1000/res_fiddl_target_corr_data$rt\n",
    "\n",
    "aics_fiddl = c()\n",
    "for (col in colnames(res_fiddl_target_corr_data[c(49:(49+66))])){\n",
    "\n",
    "    f = formula(paste0(\"RTinv ~ s(\", col, \")\"))\n",
    "    gm = gam(f, data=res_fiddl_target_corr_data)\n",
    "    aics_fiddl = c(aics_fiddl, AIC(gm))\n",
    "}\n",
    "\"\"\""
   ]
  },
  {
   "cell_type": "code",
   "execution_count": null,
   "id": "3da72144-a7d6-41d3-9354-7b34728ecb7d",
   "metadata": {},
   "outputs": [],
   "source": [
    "@rget aics_fiddl;"
   ]
  },
  {
   "cell_type": "code",
   "execution_count": null,
   "id": "e202cf5a-60b8-49bb-9855-3f6bbfb428e3",
   "metadata": {},
   "outputs": [],
   "source": [
    "scatter(aics_fiddl, label=false, xlab=\"epoch\", ylab=\"AIC\", size=(400,300))"
   ]
  },
  {
   "cell_type": "markdown",
   "id": "6c25be19-0585-45d2-b500-e7f80536b114",
   "metadata": {},
   "source": [
    "In the beginning we see a similar uptick as in the DDL model where AIC initially gets higher with higher accuracy, but then very quickly AIC goes down significantly the longer the model is trained."
   ]
  },
  {
   "cell_type": "markdown",
   "id": "3694a0ed-22f7-44c5-baf0-a952f46fbcc0",
   "metadata": {},
   "source": [
    "# References\n",
    "\n",
    "Keuleers, E., Diependaele, K., and Brysbaert, M. (2010). Practice effects in large-scale visual word recognition studies: A lexical decision study on 14,000 dutch mono-and disyllabic words and nonwords. Frontiers in psychology, 1:174."
   ]
  }
 ],
 "metadata": {
  "kernelspec": {
   "display_name": "Julia 1.11.2",
   "language": "julia",
   "name": "julia-1.11"
  },
  "language_info": {
   "file_extension": ".jl",
   "mimetype": "application/julia",
   "name": "julia",
   "version": "1.11.2"
  }
 },
 "nbformat": 4,
 "nbformat_minor": 5
}
