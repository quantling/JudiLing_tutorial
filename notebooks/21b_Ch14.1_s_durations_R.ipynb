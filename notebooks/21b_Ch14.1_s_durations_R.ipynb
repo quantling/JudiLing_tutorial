{
 "cells": [
  {
   "cell_type": "markdown",
   "id": "592dc8c8",
   "metadata": {},
   "source": [
    "# Chapter 14.1: English s-duration (statistical analysis in R)"
   ]
  },
  {
   "cell_type": "code",
   "execution_count": null,
   "id": "12759d12",
   "metadata": {},
   "outputs": [],
   "source": [
    "library(mgcv)\n",
    "library(ggplot2)\n",
    "library(GGally)"
   ]
  },
  {
   "cell_type": "markdown",
   "id": "9a2974e0",
   "metadata": {},
   "source": [
    "## Data preparation\n",
    "\n",
    "Load the data created in the simulation step:"
   ]
  },
  {
   "cell_type": "code",
   "execution_count": null,
   "id": "6d4c34a3",
   "metadata": {},
   "outputs": [],
   "source": [
    "dat = read.csv(\"../res/s_duration_measures.csv\")"
   ]
  },
  {
   "cell_type": "code",
   "execution_count": null,
   "id": "58c02534",
   "metadata": {},
   "outputs": [],
   "source": [
    "head(dat)"
   ]
  },
  {
   "cell_type": "markdown",
   "id": "8a1142df",
   "metadata": {},
   "source": [
    "Some data preprocessing, adapted from Schmitz et al. (2021):"
   ]
  },
  {
   "cell_type": "code",
   "execution_count": null,
   "id": "357f8748",
   "metadata": {},
   "outputs": [],
   "source": [
    "dat <- droplevels(dat)\n",
    "\n",
    "dat$speaker=factor(dat$speaker)\n",
    "dat$Word=factor(dat$Word)\n",
    "\n",
    "dat$Affix = factor(dat$Affix)\n",
    "dat$Affix = relevel(dat$Affix, \"NM\")\n",
    "\n",
    "dat$folType = factor(dat$folType)\n",
    "dat$folType = relevel(dat$folType, \"APP\")\n",
    "\n",
    "dat$biphoneProb <- factor(dat$preC)\n",
    "print(levels(dat$biphoneProb))\n",
    "\n",
    "levels(dat$biphoneProb) <- c(\"0\", \"0.00427397562455192\", \"0.000579054762036066\",  \"0.000716924943473225\")\n",
    "\n",
    "table(dat$biphoneProb, dat$preC)\n",
    "\n",
    "dat$biphoneProb <- as.numeric(as.character(dat$biphoneProb))"
   ]
  },
  {
   "cell_type": "markdown",
   "id": "b04440e9",
   "metadata": {},
   "source": [
    "## Classical model\n",
    "\n",
    "We take the model specification from Schmitz et al. (2021)'s \"traditional model\". The only change we introduce here is that we use a Generalised Additive Mixed Model rather than a Linear Mixed Model, and we replace the random slope for Affix with a random intercept for Word."
   ]
  },
  {
   "cell_type": "code",
   "execution_count": null,
   "id": "a09aaa68",
   "metadata": {},
   "outputs": [],
   "source": [
    "gam.classical <- gam(sDurLog ~ \n",
    "                        Affix + \n",
    "                        s(speakingRate) +\n",
    "                        s(baseDurLog) +\n",
    "                        pauseBin +\n",
    "                        biphoneProbSumBin +\n",
    "                        folType +\n",
    "                        s(speaker, bs = 're') + s(Word, bs = 're'),\n",
    "                      data=dat, method=\"REML\")"
   ]
  },
  {
   "cell_type": "code",
   "execution_count": null,
   "id": "f3365fd7",
   "metadata": {},
   "outputs": [],
   "source": [
    "summary(gam.classical)"
   ]
  },
  {
   "cell_type": "code",
   "execution_count": null,
   "id": "cb7b4f5d",
   "metadata": {},
   "outputs": [],
   "source": [
    "options(repr.plot.width=15, repr.plot.height=3.75)\n",
    "#pdf(\"../../fig/s_dur.gam.classical.pdf\", he=3.75, wi=15)\n",
    "par(mfrow=c(1,4), mar=c(5.1, 5.1, 4.1, 2.1))\n",
    "plot(gam.classical, scale=F, scheme=1, shade.col=\"steelblue2\", \n",
    "     rug=T, ylab=\"Log s-duration\", cex.lab=2.5, cex.axis=2, cex.main=2)\n",
    "#dev.off()"
   ]
  },
  {
   "cell_type": "markdown",
   "id": "dc71fe10",
   "metadata": {},
   "source": [
    "Run some checks on the model to make sure there is no issue with concurvity (the equivalent of collinearity in non-linear models):"
   ]
  },
  {
   "cell_type": "code",
   "execution_count": null,
   "id": "f16a0453",
   "metadata": {},
   "outputs": [],
   "source": [
    "concurvity(gam.classical)"
   ]
  },
  {
   "cell_type": "markdown",
   "id": "cbfdd95e",
   "metadata": {},
   "source": [
    "Concurvity should not be a problem here.\n",
    "Next, we check whether the residuals are approximately normally distributed:"
   ]
  },
  {
   "cell_type": "code",
   "execution_count": null,
   "id": "0893c451",
   "metadata": {
    "scrolled": true
   },
   "outputs": [],
   "source": [
    "options(repr.plot.width=7, repr.plot.height=7)\n",
    "gam.check(gam.classical)"
   ]
  },
  {
   "cell_type": "markdown",
   "id": "34d96ca3",
   "metadata": {},
   "source": [
    "## DLM-based model\n",
    "\n",
    "For the DLM-based model, we want to make use of the \"Support\" variable. For this, we first need to inspect its distribution:"
   ]
  },
  {
   "cell_type": "code",
   "execution_count": null,
   "id": "fff5af33",
   "metadata": {
    "scrolled": true
   },
   "outputs": [],
   "source": [
    "plot(density(dat$Support))"
   ]
  },
  {
   "cell_type": "markdown",
   "id": "ee918ff4",
   "metadata": {},
   "source": [
    "It has a trimodal distribution which arises because of systematical differences depending on words and affixes. The systematic differences between words will be captured by the random effect for Word, and the systematic differences between affixes are what we are interested in, so this is not a problem.\n",
    "\n",
    "We now replace the Affix predictor with the Support measure:"
   ]
  },
  {
   "cell_type": "code",
   "execution_count": null,
   "id": "44df2a3c",
   "metadata": {},
   "outputs": [],
   "source": [
    "gam.ldl <- gam(sDurLog ~ \n",
    "                        s(Support) +\n",
    "                        s(speakingRate) +\n",
    "                        s(baseDurLog) +\n",
    "                        pauseBin +\n",
    "                        biphoneProbSumBin +\n",
    "                        folType +\n",
    "                        s(speaker, bs=\"re\") + s(Word, bs=\"re\"),\n",
    "                      data=dat, method=\"REML\")"
   ]
  },
  {
   "cell_type": "code",
   "execution_count": null,
   "id": "92dc0702",
   "metadata": {
    "scrolled": true
   },
   "outputs": [],
   "source": [
    "summary(gam.ldl)"
   ]
  },
  {
   "cell_type": "code",
   "execution_count": null,
   "id": "b8b85e5e",
   "metadata": {},
   "outputs": [],
   "source": [
    "options(repr.plot.width=11.25, repr.plot.height=7.5)\n",
    "#pdf(\"../../fig/s_dur.gam.ldl.pdf\", he=7.5, wi=11.25)\n",
    "par(mfrow=c(2,3), mar=c(5.1, 5.1, 4.1, 2.1))\n",
    "plot(gam.ldl, scale=F, scheme=1, shade.col=\"steelblue2\", \n",
    "     rug=T, ylab=\"Log s-duration\", cex.lab=2.5, cex.axis=2, cex.main=2)\n",
    "#dev.off()"
   ]
  },
  {
   "cell_type": "markdown",
   "id": "0159c4f4",
   "metadata": {},
   "source": [
    "Run model checks:"
   ]
  },
  {
   "cell_type": "code",
   "execution_count": null,
   "id": "b8b3de71",
   "metadata": {},
   "outputs": [],
   "source": [
    "concurvity(gam.ldl)"
   ]
  },
  {
   "cell_type": "code",
   "execution_count": null,
   "id": "32e69107",
   "metadata": {
    "scrolled": true
   },
   "outputs": [],
   "source": [
    "gam.check(gam.ldl)"
   ]
  },
  {
   "cell_type": "markdown",
   "id": "e6300da9",
   "metadata": {},
   "source": [
    "Concurvity is a little high for the Support measure, but still acceptable. "
   ]
  },
  {
   "cell_type": "markdown",
   "id": "d256001d",
   "metadata": {},
   "source": [
    "## Model comparison\n",
    "\n",
    "Now compare the two models in terms of AIC:"
   ]
  },
  {
   "cell_type": "code",
   "execution_count": null,
   "id": "eeaf9089",
   "metadata": {},
   "outputs": [],
   "source": [
    "AIC(gam.ldl)"
   ]
  },
  {
   "cell_type": "code",
   "execution_count": null,
   "id": "c6ab43db",
   "metadata": {
    "scrolled": true
   },
   "outputs": [],
   "source": [
    "AIC(gam.classical)"
   ]
  },
  {
   "cell_type": "markdown",
   "id": "f9029ff8-1a98-4010-964a-d79d4ab20770",
   "metadata": {},
   "source": [
    "Test if the difference is significant:"
   ]
  },
  {
   "cell_type": "code",
   "execution_count": null,
   "id": "aadd4af5",
   "metadata": {
    "scrolled": true
   },
   "outputs": [],
   "source": [
    "install.packages(\"itsadug\")\n",
    "\n",
    "library(itsadug)\n",
    "compareML(gam.classical, gam.ldl)"
   ]
  },
  {
   "cell_type": "markdown",
   "id": "eb207b99-f2db-4a6a-aa16-7032eafc160d",
   "metadata": {},
   "source": [
    "## Exercises\n",
    "\n",
    "Replace Support with SemanticSupportForForm in the DLM-based GAMM:"
   ]
  },
  {
   "cell_type": "code",
   "execution_count": null,
   "id": "a82fb79c-1747-4aeb-9be3-3c2c83f87121",
   "metadata": {},
   "outputs": [],
   "source": [
    "gam.ldl2 <- gam(sDurLog ~ \n",
    "                        s(SemanticSupportForForm) +\n",
    "                        s(speakingRate) +\n",
    "                        s(baseDurLog) +\n",
    "                        pauseBin +\n",
    "                        biphoneProbSumBin +\n",
    "                        folType +\n",
    "                        s(speaker, bs=\"re\") + s(Word, bs=\"re\"),\n",
    "                      data=dat, method=\"REML\")"
   ]
  },
  {
   "cell_type": "code",
   "execution_count": null,
   "id": "0c5d4189-6bf2-41c1-b7a2-cc3c6348c274",
   "metadata": {
    "scrolled": true
   },
   "outputs": [],
   "source": [
    "summary(gam.ldl2)"
   ]
  },
  {
   "cell_type": "code",
   "execution_count": null,
   "id": "5bc46b95-ebca-4a52-a1d2-ee776ef4ba8e",
   "metadata": {
    "scrolled": true
   },
   "outputs": [],
   "source": [
    "options(repr.plot.width=11.25, repr.plot.height=7.5)\n",
    "#pdf(\"../../fig/s_dur.gam.ldl.pdf\", he=7.5, wi=11.25)\n",
    "par(mfrow=c(2,3), mar=c(5.1, 5.1, 4.1, 2.1))\n",
    "plot(gam.ldl2, scale=F, scheme=1, shade.col=\"steelblue2\", \n",
    "     rug=T, ylab=\"Log s-duration\", cex.lab=2.5, cex.axis=2, cex.main=2)\n",
    "#dev.off()"
   ]
  },
  {
   "cell_type": "code",
   "execution_count": null,
   "id": "18f2f923-9661-430b-a66f-6034159520c8",
   "metadata": {},
   "outputs": [],
   "source": [
    "AIC(gam.ldl2)"
   ]
  },
  {
   "cell_type": "markdown",
   "id": "2cc687f7-20fa-4295-b745-64819e6333a3",
   "metadata": {},
   "source": [
    "The model fit is somewhat worse than that with Support. A reason could be that SemanticSupportForForm measures how much support all the trigrams in a word get from its semantics, whereas Support only measures the support for the final measures. Since we are investigating word-final s-durations, Support may be a more precise measure."
   ]
  },
  {
   "cell_type": "code",
   "execution_count": null,
   "id": "5173367b-d1ee-4609-97e9-18f5bc77221b",
   "metadata": {},
   "outputs": [],
   "source": []
  },
  {
   "cell_type": "code",
   "execution_count": null,
   "id": "090c8b45-019a-4057-be4f-363927f08315",
   "metadata": {},
   "outputs": [],
   "source": []
  },
  {
   "cell_type": "code",
   "execution_count": null,
   "id": "79b0eb36-90e8-402d-9bda-58bc49dd5638",
   "metadata": {},
   "outputs": [],
   "source": []
  },
  {
   "cell_type": "code",
   "execution_count": null,
   "id": "a75c8138-8b68-4f2c-9d2f-bd09e2d5fecd",
   "metadata": {},
   "outputs": [],
   "source": []
  },
  {
   "cell_type": "code",
   "execution_count": null,
   "id": "cb8e1bb6-a25e-4edf-8b56-dec7c9714065",
   "metadata": {},
   "outputs": [],
   "source": []
  }
 ],
 "metadata": {
  "kernelspec": {
   "display_name": "R",
   "language": "R",
   "name": "ir"
  },
  "language_info": {
   "codemirror_mode": "r",
   "file_extension": ".r",
   "mimetype": "text/x-r-source",
   "name": "R",
   "pygments_lexer": "r",
   "version": "4.2.3"
  },
  "toc": {
   "base_numbering": 1,
   "nav_menu": {},
   "number_sections": true,
   "sideBar": true,
   "skip_h1_title": false,
   "title_cell": "Table of Contents",
   "title_sidebar": "Contents",
   "toc_cell": false,
   "toc_position": {},
   "toc_section_display": true,
   "toc_window_display": true
  }
 },
 "nbformat": 4,
 "nbformat_minor": 5
}
