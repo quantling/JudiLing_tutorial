{
 "cells": [
  {
   "cell_type": "markdown",
   "id": "77d5b20f",
   "metadata": {},
   "source": [
    "# Chapter 13.2: Mandarin Chinese"
   ]
  },
  {
   "cell_type": "code",
   "execution_count": null,
   "id": "1b2309d9",
   "metadata": {
    "scrolled": true
   },
   "outputs": [],
   "source": [
    "using JudiLing, DataFrames"
   ]
  },
  {
   "cell_type": "markdown",
   "id": "379c0142-9e0f-42db-ae1f-36ecf492b5f4",
   "metadata": {},
   "source": [
    "Loading the data"
   ]
  },
  {
   "cell_type": "code",
   "execution_count": null,
   "id": "1a33bd38",
   "metadata": {
    "scrolled": true
   },
   "outputs": [],
   "source": [
    "mandarin = JudiLing.load_dataset(\"../dat/mandarin.csv\")"
   ]
  },
  {
   "cell_type": "markdown",
   "id": "7bf92fd2-464d-4fe0-b137-70afe5f2bbb2",
   "metadata": {},
   "source": [
    "## Using the phonological representation"
   ]
  },
  {
   "cell_type": "markdown",
   "id": "ae22ba29-91b2-4c72-bc5a-97eaf74d18d5",
   "metadata": {},
   "source": [
    "Creating the cue object:"
   ]
  },
  {
   "cell_type": "code",
   "execution_count": null,
   "id": "293c72ac",
   "metadata": {},
   "outputs": [],
   "source": [
    "cue_obj = JudiLing.make_cue_matrix(mandarin, \n",
    "                                    grams=3, \n",
    "                                    tokenized=true, \n",
    "                                    sep_token=\".\", \n",
    "                                    keep_sep=true,\n",
    "                                    target_col = :phones);"
   ]
  },
  {
   "cell_type": "code",
   "execution_count": null,
   "id": "5a7e1a47",
   "metadata": {
    "scrolled": true
   },
   "outputs": [],
   "source": [
    "JudiLing.display_matrix(mandarin, :phones, cue_obj, cue_obj.C, :C)"
   ]
  },
  {
   "cell_type": "markdown",
   "id": "c16ac06a-9792-4b2e-9fca-14d9a8a49594",
   "metadata": {},
   "source": [
    "Loading the S matrix:"
   ]
  },
  {
   "cell_type": "code",
   "execution_count": null,
   "id": "dc419e51",
   "metadata": {},
   "outputs": [],
   "source": [
    "S, words = JudiLing.load_S_matrix(\"../dat/S_mandarin.txt\")"
   ]
  },
  {
   "cell_type": "code",
   "execution_count": null,
   "id": "ec8b6d47",
   "metadata": {
    "scrolled": true
   },
   "outputs": [],
   "source": [
    "JudiLing.display_matrix(mandarin, :phones, cue_obj, S, :S)"
   ]
  },
  {
   "cell_type": "markdown",
   "id": "fb1d9b68-2124-404b-8716-fd4fc9967683",
   "metadata": {},
   "source": [
    "Comprehension:"
   ]
  },
  {
   "cell_type": "code",
   "execution_count": null,
   "id": "c3e8342f",
   "metadata": {},
   "outputs": [],
   "source": [
    "F = JudiLing.make_transform_matrix(cue_obj.C, S);\n",
    "Shat = cue_obj.C * F;"
   ]
  },
  {
   "cell_type": "code",
   "execution_count": null,
   "id": "dd8c0075",
   "metadata": {
    "scrolled": true
   },
   "outputs": [],
   "source": [
    "JudiLing.eval_SC(Shat, S, mandarin, :phones)"
   ]
  },
  {
   "cell_type": "markdown",
   "id": "eb4ddf62-2ffb-4008-bca8-06370a35c8de",
   "metadata": {},
   "source": [
    "Production:"
   ]
  },
  {
   "cell_type": "code",
   "execution_count": null,
   "id": "c410e1a6",
   "metadata": {},
   "outputs": [],
   "source": [
    "G = JudiLing.make_transform_matrix(S, cue_obj.C);\n",
    "Chat = S * G;"
   ]
  },
  {
   "cell_type": "code",
   "execution_count": null,
   "id": "ad5910dd",
   "metadata": {
    "scrolled": true
   },
   "outputs": [],
   "source": [
    "res = JudiLing.learn_paths(mandarin, \n",
    "                            cue_obj, \n",
    "                            S, \n",
    "                            F, \n",
    "                            Chat, \n",
    "                            threshold=0.01,\n",
    "                            Shat_val=Shat);"
   ]
  },
  {
   "cell_type": "code",
   "execution_count": null,
   "id": "df94f8ff",
   "metadata": {},
   "outputs": [],
   "source": [
    "JudiLing.eval_acc(res, cue_obj)"
   ]
  },
  {
   "cell_type": "markdown",
   "id": "890366b6-81b2-4c36-9324-e810bc8bfc9c",
   "metadata": {},
   "source": [
    "## Using the character representation"
   ]
  },
  {
   "cell_type": "markdown",
   "id": "91b0abd6-393c-49d3-895f-a86c2e405324",
   "metadata": {},
   "source": [
    "Creating the cue object:"
   ]
  },
  {
   "cell_type": "code",
   "execution_count": null,
   "id": "8d850d00",
   "metadata": {
    "scrolled": true
   },
   "outputs": [],
   "source": [
    "cue_obj_char = JudiLing.make_cue_matrix(mandarin, grams=2, target_col = :word)"
   ]
  },
  {
   "cell_type": "code",
   "execution_count": null,
   "id": "cab109f8",
   "metadata": {},
   "outputs": [],
   "source": [
    "JudiLing.display_matrix(mandarin, :word, cue_obj_char, cue_obj_char.C, :C)"
   ]
  },
  {
   "cell_type": "markdown",
   "id": "9a95fb79-e2ff-4f3a-abed-98ee8eb55a62",
   "metadata": {},
   "source": [
    "Comprehension:"
   ]
  },
  {
   "cell_type": "code",
   "execution_count": null,
   "id": "ce00c768",
   "metadata": {},
   "outputs": [],
   "source": [
    "F_char = JudiLing.make_transform_matrix(cue_obj_char.C, S);\n",
    "Shat_char = cue_obj_char.C * F_char;"
   ]
  },
  {
   "cell_type": "code",
   "execution_count": null,
   "id": "59067e2a",
   "metadata": {},
   "outputs": [],
   "source": [
    "JudiLing.eval_SC(Shat_char, S, mandarin, :word)"
   ]
  },
  {
   "cell_type": "markdown",
   "id": "ac83d60f-a6af-472d-bdc6-e54593198937",
   "metadata": {},
   "source": [
    "Production:"
   ]
  },
  {
   "cell_type": "code",
   "execution_count": null,
   "id": "f0e82cfb",
   "metadata": {},
   "outputs": [],
   "source": [
    "G_char = JudiLing.make_transform_matrix(S, cue_obj_char.C);\n",
    "Chat_char = S * G_char;"
   ]
  },
  {
   "cell_type": "code",
   "execution_count": null,
   "id": "970e4d2a",
   "metadata": {
    "scrolled": true
   },
   "outputs": [],
   "source": [
    "res_char = JudiLing.learn_paths(mandarin, \n",
    "                                cue_obj_char, \n",
    "                                S, \n",
    "                                F_char, \n",
    "                                Chat_char, \n",
    "                                threshold=0.01,\n",
    "                                Shat_val=Shat_char);"
   ]
  },
  {
   "cell_type": "code",
   "execution_count": null,
   "id": "9df82cde",
   "metadata": {},
   "outputs": [],
   "source": [
    "JudiLing.eval_acc(res_char, cue_obj_char)"
   ]
  },
  {
   "cell_type": "markdown",
   "id": "5014f8ca-0ed9-4507-921d-183c8a4f971a",
   "metadata": {},
   "source": [
    "Analysing the productions:"
   ]
  },
  {
   "cell_type": "code",
   "execution_count": null,
   "id": "0cafd3d4",
   "metadata": {
    "scrolled": true
   },
   "outputs": [],
   "source": [
    "df = JudiLing.write2df(res_char, mandarin, cue_obj_char, cue_obj_char, target_col=:word);\n",
    "df_isbest = df[ismissing.(df.isbest) .| (df.isbest .== 1),:]"
   ]
  },
  {
   "cell_type": "code",
   "execution_count": null,
   "id": "93e7dd81",
   "metadata": {
    "scrolled": true
   },
   "outputs": [],
   "source": [
    "df_isbest[ismissing.(df_isbest.iscorrect) .| (df_isbest.iscorrect .== 0),:]"
   ]
  },
  {
   "cell_type": "markdown",
   "id": "c9803095-f2d4-4bb1-bc68-7cc90aea8203",
   "metadata": {},
   "source": [
    "## Exercises"
   ]
  },
  {
   "cell_type": "markdown",
   "id": "5176290d-78c8-489c-a920-34cb343e446d",
   "metadata": {},
   "source": [
    "Comprehension without tone markers"
   ]
  },
  {
   "cell_type": "code",
   "execution_count": null,
   "id": "ab4a5df3-4feb-4bd4-b7f0-1b842b229e8b",
   "metadata": {
    "scrolled": true
   },
   "outputs": [],
   "source": [
    "# Creating a new column without tone markers\n",
    "mandarin[!,\"phones_no_tones\"] = [replace(phone, r\"[1-9]\" => \"\") for phone in mandarin.phones]"
   ]
  },
  {
   "cell_type": "code",
   "execution_count": null,
   "id": "6a26df5c-4cf9-40b3-bba7-6980ace76ce0",
   "metadata": {},
   "outputs": [],
   "source": [
    "cue_obj_no_tones = JudiLing.make_cue_matrix(mandarin, \n",
    "                                    grams=3, \n",
    "                                    tokenized=true, \n",
    "                                    sep_token=\".\", \n",
    "                                    keep_sep=true,\n",
    "                                    target_col = :phones_no_tones);"
   ]
  },
  {
   "cell_type": "code",
   "execution_count": null,
   "id": "afb0f792-420d-40ad-b134-7a91efbfaf77",
   "metadata": {},
   "outputs": [],
   "source": [
    "F_no_tones = JudiLing.make_transform_matrix(cue_obj_no_tones.C, S);\n",
    "Shat_no_tones = cue_obj_no_tones.C * F_no_tones\n",
    "JudiLing.eval_SC(Shat_no_tones, S, mandarin, :word)"
   ]
  },
  {
   "cell_type": "markdown",
   "id": "08c35f2d-2733-47d7-9be1-8395d4a57d87",
   "metadata": {},
   "source": [
    "Compared to the 98.8% accuracy we got with tones this is a significant reduction in accuracy."
   ]
  },
  {
   "cell_type": "markdown",
   "id": "0ecc0d82-74b4-4c00-a80e-e9abb9eb7580",
   "metadata": {},
   "source": [
    "The same but without single syllable words:"
   ]
  },
  {
   "cell_type": "code",
   "execution_count": null,
   "id": "ef8322b1-f00f-4b2a-9e42-bc5341320b61",
   "metadata": {},
   "outputs": [],
   "source": [
    "mandarin[!, \"char_num\"] = length.(mandarin.word);"
   ]
  },
  {
   "cell_type": "code",
   "execution_count": null,
   "id": "adc22b5e-672b-4349-8cd2-604af4b38ac3",
   "metadata": {
    "scrolled": true
   },
   "outputs": [],
   "source": [
    "mandarin_multi = mandarin[mandarin.char_num .> 1,:]"
   ]
  },
  {
   "cell_type": "code",
   "execution_count": null,
   "id": "0b6eea01-b6d1-4851-8d8e-3a87feeaf338",
   "metadata": {},
   "outputs": [],
   "source": [
    "cue_obj_no_tones_multi = JudiLing.make_cue_matrix(mandarin_multi, \n",
    "                                    grams=3, \n",
    "                                    tokenized=true, \n",
    "                                    sep_token=\".\", \n",
    "                                    keep_sep=true,\n",
    "                                    target_col = :phones_no_tones);"
   ]
  },
  {
   "cell_type": "code",
   "execution_count": null,
   "id": "5a76800c-7462-4877-81ab-d9f0ff8d65ce",
   "metadata": {},
   "outputs": [],
   "source": [
    "S_multi = S[mandarin.char_num .> 1,:];"
   ]
  },
  {
   "cell_type": "code",
   "execution_count": null,
   "id": "34703ac7-2509-4d5d-b045-0bd6c40b8a7d",
   "metadata": {
    "scrolled": true
   },
   "outputs": [],
   "source": [
    "F_no_tones_multi = JudiLing.make_transform_matrix(cue_obj_no_tones_multi.C, S_multi);\n",
    "Shat_no_tones_multi = cue_obj_no_tones_multi.C * F_no_tones_multi\n",
    "JudiLing.eval_SC(Shat_no_tones_multi, S_multi, mandarin_multi, :word)"
   ]
  },
  {
   "cell_type": "markdown",
   "id": "b4168404-c2fe-4488-a0aa-d1f536c6fd62",
   "metadata": {},
   "source": [
    "Without single syllable words, accuracy is again clearly higher. This suggests that tone is particularly important for single-character words."
   ]
  },
  {
   "cell_type": "markdown",
   "id": "14302cbf-5598-441b-9104-6d3c5b21d33e",
   "metadata": {},
   "source": [
    "Comparing the evaluation accuracy of two mappings, one with characters and one with phones, using strict evaluation:"
   ]
  },
  {
   "cell_type": "code",
   "execution_count": null,
   "id": "8c88ed97-5e08-4d68-8713-7d80e0ba842f",
   "metadata": {},
   "outputs": [],
   "source": [
    "JudiLing.eval_SC(Shat,S)"
   ]
  },
  {
   "cell_type": "code",
   "execution_count": null,
   "id": "23252eae-a2a3-43ed-92cd-89e37a928b98",
   "metadata": {},
   "outputs": [],
   "source": [
    "JudiLing.eval_SC(Shat_char,S)"
   ]
  },
  {
   "cell_type": "markdown",
   "id": "95db548a-8c7e-4354-9bbf-08494c03f985",
   "metadata": {},
   "source": [
    "Strict evaluation gives higher accuracy to the character-based mapping than the phone-based one. Since we know that under lenient evaluation they perform similarly, this implies that there are more homophones than homographs."
   ]
  },
  {
   "cell_type": "code",
   "execution_count": null,
   "id": "444f2331-a85c-459d-b089-ff4b0bbcd7fc",
   "metadata": {},
   "outputs": [],
   "source": [
    "length(unique(mandarin.word))"
   ]
  },
  {
   "cell_type": "code",
   "execution_count": null,
   "id": "c6d37c93-6e13-431e-8b8c-331ec3e4e080",
   "metadata": {},
   "outputs": [],
   "source": [
    "length(unique(mandarin.phones))"
   ]
  },
  {
   "cell_type": "markdown",
   "id": "fd275782-8a6b-4322-bd68-6cf6f096099b",
   "metadata": {},
   "source": [
    "There are indeed fewer unique phone-representations than character-representations in the dataset."
   ]
  }
 ],
 "metadata": {
  "kernelspec": {
   "display_name": "Julia 1.11.2",
   "language": "julia",
   "name": "julia-1.11"
  },
  "language_info": {
   "file_extension": ".jl",
   "mimetype": "application/julia",
   "name": "julia",
   "version": "1.11.2"
  },
  "toc": {
   "base_numbering": 1,
   "nav_menu": {},
   "number_sections": true,
   "sideBar": true,
   "skip_h1_title": false,
   "title_cell": "Table of Contents",
   "title_sidebar": "Contents",
   "toc_cell": false,
   "toc_position": {},
   "toc_section_display": true,
   "toc_window_display": false
  }
 },
 "nbformat": 4,
 "nbformat_minor": 5
}
