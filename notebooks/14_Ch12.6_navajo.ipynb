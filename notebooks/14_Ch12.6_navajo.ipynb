{
 "cells": [
  {
   "cell_type": "markdown",
   "metadata": {},
   "source": [
    "# Chapter 12.6: Navajo verbs"
   ]
  },
  {
   "cell_type": "markdown",
   "metadata": {},
   "source": [
    "## Preparation"
   ]
  },
  {
   "cell_type": "markdown",
   "metadata": {},
   "source": [
    "Load packages"
   ]
  },
  {
   "cell_type": "code",
   "execution_count": null,
   "metadata": {},
   "outputs": [],
   "source": [
    "using JudiLing, DataFrames, RCall"
   ]
  },
  {
   "cell_type": "markdown",
   "metadata": {},
   "source": [
    "Load dataset"
   ]
  },
  {
   "cell_type": "code",
   "execution_count": null,
   "metadata": {},
   "outputs": [],
   "source": [
    "navajo = JudiLing.load_dataset(\"../dat/navajo.csv\");"
   ]
  },
  {
   "cell_type": "code",
   "execution_count": null,
   "metadata": {
    "scrolled": true
   },
   "outputs": [],
   "source": [
    "size(navajo)"
   ]
  },
  {
   "cell_type": "markdown",
   "metadata": {},
   "source": [
    "Inspect data"
   ]
  },
  {
   "cell_type": "code",
   "execution_count": null,
   "metadata": {},
   "outputs": [],
   "source": [
    "navajo[1:5,1:8]"
   ]
  },
  {
   "cell_type": "code",
   "execution_count": null,
   "metadata": {},
   "outputs": [],
   "source": [
    "@rput navajo\n",
    "R\"\"\"\n",
    "range(table(navajo$Meaning))\n",
    "\"\"\""
   ]
  },
  {
   "cell_type": "code",
   "execution_count": null,
   "metadata": {},
   "outputs": [],
   "source": [
    "R\"\"\"\n",
    "length(unique(navajo$Segments))/nrow(navajo)\n",
    "\"\"\""
   ]
  },
  {
   "cell_type": "code",
   "execution_count": null,
   "metadata": {},
   "outputs": [],
   "source": [
    "names(navajo)"
   ]
  },
  {
   "cell_type": "markdown",
   "metadata": {},
   "source": [
    "## Modeling with triphones"
   ]
  },
  {
   "cell_type": "markdown",
   "metadata": {},
   "source": [
    "### Evaluation on full dataset"
   ]
  },
  {
   "cell_type": "markdown",
   "metadata": {},
   "source": [
    "Create C and S matrices"
   ]
  },
  {
   "cell_type": "code",
   "execution_count": null,
   "metadata": {},
   "outputs": [],
   "source": [
    "cue_obj = JudiLing.make_cue_matrix(\n",
    "    navajo,\n",
    "    grams=3,\n",
    "    target_col=:Segments,\n",
    "    tokenized=true,\n",
    "    sep_token = \"-\",\n",
    "    keep_sep=true\n",
    "    );"
   ]
  },
  {
   "cell_type": "code",
   "execution_count": null,
   "metadata": {},
   "outputs": [],
   "source": [
    "n_features = size(cue_obj.C, 2)"
   ]
  },
  {
   "cell_type": "code",
   "execution_count": null,
   "metadata": {},
   "outputs": [],
   "source": [
    "S = JudiLing.make_S_matrix(\n",
    "    navajo,\n",
    "    [\"Meaning\"],\n",
    "    [\"Mode\",\"SubjPerson\",\"SubjNumber\",\"ObjPerson\",\"ObjNumber\", \n",
    "     \"ObjLex\", \"Transitivity\"],\n",
    "    ncol=n_features,\n",
    "    add_noise=true);"
   ]
  },
  {
   "cell_type": "code",
   "execution_count": null,
   "metadata": {},
   "outputs": [],
   "source": [
    "#Alternative versions\n",
    "#[\"Mode\",\"Subj. person A\",\"Subj. number A\",\"Obj. person A\",\"Obj. number A\", \"Obj. lex\", \"Transitivity\"],\n",
    "#[\"Mode\",\"Subj. person\",\"Subj. number B\",\"Obj. person A\",\"Obj. number A\", \"Obj. lex\", \"Transitivity\"],\n",
    "#[\"Mode\",\"Subj. person\",\"Subj. number B\",\"Obj. person\",\"Obj. number\", \"Obj. lex\", \"Transitivity\"],"
   ]
  },
  {
   "cell_type": "markdown",
   "metadata": {},
   "source": [
    "#### Comprehension"
   ]
  },
  {
   "cell_type": "code",
   "execution_count": null,
   "metadata": {},
   "outputs": [],
   "source": [
    "F = JudiLing.make_transform_matrix(cue_obj.C, S);"
   ]
  },
  {
   "cell_type": "code",
   "execution_count": null,
   "metadata": {},
   "outputs": [],
   "source": [
    "Shat = cue_obj.C * F;"
   ]
  },
  {
   "cell_type": "code",
   "execution_count": null,
   "metadata": {},
   "outputs": [],
   "source": [
    "JudiLing.eval_SC(Shat, S)"
   ]
  },
  {
   "cell_type": "markdown",
   "metadata": {},
   "source": [
    "There are homophones in the dataset, with lenient evaluation, we get:"
   ]
  },
  {
   "cell_type": "code",
   "execution_count": null,
   "metadata": {},
   "outputs": [],
   "source": [
    "JudiLing.eval_SC(Shat, S, navajo, :Segments)"
   ]
  },
  {
   "cell_type": "markdown",
   "metadata": {},
   "source": [
    "#### Production"
   ]
  },
  {
   "cell_type": "code",
   "execution_count": null,
   "metadata": {},
   "outputs": [],
   "source": [
    "G = JudiLing.make_transform_matrix(S, cue_obj.C);"
   ]
  },
  {
   "cell_type": "code",
   "execution_count": null,
   "metadata": {},
   "outputs": [],
   "source": [
    "Chat = S * G;"
   ]
  },
  {
   "cell_type": "markdown",
   "metadata": {},
   "source": [
    "Evaluation of precision of the predictions for what triphones should be present:"
   ]
  },
  {
   "cell_type": "code",
   "execution_count": null,
   "metadata": {},
   "outputs": [],
   "source": [
    "@show JudiLing.eval_SC(Chat, cue_obj.C);"
   ]
  },
  {
   "cell_type": "markdown",
   "metadata": {},
   "source": [
    "Ordering the triphones into words."
   ]
  },
  {
   "cell_type": "code",
   "execution_count": null,
   "metadata": {},
   "outputs": [],
   "source": [
    "A = cue_obj.A;"
   ]
  },
  {
   "cell_type": "code",
   "execution_count": null,
   "metadata": {},
   "outputs": [],
   "source": [
    "max_t = JudiLing.cal_max_timestep(navajo, :Segments, tokenized=true, sep_token=\"-\")"
   ]
  },
  {
   "cell_type": "code",
   "execution_count": null,
   "metadata": {},
   "outputs": [],
   "source": [
    "@time res_learn, gpi_learn = JudiLing.learn_paths(\n",
    "    navajo,\n",
    "    navajo,\n",
    "    cue_obj.C,\n",
    "    S,\n",
    "    F,\n",
    "    Chat,\n",
    "    A,\n",
    "    cue_obj.i2f,\n",
    "    cue_obj.f2i, \n",
    "    check_gold_path = true,\n",
    "    gold_ind = cue_obj.gold_ind,\n",
    "    Shat_val = Shat,\n",
    "    max_t = max_t,\n",
    "    max_can = 10,\n",
    "    grams = 3,\n",
    "    threshold = 0.05,\n",
    "    tokenized = true,\n",
    "    keep_sep = true,\n",
    "    sep_token = \"-\",\n",
    "    target_col = :Segments,\n",
    "    verbose = false\n",
    ");"
   ]
  },
  {
   "cell_type": "code",
   "execution_count": null,
   "metadata": {},
   "outputs": [],
   "source": [
    "acc_learn = JudiLing.eval_acc(res_learn, cue_obj.gold_ind, verbose = false)\n",
    "\n",
    "println(\"Acc for learn: $acc_learn\")"
   ]
  },
  {
   "cell_type": "markdown",
   "metadata": {},
   "source": [
    "### Evaluation on training and test data"
   ]
  },
  {
   "cell_type": "code",
   "execution_count": null,
   "metadata": {},
   "outputs": [],
   "source": [
    "data_train, data_val = JudiLing.loading_data_careful_split(\n",
    "            \"../dat/navajo.csv\", #data path\n",
    "            \"nav\", #data_prefix,\n",
    "            \"../dat/split\", #data_output_dir,\n",
    "            [\"Meaning\",\"Mode\",\"SubjPerson\",\"SubjNumber\", \"ObjPerson\",\"ObjNumber\", \"ObjAnimacy\", \"Transitivity\"],\n",
    "            val_sample_size = 570,\n",
    "            n_grams_target_col=\"Segments\",\n",
    "            n_grams_tokenized=true,\n",
    "            n_grams_sep_token=\"-\",\n",
    "            grams = 3,\n",
    "            n_grams_keep_sep= true,\n",
    "            verbose=false);"
   ]
  },
  {
   "cell_type": "code",
   "execution_count": null,
   "metadata": {},
   "outputs": [],
   "source": [
    "cue_obj_train, cue_obj_val  = JudiLing.make_cue_matrix(\n",
    "    data_train,\n",
    "    data_val,\n",
    "    grams=3,\n",
    "    target_col=:Segments,\n",
    "    tokenized=true,\n",
    "    sep_token = \"-\",\n",
    "    keep_sep=true\n",
    "    );"
   ]
  },
  {
   "cell_type": "code",
   "execution_count": null,
   "metadata": {},
   "outputs": [],
   "source": [
    "n_features = size(cue_obj_train.C, 2)\n",
    "S_train, S_val = JudiLing.make_S_matrix(\n",
    "    data_train,\n",
    "    data_val,\n",
    "    [\"Meaning\"],\n",
    "    [\"Mode\",\"SubjPerson\",\"SubjNumber\",\"ObjPerson\",\"ObjNumber\", \"ObjAnimacy\", \"Transitivity\"],\n",
    "    ncol=n_features,\n",
    "    add_noise=true);"
   ]
  },
  {
   "cell_type": "markdown",
   "metadata": {},
   "source": [
    "#### Comprehension"
   ]
  },
  {
   "cell_type": "code",
   "execution_count": null,
   "metadata": {},
   "outputs": [],
   "source": [
    "F = JudiLing.make_transform_matrix(cue_obj_train.C, S_train);\n",
    "Shat_train = cue_obj_train.C * F;\n",
    "Shat_val = cue_obj_val.C * F;\n",
    "JudiLing.eval_SC(Shat_train, S_train, data_train, :Segments)"
   ]
  },
  {
   "cell_type": "code",
   "execution_count": null,
   "metadata": {
    "scrolled": true
   },
   "outputs": [],
   "source": [
    "JudiLing.eval_SC(Shat_val, S_val, S_train, data_val, data_train, :Segments)"
   ]
  },
  {
   "cell_type": "markdown",
   "metadata": {},
   "source": [
    "#### Production"
   ]
  },
  {
   "cell_type": "code",
   "execution_count": null,
   "metadata": {},
   "outputs": [],
   "source": [
    "G = JudiLing.make_transform_matrix(S_train, cue_obj_train.C);\n",
    "Chat_train = S_train * G;\n",
    "Chat_val = S_val * G;"
   ]
  },
  {
   "cell_type": "code",
   "execution_count": null,
   "metadata": {},
   "outputs": [],
   "source": [
    "@show JudiLing.eval_SC(Chat_train, cue_obj_train.C);"
   ]
  },
  {
   "cell_type": "code",
   "execution_count": null,
   "metadata": {},
   "outputs": [],
   "source": [
    "@show JudiLing.eval_SC(Chat_val, cue_obj_val.C);"
   ]
  },
  {
   "cell_type": "markdown",
   "metadata": {},
   "source": [
    "Next, we put the triphones in order."
   ]
  },
  {
   "cell_type": "code",
   "execution_count": null,
   "metadata": {},
   "outputs": [],
   "source": [
    "max_t = JudiLing.cal_max_timestep(data_train, data_val, :Segments, tokenized=true, sep_token=\"-\")"
   ]
  },
  {
   "cell_type": "markdown",
   "metadata": {},
   "source": [
    "sequencing accuracy on training data"
   ]
  },
  {
   "cell_type": "code",
   "execution_count": null,
   "metadata": {},
   "outputs": [],
   "source": [
    "@time res_train = JudiLing.learn_paths(\n",
    "  data_train,\n",
    "  data_train,\n",
    "  cue_obj_train.C,\n",
    "  S_train,\n",
    "  F,\n",
    "  Chat_train,\n",
    "  cue_obj_train.A,\n",
    "  cue_obj_train.i2f,\n",
    "  cue_obj_train.f2i, \n",
    "  max_t=max_t,\n",
    "  max_can=10,\n",
    "  threshold=0.01,\n",
    "  grams=3,\n",
    "  tokenized=true,\n",
    "  sep_token=\"-\",\n",
    "  keep_sep=true,\n",
    "  target_col=:Segments,\n",
    "  issparse=:dense,\n",
    "  verbose=false);"
   ]
  },
  {
   "cell_type": "code",
   "execution_count": null,
   "metadata": {},
   "outputs": [],
   "source": [
    "acc_learn = JudiLing.eval_acc(res_train, cue_obj_train.gold_ind, verbose = false)"
   ]
  },
  {
   "cell_type": "markdown",
   "metadata": {},
   "source": [
    "sequencing accuracy on test data"
   ]
  },
  {
   "cell_type": "code",
   "execution_count": null,
   "metadata": {},
   "outputs": [],
   "source": [
    "@time res_val, gpi_val = JudiLing.learn_paths(\n",
    "  data_train,\n",
    "  data_val,\n",
    "  cue_obj_train.C,\n",
    "  S_val,\n",
    "  F,\n",
    "  Chat_val,\n",
    "  cue_obj_val.A,\n",
    "  cue_obj_train.i2f,\n",
    "  cue_obj_train.f2i, \n",
    "  gold_ind=cue_obj_val.gold_ind,\n",
    "  Shat_val=Shat_val,\n",
    "  check_gold_path=true,\n",
    "  max_t=max_t,\n",
    "  max_can=10,\n",
    "  threshold=0.01,\n",
    "  grams=3,\n",
    "  is_tolerant=true,\n",
    "  tolerance=-0.1,\n",
    "  max_tolerance=1,\n",
    "  tokenized=true,\n",
    "  sep_token=\"-\",\n",
    "  keep_sep=true,\n",
    "  target_col=:Segments,\n",
    "  issparse=:dense,\n",
    "  verbose=false);"
   ]
  },
  {
   "cell_type": "code",
   "execution_count": null,
   "metadata": {},
   "outputs": [],
   "source": [
    "acc_val = JudiLing.eval_acc(res_val, cue_obj_val.gold_ind, verbose=false)"
   ]
  },
  {
   "cell_type": "code",
   "execution_count": null,
   "metadata": {},
   "outputs": [],
   "source": [
    "df = JudiLing.write2df(res_val, data_val, cue_obj_train, cue_obj_val, grams=3, tokenized=true, sep_token=\"-\",\n",
    "                       output_sep_token=\"-\", target_col=:Segments);"
   ]
  },
  {
   "cell_type": "code",
   "execution_count": null,
   "metadata": {},
   "outputs": [],
   "source": [
    "ranks = repeat([100], nrow(data_val));\n",
    "for i in 1:nrow(data_val)\n",
    "    tdf = df[df.utterance .== i, :]\n",
    "    ch = findall(tdf.iscorrect)\n",
    "    if length(ch) != 0\n",
    "        ranks[i] = ch[1]\n",
    "    end\n",
    "end"
   ]
  },
  {
   "cell_type": "code",
   "execution_count": null,
   "metadata": {},
   "outputs": [],
   "source": [
    "# top 1 accuracy\n",
    "sum(ranks .== 1)/length(ranks)"
   ]
  },
  {
   "cell_type": "code",
   "execution_count": null,
   "metadata": {},
   "outputs": [],
   "source": [
    "# top 3 accuracy\n",
    "sum(ranks .<= 3)/length(ranks)"
   ]
  },
  {
   "cell_type": "code",
   "execution_count": null,
   "metadata": {},
   "outputs": [],
   "source": [
    "# top 5 accuracy\n",
    "sum(ranks .<= 5)/length(ranks)"
   ]
  },
  {
   "cell_type": "code",
   "execution_count": null,
   "metadata": {},
   "outputs": [],
   "source": [
    "# top 10 accuracy\n",
    "sum(ranks .<= 10)/length(ranks)"
   ]
  },
  {
   "cell_type": "markdown",
   "metadata": {},
   "source": [
    "## Exercises"
   ]
  },
  {
   "cell_type": "markdown",
   "metadata": {},
   "source": [
    "Training a deep learning model:\n",
    "\n",
    "\n",
    "IMPORTANT: You first need to restart this notebook!"
   ]
  },
  {
   "cell_type": "code",
   "execution_count": null,
   "metadata": {},
   "outputs": [],
   "source": [
    "using Flux\n",
    "using JudiLing"
   ]
  },
  {
   "cell_type": "markdown",
   "metadata": {},
   "source": [
    "Load the datasplit."
   ]
  },
  {
   "cell_type": "code",
   "execution_count": null,
   "metadata": {},
   "outputs": [],
   "source": [
    "data_train, data_val = JudiLing.loading_data_careful_split(\n",
    "            \"../dat/navajo.csv\", #data path\n",
    "            \"nav\", #data_prefix,\n",
    "            \"../dat/split\", #data_output_dir,\n",
    "            [\"Meaning\",\"Mode\",\"SubjPerson\",\"SubjNumber\", \"ObjPerson\",\"ObjNumber\", \"ObjAnimacy\", \"Transitivity\"],\n",
    "            val_sample_size = 570,\n",
    "            n_grams_target_col=\"Segments\",\n",
    "            n_grams_tokenized=true,\n",
    "            n_grams_sep_token=\"-\",\n",
    "            grams = 3,\n",
    "            n_grams_keep_sep= true,\n",
    "            verbose=false);"
   ]
  },
  {
   "cell_type": "markdown",
   "metadata": {},
   "source": [
    "Create cue matrices."
   ]
  },
  {
   "cell_type": "code",
   "execution_count": null,
   "metadata": {},
   "outputs": [],
   "source": [
    "cue_obj_train, cue_obj_val  = JudiLing.make_cue_matrix(\n",
    "    data_train,\n",
    "    data_val,\n",
    "    grams=3,\n",
    "    target_col=:Segments,\n",
    "    tokenized=true,\n",
    "    sep_token = \"-\",\n",
    "    keep_sep=true\n",
    "    );"
   ]
  },
  {
   "cell_type": "markdown",
   "metadata": {},
   "source": [
    "Create S matrices."
   ]
  },
  {
   "cell_type": "code",
   "execution_count": null,
   "metadata": {},
   "outputs": [],
   "source": [
    "n_features = size(cue_obj_train.C, 2)\n",
    "S_train, S_val = JudiLing.make_S_matrix(\n",
    "    data_train,\n",
    "    data_val,\n",
    "    [\"Meaning\"],\n",
    "    [\"Mode\",\"SubjPerson\",\"SubjNumber\",\"ObjPerson\",\"ObjNumber\", \"ObjAnimacy\", \"Transitivity\"],\n",
    "    ncol=n_features,\n",
    "    add_noise=true);"
   ]
  },
  {
   "cell_type": "markdown",
   "metadata": {},
   "source": [
    "Train a DDL comprehension model:"
   ]
  },
  {
   "cell_type": "code",
   "execution_count": null,
   "metadata": {},
   "outputs": [],
   "source": [
    "res_comp = JudiLing.get_and_train_model(cue_obj_train.C, S_train,\n",
    "    cue_obj_val.C, S_val, data_train, data_val, \"Segments\", \"../res/navajo_comp.bson\", early_stopping=20)"
   ]
  },
  {
   "cell_type": "markdown",
   "metadata": {},
   "source": [
    "Predict training and validation semantic matrices:"
   ]
  },
  {
   "cell_type": "code",
   "execution_count": null,
   "metadata": {
    "scrolled": true
   },
   "outputs": [],
   "source": [
    "Shat_train = JudiLing.predict_from_deep_model(res_comp.model, cue_obj_train.C)\n",
    "Shat_val = JudiLing.predict_from_deep_model(res_comp.model, cue_obj_val.C)"
   ]
  },
  {
   "cell_type": "markdown",
   "metadata": {},
   "source": [
    "Evaluate the predicted matrices"
   ]
  },
  {
   "cell_type": "code",
   "execution_count": null,
   "metadata": {},
   "outputs": [],
   "source": [
    "@show JudiLing.eval_SC(Shat_train, S_train, data_train, :Segments)\n",
    "@show JudiLing.eval_SC(Shat_val, S_val, S_train, data_val, data_train, :Segments)"
   ]
  },
  {
   "cell_type": "markdown",
   "metadata": {},
   "source": [
    "We get a training accuracy of 99% and a validation accuracy of 95%. This is slightly higher than what we were able to obtain with LDL."
   ]
  }
 ],
 "metadata": {
  "kernelspec": {
   "display_name": "Julia 1.11.2",
   "language": "julia",
   "name": "julia-1.11"
  },
  "language_info": {
   "file_extension": ".jl",
   "mimetype": "application/julia",
   "name": "julia",
   "version": "1.11.2"
  },
  "toc": {
   "base_numbering": 1,
   "nav_menu": {},
   "number_sections": true,
   "sideBar": true,
   "skip_h1_title": false,
   "title_cell": "Table of Contents",
   "title_sidebar": "Contents",
   "toc_cell": false,
   "toc_position": {},
   "toc_section_display": true,
   "toc_window_display": true
  }
 },
 "nbformat": 4,
 "nbformat_minor": 4
}
