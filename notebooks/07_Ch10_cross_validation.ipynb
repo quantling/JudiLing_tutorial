{
 "cells": [
  {
   "cell_type": "markdown",
   "id": "6d5a0bbd",
   "metadata": {},
   "source": [
    "# Chapter 10: Cross validation"
   ]
  },
  {
   "cell_type": "markdown",
   "id": "766f827e",
   "metadata": {},
   "source": [
    "## Preparations"
   ]
  },
  {
   "cell_type": "markdown",
   "id": "279fbd5c",
   "metadata": {},
   "source": [
    "Load necessary packages."
   ]
  },
  {
   "cell_type": "code",
   "execution_count": null,
   "id": "73594f32",
   "metadata": {},
   "outputs": [],
   "source": [
    "using DataFrames, JudiLing"
   ]
  },
  {
   "cell_type": "markdown",
   "id": "7a4bbd76",
   "metadata": {},
   "source": [
    "## Working with randomly split training and testing data"
   ]
  },
  {
   "cell_type": "markdown",
   "id": "08a09908",
   "metadata": {},
   "source": [
    "For randomly splitting the data we make use of the `loading_data_randomly_split` function. It takes as arguments the filepath from where the data should be loaded (here: `\"../dat/dutch.csv\"`), the filepath to where the resulting split should be saved (here: `\"../dat/cv_random\"`), a prefix of how to call the resulting datafiles (`\"dutch\"`), how many word forms the validation should include (`val_sample_size`) and finally, a random seed can be specified to make the output of the function reproducible."
   ]
  },
  {
   "cell_type": "code",
   "execution_count": null,
   "id": "31896294",
   "metadata": {},
   "outputs": [],
   "source": [
    "data_train, data_val = JudiLing.loading_data_randomly_split(\n",
    "     \"../dat/dutch.csv\", \"../dat/cv_random\", \"dutch\",\n",
    "     val_sample_size = 300,\n",
    "     random_seed = 42);"
   ]
  },
  {
   "cell_type": "markdown",
   "id": "f71f07a7",
   "metadata": {},
   "source": [
    "Now we can create cue objects for the training and test data. Given that there are novel cues present in the testing data, we use the `make_combined_cue_matrix` function."
   ]
  },
  {
   "cell_type": "code",
   "execution_count": null,
   "id": "f3217c2d",
   "metadata": {},
   "outputs": [],
   "source": [
    "cue_obj_train, cue_obj_val = JudiLing.make_combined_cue_matrix(data_train,\n",
    "                                   data_val,\n",
    "                                   grams=3,\n",
    "                                   target_col=\"Ortho\");"
   ]
  },
  {
   "cell_type": "markdown",
   "id": "51d77be4",
   "metadata": {},
   "source": [
    "Similarly for semantic matricex, we use the `make_combined_S_matrix` for novel concepts"
   ]
  },
  {
   "cell_type": "code",
   "execution_count": null,
   "id": "df7ce1c7",
   "metadata": {},
   "outputs": [],
   "source": [
    "S_train, S_val = JudiLing.make_combined_S_matrix(\n",
    "                           data_train,\n",
    "                           data_val,\n",
    "                           [\"Lexeme\"],\n",
    "                           [\"Number\", \"WordCat\"],\n",
    "                           ncol=200);"
   ]
  },
  {
   "cell_type": "markdown",
   "id": "9dd36bf5",
   "metadata": {},
   "source": [
    "For empirical vectors (e.g., word2vec), the semantic matrices for training and testing data have to be done manually."
   ]
  },
  {
   "cell_type": "code",
   "execution_count": null,
   "id": "9e6449e2",
   "metadata": {},
   "outputs": [],
   "source": [
    "# reading in word list and word2vec vectors\n",
    "S, words = JudiLing.load_S_matrix(\"../dat/dutch_w2v.csv\"; header = false, sep = \",\");"
   ]
  },
  {
   "cell_type": "markdown",
   "id": "d2a9d2cf",
   "metadata": {},
   "source": [
    "Get indices of word forms in training and testing data respectively."
   ]
  },
  {
   "cell_type": "code",
   "execution_count": null,
   "id": "efff4025",
   "metadata": {},
   "outputs": [],
   "source": [
    "# for homophones, let's just select the first matched word.\n",
    "# As homophones are not distinguished by word2vec, we will get the same vector anyway.\n",
    "idx_train = [findall(x->x==w, words)[1] for w in data_train.Ortho];\n",
    "idx_test = [findall(x->x==w, words)[1] for w in data_val.Ortho];"
   ]
  },
  {
   "cell_type": "markdown",
   "id": "63440d10",
   "metadata": {},
   "source": [
    "Divide the S matrix into training and test data."
   ]
  },
  {
   "cell_type": "code",
   "execution_count": null,
   "id": "70a19159",
   "metadata": {},
   "outputs": [],
   "source": [
    "S_train_w2v = S[idx_train,:];\n",
    "S_val_w2v = S[idx_test,:];"
   ]
  },
  {
   "cell_type": "markdown",
   "id": "ccfbba12",
   "metadata": {},
   "source": [
    "(Fasttext vectors can be downloaded and directly split according to the supplied train and validation dataframes like this:"
   ]
  },
  {
   "cell_type": "code",
   "execution_count": null,
   "id": "917ee1e6",
   "metadata": {},
   "outputs": [],
   "source": [
    "# uncomment to run\n",
    "\n",
    "# data_train_small, data_val_small, S_ft_train, S_ft_val = JudiLing.load_S_matrix_from_fasttext(data_train,\n",
    "#                                      data_val,\n",
    "#                                      :nl;\n",
    "#                                      target_col=:Ortho,"
   ]
  },
  {
   "cell_type": "markdown",
   "id": "00b0d551",
   "metadata": {},
   "source": [
    "Note that if you opt to use fasttext vectors, you will have to regenerate the cue objects, since some wordforms are excluded from the datasets for which no fasttext vectors exist.)"
   ]
  },
  {
   "cell_type": "markdown",
   "id": "1f8acf99",
   "metadata": {},
   "source": [
    "### Comprehension\n",
    "We now train `F` based on the training data only. Zeros in the F matrix represent novel cues that have not receive any training."
   ]
  },
  {
   "cell_type": "code",
   "execution_count": null,
   "id": "7c2e7a1e",
   "metadata": {
    "scrolled": true
   },
   "outputs": [],
   "source": [
    "F = JudiLing.make_transform_matrix(cue_obj_train.C, S_train)"
   ]
  },
  {
   "cell_type": "markdown",
   "id": "69f8fe78",
   "metadata": {},
   "source": [
    "Next, we can evaluate the training and test accuracy. First, for evaluating training data, we get a predicted semantic matrix for the training data:"
   ]
  },
  {
   "cell_type": "code",
   "execution_count": null,
   "id": "0a96f1b1",
   "metadata": {},
   "outputs": [],
   "source": [
    "Shat_train = cue_obj_train.C * F\n",
    "\n",
    "JudiLing.eval_SC(Shat_train, S_train)"
   ]
  },
  {
   "cell_type": "markdown",
   "id": "5c1426be",
   "metadata": {},
   "source": [
    "For evaluating on the validation data, we use the `cue_obj_val`, but the same mapping matrix `F`:"
   ]
  },
  {
   "cell_type": "code",
   "execution_count": null,
   "id": "a7641124",
   "metadata": {},
   "outputs": [],
   "source": [
    "Shat_val = cue_obj_val.C * F;"
   ]
  },
  {
   "cell_type": "markdown",
   "id": "87871f06",
   "metadata": {},
   "source": [
    "For evaluation, we want to not only compare the predicted semantic vectors with the vectors in the `S_val` matrix, but also with the semantic vectors of the training data. Therefore, we provide both:"
   ]
  },
  {
   "cell_type": "code",
   "execution_count": null,
   "id": "7c7408ef",
   "metadata": {
    "scrolled": true
   },
   "outputs": [],
   "source": [
    "JudiLing.eval_SC(Shat_val, S_val, S_train)"
   ]
  },
  {
   "cell_type": "markdown",
   "id": "bc8637f0",
   "metadata": {},
   "source": [
    "Instead of only counting words as correct when the target is the most correlated word, but also when it is among the top 5 most correlated, we make use of `eval_SC_loose`. It takes the same parameters as `eval_SC`, and additionally the number of top `k` correlated neighbours."
   ]
  },
  {
   "cell_type": "code",
   "execution_count": null,
   "id": "c0e32465",
   "metadata": {},
   "outputs": [],
   "source": [
    "# top 5 acccuracy\n",
    "JudiLing.eval_SC_loose(Shat_val, S_val, S_train, 5)"
   ]
  },
  {
   "cell_type": "code",
   "execution_count": null,
   "id": "393df680",
   "metadata": {
    "scrolled": true
   },
   "outputs": [],
   "source": [
    "# top 10 acccuracy\n",
    "JudiLing.eval_SC_loose(Shat_val, S_val, S_train, 10)"
   ]
  },
  {
   "cell_type": "markdown",
   "id": "0d8f3a53",
   "metadata": {},
   "source": [
    "To get a more precise account of the comprehension results:"
   ]
  },
  {
   "cell_type": "code",
   "execution_count": null,
   "id": "6739867c",
   "metadata": {
    "scrolled": true
   },
   "outputs": [],
   "source": [
    "acc_comp = JudiLing.accuracy_comprehension(S_val,\n",
    "S_train,\n",
    "Shat_val,\n",
    "data_val,\n",
    "data_train,\n",
    "target_col=:Ortho,\n",
    "base=[:Lexeme],\n",
    "inflections=[:WordCat, :Number]);"
   ]
  },
  {
   "cell_type": "markdown",
   "id": "95624111",
   "metadata": {},
   "source": [
    "### Production"
   ]
  },
  {
   "cell_type": "markdown",
   "id": "1e2fbdc6",
   "metadata": {},
   "source": [
    "First, compute production mapping and predicted form matrix (see tutorial 3):"
   ]
  },
  {
   "cell_type": "code",
   "execution_count": null,
   "id": "212749bb",
   "metadata": {},
   "outputs": [],
   "source": [
    "G = JudiLing.make_transform_matrix(S_train, cue_obj_train.C);\n",
    "Chat_val = S_val * G;"
   ]
  },
  {
   "cell_type": "markdown",
   "id": "ec6cc236",
   "metadata": {},
   "source": [
    "Now we run the `learn_paths` function to actually produce forms (see tutorial 5). For evaluating training and testing data we need to use more parameters. Firstly, we need to compute the maximum number of trigrams any word in the training and test data includes:"
   ]
  },
  {
   "cell_type": "code",
   "execution_count": null,
   "id": "790023ef",
   "metadata": {},
   "outputs": [],
   "source": [
    "# the number of steps\n",
    "JudiLing.cal_max_timestep(data_train, data_val, \"Ortho\")"
   ]
  },
  {
   "cell_type": "markdown",
   "id": "adeedde9",
   "metadata": {},
   "source": [
    "Next, we run the actual `learn_paths` function. Details on the individual parameters are provided below and in the help pages. We need to specify the maximum number of trigrams that we have calculated above in the `max_t` parameter. Similar to our earlier use of `learn_paths` we can again set a `threshold`. We also supply information about which `grams` size we used and the target column in the dataset."
   ]
  },
  {
   "cell_type": "code",
   "execution_count": null,
   "id": "8ae88985",
   "metadata": {},
   "outputs": [],
   "source": [
    "prod_val = JudiLing.learn_paths(\n",
    "        data_train,            # training dataset\n",
    "        data_val,              # validation dataset\n",
    "        cue_obj_train.C,       # form matrix for training data\n",
    "        S_val,                 # targeted semantic matrix for validation data\n",
    "        F,                     # comprehension mapping\n",
    "        Chat_val,              # predicted form matrix for validation data\n",
    "        cue_obj_val.A,         # adjacency matrix for validation data\n",
    "        cue_obj_train.i2f,     # index-to-feature dictionary for training data \n",
    "        cue_obj_train.f2i,     # feature-to-index dictionary for training data\n",
    "        max_t=14,\n",
    "        threshold=0.001,\n",
    "        grams=3,\n",
    "        target_col=\"Ortho\");"
   ]
  },
  {
   "cell_type": "markdown",
   "id": "f4691f38",
   "metadata": {},
   "source": [
    "We can again evaluate the produced forms for the validation data based using `eval_acc`:"
   ]
  },
  {
   "cell_type": "code",
   "execution_count": null,
   "id": "b979edcb",
   "metadata": {},
   "outputs": [],
   "source": [
    "JudiLing.eval_acc(prod_val, cue_obj_val)"
   ]
  },
  {
   "cell_type": "markdown",
   "id": "e2a6c79c",
   "metadata": {},
   "source": [
    "We can also make use of the so-called tolerance mode, where the algorithm will tolerate a specified number of trigrams with support below the threshold within each word form. For this, we set `is_tolerant=true`, `tolerance=-0.1` (this controls how much tolerated trigrams with support below the general `threshold` need to be supported) and finally the maximal number of trigrams with lower support should be tolerated (`max_tolerance=1`)."
   ]
  },
  {
   "cell_type": "code",
   "execution_count": null,
   "id": "6cfdbccc",
   "metadata": {},
   "outputs": [],
   "source": [
    "prod_val_tol = JudiLing.learn_paths(\n",
    "        data_train,         \n",
    "        data_val,          \n",
    "        cue_obj_train.C,  \n",
    "        S_val,            \n",
    "        F,             \n",
    "        Chat_val,        \n",
    "        cue_obj_val.A,     \n",
    "        cue_obj_train.i2f, \n",
    "        cue_obj_train.f2i,  \n",
    "        max_t=14,\n",
    "        threshold=0.001,\n",
    "        grams=3,\n",
    "        target_col=\"Ortho\",\n",
    "        is_tolerant = true,\n",
    "        tolerance = -0.1,\n",
    "        max_tolerance = 1);"
   ]
  },
  {
   "cell_type": "code",
   "execution_count": null,
   "id": "714ae1b6",
   "metadata": {},
   "outputs": [],
   "source": [
    "JudiLing.eval_acc(prod_val_tol, cue_obj_val)"
   ]
  },
  {
   "cell_type": "markdown",
   "id": "3dcfc9c6",
   "metadata": {},
   "source": [
    "## Working with carefully split training and testing data\n",
    "\n",
    "For carefully splitting training and testing data, we ensure that the testing data only includes cues (i.e. trigrams) and lexomes and inflectional features that have been seen during training. It's setup is similar to `loading_data_randomly_split`, but additionally we need to specify the columns with lexome and inflectional features (in this case `[\"Lexeme\", \"Number\", \"WordCat\"]` and the column with the target forms (`n_grams_target_col = \"Ortho\"`) as well as the `grams` size."
   ]
  },
  {
   "cell_type": "code",
   "execution_count": null,
   "id": "9640076e",
   "metadata": {
    "scrolled": true
   },
   "outputs": [],
   "source": [
    "data_train, data_val = JudiLing.loading_data_careful_split(\n",
    "     \"../dat/dutch.csv\", \"dutch\", \"../dat/cv_careful\",\n",
    "     [\"Lexeme\", \"Number\", \"WordCat\"],\n",
    "     n_grams_target_col = \"Ortho\",\n",
    "     grams = 3,\n",
    "     val_sample_size = 300,\n",
    "     random_seed = 42);"
   ]
  },
  {
   "cell_type": "markdown",
   "id": "6c5d30fb",
   "metadata": {},
   "source": [
    "Given that we have made sure that no novel cues are present in the testing data, we can simply use the `make_cue_matrix` function."
   ]
  },
  {
   "cell_type": "code",
   "execution_count": null,
   "id": "5cf3e160",
   "metadata": {},
   "outputs": [],
   "source": [
    "cue_obj_train, cue_obj_val = JudiLing.make_cue_matrix(\n",
    "                                   data_train,\n",
    "                                   data_val,\n",
    "                                   grams=3,\n",
    "                                   target_col=\"Ortho\");"
   ]
  },
  {
   "cell_type": "markdown",
   "id": "d9f6c9f2",
   "metadata": {},
   "source": [
    "Creating semantic matrices using simulated vectors"
   ]
  },
  {
   "cell_type": "code",
   "execution_count": null,
   "id": "ceef8e2f",
   "metadata": {},
   "outputs": [],
   "source": [
    "S_train, S_val = JudiLing.make_combined_S_matrix(\n",
    "                           data_train,\n",
    "                           data_val,\n",
    "                           [\"Lexeme\"],\n",
    "                           [\"Number\", \"WordCat\"],\n",
    "                           ncol=200);"
   ]
  },
  {
   "cell_type": "markdown",
   "id": "d5932e84",
   "metadata": {},
   "source": [
    "### Comprehension\n",
    "\n",
    "Compute comprehension mapping based on training data."
   ]
  },
  {
   "cell_type": "code",
   "execution_count": null,
   "id": "f760c9f8",
   "metadata": {},
   "outputs": [],
   "source": [
    "F = JudiLing.make_transform_matrix(cue_obj_train.C, S_train);"
   ]
  },
  {
   "cell_type": "markdown",
   "id": "ad787622",
   "metadata": {},
   "source": [
    "Evaluate on training..."
   ]
  },
  {
   "cell_type": "code",
   "execution_count": null,
   "id": "6e0067a3",
   "metadata": {},
   "outputs": [],
   "source": [
    "Shat_train = cue_obj_train.C * F;\n",
    "JudiLing.eval_SC(Shat_train, S_train)"
   ]
  },
  {
   "cell_type": "markdown",
   "id": "ab369289",
   "metadata": {},
   "source": [
    "...and testing data:"
   ]
  },
  {
   "cell_type": "code",
   "execution_count": null,
   "id": "589b8648",
   "metadata": {},
   "outputs": [],
   "source": [
    "Shat_val = cue_obj_val.C * F;\n",
    "JudiLing.eval_SC(Shat_val, S_val, S_train)"
   ]
  },
  {
   "cell_type": "code",
   "execution_count": null,
   "id": "663d665a",
   "metadata": {},
   "outputs": [],
   "source": [
    "# top 5 acccuracy\n",
    "JudiLing.eval_SC_loose(Shat_val, S_val, S_train, 5)"
   ]
  },
  {
   "cell_type": "code",
   "execution_count": null,
   "id": "4f96d974",
   "metadata": {},
   "outputs": [],
   "source": [
    "# top 10 acccuracy\n",
    "JudiLing.eval_SC_loose(Shat_val, S_val, S_train, 10)"
   ]
  },
  {
   "cell_type": "markdown",
   "id": "2643d2cf",
   "metadata": {},
   "source": [
    "### Production\n",
    "\n",
    "Compute the production mapping based on the training data and the predicted form matrix for the validation data."
   ]
  },
  {
   "cell_type": "code",
   "execution_count": null,
   "id": "f76cebaa",
   "metadata": {},
   "outputs": [],
   "source": [
    "G = JudiLing.make_transform_matrix(S_train, cue_obj_train.C);\n",
    "Chat_val = S_val * G;"
   ]
  },
  {
   "cell_type": "markdown",
   "id": "303bbd0a",
   "metadata": {},
   "source": [
    "Run the `learn_paths` function as described above:"
   ]
  },
  {
   "cell_type": "code",
   "execution_count": null,
   "id": "2e0a29a8",
   "metadata": {},
   "outputs": [],
   "source": [
    "prod_val = JudiLing.learn_paths(\n",
    "        data_train,            # training dataset\n",
    "        data_val,              # validation dataset\n",
    "        cue_obj_train.C,       # form matrix for training data\n",
    "        S_val,                 # targeted semantic matrix for validation data\n",
    "        F,                     # comprehension mapping\n",
    "        Chat_val,              # predicted form matrix for validation data\n",
    "        cue_obj_val.A,         # adjacency matrix for validation data\n",
    "        cue_obj_train.i2f,     # index-to-feature dictionary for training data \n",
    "        cue_obj_train.f2i,     # feature-to-index dictionary for training data\n",
    "        max_t=14,\n",
    "        threshold=0.001,\n",
    "        grams=3,\n",
    "        target_col=\"Ortho\");"
   ]
  },
  {
   "cell_type": "code",
   "execution_count": null,
   "id": "ccbea208",
   "metadata": {},
   "outputs": [],
   "source": [
    "JudiLing.eval_acc(prod_val, cue_obj_val)"
   ]
  },
  {
   "cell_type": "markdown",
   "id": "8aa26772",
   "metadata": {},
   "source": [
    "Making use of tolerance mode:"
   ]
  },
  {
   "cell_type": "code",
   "execution_count": null,
   "id": "48d68bb8",
   "metadata": {},
   "outputs": [],
   "source": [
    "prod_val_tol = JudiLing.learn_paths(\n",
    "        data_train,         \n",
    "        data_val,          \n",
    "        cue_obj_train.C,  \n",
    "        S_val,            \n",
    "        F,             \n",
    "        Chat_val,        \n",
    "        cue_obj_val.A,     \n",
    "        cue_obj_train.i2f, \n",
    "        cue_obj_train.f2i,  \n",
    "        max_t=14,\n",
    "        threshold=0.001,\n",
    "        grams=3,\n",
    "        target_col=\"Ortho\",\n",
    "        is_tolerant = true,\n",
    "        tolerance = -0.1,\n",
    "        max_tolerance = 1);"
   ]
  },
  {
   "cell_type": "code",
   "execution_count": null,
   "id": "918ba63a",
   "metadata": {},
   "outputs": [],
   "source": [
    "JudiLing.eval_acc(prod_val_tol, cue_obj_val)"
   ]
  },
  {
   "cell_type": "markdown",
   "id": "4ef97f82-b0ab-4f22-8f4d-091faf37ff2e",
   "metadata": {},
   "source": [
    "## Exercises"
   ]
  },
  {
   "cell_type": "markdown",
   "id": "d1667328-d541-4d9f-b78b-697939310b6a",
   "metadata": {},
   "source": [
    "### Exercise 1\n",
    "\n",
    "Creating a random data split"
   ]
  },
  {
   "cell_type": "code",
   "execution_count": null,
   "id": "bb36983e-76f1-4cb9-868d-39c2fb40b2b8",
   "metadata": {},
   "outputs": [],
   "source": [
    "data_train, data_val = JudiLing.loading_data_randomly_split(\n",
    "     \"../dat/latin.csv\", \"../dat/cv_random\", \"latin\",\n",
    "     val_sample_size = 50,\n",
    "     random_seed = 42);"
   ]
  },
  {
   "cell_type": "markdown",
   "id": "9b9d4964-7c1b-40a0-922f-29468d5c5942",
   "metadata": {},
   "source": [
    "Creating cue matrices."
   ]
  },
  {
   "cell_type": "code",
   "execution_count": null,
   "id": "42782091-e5e7-470f-bad9-990bb46ded8a",
   "metadata": {},
   "outputs": [],
   "source": [
    "cue_obj_train, cue_obj_val = JudiLing.make_combined_cue_matrix(data_train,\n",
    "                                   data_val,\n",
    "                                   grams=3,\n",
    "                                   target_col=\"Word\");"
   ]
  },
  {
   "cell_type": "markdown",
   "id": "4c1897cf-06c6-49b0-8d89-deb94ac0aa11",
   "metadata": {},
   "source": [
    "Creating S matrices:"
   ]
  },
  {
   "cell_type": "code",
   "execution_count": null,
   "id": "32ef7fee-e74d-465f-87de-bb852be700f5",
   "metadata": {
    "scrolled": true
   },
   "outputs": [],
   "source": [
    "S_train, S_val = JudiLing.make_combined_S_matrix(\n",
    "                           data_train,\n",
    "                           data_val,\n",
    "                           [\"Lexeme\"],\n",
    "                           [\"Person\", \"Number\", \"Tense\", \"Voice\", \"Mood\"],\n",
    "                           ncol=300);"
   ]
  },
  {
   "cell_type": "markdown",
   "id": "b4638e9d-ea50-47bf-b866-169327872d98",
   "metadata": {},
   "source": [
    "### Exercise 2\n",
    "\n",
    "Training a comprehension mapping using the training data:"
   ]
  },
  {
   "cell_type": "code",
   "execution_count": null,
   "id": "a02ad37c-8ac1-44ac-8a26-75a89abce109",
   "metadata": {
    "scrolled": true
   },
   "outputs": [],
   "source": [
    "F = JudiLing.make_transform_matrix(cue_obj_train.C, S_train)"
   ]
  },
  {
   "cell_type": "markdown",
   "id": "10ea8454-e7d7-4e83-860c-7c15cb81653b",
   "metadata": {},
   "source": [
    "Predicting semantic vectors for both the training and validation data"
   ]
  },
  {
   "cell_type": "code",
   "execution_count": null,
   "id": "0151153e-478e-4cf0-a772-d18de62dd12f",
   "metadata": {
    "scrolled": true
   },
   "outputs": [],
   "source": [
    "Shat_train = cue_obj_train.C * F\n",
    "Shat_val = cue_obj_val.C * F"
   ]
  },
  {
   "cell_type": "markdown",
   "id": "9872b809-4ba1-4495-ae49-c485d6f9bd46",
   "metadata": {},
   "source": [
    "Evaluation without taking into account homographs:"
   ]
  },
  {
   "cell_type": "code",
   "execution_count": null,
   "id": "196f7fac-0cfb-4eac-b239-1c196c3e1623",
   "metadata": {},
   "outputs": [],
   "source": [
    "JudiLing.eval_SC(Shat_train, S_train)"
   ]
  },
  {
   "cell_type": "code",
   "execution_count": null,
   "id": "fb1c95e9-45e6-4e1e-ad51-014c029f1cb5",
   "metadata": {},
   "outputs": [],
   "source": [
    "JudiLing.eval_SC(Shat_val, S_val, S_train)"
   ]
  },
  {
   "cell_type": "markdown",
   "id": "8b910b88-b5e2-4f16-ad9a-cc17bc4c1754",
   "metadata": {},
   "source": [
    "Evaluation while taking into account homographs:"
   ]
  },
  {
   "cell_type": "code",
   "execution_count": null,
   "id": "eeeb950b-2f7d-4a35-9dc4-83ee59b09266",
   "metadata": {},
   "outputs": [],
   "source": [
    "JudiLing.eval_SC(Shat_train, S_train, data_train, \"Word\")"
   ]
  },
  {
   "cell_type": "code",
   "execution_count": null,
   "id": "03ce6583-db87-4409-85f3-3a8707c8c447",
   "metadata": {},
   "outputs": [],
   "source": [
    "JudiLing.eval_SC(Shat_val, S_val, S_train, data_val, data_train, \"Word\")"
   ]
  },
  {
   "cell_type": "markdown",
   "id": "f1cfd354-cfcb-47d2-8687-4ca58b0241dc",
   "metadata": {},
   "source": [
    "### Exercise 3\n",
    "\n",
    "Producing word forms for the validation data"
   ]
  },
  {
   "cell_type": "code",
   "execution_count": null,
   "id": "fbcf5311-4980-4fc8-8383-7f0c4029d4b5",
   "metadata": {
    "scrolled": true
   },
   "outputs": [],
   "source": [
    "G = JudiLing.make_transform_matrix(S_train, cue_obj_train.C)"
   ]
  },
  {
   "cell_type": "code",
   "execution_count": null,
   "id": "0e81c962-9f06-4efc-ae5f-4a71bf54bf2e",
   "metadata": {
    "scrolled": true
   },
   "outputs": [],
   "source": [
    "Chat_train = S_train * G\n",
    "Chat_val = S_val * G"
   ]
  },
  {
   "cell_type": "code",
   "execution_count": null,
   "id": "537ad368-a1f5-45b4-b1b2-999abd4eb998",
   "metadata": {},
   "outputs": [],
   "source": [
    "JudiLing.cal_max_timestep(data_train, data_val, \"Word\")"
   ]
  },
  {
   "cell_type": "code",
   "execution_count": null,
   "id": "be2a0d83-b3c8-4fee-8170-c58dfe1dc443",
   "metadata": {},
   "outputs": [],
   "source": [
    "prod_val = JudiLing.learn_paths(\n",
    "        data_train,            # training dataset\n",
    "        data_val,              # validation dataset\n",
    "        cue_obj_train.C,       # form matrix for training data\n",
    "        S_val,                 # targeted semantic matrix for validation data\n",
    "        F,                     # comprehension mapping\n",
    "        Chat_val,              # predicted form matrix for validation data\n",
    "        cue_obj_val.A,         # adjacency matrix for validation data\n",
    "        cue_obj_train.i2f,     # index-to-feature dictionary for training data \n",
    "        cue_obj_train.f2i,     # feature-to-index dictionary for training data\n",
    "        max_t=16,\n",
    "        threshold=0.001,\n",
    "        grams=3,\n",
    "        target_col=\"Word\",\n",
    "        verbose=true);"
   ]
  },
  {
   "cell_type": "code",
   "execution_count": null,
   "id": "b69d9ba0-5530-4b4b-bb48-9572f0c06563",
   "metadata": {
    "scrolled": true
   },
   "outputs": [],
   "source": [
    "JudiLing.eval_acc(prod_val, cue_obj_val)"
   ]
  },
  {
   "cell_type": "markdown",
   "id": "87e18beb-6411-4c9f-9950-f9c513daeb3f",
   "metadata": {},
   "source": [
    "### Exercise 4\n",
    "\n",
    "Repeat the analysis above with a careful split."
   ]
  },
  {
   "cell_type": "code",
   "execution_count": null,
   "id": "dd5a4a0e-a4b5-4efc-8140-107c9b16dae0",
   "metadata": {},
   "outputs": [],
   "source": [
    "data_train, data_val = JudiLing.loading_data_careful_split(\n",
    "     \"../dat/latin.csv\", \"latin\", \"../dat/cv_careful\",\n",
    "     [\"Lexeme\", \"Person\", \"Number\", \"Tense\", \"Voice\", \"Mood\"],\n",
    "     n_grams_target_col = \"Word\",\n",
    "     grams = 3,\n",
    "     val_sample_size = 50,\n",
    "     random_seed = 42);"
   ]
  },
  {
   "cell_type": "code",
   "execution_count": null,
   "id": "d27eac13-864c-4b6c-88d2-cd0738e0ae4b",
   "metadata": {},
   "outputs": [],
   "source": [
    "cue_obj_train, cue_obj_val = JudiLing.make_combined_cue_matrix(data_train,\n",
    "                                   data_val,\n",
    "                                   grams=3,\n",
    "                                   target_col=\"Word\");"
   ]
  },
  {
   "cell_type": "code",
   "execution_count": null,
   "id": "720d4e14-b579-43a9-a3ca-113bb27518ac",
   "metadata": {},
   "outputs": [],
   "source": [
    "S_train, S_val = JudiLing.make_combined_S_matrix(\n",
    "                           data_train,\n",
    "                           data_val,\n",
    "                           [\"Lexeme\"],\n",
    "                           [\"Person\", \"Number\", \"Tense\", \"Voice\", \"Mood\"],\n",
    "                           ncol=300);"
   ]
  },
  {
   "cell_type": "code",
   "execution_count": null,
   "id": "8536169c-7c5a-4fad-887d-f78c8fd54ef7",
   "metadata": {
    "scrolled": true
   },
   "outputs": [],
   "source": [
    "F = JudiLing.make_transform_matrix(cue_obj_train.C, S_train)\n",
    "Shat_train = cue_obj_train.C * F\n",
    "Shat_val = cue_obj_val.C * F"
   ]
  },
  {
   "cell_type": "code",
   "execution_count": null,
   "id": "a220763d-5824-4df1-8cc9-b55493886a36",
   "metadata": {},
   "outputs": [],
   "source": [
    "JudiLing.eval_SC(Shat_train, S_train)"
   ]
  },
  {
   "cell_type": "code",
   "execution_count": null,
   "id": "82c15aea-e6b7-44a5-983a-e1e76c32664d",
   "metadata": {},
   "outputs": [],
   "source": [
    "JudiLing.eval_SC(Shat_val, S_val, S_train)"
   ]
  },
  {
   "cell_type": "code",
   "execution_count": null,
   "id": "26321d71-3c99-4c23-9443-3514e3d2827f",
   "metadata": {
    "scrolled": true
   },
   "outputs": [],
   "source": [
    "G = JudiLing.make_transform_matrix(S_train, cue_obj_train.C)\n",
    "Chat_train = S_train * G\n",
    "Chat_val = S_val * G"
   ]
  },
  {
   "cell_type": "code",
   "execution_count": null,
   "id": "79d99ea3-f3a2-4e93-887d-2b3f96668401",
   "metadata": {},
   "outputs": [],
   "source": [
    "JudiLing.cal_max_timestep(data_train, data_val, \"Word\")"
   ]
  },
  {
   "cell_type": "code",
   "execution_count": null,
   "id": "388d7c1c-f9ca-47dd-a534-8d259777115f",
   "metadata": {},
   "outputs": [],
   "source": [
    "prod_val = JudiLing.learn_paths(\n",
    "        data_train,            # training dataset\n",
    "        data_val,              # validation dataset\n",
    "        cue_obj_train.C,       # form matrix for training data\n",
    "        S_val,                 # targeted semantic matrix for validation data\n",
    "        F,                     # comprehension mapping\n",
    "        Chat_val,              # predicted form matrix for validation data\n",
    "        cue_obj_val.A,         # adjacency matrix for validation data\n",
    "        cue_obj_train.i2f,     # index-to-feature dictionary for training data \n",
    "        cue_obj_train.f2i,     # feature-to-index dictionary for training data\n",
    "        max_t=16,\n",
    "        threshold=0.001,\n",
    "        grams=3,\n",
    "        target_col=\"Word\");"
   ]
  },
  {
   "cell_type": "code",
   "execution_count": null,
   "id": "6347cd4c-9f40-434e-b0a3-8e8bcb07c20b",
   "metadata": {},
   "outputs": [],
   "source": [
    "JudiLing.eval_acc(prod_val, cue_obj_val)"
   ]
  },
  {
   "cell_type": "markdown",
   "id": "a1f88660-4e16-475f-8a63-85e9024d170b",
   "metadata": {},
   "source": [
    "The comprehension mapping is so good, that there is no big difference between the random and careful split, but there is a bit of an improvement for the careful split in production."
   ]
  }
 ],
 "metadata": {
  "kernelspec": {
   "display_name": "Julia 1.11.2",
   "language": "julia",
   "name": "julia-1.11"
  },
  "language_info": {
   "file_extension": ".jl",
   "mimetype": "application/julia",
   "name": "julia",
   "version": "1.11.2"
  },
  "toc": {
   "base_numbering": 1,
   "nav_menu": {},
   "number_sections": true,
   "sideBar": true,
   "skip_h1_title": false,
   "title_cell": "Table of Contents",
   "title_sidebar": "Contents",
   "toc_cell": false,
   "toc_position": {},
   "toc_section_display": true,
   "toc_window_display": false
  }
 },
 "nbformat": 4,
 "nbformat_minor": 5
}
