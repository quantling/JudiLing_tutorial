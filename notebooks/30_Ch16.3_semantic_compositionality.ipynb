{
 "cells": [
  {
   "cell_type": "markdown",
   "id": "609616fa-e424-474d-8198-daa1679ea813",
   "metadata": {},
   "source": [
    "# Chapter 16.3: Semantic compositionality\n",
    "\n",
    "Loading libraries:"
   ]
  },
  {
   "cell_type": "code",
   "execution_count": null,
   "id": "e69eb35d-8e3d-41f7-865f-f7de9584cc87",
   "metadata": {},
   "outputs": [],
   "source": [
    "using JudiLing, DataFrames, Statistics, Plots\n",
    "default(fmt=:jpg)"
   ]
  },
  {
   "cell_type": "markdown",
   "id": "db086ca5-fc3d-4032-8872-dd301a2261a8",
   "metadata": {},
   "source": [
    "## FRACSS"
   ]
  },
  {
   "cell_type": "markdown",
   "id": "2b472614-f733-497f-8e06-fcdf23748c1c",
   "metadata": {},
   "source": [
    "Define a small toy dataset:"
   ]
  },
  {
   "cell_type": "code",
   "execution_count": null,
   "id": "60ba6665-79ac-4060-8aa9-daa74326063f",
   "metadata": {
    "scrolled": true
   },
   "outputs": [],
   "source": [
    "re_data = DataFrame(\"simple\"=>[\"do\", \"visit\", \"sing\", \"open\"],\n",
    "                        \"affixed\"=>[\"redo\", \"revisit\", \"resing\", \"reopen\"])"
   ]
  },
  {
   "cell_type": "markdown",
   "id": "19a4cecf-fb6d-4be6-b473-a665f4b44f85",
   "metadata": {},
   "source": [
    "Get semantic vectors for both the simple and affixed vectors. For demonstration, reduce them to 5 dimensions:"
   ]
  },
  {
   "cell_type": "code",
   "execution_count": null,
   "id": "0c1fd54a-de85-47b6-b748-a2c220418978",
   "metadata": {},
   "outputs": [],
   "source": [
    "re_data, S = JudiLing.load_S_matrix_from_fasttext(re_data, :en, target_col=\"simple\")\n",
    "S = S[:,1:5]"
   ]
  },
  {
   "cell_type": "code",
   "execution_count": null,
   "id": "766e9f1e-2bec-4884-bf25-f0bff69184ab",
   "metadata": {},
   "outputs": [],
   "source": [
    "sample_words, A = JudiLing.load_S_matrix_from_fasttext(re_data, :en, target_col=\"affixed\")\n",
    "A = A[:,1:5]"
   ]
  },
  {
   "cell_type": "markdown",
   "id": "e7ce0c9c-5677-4224-90af-5228baa786b1",
   "metadata": {},
   "source": [
    "Compute a mapping matrix from simple to affixed vectors:"
   ]
  },
  {
   "cell_type": "code",
   "execution_count": null,
   "id": "de59a467-5f5f-4e98-b9e1-ea18c1c03ec4",
   "metadata": {
    "scrolled": true
   },
   "outputs": [],
   "source": [
    "FRACSS = JudiLing.make_transform_matrix(S, A)"
   ]
  },
  {
   "cell_type": "markdown",
   "id": "b509ae7c-ab4d-49b9-b681-8f63e1e069d4",
   "metadata": {},
   "source": [
    "Predict the affixed vectors:"
   ]
  },
  {
   "cell_type": "code",
   "execution_count": null,
   "id": "3863dbcb-ee97-439b-a555-308fd930695d",
   "metadata": {
    "scrolled": true
   },
   "outputs": [],
   "source": [
    "Ahat = S * FRACSS"
   ]
  },
  {
   "cell_type": "markdown",
   "id": "c67ea4f0-12e9-4d57-a3c6-c3d419fb4f60",
   "metadata": {},
   "source": [
    "Compute the correlation matrix between the predicted and the target affixed vectors:"
   ]
  },
  {
   "cell_type": "code",
   "execution_count": null,
   "id": "0c98b367-393e-41b2-8add-4479874d842a",
   "metadata": {
    "scrolled": true
   },
   "outputs": [],
   "source": [
    "acc_affixed, cor_affixed = JudiLing.eval_SC(Ahat, A, R=true)"
   ]
  },
  {
   "cell_type": "markdown",
   "id": "f6ab6952-1e29-48e7-9e2d-e968563bb867",
   "metadata": {},
   "source": [
    "Plot as heatmap:"
   ]
  },
  {
   "cell_type": "code",
   "execution_count": null,
   "id": "a8dbf88b-87f7-481a-8b75-2dbd27f2f332",
   "metadata": {},
   "outputs": [],
   "source": [
    "p=heatmap(cor_affixed,  xticks=(1:1:4, [\"re*do\", \"re*visit\", \"re*sing\", \"re*open\"]),\n",
    "yticks=(1:1:4, re_data.affixed), xlab=\"Predicted semantics\", ylab=\"Target semantics\", size=(600,400),clim=(-1,1))\n",
    "for row in 1:4\n",
    "    for col in 1:4 \n",
    "        annotate!(row,col,text.(round.(cor_affixed[row,col], digits=2), :lightblue))\n",
    "    end\n",
    "end\n",
    "p"
   ]
  },
  {
   "cell_type": "code",
   "execution_count": null,
   "id": "f3f7bd12-19c0-4a6c-9801-d53185d9b5a0",
   "metadata": {
    "scrolled": true
   },
   "outputs": [],
   "source": [
    "#savefig(\"../fig/fracss.pdf\")"
   ]
  },
  {
   "cell_type": "markdown",
   "id": "8191712d-f69a-46b2-9159-3d5f71b83819",
   "metadata": {},
   "source": [
    "## CAOSS"
   ]
  },
  {
   "cell_type": "markdown",
   "id": "ceec78d5-d2cc-47d5-b851-b25dd55a7e14",
   "metadata": {},
   "source": [
    "Define a toy dataset with a few compounds:"
   ]
  },
  {
   "cell_type": "code",
   "execution_count": null,
   "id": "c6ed9c8d-b5be-4002-88cc-e3c4dd4592d2",
   "metadata": {},
   "outputs": [],
   "source": [
    "compounds = DataFrame(\"word\"=>[\"schoolwork\", \"homework\", \"housework\", \"schoolbus\", \"housekeeper\"],\n",
    "                    \"constituent1\"=>[\"school\", \"home\", \"house\", \"school\", \"house\"],\n",
    "                    \"constituent2\"=>[\"work\", \"work\", \"work\", \"bus\", \"keeper\"])"
   ]
  },
  {
   "cell_type": "markdown",
   "id": "2bb5203a-472b-4d83-aa1d-4660eb77febb",
   "metadata": {},
   "source": [
    "Load semantic vectors for the compounds and each of the constituents. For demonstration purposes again limit the semantic vectors to 5 dimensions:"
   ]
  },
  {
   "cell_type": "code",
   "execution_count": null,
   "id": "d5e71733-1e0a-40e9-96aa-7d94b311b06e",
   "metadata": {},
   "outputs": [],
   "source": [
    "compounds, T = JudiLing.load_S_matrix_from_fasttext(compounds, :en, target_col=\"word\")\n",
    "T = T[:,1:5]"
   ]
  },
  {
   "cell_type": "code",
   "execution_count": null,
   "id": "9e575e27-365b-4981-bb87-5ff66b72e324",
   "metadata": {
    "scrolled": true
   },
   "outputs": [],
   "source": [
    "compounds, S_constituents1 = JudiLing.load_S_matrix_from_fasttext(compounds, :en, target_col=\"constituent1\")\n",
    "S_constituents1 = S_constituents1[:,1:5]"
   ]
  },
  {
   "cell_type": "code",
   "execution_count": null,
   "id": "ac49119d-76f9-4d52-9fe3-7ffae7f848cb",
   "metadata": {},
   "outputs": [],
   "source": [
    "compounds, S_constituents2 = JudiLing.load_S_matrix_from_fasttext(compounds, :en, target_col=\"constituent2\")\n",
    "S_constituents2 = S_constituents2[:,1:5]"
   ]
  },
  {
   "cell_type": "markdown",
   "id": "7f92b7b7-d5a4-4420-9b13-8b5056563a58",
   "metadata": {},
   "source": [
    "Concatenate the semantic vectors of the constituents:"
   ]
  },
  {
   "cell_type": "code",
   "execution_count": null,
   "id": "e96d9d87-cdf2-4d13-9c8b-70fd307b11a1",
   "metadata": {},
   "outputs": [],
   "source": [
    "O = hcat(S_constituents1, S_constituents2)"
   ]
  },
  {
   "cell_type": "markdown",
   "id": "de9d3a68-4c17-4efa-ac85-3afc3142a2e0",
   "metadata": {},
   "source": [
    "First constituent"
   ]
  },
  {
   "cell_type": "code",
   "execution_count": null,
   "id": "fd459c61-572c-4221-ad5f-11a94aff8a5e",
   "metadata": {},
   "outputs": [],
   "source": [
    "O[:,1:5]"
   ]
  },
  {
   "cell_type": "markdown",
   "id": "6152c572-f5c3-4d3b-8b60-e55b1d57d4b7",
   "metadata": {},
   "source": [
    "Second consituent"
   ]
  },
  {
   "cell_type": "code",
   "execution_count": null,
   "id": "d8a41f61-989e-490b-906f-aa27a57912f1",
   "metadata": {},
   "outputs": [],
   "source": [
    "O[:,6:end]"
   ]
  },
  {
   "cell_type": "markdown",
   "id": "ddfa8084-69c2-4820-bfcd-28679da46e87",
   "metadata": {},
   "source": [
    "Compute mapping matrix:"
   ]
  },
  {
   "cell_type": "code",
   "execution_count": null,
   "id": "2759c7eb-72a7-4405-b940-7f11cf12f1c6",
   "metadata": {
    "scrolled": true
   },
   "outputs": [],
   "source": [
    "N = JudiLing.make_transform_matrix(O, T)"
   ]
  },
  {
   "cell_type": "markdown",
   "id": "5f1d6d13-b4e3-4810-8d46-d5cbe0c87a79",
   "metadata": {},
   "source": [
    "To mirror how the mapping is displayed in Marelli et al. (2017), split the mapping matrix back into two matrices, one for each of the constituents:"
   ]
  },
  {
   "cell_type": "code",
   "execution_count": null,
   "id": "b1a143f3-f028-452d-b576-21065dda5a0a",
   "metadata": {},
   "outputs": [],
   "source": [
    "M = N[1:5, :]\n",
    "H = N[6:end, :]"
   ]
  },
  {
   "cell_type": "markdown",
   "id": "1afb89a2-ec5e-45c5-99ec-bd477e8ea77f",
   "metadata": {},
   "source": [
    "Reconstructing \"schoolwork\" step by step, first using the two individual matrices:"
   ]
  },
  {
   "cell_type": "code",
   "execution_count": null,
   "id": "97a8bbb6-66f7-4a74-abba-7f98d0a45b3e",
   "metadata": {
    "scrolled": true
   },
   "outputs": [],
   "source": [
    "school = S_constituents1[compounds.constituent1 .== \"school\",:][1:1,:]\n",
    "work = S_constituents2[compounds.constituent2 .== \"work\", :][1:1,:]\n",
    "\n",
    "school_const = school * M\n",
    "work_const = work * H\n",
    "\n",
    "schoolwork = school_const .+ work_const"
   ]
  },
  {
   "cell_type": "markdown",
   "id": "10db40aa-45e6-444b-ab7d-c0c76b63eafb",
   "metadata": {},
   "source": [
    "Now show that we get the same result if we use one mapping matrix:"
   ]
  },
  {
   "cell_type": "code",
   "execution_count": null,
   "id": "c945706c-1195-458b-92ed-f42ca4668d4a",
   "metadata": {},
   "outputs": [],
   "source": [
    "schoolwork_direct = hcat(school, work) * N"
   ]
  },
  {
   "cell_type": "code",
   "execution_count": null,
   "id": "8f88bf2f-5578-4215-9886-246ab76ea7b2",
   "metadata": {
    "scrolled": true
   },
   "outputs": [],
   "source": [
    "all(schoolwork .≈ schoolwork_direct)"
   ]
  },
  {
   "cell_type": "markdown",
   "id": "dc31f08d-fde8-406d-969c-346217a82e3d",
   "metadata": {},
   "source": [
    "How correlated is the predicted schoolwork vector with the original one?"
   ]
  },
  {
   "cell_type": "code",
   "execution_count": null,
   "id": "31801cea-512b-4013-8edd-662682b8bfb6",
   "metadata": {},
   "outputs": [],
   "source": [
    "schoolwork_target = T[(compounds.word .== \"schoolwork\"),:]\n",
    "cor(schoolwork, schoolwork_target, dims=2)"
   ]
  },
  {
   "cell_type": "markdown",
   "id": "32314e5b-9412-4d79-85c9-e2584815e0f9",
   "metadata": {},
   "source": [
    "Estimating all vectors at once:"
   ]
  },
  {
   "cell_type": "code",
   "execution_count": null,
   "id": "eaee0ff1-f667-4ddb-8e0b-6421c038614d",
   "metadata": {
    "scrolled": true
   },
   "outputs": [],
   "source": [
    "That = O * N"
   ]
  },
  {
   "cell_type": "markdown",
   "id": "07038205-1fcf-4830-a516-bdb977268170",
   "metadata": {},
   "source": [
    "Compute correlation matrix between predicted and target compound vectors:"
   ]
  },
  {
   "cell_type": "code",
   "execution_count": null,
   "id": "f82eb6f5-250f-4deb-802b-1aa606dd3706",
   "metadata": {
    "scrolled": true
   },
   "outputs": [],
   "source": [
    "acc, cor_m = JudiLing.eval_SC(That, T, R=true)"
   ]
  },
  {
   "cell_type": "markdown",
   "id": "f8043857-c99e-467e-8040-538793d93134",
   "metadata": {},
   "source": [
    "Generate heatmap"
   ]
  },
  {
   "cell_type": "code",
   "execution_count": null,
   "id": "24dcd9a7-01d6-4d4d-81af-2f78ffe1047e",
   "metadata": {},
   "outputs": [],
   "source": [
    "p=heatmap(cor_m,  xticks=(1:1:5, [\"school*work\", \"home*work\", \"house*work\", \"school*bus\", \"house*keeper\"]),\n",
    "yticks=(1:1:5, compounds.word), xlab=\"Predicted semantics\", ylab=\"Target semantics\", size=(600,400),clim=(-1,1))\n",
    "for row in 1:5\n",
    "    for col in 1:5 \n",
    "        annotate!(row,col,text.(round.(cor_m[row,col], digits=2), :lightblue))\n",
    "    end\n",
    "end\n",
    "p"
   ]
  },
  {
   "cell_type": "code",
   "execution_count": null,
   "id": "0b75085b-88b4-4d45-a792-8c5d2795366b",
   "metadata": {},
   "outputs": [],
   "source": [
    "#savefig(\"../fig/caoss.pdf\")"
   ]
  },
  {
   "cell_type": "markdown",
   "id": "819d4c10-cda2-41df-975d-f7081eaa0646",
   "metadata": {},
   "source": [
    "# CosClassAvg"
   ]
  },
  {
   "cell_type": "markdown",
   "id": "a84423eb-1b4a-4880-878d-364a2085f588",
   "metadata": {},
   "source": [
    "Define a toy dataset with a few words from the semantic class of \"fruit\":"
   ]
  },
  {
   "cell_type": "code",
   "execution_count": null,
   "id": "de57a445-cdee-465e-b32e-2c98040fdd70",
   "metadata": {
    "scrolled": true
   },
   "outputs": [],
   "source": [
    "fruit = DataFrame(\"singular\" => [\"banana\", \"apple\", \"pineapple\", \"pear\"],\n",
    "                \"plural\" => [\"bananas\", \"apples\", \"pineapples\", \"pears\"])"
   ]
  },
  {
   "cell_type": "markdown",
   "id": "2cbe4695-8ddb-4f44-81e4-975234f70e8d",
   "metadata": {},
   "source": [
    "Get semantic vectors for the singular and plurals from fasttext:"
   ]
  },
  {
   "cell_type": "code",
   "execution_count": null,
   "id": "2cd2b0e9-9a1e-41f8-9005-0e0f7baa7130",
   "metadata": {},
   "outputs": [],
   "source": [
    "dat, S_singulars = JudiLing.load_S_matrix_from_fasttext(fruit, :en, target_col=\"singular\")\n",
    "S_singulars = S_singulars[:, 1:5]"
   ]
  },
  {
   "cell_type": "code",
   "execution_count": null,
   "id": "c187426b-8bcd-465a-8546-82253fcb23cb",
   "metadata": {
    "scrolled": true
   },
   "outputs": [],
   "source": [
    "dat, S_plurals = JudiLing.load_S_matrix_from_fasttext(fruit, :en, target_col=\"plural\")\n",
    "S_plurals = S_plurals[:, 1:5]"
   ]
  },
  {
   "cell_type": "markdown",
   "id": "e01823c0-331d-4a42-9c63-22134c49dca9",
   "metadata": {},
   "source": [
    "Compute the shift vectors of each word:"
   ]
  },
  {
   "cell_type": "code",
   "execution_count": null,
   "id": "9ad02d79-e786-4229-9711-f9c150f1c26d",
   "metadata": {
    "scrolled": true
   },
   "outputs": [],
   "source": [
    "S_shift = S_plurals .- S_singulars"
   ]
  },
  {
   "cell_type": "markdown",
   "id": "2606a4af-e873-444e-bcb6-c3924c3bec6f",
   "metadata": {},
   "source": [
    "Average over them to create the shift vector for fruit:"
   ]
  },
  {
   "cell_type": "code",
   "execution_count": null,
   "id": "aae28a34-b635-4252-a291-a13f210c61ae",
   "metadata": {
    "scrolled": true
   },
   "outputs": [],
   "source": [
    "shift_fruit = mean(S_shift, dims=1)"
   ]
  },
  {
   "cell_type": "markdown",
   "id": "87d76772-5e0a-470c-84fd-5a8a927926ee",
   "metadata": {},
   "source": [
    "Predict plural semantics using the shift vector:"
   ]
  },
  {
   "cell_type": "code",
   "execution_count": null,
   "id": "77203938-3b74-40a9-b5cf-72e758e672c9",
   "metadata": {
    "scrolled": true
   },
   "outputs": [],
   "source": [
    "S_plurals_predicted = S_singulars .+ shift_fruit"
   ]
  },
  {
   "cell_type": "markdown",
   "id": "a9f1503c-ae12-400c-9d40-1c3a3aed98a1",
   "metadata": {},
   "source": [
    "Compute correlation between predicted and target plural vectors:"
   ]
  },
  {
   "cell_type": "code",
   "execution_count": null,
   "id": "74985beb-aced-48ff-b33a-945205e56a1a",
   "metadata": {},
   "outputs": [],
   "source": [
    "acc, cor_m_cosclassavg = JudiLing.eval_SC(S_plurals_predicted, S_plurals, R=true)"
   ]
  },
  {
   "cell_type": "code",
   "execution_count": null,
   "id": "d48a4ce0-a7b2-42c1-a154-4863414c32ee",
   "metadata": {},
   "outputs": [],
   "source": [
    "p=heatmap(cor_m_cosclassavg,  xticks=(1:1:5, [\"banana+s\", \"apple+s\", \"pineapple+s\", \"pear+s\"]),\n",
    "yticks=(1:1:4, dat.plural), xlab=\"Predicted semantics\", ylab=\"Target semantics\", size=(600,400),clim=(-1,1))\n",
    "for row in 1:4\n",
    "    for col in 1:4 \n",
    "        annotate!(row,col,text.(round.(cor_m_cosclassavg[row,col], digits=2), :darkblue))\n",
    "    end\n",
    "end\n",
    "p"
   ]
  },
  {
   "cell_type": "code",
   "execution_count": null,
   "id": "f713d451-a394-4e70-8bca-9a6e742e9320",
   "metadata": {},
   "outputs": [],
   "source": [
    "#savefig(\"../fig/cosclassavg.pdf\")"
   ]
  }
 ],
 "metadata": {
  "kernelspec": {
   "display_name": "Julia 1.11.2",
   "language": "julia",
   "name": "julia-1.11"
  },
  "language_info": {
   "file_extension": ".jl",
   "mimetype": "application/julia",
   "name": "julia",
   "version": "1.11.2"
  }
 },
 "nbformat": 4,
 "nbformat_minor": 5
}
