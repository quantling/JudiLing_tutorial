{
 "cells": [
  {
   "cell_type": "markdown",
   "id": "a7f1981a",
   "metadata": {},
   "source": [
    "# Chapter 5: Meaning representations"
   ]
  },
  {
   "cell_type": "markdown",
   "id": "6310592f",
   "metadata": {},
   "source": [
    "## Preparations"
   ]
  },
  {
   "cell_type": "markdown",
   "id": "9d748d16",
   "metadata": {},
   "source": [
    "Load necessary packages."
   ]
  },
  {
   "cell_type": "code",
   "execution_count": null,
   "id": "cf97d90b",
   "metadata": {},
   "outputs": [],
   "source": [
    "using JudiLing, CSV, DataFrames, Plots"
   ]
  },
  {
   "cell_type": "markdown",
   "id": "d6ab9146",
   "metadata": {},
   "source": [
    "Load the Dutch dataset we will be working with."
   ]
  },
  {
   "cell_type": "code",
   "execution_count": null,
   "id": "ac68206a",
   "metadata": {},
   "outputs": [],
   "source": [
    "# Adjust the filepath to the location of your dutch.csv file.\n",
    "dutch = JudiLing.load_dataset(\"../dat/dutch.csv\");\n",
    "# Subset the columns of interest for our present purposes\n",
    "dutch = dutch[:,[:Ortho, :Word, :Number, :WordCat, :Lexeme, :Syllables, :Frequency]];"
   ]
  },
  {
   "cell_type": "markdown",
   "id": "9512cc27",
   "metadata": {},
   "source": [
    "## Meaning representation"
   ]
  },
  {
   "cell_type": "markdown",
   "id": "ce46d3b9",
   "metadata": {},
   "source": [
    "### One-hot encoding\n",
    "\n",
    "Here, the semantic features are simply the words themselves, so we set `features_col=:Ortho`:"
   ]
  },
  {
   "cell_type": "code",
   "execution_count": null,
   "id": "d828a05d",
   "metadata": {},
   "outputs": [],
   "source": [
    "pS_obj = JudiLing.make_pS_matrix(dutch,\n",
    "                            features_col=:Ortho);\n",
    "JudiLing.display_matrix(dutch, :Ortho, pS_obj, pS_obj.pS, :pS)"
   ]
  },
  {
   "cell_type": "markdown",
   "id": "b48a902f",
   "metadata": {},
   "source": [
    "### Multiple-hot encoding\n",
    "\n",
    "Here, we need a `features_col` with the word, its number and word category. This can be easily created by pasting together the `Ortho`, `Number` and `WordCat` columns:"
   ]
  },
  {
   "cell_type": "code",
   "execution_count": null,
   "id": "3844fbca",
   "metadata": {},
   "outputs": [],
   "source": [
    "dutch[:,\"features\"] = string.(dutch.Lexeme, \"_\", dutch.Number, \"_\", dutch.WordCat)\n",
    "first(dutch, 5)"
   ]
  },
  {
   "cell_type": "markdown",
   "id": "b5f88d33",
   "metadata": {},
   "source": [
    "Now we use the `features` column as `features_col`:"
   ]
  },
  {
   "cell_type": "code",
   "execution_count": null,
   "id": "c2ff5647",
   "metadata": {
    "scrolled": true
   },
   "outputs": [],
   "source": [
    "pS_obj = JudiLing.make_pS_matrix(dutch,\n",
    "                            features_col=:features);\n",
    "JudiLing.display_matrix(dutch, :Ortho, pS_obj, pS_obj.pS, :pS)"
   ]
  },
  {
   "cell_type": "markdown",
   "id": "6dd17f34",
   "metadata": {},
   "source": [
    "### Using word embeddings from NLP\n",
    "\n",
    "There are various way in which word embeddings can be loaded. The first way is to load a prepared set of word embeddings. These already need to be in the same order as the dataset we are working with."
   ]
  },
  {
   "cell_type": "code",
   "execution_count": null,
   "id": "8be497aa",
   "metadata": {},
   "outputs": [],
   "source": [
    "S, words = JudiLing.load_S_matrix(\"../dat/dutch_w2v.csv\", \n",
    "                                header = false, sep = \",\");\n",
    "JudiLing.display_matrix(dutch, :Ortho, S, S, :S)"
   ]
  },
  {
   "cell_type": "markdown",
   "id": "75486c45",
   "metadata": {},
   "source": [
    "Make sure that the rows in the S matrix are the same as in the dutch dataset:"
   ]
  },
  {
   "cell_type": "code",
   "execution_count": null,
   "id": "fd99c198",
   "metadata": {},
   "outputs": [],
   "source": [
    "all(words .== dutch.Ortho)"
   ]
  },
  {
   "cell_type": "markdown",
   "id": "1b3b78e2",
   "metadata": {},
   "source": [
    "Instead, a set of word embeddings can be loaded and subset on the fly. First, for fasttext vectors there are two methods. The first is to let Julia download vectors in the background.\n",
    "The method `load_S_matrix_from_fasttext` takes as argument the dataframe we are working with, the language code of the language the dataframe is in (in this case, `:nl` stands for Dutch), and the target column in the dataframe with the orthographical representation of the words.\n",
    "Finally, there is a fourth parameter which is optional. It allows you specify which set of fasttext vectors should be loaded.\n",
    "\n",
    " To see which sets of vectors are available, we first need to install an additional package called `Embeddings` and make it available in our session."
   ]
  },
  {
   "cell_type": "code",
   "execution_count": null,
   "id": "eff5004d",
   "metadata": {
    "scrolled": true
   },
   "outputs": [],
   "source": [
    "using Pkg\n",
    "Pkg.add(name=\"Embeddings\", version=\"0.4.6\") # there is a bug in v0.4.5, so avoid that version\n",
    "using Embeddings"
   ]
  },
  {
   "cell_type": "markdown",
   "id": "778570cb",
   "metadata": {},
   "source": [
    "Then we call:"
   ]
  },
  {
   "cell_type": "code",
   "execution_count": null,
   "id": "3bb12cec",
   "metadata": {},
   "outputs": [],
   "source": [
    "language_files(FastText_Text{:nl})"
   ]
  },
  {
   "cell_type": "markdown",
   "id": "737335be",
   "metadata": {},
   "source": [
    "... of course replacing the language code with the language code you are interested in. In this case, two sets of vectors are available. By default, the first one is loaded. If prompted to do so, input `y` in the input field to download the embeddings."
   ]
  },
  {
   "cell_type": "code",
   "execution_count": null,
   "id": "bdcba5aa",
   "metadata": {
    "scrolled": true
   },
   "outputs": [],
   "source": [
    "dutch_small, S_auto = JudiLing.load_S_matrix_from_fasttext(dutch, :nl, target_col=:Ortho)"
   ]
  },
  {
   "cell_type": "markdown",
   "id": "24e05849",
   "metadata": {},
   "source": [
    "If you want to use an alternative set of fasttext files, you can use `JudiLing.load_S_matrix_from_fasttext_file`. For word2vec, `JudiLing.load_S_matrix_from_word2vec_file` is available."
   ]
  },
  {
   "cell_type": "code",
   "execution_count": null,
   "id": "0728b3df",
   "metadata": {},
   "outputs": [],
   "source": [
    "# You need to first replace the filepath below to the fasttext file of interest\n",
    "# then you can comment in the lines of code and run it\n",
    "\n",
    "# dutch_small, S_auto = JudiLing.load_S_matrix_from_fasttext_file(dutch,\n",
    "#     \"path/to/downloaded/fasttext_vectors.vec\",\n",
    "#     target_col=:Ortho)"
   ]
  },
  {
   "cell_type": "code",
   "execution_count": null,
   "id": "8436e2e1",
   "metadata": {},
   "outputs": [],
   "source": [
    "# You need to first replace the filepath below to the word2vec file of interest\n",
    "# then you can comment in the lines of code and run it\n",
    "\n",
    "# dutch_small, S_auto = JudiLing.load_S_matrix_from_word2vec_file(dutch,\n",
    "#     \"path/to/downloaded/word2vec_vectors.txt\",\n",
    "#     target_col=:Ortho)"
   ]
  },
  {
   "cell_type": "markdown",
   "id": "85c25f41",
   "metadata": {},
   "source": [
    "### Simulating semantic vectors"
   ]
  },
  {
   "cell_type": "markdown",
   "id": "f9b0ac47",
   "metadata": {},
   "source": [
    "Semantic vectors are simulated by adding vectors for a word's lexeme (lemma) plus vectors for any grammatical features of interest (number and word category in this case).\n",
    "\n",
    "The lexome matrix contains vectors for all lexemes (lemmas), as well as all features (number and word category). These vectors can later be used to construct individual semantic vectors.\n",
    "\n",
    "It is constructed using the `JudiLing.make_L_matrix` function, which takes as parameters our dutch dataset, the list of columns for which \"base\" vectors should be generated (only the lexeme column in most cases), the list of columns for which feature vectors should be generated (number and word category in our case) and finally the dimensionality of the vectors:"
   ]
  },
  {
   "cell_type": "code",
   "execution_count": null,
   "id": "73045704",
   "metadata": {},
   "outputs": [],
   "source": [
    "L = JudiLing.make_L_matrix(\n",
    "    dutch,\n",
    "    [\"Lexeme\"],\n",
    "    [\"Number\", \"WordCat\"],\n",
    "    ncol=200)\n",
    "JudiLing.display_matrix(dutch, :Ortho, L, L.L, :S)"
   ]
  },
  {
   "cell_type": "markdown",
   "id": "66636c14",
   "metadata": {},
   "source": [
    "What's in the L object?"
   ]
  },
  {
   "cell_type": "code",
   "execution_count": null,
   "id": "1aeb8869",
   "metadata": {},
   "outputs": [],
   "source": [
    "?L"
   ]
  },
  {
   "cell_type": "markdown",
   "id": "6a53c05d",
   "metadata": {},
   "source": [
    "We have the `L` matrix itself, which we have just looked at. Then we have again two mappings: `f2i` and `i2f`. They are useful for getting from a word to its lexome vector.\n",
    "\n",
    "Let's say we want to get the lexome vector of `brug`. We first need to find the correct row for `brug`:"
   ]
  },
  {
   "cell_type": "code",
   "execution_count": null,
   "id": "c764a0ae",
   "metadata": {
    "scrolled": true
   },
   "outputs": [],
   "source": [
    "L.f2i[\"brug\"]"
   ]
  },
  {
   "cell_type": "markdown",
   "id": "b4ca4bc5",
   "metadata": {},
   "source": [
    "Then we can use this number to look up the lexome vector of `brug` in the `L` matrix:"
   ]
  },
  {
   "cell_type": "code",
   "execution_count": null,
   "id": "2c2b5485",
   "metadata": {},
   "outputs": [],
   "source": [
    "L.L[L.f2i[\"brug\"],1:7]"
   ]
  },
  {
   "cell_type": "markdown",
   "id": "61c39217",
   "metadata": {},
   "source": [
    "We do the same to get the inflectional vector of `plural` and of `noun`:"
   ]
  },
  {
   "cell_type": "code",
   "execution_count": null,
   "id": "9ee1911f",
   "metadata": {},
   "outputs": [],
   "source": [
    "L.L[L.f2i[\"plural\"],1:7]"
   ]
  },
  {
   "cell_type": "code",
   "execution_count": null,
   "id": "0059128c",
   "metadata": {},
   "outputs": [],
   "source": [
    "L.L[L.f2i[\"noun\"],1:7]"
   ]
  },
  {
   "cell_type": "markdown",
   "id": "df82aff7",
   "metadata": {},
   "source": [
    "In order to get the semantics of `bruggen`, so the plural of `brug`, add the lexome vector of `brug` and the inflectional vector of `plural`:"
   ]
  },
  {
   "cell_type": "code",
   "execution_count": null,
   "id": "6bea81d0",
   "metadata": {},
   "outputs": [],
   "source": [
    "# bruggen\n",
    "bruggen = L.L[L.f2i[\"brug\"],:] .+ L.L[L.f2i[\"plural\"],:] .+ L.L[L.f2i[\"noun\"],:]\n",
    "bruggen[1:7]"
   ]
  },
  {
   "cell_type": "markdown",
   "id": "47d67314",
   "metadata": {},
   "source": [
    "This can also be done directly by using the `make_S_matrix`. Internally, it generates lexome vectors and feature vectors, and adds them together directly. It takes the same parameters as `make_L_matrix`."
   ]
  },
  {
   "cell_type": "code",
   "execution_count": null,
   "id": "60b838ce",
   "metadata": {},
   "outputs": [],
   "source": [
    "S = JudiLing.make_S_matrix(\n",
    "    dutch,\n",
    "    [\"Lexeme\"],\n",
    "    [\"Number\", \"WordCat\"],\n",
    "    ncol=200)\n",
    "JudiLing.display_matrix(dutch, :Ortho, S, S, :S)"
   ]
  },
  {
   "cell_type": "markdown",
   "id": "4a3d917f",
   "metadata": {},
   "source": [
    "### Imputing semantic vectors of lexemes and inflectional features \n",
    "\n",
    "First we need a matrix with information about which word forms include which lexemes and inflectional features. Here, we can make use of `make_pS_matrix` together with the column of combined inflectional features we have created above:"
   ]
  },
  {
   "cell_type": "code",
   "execution_count": null,
   "id": "d3285541",
   "metadata": {},
   "outputs": [],
   "source": [
    "dutch.features[1:5]"
   ]
  },
  {
   "cell_type": "markdown",
   "id": "f59b896d",
   "metadata": {},
   "source": [
    "Next, we create what we call the \"lexome\" matrix, i.e. the matrix containing information about which features are present for which wordforms. Note that this is the same matrix, that we created above as a \"multiple-hot encoding\" of semantics:"
   ]
  },
  {
   "cell_type": "code",
   "execution_count": null,
   "id": "228c63df",
   "metadata": {},
   "outputs": [],
   "source": [
    "pS_obj = JudiLing.make_pS_matrix(dutch, features_col=:features);"
   ]
  },
  {
   "cell_type": "markdown",
   "id": "31635281",
   "metadata": {},
   "source": [
    "The matrix itself can be found in `pS_obj.pS`:"
   ]
  },
  {
   "cell_type": "code",
   "execution_count": null,
   "id": "4bc2a0d7",
   "metadata": {},
   "outputs": [],
   "source": [
    "JudiLing.display_matrix(dutch, :Ortho, pS_obj, pS_obj.pS, :pS)"
   ]
  },
  {
   "cell_type": "markdown",
   "id": "1e5ed816",
   "metadata": {},
   "source": [
    "Next, we require an embedding space for which we want to impute lexome and inflectional semantic vectors. We reuse the word2vec space from above:"
   ]
  },
  {
   "cell_type": "code",
   "execution_count": null,
   "id": "9368190f",
   "metadata": {},
   "outputs": [],
   "source": [
    "S, words = JudiLing.load_S_matrix(\"../dat/dutch_w2v.csv\", header = false, sep = \",\");\n",
    "JudiLing.display_matrix(dutch, :Ortho, S, S, :S)"
   ]
  },
  {
   "cell_type": "markdown",
   "id": "6e87f78a",
   "metadata": {},
   "source": [
    "Finally, we impute the lexome and inflectional vectors by means of:"
   ]
  },
  {
   "cell_type": "code",
   "execution_count": null,
   "id": "2569e49e",
   "metadata": {},
   "outputs": [],
   "source": [
    "W = JudiLing.make_transform_matrix(pS_obj.pS, S);"
   ]
  },
  {
   "cell_type": "code",
   "execution_count": null,
   "id": "6835383e",
   "metadata": {},
   "outputs": [],
   "source": [
    "JudiLing.display_matrix(dutch, :Ortho, pS_obj, W, :F, ncol=5, nrow=5)"
   ]
  },
  {
   "cell_type": "markdown",
   "id": "c40db74a",
   "metadata": {},
   "source": [
    "As you can see, the resulting matrix `W` contains a row vector for each lexome as well as for the inflectional features `noun`, `verb`, `singular`, `plural`. We could now use the imputed semantic vectors to again construct semantic vectors similar to how we have described above in section \"Simulating semantic vectors\"."
   ]
  },
  {
   "cell_type": "markdown",
   "id": "018df432-d982-4c8e-b772-c3ab2449daec",
   "metadata": {},
   "source": [
    "## Exercises"
   ]
  },
  {
   "cell_type": "markdown",
   "id": "8c106fe8-b984-4931-a742-ebca537768b9",
   "metadata": {},
   "source": [
    "### Preparation\n",
    "\n",
    "Loading the latin dataset"
   ]
  },
  {
   "cell_type": "code",
   "execution_count": null,
   "id": "54406c84-1629-4024-9bbe-bdaeee386d3c",
   "metadata": {
    "scrolled": true
   },
   "outputs": [],
   "source": [
    "latin = JudiLing.load_dataset(\"../dat/latin.csv\")"
   ]
  },
  {
   "cell_type": "markdown",
   "id": "14c50f6e-46eb-4983-883b-0dadcffeb760",
   "metadata": {},
   "source": [
    "### Exercise 1\n",
    "\n",
    "One-hot semantic matrix:"
   ]
  },
  {
   "cell_type": "code",
   "execution_count": null,
   "id": "7998104f-4408-4ddb-b8a1-bf97048cf12a",
   "metadata": {
    "scrolled": true
   },
   "outputs": [],
   "source": [
    "pS_oh = JudiLing.make_pS_matrix(latin,\n",
    "                            features_col=:Word);\n",
    "JudiLing.display_matrix(latin, :Word, pS_oh, pS_oh.pS, :pS)"
   ]
  },
  {
   "cell_type": "markdown",
   "id": "24020929-b360-457b-a4ad-64d83ce861a8",
   "metadata": {},
   "source": [
    "### Exercise 2\n",
    "\n",
    "Multiple-hot matrix:"
   ]
  },
  {
   "cell_type": "code",
   "execution_count": null,
   "id": "2fdeb678-02ff-40a8-9870-ecfab52c83df",
   "metadata": {
    "scrolled": true
   },
   "outputs": [],
   "source": [
    "latin[:,\"features\"] = string.(latin.Lexeme,\"_\", latin.Person,\"_\", latin.Number, \"_\", latin.Tense, \"_\", latin.Voice, \"_\", latin.Mood)\n",
    "first(latin, 5)"
   ]
  },
  {
   "cell_type": "code",
   "execution_count": null,
   "id": "7f725d08-3c78-49ae-b300-dc2c4a84863d",
   "metadata": {},
   "outputs": [],
   "source": [
    "pS_mh = JudiLing.make_pS_matrix(latin,\n",
    "                            features_col=:features);\n",
    "JudiLing.display_matrix(latin, :Word, pS_mh, pS_mh.pS, :pS)"
   ]
  },
  {
   "cell_type": "markdown",
   "id": "924fa8cc-bb12-42a4-949d-563053da5412",
   "metadata": {},
   "source": [
    "### Exercise 3\n",
    "\n",
    "Fasttext semantic vectors:"
   ]
  },
  {
   "cell_type": "code",
   "execution_count": null,
   "id": "5c648961-5ecb-417e-8b50-f5b6ce882e2d",
   "metadata": {
    "scrolled": true
   },
   "outputs": [],
   "source": [
    "latin_small, S_ft = JudiLing.load_S_matrix_from_fasttext(latin, :la, target_col=:Word)"
   ]
  },
  {
   "cell_type": "code",
   "execution_count": null,
   "id": "b8ae587f-f37d-48fe-94ba-729e2e67da7b",
   "metadata": {
    "scrolled": true
   },
   "outputs": [],
   "source": [
    "JudiLing.display_matrix(latin, :Word, S_ft, S_ft, :S)"
   ]
  },
  {
   "cell_type": "markdown",
   "id": "116e9a31",
   "metadata": {},
   "source": [
    "It is noteworthy that there are fasttext vectors for only 69 word forms. One reason which certainly adds to this is that the word forms are coded to represent long vowels, e.g.:"
   ]
  },
  {
   "cell_type": "code",
   "execution_count": null,
   "id": "4906e7b3",
   "metadata": {},
   "outputs": [],
   "source": [
    "latin[latin.Word .== \"vocaamus\",:]"
   ]
  },
  {
   "cell_type": "markdown",
   "id": "3ebd9634-a855-4d5f-9fbe-cd27e08a918d",
   "metadata": {},
   "source": [
    "### Exercise 4\n",
    "\n",
    "Simulated semantic matrix"
   ]
  },
  {
   "cell_type": "code",
   "execution_count": null,
   "id": "5454b522-52b7-4133-a5e8-46a53f4c7371",
   "metadata": {
    "scrolled": true
   },
   "outputs": [],
   "source": [
    "S_sim = JudiLing.make_S_matrix(\n",
    "    latin,\n",
    "    [\"Lexeme\"],\n",
    "    [\"Person\", \"Number\", \"Tense\", \"Voice\", \"Mood\"],\n",
    "    ncol=300)\n",
    "JudiLing.display_matrix(latin, :Word, S_sim, S_sim, :S)"
   ]
  },
  {
   "cell_type": "markdown",
   "id": "dfe47dfc-2274-4a7f-b75c-0bbf4c30dd26",
   "metadata": {},
   "source": [
    "### Exercise 5\n",
    "\n",
    "Impute vectors for all features and lexemes:"
   ]
  },
  {
   "cell_type": "code",
   "execution_count": null,
   "id": "adf80b90-5fc7-4281-b164-f880ab8fbb5e",
   "metadata": {
    "scrolled": true
   },
   "outputs": [],
   "source": [
    "pS_la = JudiLing.make_pS_matrix(latin_small, features_col=:features);"
   ]
  },
  {
   "cell_type": "code",
   "execution_count": null,
   "id": "0dba9fce-10ce-44ac-b032-cd4ba7b9a43e",
   "metadata": {
    "scrolled": true
   },
   "outputs": [],
   "source": [
    "W_la = JudiLing.make_transform_matrix(pS_la.pS, S_ft);"
   ]
  },
  {
   "cell_type": "code",
   "execution_count": null,
   "id": "44f450ae-8bbf-487a-bbb2-394d0a5038cd",
   "metadata": {
    "scrolled": true
   },
   "outputs": [],
   "source": [
    "JudiLing.display_matrix(latin, :Word, pS_la, W_la, :F, ncol=5, nrow=22)"
   ]
  },
  {
   "cell_type": "code",
   "execution_count": null,
   "id": "7c2e9d53-2d12-4722-a065-08ca38da3e85",
   "metadata": {},
   "outputs": [],
   "source": []
  }
 ],
 "metadata": {
  "kernelspec": {
   "display_name": "Julia 1.11.2",
   "language": "julia",
   "name": "julia-1.11"
  },
  "language_info": {
   "file_extension": ".jl",
   "mimetype": "application/julia",
   "name": "julia",
   "version": "1.11.2"
  },
  "toc": {
   "base_numbering": 1,
   "nav_menu": {},
   "number_sections": true,
   "sideBar": true,
   "skip_h1_title": false,
   "title_cell": "Table of Contents",
   "title_sidebar": "Contents",
   "toc_cell": false,
   "toc_position": {
    "height": "calc(100% - 180px)",
    "left": "10px",
    "top": "150px",
    "width": "165px"
   },
   "toc_section_display": true,
   "toc_window_display": false
  }
 },
 "nbformat": 4,
 "nbformat_minor": 5
}
