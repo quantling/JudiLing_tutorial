{
 "cells": [
  {
   "cell_type": "markdown",
   "id": "a7f1981a",
   "metadata": {},
   "source": [
    "# Chapter 6: Comprehension and Production"
   ]
  },
  {
   "cell_type": "markdown",
   "id": "6310592f",
   "metadata": {},
   "source": [
    "## Preparations"
   ]
  },
  {
   "cell_type": "markdown",
   "id": "9d748d16",
   "metadata": {},
   "source": [
    "Load necessary packages."
   ]
  },
  {
   "cell_type": "code",
   "execution_count": null,
   "id": "cf97d90b",
   "metadata": {},
   "outputs": [],
   "source": [
    "using JudiLing, DataFrames, Plots"
   ]
  },
  {
   "cell_type": "markdown",
   "id": "60c34bdf",
   "metadata": {},
   "source": [
    "Here, we will also want to show some progress meters, so we additionally install and load:"
   ]
  },
  {
   "cell_type": "code",
   "execution_count": null,
   "id": "fbc697f0",
   "metadata": {},
   "outputs": [],
   "source": [
    "using Pkg\n",
    "Pkg.add(\"ProgressMeter\")\n",
    "using ProgressMeter"
   ]
  },
  {
   "cell_type": "markdown",
   "id": "d6ab9146",
   "metadata": {},
   "source": [
    "Load the Dutch dataset we will be working with."
   ]
  },
  {
   "cell_type": "code",
   "execution_count": null,
   "id": "ac68206a",
   "metadata": {},
   "outputs": [],
   "source": [
    "# Adjust the filepath to the location of your dutch.csv file.\n",
    "dutch = JudiLing.load_dataset(\"../dat/dutch.csv\");\n",
    "dutch = dutch[:,[:Ortho, :Word, :Number, :WordCat, :Lexeme, :Syllables, :Frequency]];"
   ]
  },
  {
   "cell_type": "markdown",
   "id": "0bd6158c",
   "metadata": {},
   "source": [
    "## Comprehension and production"
   ]
  },
  {
   "cell_type": "markdown",
   "id": "97be9051",
   "metadata": {},
   "source": [
    "First, we regenerate the cue_obj using trigrams and we load the word embeddings:"
   ]
  },
  {
   "cell_type": "code",
   "execution_count": null,
   "id": "aacaf8da",
   "metadata": {},
   "outputs": [],
   "source": [
    "cue_obj = JudiLing.make_cue_matrix(dutch,\n",
    "                                   grams=3,\n",
    "                                   target_col=\"Ortho\");\n",
    "S, words = JudiLing.load_S_matrix(\"../dat/dutch_w2v.csv\", header = false, sep = \",\");"
   ]
  },
  {
   "cell_type": "markdown",
   "id": "09dce945",
   "metadata": {},
   "source": [
    "### Endstate of learning"
   ]
  },
  {
   "cell_type": "markdown",
   "id": "f620038d",
   "metadata": {},
   "source": [
    "Then, we compute the mapping matrix from `cue_obj.C` to the `S` matrix using the `JudiLing.make_transform_matrix` function. The order of the parameters determines from which to which matrix the mapping is calculated."
   ]
  },
  {
   "cell_type": "code",
   "execution_count": null,
   "id": "29aae4d5",
   "metadata": {},
   "outputs": [],
   "source": [
    "F = JudiLing.make_transform_matrix(cue_obj.C, S);\n",
    "JudiLing.display_matrix(dutch, :Ortho, cue_obj, F, :F)"
   ]
  },
  {
   "cell_type": "markdown",
   "id": "21cf21e4",
   "metadata": {},
   "source": [
    "Now we compute the predicted semantic vectors:"
   ]
  },
  {
   "cell_type": "code",
   "execution_count": null,
   "id": "3f601f36",
   "metadata": {},
   "outputs": [],
   "source": [
    "Shat = cue_obj.C * F\n",
    "JudiLing.display_matrix(dutch, :Ortho, cue_obj, Shat, :S)"
   ]
  },
  {
   "cell_type": "markdown",
   "id": "65064c6b",
   "metadata": {},
   "source": [
    "...and compare it (visually) to the correct semantic vectors:"
   ]
  },
  {
   "cell_type": "code",
   "execution_count": null,
   "id": "34786f5e",
   "metadata": {},
   "outputs": [],
   "source": [
    "JudiLing.display_matrix(dutch, :Ortho, cue_obj, S, :S)"
   ]
  },
  {
   "cell_type": "markdown",
   "id": "c6805f2e",
   "metadata": {},
   "source": [
    "We can compute the production matrix in the same manner (by reversing the order of the arguments):"
   ]
  },
  {
   "cell_type": "code",
   "execution_count": null,
   "id": "37f101aa",
   "metadata": {},
   "outputs": [],
   "source": [
    "G = JudiLing.make_transform_matrix(S, cue_obj.C);\n",
    "JudiLing.display_matrix(dutch, :Ortho, cue_obj, G, :G)"
   ]
  },
  {
   "cell_type": "markdown",
   "id": "2f51cda3",
   "metadata": {},
   "source": [
    "and predict the cue vectors:"
   ]
  },
  {
   "cell_type": "code",
   "execution_count": null,
   "id": "56e48fa0",
   "metadata": {},
   "outputs": [],
   "source": [
    "Chat = S * G\n",
    "JudiLing.display_matrix(dutch, :Ortho, cue_obj, Chat, :C)"
   ]
  },
  {
   "cell_type": "markdown",
   "id": "14f210cb",
   "metadata": {},
   "source": [
    "and compare the target vectors:"
   ]
  },
  {
   "cell_type": "code",
   "execution_count": null,
   "id": "d0ac88fa",
   "metadata": {},
   "outputs": [],
   "source": [
    "JudiLing.display_matrix(dutch, :Ortho, cue_obj, cue_obj.C, :C)"
   ]
  },
  {
   "cell_type": "markdown",
   "id": "ac021ddf",
   "metadata": {},
   "source": [
    "We can compute the accuracy of our mappings more formally using the `eval_SC` function (details in the next notebooks).\n",
    "\n",
    "Comprehension accuracy:"
   ]
  },
  {
   "cell_type": "code",
   "execution_count": null,
   "id": "977e372b",
   "metadata": {},
   "outputs": [],
   "source": [
    "comp_acc_el = JudiLing.eval_SC(Shat, S)"
   ]
  },
  {
   "cell_type": "markdown",
   "id": "9a092032",
   "metadata": {},
   "source": [
    "(We will return to the cause of this warning message in the next notebooks, for now, it can be safely ignored)"
   ]
  },
  {
   "cell_type": "markdown",
   "id": "5c06a5b1",
   "metadata": {},
   "source": [
    "Production accuracy:"
   ]
  },
  {
   "cell_type": "code",
   "execution_count": null,
   "id": "70b933a7",
   "metadata": {
    "scrolled": true
   },
   "outputs": [],
   "source": [
    "JudiLing.eval_SC(Chat, cue_obj.C)"
   ]
  },
  {
   "cell_type": "markdown",
   "id": "ad95ba91",
   "metadata": {},
   "source": [
    "### Incremental learning"
   ]
  },
  {
   "cell_type": "markdown",
   "id": "8ae29b34",
   "metadata": {},
   "source": [
    "Instead of using the frequency-agnostic endstate-of-learning, we can also use incremental learning to calculate the mapping matrices. \n",
    "\n",
    "First, we assume that each word is learned exactly once by setting `n_epochs=1` and we use a learning rate of `eta=0.1`. This is good for demonstration purposes, but likely too big in most cases:"
   ]
  },
  {
   "cell_type": "code",
   "execution_count": null,
   "id": "d763ab27",
   "metadata": {},
   "outputs": [],
   "source": [
    "F = JudiLing.wh_learn(cue_obj.C, S, n_epochs=1, eta=0.1);"
   ]
  },
  {
   "cell_type": "markdown",
   "id": "2e1db9b1",
   "metadata": {},
   "source": [
    "Compute the predicted semantic matrix:"
   ]
  },
  {
   "cell_type": "code",
   "execution_count": null,
   "id": "3ba2f572",
   "metadata": {
    "scrolled": true
   },
   "outputs": [],
   "source": [
    "Shat = cue_obj.C * F"
   ]
  },
  {
   "cell_type": "markdown",
   "id": "f8deec33",
   "metadata": {},
   "source": [
    "Again, evaluate using `eval_SC`:"
   ]
  },
  {
   "cell_type": "code",
   "execution_count": null,
   "id": "af504b78",
   "metadata": {},
   "outputs": [],
   "source": [
    "JudiLing.eval_SC(Shat, S)"
   ]
  },
  {
   "cell_type": "markdown",
   "id": "5e25a078",
   "metadata": {},
   "source": [
    "Next, we pass through the data another 10 times by setting `n_epochs=10`. By setting `weights=F` we ensure that our previous `F` matrix is trained (instead of creating a new one)."
   ]
  },
  {
   "cell_type": "code",
   "execution_count": null,
   "id": "4516ed18",
   "metadata": {},
   "outputs": [],
   "source": [
    "F = JudiLing.wh_learn(cue_obj.C, S, n_epochs=10, weights=F, eta=0.1, verbose=true);\n",
    "Shat = cue_obj.C * F\n",
    "acc0 = JudiLing.eval_SC(Shat, S)"
   ]
  },
  {
   "cell_type": "markdown",
   "id": "2e7f9342",
   "metadata": {},
   "source": [
    "The previous piece of code passed through the data 10 times but did not retain any information on accuracy during the training. The following code does the same, but computes accuracy after each pass through the data:"
   ]
  },
  {
   "cell_type": "code",
   "execution_count": null,
   "id": "dcc7702f",
   "metadata": {
    "scrolled": true
   },
   "outputs": [],
   "source": [
    "# create a list where we will save all accuracies\n",
    "accuracies = [0.]\n",
    "\n",
    "# initialise F with zeros\n",
    "F = zeros(Float64, size(cue_obj.C, 2), size(S, 2))\n",
    "\n",
    "# now go through the data 10 times\n",
    "# this takes a few minutes\n",
    "@showprogress for i=1:10\n",
    "\n",
    "    # learn all word forms in the dataframe once\n",
    "    F = JudiLing.wh_learn(cue_obj.C, S, n_epochs=1, weights=F, eta=0.1)\n",
    "    \n",
    "    # compute the new Shat matrix\n",
    "    Shat = cue_obj.C * F\n",
    "    \n",
    "    # evaluate and save\n",
    "    acc = JudiLing.eval_SC(Shat, S)\n",
    "    append!(accuracies, [acc])\n",
    "end\n",
    "\n",
    "# plot the learning trajectory\n",
    "plot(collect(0:10), accuracies, seriestype = :scatter, \n",
    "     label=\"Incremental learning\", xlab=\"Epoch\", ylab=\"Accuracy\")\n",
    "     \n",
    "# plot the endstate of learning accuracy for comparison\n",
    "plot!([11], [comp_acc_el], seriestype=:scatter, \n",
    "      label=\"Endstate of learning\", legend=:bottomright)"
   ]
  },
  {
   "cell_type": "markdown",
   "id": "8d59857c",
   "metadata": {},
   "source": [
    "The resulting figure can be saved in the following way:"
   ]
  },
  {
   "cell_type": "code",
   "execution_count": null,
   "id": "223b90e0",
   "metadata": {
    "scrolled": true
   },
   "outputs": [],
   "source": [
    "savefig(\"../fig/wh_learning.pdf\")"
   ]
  },
  {
   "cell_type": "markdown",
   "id": "5cc7dda1",
   "metadata": {},
   "source": [
    "Next, we want to learn our mapping matrix F incrementally based on real frequencies. However, using the provided CELEX frequencies would result in a very large number of training events:"
   ]
  },
  {
   "cell_type": "code",
   "execution_count": null,
   "id": "3d88ab53",
   "metadata": {
    "scrolled": true
   },
   "outputs": [],
   "source": [
    "sum(dutch.Frequency)"
   ]
  },
  {
   "cell_type": "markdown",
   "id": "ab5dd324",
   "metadata": {},
   "source": [
    "We can soften this problem by dividing frequencies by a constant, 100 in this case:"
   ]
  },
  {
   "cell_type": "code",
   "execution_count": null,
   "id": "588ff3bc",
   "metadata": {},
   "outputs": [],
   "source": [
    "dutch[!, \"Frequency_scaled100\"] = dutch.Frequency./100;\n",
    "dutch[!, \"Frequency_scaled100\"] = Int.(ceil.(dutch.Frequency_scaled100));"
   ]
  },
  {
   "cell_type": "markdown",
   "id": "efc69c1b",
   "metadata": {},
   "source": [
    "Now we need to generate the order in which words are supposed to be learned based on their (scaled) frequency. This is done with `make_learn_seq` function which takes as arguments the list of frequencies and the a random seed (to control the randomness in the sequence generation):"
   ]
  },
  {
   "cell_type": "code",
   "execution_count": null,
   "id": "5b58efa9",
   "metadata": {
    "scrolled": true
   },
   "outputs": [],
   "source": [
    "learn_seq = JudiLing.make_learn_seq(dutch.Frequency_scaled100;\n",
    "                                           random_seed = 314);\n",
    "learn_seq[1:5]"
   ]
  },
  {
   "cell_type": "markdown",
   "id": "e2e3afe7",
   "metadata": {},
   "source": [
    "When we hand the `learn_seq` to the `wh_learn` function and specify `n_epochs`, the wordforms in our dutch dataset will be learned in the order specified by `learn_seq`:"
   ]
  },
  {
   "cell_type": "code",
   "execution_count": null,
   "id": "24e46986",
   "metadata": {
    "scrolled": true
   },
   "outputs": [],
   "source": [
    "F = JudiLing.wh_learn(cue_obj.C, S, n_epochs=1, \n",
    "                             learn_seq=learn_seq, verbose=true, \n",
    "                             eta=0.1);"
   ]
  },
  {
   "cell_type": "markdown",
   "id": "cd0c21ff",
   "metadata": {},
   "source": [
    "Subsequently, we can again compute the predicted semantic matrix and evaluate the accuracy:"
   ]
  },
  {
   "cell_type": "code",
   "execution_count": null,
   "id": "9850f817",
   "metadata": {},
   "outputs": [],
   "source": [
    "Shat = cue_obj.C * F\n",
    "JudiLing.eval_SC(Shat, S)"
   ]
  },
  {
   "cell_type": "markdown",
   "id": "0806df7c",
   "metadata": {},
   "source": [
    "### Frequency-informed endstate-of-learning"
   ]
  },
  {
   "cell_type": "markdown",
   "id": "43b22279",
   "metadata": {},
   "source": [
    "Finally, we can compute the frequency-informed endstate of learning by simply adding frequencies as an additional parameter:"
   ]
  },
  {
   "cell_type": "code",
   "execution_count": null,
   "id": "d49d0603",
   "metadata": {},
   "outputs": [],
   "source": [
    "F = JudiLing.make_transform_matrix(cue_obj.C, S, dutch.Frequency);"
   ]
  },
  {
   "cell_type": "markdown",
   "id": "c01b91e9",
   "metadata": {},
   "source": [
    "Then we can compute the predicted semantic matrix and its accuracy as usual:"
   ]
  },
  {
   "cell_type": "code",
   "execution_count": null,
   "id": "50d822bd",
   "metadata": {},
   "outputs": [],
   "source": [
    "Shat = cue_obj.C * F;\n",
    "JudiLing.eval_SC(Shat, S)"
   ]
  },
  {
   "cell_type": "markdown",
   "id": "12a9abd6-8e26-4363-8f52-a4ebe3464843",
   "metadata": {},
   "source": [
    "## Exercises"
   ]
  },
  {
   "cell_type": "markdown",
   "id": "8d51e3df-5ae8-45a6-b50d-1bb3085a8b3f",
   "metadata": {},
   "source": [
    "### Exercise 1\n",
    "\n",
    "Preparation: Load the latin dataset, and create cue object and S matrix:"
   ]
  },
  {
   "cell_type": "code",
   "execution_count": null,
   "id": "9216a6ad-af63-4484-bade-3f280f3e5ae4",
   "metadata": {
    "scrolled": true
   },
   "outputs": [],
   "source": [
    "latin = JudiLing.load_dataset(\"../dat/latin.csv\")\n",
    "\n",
    "cue_obj_la = JudiLing.make_cue_matrix(latin, grams=3, target_col=:Word)\n",
    "S_la = JudiLing.make_S_matrix(\n",
    "    latin,\n",
    "    [\"Lexeme\"],\n",
    "    [\"Person\", \"Number\", \"Tense\", \"Voice\", \"Mood\"],\n",
    "    ncol=300);"
   ]
  },
  {
   "cell_type": "markdown",
   "id": "4b839835-d75d-4fe1-acc2-f4f09b3e8f90",
   "metadata": {},
   "source": [
    "### Exercise 2\n",
    "\n",
    "Compute F and G matrices and inspect with display_matrix:"
   ]
  },
  {
   "cell_type": "code",
   "execution_count": null,
   "id": "e20061cf-2476-4008-9652-4a5effd42972",
   "metadata": {
    "scrolled": true
   },
   "outputs": [],
   "source": [
    "F_la = JudiLing.make_transform_matrix(cue_obj_la.C, S_la)\n",
    "JudiLing.display_matrix(latin, :Word, cue_obj_la, F_la, :F)"
   ]
  },
  {
   "cell_type": "code",
   "execution_count": null,
   "id": "b6df79fe-a67a-4f7f-8457-74ff2ccd6376",
   "metadata": {
    "scrolled": true
   },
   "outputs": [],
   "source": [
    "G_la = JudiLing.make_transform_matrix(S_la, cue_obj_la.C)\n",
    "JudiLing.display_matrix(latin, :Word, cue_obj_la, G_la, :G)"
   ]
  },
  {
   "cell_type": "markdown",
   "id": "1138d81b-a667-48f6-81b9-adc1d7c4e597",
   "metadata": {},
   "source": [
    "### Exercise 3\n",
    "\n",
    "Predict Shat and Chat and compare both visually and with eval_SC"
   ]
  },
  {
   "cell_type": "code",
   "execution_count": null,
   "id": "4d71c5c7-b7a5-4389-af37-9c17c8f6975a",
   "metadata": {
    "scrolled": true
   },
   "outputs": [],
   "source": [
    "Shat_la = cue_obj_la.C * F_la\n",
    "JudiLing.display_matrix(latin, :Word, cue_obj_la, Shat_la, :Shat)"
   ]
  },
  {
   "cell_type": "code",
   "execution_count": null,
   "id": "7cef2727-22e1-4a00-8d7a-91c16d093c99",
   "metadata": {
    "scrolled": true
   },
   "outputs": [],
   "source": [
    "JudiLing.display_matrix(latin, :Word, cue_obj_la, S_la, :S)"
   ]
  },
  {
   "cell_type": "code",
   "execution_count": null,
   "id": "f8b78dd9-86b9-4950-8e2c-b535f83c8a97",
   "metadata": {},
   "outputs": [],
   "source": [
    "JudiLing.eval_SC(Shat_la, S_la)"
   ]
  },
  {
   "cell_type": "code",
   "execution_count": null,
   "id": "eb9d62be-ad32-4af9-b1bd-d70fa810f3df",
   "metadata": {},
   "outputs": [],
   "source": [
    "Chat_la = S_la * G_la\n",
    "JudiLing.display_matrix(latin, :Word, cue_obj_la, Chat_la, :Chat)"
   ]
  },
  {
   "cell_type": "code",
   "execution_count": null,
   "id": "d26b90f4-c660-4fca-8e85-4794c7b049f9",
   "metadata": {
    "scrolled": true
   },
   "outputs": [],
   "source": [
    "JudiLing.display_matrix(latin, :Word, cue_obj_la, cue_obj_la.C, :C)"
   ]
  },
  {
   "cell_type": "code",
   "execution_count": null,
   "id": "0ff1000f-8ae0-441a-9b0b-ce3e1540fda4",
   "metadata": {},
   "outputs": [],
   "source": [
    "JudiLing.eval_SC(Chat_la, cue_obj_la.C)"
   ]
  },
  {
   "cell_type": "markdown",
   "id": "c1282f5c-6f00-4f56-bf1a-b406434c21d3",
   "metadata": {},
   "source": [
    "### Exercise 4\n",
    "\n",
    "Modify the code above to cycle through the latin dataset 10 times and record the accuracy after each iteration."
   ]
  },
  {
   "cell_type": "code",
   "execution_count": null,
   "id": "40445661-8f56-4ed2-9488-5941d0a669fb",
   "metadata": {
    "scrolled": true
   },
   "outputs": [],
   "source": [
    "# create a list where we will save all accuracies\n",
    "accuracies = [0.]\n",
    "\n",
    "# initialise F with zeros\n",
    "F_la_incr = zeros(Float64, size(cue_obj_la.C, 2), size(S_la, 2))\n",
    "\n",
    "# now go through the data 10 times\n",
    "# this takes a few minutes\n",
    "@showprogress for i=1:10\n",
    "\n",
    "    # learn all word forms in the dataframe once\n",
    "    F_la_incr = JudiLing.wh_learn(cue_obj_la.C, S_la, n_epochs=1, weights=F_la_incr, eta=0.1)\n",
    "    \n",
    "    # compute the new Shat matrix\n",
    "    Shat_la = cue_obj_la.C * F_la_incr\n",
    "    \n",
    "    # evaluate and save\n",
    "    acc = JudiLing.eval_SC(Shat_la, S_la)\n",
    "    append!(accuracies, [acc])\n",
    "end\n",
    "\n",
    "# plot the learning trajectory\n",
    "plot(collect(0:10), accuracies, seriestype = :scatter, \n",
    "     label=\"Incremental learning\", xlab=\"Epoch\", ylab=\"Accuracy\")\n",
    "     \n",
    "# plot the endstate of learning accuracy for comparison\n",
    "plot!([11], [0.9911], seriestype=:scatter, \n",
    "      label=\"Endstate of learning\", legend=:bottomright)"
   ]
  },
  {
   "cell_type": "markdown",
   "id": "b016b5f6-02bb-47de-917a-94275c1deec8",
   "metadata": {},
   "source": [
    "### Exercise 5\n",
    "\n",
    "Train incrementally according to simulated frequencies."
   ]
  },
  {
   "cell_type": "code",
   "execution_count": null,
   "id": "570fda1f-78c2-4532-8510-4223a1f68c1e",
   "metadata": {},
   "outputs": [],
   "source": [
    "learn_seq_la = JudiLing.make_learn_seq(latin.sim_freq;\n",
    "                                           random_seed = 314);\n",
    "learn_seq_la[1:5]"
   ]
  },
  {
   "cell_type": "code",
   "execution_count": null,
   "id": "c7c7fea5-faf5-4c77-8977-c75eba348e20",
   "metadata": {},
   "outputs": [],
   "source": [
    "length(learn_seq_la) "
   ]
  },
  {
   "cell_type": "code",
   "execution_count": null,
   "id": "ae30fae9-a4f0-43ca-beaa-cb02a48bd474",
   "metadata": {},
   "outputs": [],
   "source": [
    "F_incr = JudiLing.wh_learn(cue_obj_la.C, S_la, n_epochs=1, \n",
    "                             learn_seq=learn_seq_la, verbose=true, \n",
    "                             eta=0.1);"
   ]
  },
  {
   "cell_type": "code",
   "execution_count": null,
   "id": "91c0f418",
   "metadata": {},
   "outputs": [],
   "source": [
    "Shat_incr = cue_obj_la.C * F_incr\n",
    "JudiLing.eval_SC(Shat_incr, S_la)"
   ]
  },
  {
   "cell_type": "markdown",
   "id": "d35a4446-523d-4cb5-9a6f-c5ba7b8a6bb1",
   "metadata": {},
   "source": [
    "### Exercise 6\n",
    "\n",
    "Compute F with FIL:"
   ]
  },
  {
   "cell_type": "code",
   "execution_count": null,
   "id": "6eefaf52-22ae-449b-b7a2-09ad37d3b685",
   "metadata": {},
   "outputs": [],
   "source": [
    "F_fil = JudiLing.make_transform_matrix(cue_obj_la.C, S_la, latin.sim_freq)\n",
    "\n",
    "Shat_fil = cue_obj_la.C * F_fil\n",
    "JudiLing.eval_SC(Shat_fil, S_la)"
   ]
  }
 ],
 "metadata": {
  "kernelspec": {
   "display_name": "Julia 1.11.2",
   "language": "julia",
   "name": "julia-1.11"
  },
  "language_info": {
   "file_extension": ".jl",
   "mimetype": "application/julia",
   "name": "julia",
   "version": "1.11.2"
  },
  "toc": {
   "base_numbering": 1,
   "nav_menu": {},
   "number_sections": true,
   "sideBar": true,
   "skip_h1_title": false,
   "title_cell": "Table of Contents",
   "title_sidebar": "Contents",
   "toc_cell": false,
   "toc_position": {
    "height": "calc(100% - 180px)",
    "left": "10px",
    "top": "150px",
    "width": "332.59375px"
   },
   "toc_section_display": true,
   "toc_window_display": false
  }
 },
 "nbformat": 4,
 "nbformat_minor": 5
}
