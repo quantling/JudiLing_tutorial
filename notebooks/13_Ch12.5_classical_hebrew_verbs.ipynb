{
 "cells": [
  {
   "cell_type": "markdown",
   "id": "5fbd9eea",
   "metadata": {},
   "source": [
    "# Chapter 12.5: Biblical Hebrew\n",
    "\n",
    "## Preparation\n",
    "\n",
    "Load necessary packages:"
   ]
  },
  {
   "cell_type": "code",
   "execution_count": null,
   "id": "6b9dbf4a",
   "metadata": {},
   "outputs": [],
   "source": [
    "using CSV, DataFrames, JudiLing, RCall"
   ]
  },
  {
   "cell_type": "markdown",
   "id": "e610281a",
   "metadata": {},
   "source": [
    "Load the data"
   ]
  },
  {
   "cell_type": "code",
   "execution_count": null,
   "id": "6a38675d",
   "metadata": {},
   "outputs": [],
   "source": [
    "hebrew = DataFrame(CSV.File(\"../dat/hebrew_verbs.csv\"));"
   ]
  },
  {
   "cell_type": "code",
   "execution_count": null,
   "id": "923e44b2",
   "metadata": {
    "scrolled": true
   },
   "outputs": [],
   "source": [
    "names(hebrew)"
   ]
  },
  {
   "cell_type": "code",
   "execution_count": null,
   "id": "0f2f0073",
   "metadata": {},
   "outputs": [],
   "source": [
    "size(hebrew)"
   ]
  },
  {
   "cell_type": "code",
   "execution_count": null,
   "id": "580f0c93",
   "metadata": {},
   "outputs": [],
   "source": [
    "hebrew[1:10,:Word]"
   ]
  },
  {
   "cell_type": "markdown",
   "id": "ce1f8c41",
   "metadata": {},
   "source": [
    "## Set up form and meaning matrices"
   ]
  },
  {
   "cell_type": "code",
   "execution_count": null,
   "id": "10aae99f",
   "metadata": {
    "scrolled": true
   },
   "outputs": [],
   "source": [
    "@time cue_obj = JudiLing.make_cue_matrix(hebrew,               \n",
    "                                         grams=3, \n",
    "                                         target_col=\"Word\",  \n",
    "                                         tokenized=false); "
   ]
  },
  {
   "cell_type": "code",
   "execution_count": null,
   "id": "9f608413",
   "metadata": {},
   "outputs": [],
   "source": [
    "@time S = JudiLing.make_S_matrix(hebrew, \n",
    "    [\"Lexeme\"], \n",
    "    [\"Binyan\", \"Tense\", \"Person\", \"Number\", \"Gender\", \"Conjunction\", \"Article\", \n",
    "     \"Preposition\", \"Status\", \"Suffix_Number\", \"Suffix_Person\", \"Suffix_Gender\", \n",
    "     \"Suffix_Function\",  \"Interrogative\", \"Mood\"], \n",
    "    ncol = 1000,\n",
    "    add_noise=true,    \n",
    "    sd_noise=1.0,\n",
    "    seed=217);  "
   ]
  },
  {
   "cell_type": "markdown",
   "id": "aa07db50",
   "metadata": {},
   "source": [
    "note: how exactly the random generator works can change with updates of julia"
   ]
  },
  {
   "cell_type": "markdown",
   "id": "54b6e852",
   "metadata": {},
   "source": [
    "## Endstate of Learning\n",
    "\n",
    "### Calculate mappings using the endstate of learning"
   ]
  },
  {
   "cell_type": "markdown",
   "id": "f683ecca-8d2e-40e4-9a4f-3a37551b6bed",
   "metadata": {},
   "source": [
    "Comprehension:"
   ]
  },
  {
   "cell_type": "code",
   "execution_count": null,
   "id": "b67e2b4d",
   "metadata": {},
   "outputs": [],
   "source": [
    "@time F = JudiLing.make_transform_matrix(cue_obj.C, S); "
   ]
  },
  {
   "cell_type": "code",
   "execution_count": null,
   "id": "edc2348f",
   "metadata": {},
   "outputs": [],
   "source": [
    "@time Shat = cue_obj.C * F;"
   ]
  },
  {
   "cell_type": "markdown",
   "id": "eebc0f66-3855-4206-8ae9-aace89f1ddec",
   "metadata": {},
   "source": [
    "Production:"
   ]
  },
  {
   "cell_type": "code",
   "execution_count": null,
   "id": "2d79424a",
   "metadata": {},
   "outputs": [],
   "source": [
    "@time G = JudiLing.make_transform_matrix(S, cue_obj.C);   "
   ]
  },
  {
   "cell_type": "code",
   "execution_count": null,
   "id": "109b956f",
   "metadata": {},
   "outputs": [],
   "source": [
    "@time Chat = S * G;  "
   ]
  },
  {
   "cell_type": "markdown",
   "id": "39d8e8aa-7917-4095-8493-b0713ed72be9",
   "metadata": {},
   "source": [
    "Evaluate:"
   ]
  },
  {
   "cell_type": "code",
   "execution_count": null,
   "id": "594e8784",
   "metadata": {},
   "outputs": [],
   "source": [
    "@time JudiLing.eval_SC(Shat, S)"
   ]
  },
  {
   "cell_type": "code",
   "execution_count": null,
   "id": "39558e39",
   "metadata": {},
   "outputs": [],
   "source": [
    "@time JudiLing.eval_SC(Chat, cue_obj.C)"
   ]
  },
  {
   "cell_type": "markdown",
   "id": "ee0bc905-eb5f-4646-be06-fbab08624455",
   "metadata": {},
   "source": [
    "Learn paths:"
   ]
  },
  {
   "cell_type": "code",
   "execution_count": null,
   "id": "122fb3d6",
   "metadata": {},
   "outputs": [],
   "source": [
    "@time prod_res = JudiLing.learn_paths(hebrew, cue_obj, S, F, Chat, \n",
    "                                      threshold=0.01, verbose=false);"
   ]
  },
  {
   "cell_type": "code",
   "execution_count": null,
   "id": "389aa59b",
   "metadata": {},
   "outputs": [],
   "source": [
    "JudiLing.eval_acc(prod_res, cue_obj)"
   ]
  },
  {
   "cell_type": "markdown",
   "id": "2e6bc29e",
   "metadata": {},
   "source": [
    "### Accuracy by morphological feature"
   ]
  },
  {
   "cell_type": "code",
   "execution_count": null,
   "id": "80f3e8f2",
   "metadata": {},
   "outputs": [],
   "source": [
    "@time acc = JudiLing.accuracy_comprehension(S, Shat, \n",
    "            hebrew,\n",
    "            target_col=:Word,\n",
    "            base=[\"Lexeme\"],\n",
    "            inflections=[\"Binyan\", \"Tense\", \"Person\", \"Number\", \"Gender\", \n",
    "                         \"Conjunction\", \"Article\", \"Preposition\", \"Status\", \n",
    "                         \"Suffix_Number\", \"Suffix_Person\", \"Suffix_Gender\", \n",
    "                         \"Suffix_Function\",  \"Interrogative\", \"Mood\"]);"
   ]
  },
  {
   "cell_type": "code",
   "execution_count": null,
   "id": "eafdfbf6",
   "metadata": {},
   "outputs": [],
   "source": [
    "first(acc.dfr, 10)"
   ]
  },
  {
   "cell_type": "code",
   "execution_count": null,
   "id": "a5ad2d21",
   "metadata": {},
   "outputs": [],
   "source": [
    "CSV.write(\"../res/acc_dfr_eol.csv\", acc.dfr)"
   ]
  },
  {
   "cell_type": "code",
   "execution_count": null,
   "id": "8610d4d6",
   "metadata": {},
   "outputs": [],
   "source": [
    "R\"\"\"\n",
    "acc = read.csv(\"../res/acc_dfr_eol.csv\", T)\n",
    "f = function(v) sum(v==\"true\")/length(v[v!=\"\"])\n",
    "v = apply(acc[,5:ncol(acc)], 2, f)\n",
    "library(lattice)\n",
    "dotplot(rev(sort(v)), xlab=\"accuracy\")\n",
    "\"\"\""
   ]
  },
  {
   "cell_type": "markdown",
   "id": "3bb9df7c",
   "metadata": {},
   "source": [
    "## Exercise: Frequency-informed learning\n",
    "\n",
    "### Calculating the mappings"
   ]
  },
  {
   "cell_type": "code",
   "execution_count": null,
   "id": "5900e1c9",
   "metadata": {},
   "outputs": [],
   "source": [
    "@time F = JudiLing.make_transform_matrix(cue_obj.C, S, hebrew.Frequency); "
   ]
  },
  {
   "cell_type": "code",
   "execution_count": null,
   "id": "dd3e313b",
   "metadata": {},
   "outputs": [],
   "source": [
    "@time Shat = cue_obj.C * F;"
   ]
  },
  {
   "cell_type": "code",
   "execution_count": null,
   "id": "c9084168",
   "metadata": {},
   "outputs": [],
   "source": [
    "@time JudiLing.eval_SC(Shat, S)"
   ]
  },
  {
   "cell_type": "code",
   "execution_count": null,
   "id": "eb927e42",
   "metadata": {},
   "outputs": [],
   "source": [
    "@time G = JudiLing.make_transform_matrix(S, cue_obj.C, hebrew.Frequency);   "
   ]
  },
  {
   "cell_type": "code",
   "execution_count": null,
   "id": "f5094948",
   "metadata": {},
   "outputs": [],
   "source": [
    "@time Chat = S * G;  "
   ]
  },
  {
   "cell_type": "code",
   "execution_count": null,
   "id": "22e2225c",
   "metadata": {},
   "outputs": [],
   "source": [
    "@time JudiLing.eval_SC(Chat, cue_obj.C)"
   ]
  },
  {
   "cell_type": "code",
   "execution_count": null,
   "id": "26363dd2",
   "metadata": {},
   "outputs": [],
   "source": [
    "@time prod_res = JudiLing.learn_paths(hebrew, cue_obj, S, F, Chat, threshold=0.01, verbose=false);"
   ]
  },
  {
   "cell_type": "code",
   "execution_count": null,
   "id": "a236955f",
   "metadata": {},
   "outputs": [],
   "source": [
    "@time JudiLing.eval_acc(prod_res, cue_obj)"
   ]
  },
  {
   "cell_type": "markdown",
   "id": "c838b655",
   "metadata": {},
   "source": [
    "### Accuracy by morphological feature"
   ]
  },
  {
   "cell_type": "code",
   "execution_count": null,
   "id": "590e4f10",
   "metadata": {},
   "outputs": [],
   "source": [
    "@time acc2 = JudiLing.accuracy_comprehension(S, Shat, \n",
    "             hebrew,\n",
    "             target_col=:Word,\n",
    "             base=[\"Lexeme\"],\n",
    "             inflections=[\"Binyan\", \"Tense\", \"Person\", \"Number\", \"Gender\",\n",
    "             \"Conjunction\", \"Article\", \"Preposition\", \"Status\",\n",
    "             \"Suffix_Number\", \"Suffix_Person\", \"Suffix_Gender\",\n",
    "             \"Suffix_Function\", \"Interrogative\", \"Mood\"]);\n",
    "CSV.write(\"../res/acc2_dfr_fil.csv\", acc2.dfr)"
   ]
  },
  {
   "cell_type": "code",
   "execution_count": null,
   "id": "23b30909",
   "metadata": {
    "scrolled": true
   },
   "outputs": [],
   "source": [
    "R\"\"\"\n",
    "acc2 = read.csv(\"../res/acc2_dfr_fil.csv\", T)\n",
    "f = function(v) sum(v==\"true\")/length(v[v!=\"\"])\n",
    "v = apply(acc2[,5:ncol(acc)], 2, f)\n",
    "library(lattice)\n",
    "save(v, file=\"../res/acc2_v.rda\")\n",
    "dotplot(rev(sort(v)), xlab=\"accuracy\")\n",
    "\"\"\""
   ]
  },
  {
   "cell_type": "markdown",
   "id": "f75ca8c4",
   "metadata": {},
   "source": [
    "the above analyses were type-based, in what follows, we carry out token-based evaluations of accuracy, and make a joint token/type by EOL/FIL dotplot"
   ]
  },
  {
   "cell_type": "code",
   "execution_count": null,
   "id": "52af9326",
   "metadata": {
    "scrolled": true
   },
   "outputs": [],
   "source": [
    "R\"\"\"\n",
    "dat = read.csv(\"../dat/hebrew_verbs.csv\", T, stringsAsFactors=FALSE)\n",
    "# EOL type based\n",
    "acc = read.csv(\"../res/acc_dfr_eol.csv\", T)\n",
    "f = function(v) sum(v==\"true\")/length(v[v!=\"\"])\n",
    "v = apply(acc[,5:ncol(acc)], 2, f)\n",
    "#\n",
    "# FIL type-based\n",
    "acc2 = read.csv(\"../res/acc2_dfr_fil.csv\", T)\n",
    "v2 = apply(acc2[,5:ncol(acc2)], 2, f)\n",
    "#\n",
    "# combine type-based evaluations in one dataframe\n",
    "dfr = data.frame(type=c(names(v), names(v2)),\n",
    "                 value=c(unname(v), unname(v2)),\n",
    "                 learning = c(rep(\"EOL\", length(v)), rep(\"FIL\", length(v2))))\n",
    "dfr$type=ordered(dfr$type, names(v))\n",
    "#\n",
    "# token-based evaluation\n",
    "acc$Frequency = dat$Frequency\n",
    "acc2$Frequency = dat$Frequency\n",
    "#\n",
    "# a convenience function\n",
    "ftok = function(column, dfr=acc) {\n",
    "  correct_tokens = sum(dfr[dfr[,column]==\"true\", \"Frequency\"])\n",
    "  incorrect_tokens = sum(dfr[dfr[,column]==\"false\", \"Frequency\"])\n",
    "  return(correct_tokens/(correct_tokens+incorrect_tokens))\n",
    "}\n",
    "#\n",
    "v1tok = sapply(colnames(acc)[5:21], ftok, acc)\n",
    "v2tok = sapply(colnames(acc)[5:21], ftok, acc2)\n",
    "#\n",
    "# put token-based evaluations together in a second data frame\n",
    "dfr2 = data.frame(type=c(names(v1tok), names(v2tok)),\n",
    "                  value=c(unname(v1tok), unname(v2tok)), \n",
    "                  learning = c(rep(\"EOL\", length(v)), rep(\"FIL\", length(v2))))\n",
    "\n",
    "# combine the two dataframes\n",
    "dfr$weighting = \"types\"\n",
    "dfr2$weighting = \"tokens\"\n",
    "dfr3 = rbind(dfr, dfr2)\n",
    "dfr3$weighting = factor(dfr3$weighting)\n",
    "cat(\" \\n\")\n",
    "\n",
    "\"\"\"\n"
   ]
  },
  {
   "cell_type": "code",
   "execution_count": null,
   "id": "340dc9ce-b86a-48e8-b6ec-55551f7e53bd",
   "metadata": {},
   "outputs": [],
   "source": [
    "R\"\"\"\n",
    "table(dfr3$learning, dfr3$weighting)\n",
    "\"\"\""
   ]
  },
  {
   "cell_type": "code",
   "execution_count": null,
   "id": "c4ea9bbf",
   "metadata": {},
   "outputs": [],
   "source": [
    "R\"\"\"\n",
    "save(dfr3, file=\"../res/dfr3.rda\", compress=\"xz\")\n",
    "\"\"\""
   ]
  },
  {
   "cell_type": "code",
   "execution_count": null,
   "id": "030af19e",
   "metadata": {},
   "outputs": [],
   "source": [
    "R\"\"\"\n",
    "options(repr.plot.width=8, repr.plot.height=6)\n",
    "dotplot(type~value|weighting, groups=learning, data=dfr3, xlab=\"accuracy\", \n",
    "        pch=19, cex=c(1.5, 0.8), col=rev(c(\"black\", \"gray\")))\n",
    "\"\"\""
   ]
  },
  {
   "cell_type": "code",
   "execution_count": null,
   "id": "8c54c8ba-8e61-4a46-b433-72fa7d9d4d2e",
   "metadata": {},
   "outputs": [],
   "source": []
  },
  {
   "cell_type": "code",
   "execution_count": null,
   "id": "743de910-e337-4d55-a503-907ae958e73a",
   "metadata": {},
   "outputs": [],
   "source": []
  }
 ],
 "metadata": {
  "kernelspec": {
   "display_name": "Julia 1.11.2",
   "language": "julia",
   "name": "julia-1.11"
  },
  "language_info": {
   "file_extension": ".jl",
   "mimetype": "application/julia",
   "name": "julia",
   "version": "1.11.2"
  }
 },
 "nbformat": 4,
 "nbformat_minor": 5
}
