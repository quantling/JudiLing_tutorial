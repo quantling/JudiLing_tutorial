{
 "cells": [
  {
   "cell_type": "markdown",
   "id": "a7f1981a",
   "metadata": {},
   "source": [
    "# Chapters 3 & 4: Our Dutch dataset and Form representations"
   ]
  },
  {
   "cell_type": "code",
   "execution_count": null,
   "id": "1f44870a",
   "metadata": {
    "scrolled": true
   },
   "outputs": [],
   "source": [
    "# if you haven't installed the packages in Chapter 2, do so now\n",
    "using Pkg\n",
    "Pkg.add(\"JudiLing\")\n",
    "Pkg.add(\"Plots\")\n",
    "Pkg.add(\"DataFrames\")"
   ]
  },
  {
   "cell_type": "markdown",
   "id": "e9c173ff",
   "metadata": {},
   "source": [
    "## Preparations and dutch dataset"
   ]
  },
  {
   "cell_type": "markdown",
   "id": "9d748d16",
   "metadata": {},
   "source": [
    "Load necessary packages."
   ]
  },
  {
   "cell_type": "code",
   "execution_count": null,
   "id": "cf97d90b",
   "metadata": {
    "scrolled": true
   },
   "outputs": [],
   "source": [
    "using JudiLing, Plots, DataFrames"
   ]
  },
  {
   "cell_type": "markdown",
   "id": "d6ab9146",
   "metadata": {},
   "source": [
    "Load the Dutch dataset we will be working with."
   ]
  },
  {
   "cell_type": "code",
   "execution_count": null,
   "id": "ac68206a",
   "metadata": {},
   "outputs": [],
   "source": [
    "# Adjust the filepath to the location of your dutch.csv file.\n",
    "dutch = JudiLing.load_dataset(\"../dat/dutch.csv\");\n",
    "dutch = dutch[:,[:Ortho, :Word, :Number, :WordCat, :Lexeme, :Syllables, :Frequency]];"
   ]
  },
  {
   "cell_type": "markdown",
   "id": "e8b0ed86",
   "metadata": {},
   "source": [
    "Take a look at the first 5 lines of the dataset."
   ]
  },
  {
   "cell_type": "code",
   "execution_count": null,
   "id": "e664c524",
   "metadata": {},
   "outputs": [],
   "source": [
    "first(dutch, 5)"
   ]
  },
  {
   "cell_type": "markdown",
   "id": "c3bfd911",
   "metadata": {},
   "source": [
    "### Exercises\n",
    "\n",
    "#### Exercise 1\n",
    "\n",
    "How many plurals and singulars?"
   ]
  },
  {
   "cell_type": "code",
   "execution_count": null,
   "id": "657d513f",
   "metadata": {},
   "outputs": [],
   "source": [
    "nrow(dutch[dutch.Number .== \"singular\",:])"
   ]
  },
  {
   "cell_type": "code",
   "execution_count": null,
   "id": "2217e295",
   "metadata": {},
   "outputs": [],
   "source": [
    "nrow(dutch[dutch.Number .== \"plural\",:])"
   ]
  },
  {
   "cell_type": "markdown",
   "id": "249c8f7c",
   "metadata": {},
   "source": [
    "Alternatively:"
   ]
  },
  {
   "cell_type": "code",
   "execution_count": null,
   "id": "5503f8cd",
   "metadata": {},
   "outputs": [],
   "source": [
    "combine(groupby(dutch, :Number), nrow)"
   ]
  },
  {
   "cell_type": "markdown",
   "id": "9f376569",
   "metadata": {},
   "source": [
    "How many verbs and nouns?"
   ]
  },
  {
   "cell_type": "code",
   "execution_count": null,
   "id": "b0140d53",
   "metadata": {},
   "outputs": [],
   "source": [
    "nrow(dutch[dutch.WordCat .== \"verb\",:])"
   ]
  },
  {
   "cell_type": "code",
   "execution_count": null,
   "id": "3094a60b",
   "metadata": {
    "scrolled": true
   },
   "outputs": [],
   "source": [
    "nrow(dutch[dutch.WordCat .== \"noun\",:])"
   ]
  },
  {
   "cell_type": "markdown",
   "id": "7d9ef1e0",
   "metadata": {},
   "source": [
    "Or alternatively:"
   ]
  },
  {
   "cell_type": "code",
   "execution_count": null,
   "id": "f54e68d1",
   "metadata": {},
   "outputs": [],
   "source": [
    "combine(groupby(dutch, :WordCat), nrow)"
   ]
  },
  {
   "cell_type": "markdown",
   "id": "d8aad732",
   "metadata": {},
   "source": [
    "How many singular and plural verbs, singular and plural nouns?"
   ]
  },
  {
   "cell_type": "code",
   "execution_count": null,
   "id": "a85eab57",
   "metadata": {},
   "outputs": [],
   "source": [
    "nrow(dutch[(dutch.WordCat .== \"verb\") .& (dutch.Number .== \"singular\") ,:])"
   ]
  },
  {
   "cell_type": "code",
   "execution_count": null,
   "id": "e2c0b809",
   "metadata": {},
   "outputs": [],
   "source": [
    "nrow(dutch[(dutch.WordCat .== \"verb\") .& (dutch.Number .== \"plural\") ,:])"
   ]
  },
  {
   "cell_type": "code",
   "execution_count": null,
   "id": "e3fa5d1f",
   "metadata": {},
   "outputs": [],
   "source": [
    "nrow(dutch[(dutch.WordCat .== \"noun\") .& (dutch.Number .== \"singular\") ,:])"
   ]
  },
  {
   "cell_type": "code",
   "execution_count": null,
   "id": "773a2d63",
   "metadata": {},
   "outputs": [],
   "source": [
    "nrow(dutch[(dutch.WordCat .== \"noun\") .& (dutch.Number .== \"plural\") ,:])"
   ]
  },
  {
   "cell_type": "markdown",
   "id": "8c268390",
   "metadata": {},
   "source": [
    "Or alternatively:"
   ]
  },
  {
   "cell_type": "code",
   "execution_count": null,
   "id": "c750d81f",
   "metadata": {},
   "outputs": [],
   "source": [
    "combine(groupby(dutch, [:WordCat, :Number]), nrow)"
   ]
  },
  {
   "cell_type": "markdown",
   "id": "7f1fc822",
   "metadata": {},
   "source": [
    "#### Exercise 2\n",
    "\n",
    "Percentage of unique wordforms:"
   ]
  },
  {
   "cell_type": "code",
   "execution_count": null,
   "id": "6073fac7",
   "metadata": {
    "scrolled": true
   },
   "outputs": [],
   "source": [
    "length(unique(dutch.Word))/length(dutch.Word)"
   ]
  },
  {
   "cell_type": "markdown",
   "id": "a1b077ac",
   "metadata": {},
   "source": [
    "#### Exercise 3\n",
    "\n",
    "Word with highest frequency"
   ]
  },
  {
   "cell_type": "code",
   "execution_count": null,
   "id": "b36b9e78",
   "metadata": {},
   "outputs": [],
   "source": [
    "findmax(dutch.Frequency)"
   ]
  },
  {
   "cell_type": "code",
   "execution_count": null,
   "id": "2f68d2ad",
   "metadata": {},
   "outputs": [],
   "source": [
    "dutch[818,:]"
   ]
  },
  {
   "cell_type": "markdown",
   "id": "e25d9cb9",
   "metadata": {},
   "source": [
    "#### Exercise 4\n",
    "\n",
    "Number of words with more than one syllable:"
   ]
  },
  {
   "cell_type": "code",
   "execution_count": null,
   "id": "3cbf334a",
   "metadata": {},
   "outputs": [],
   "source": [
    "# split the syllables by the separator \"-\"\n",
    "syllables = split.(dutch.Syllables, \"-\")\n",
    "# count the number of syllables in each word\n",
    "n_syllables = length.(syllables)\n",
    "# count how many words have more than one syllable\n",
    "sum(n_syllables .> 1)"
   ]
  },
  {
   "cell_type": "markdown",
   "id": "baf968eb",
   "metadata": {},
   "source": [
    "## Form representation\n",
    "\n",
    "### Visual"
   ]
  },
  {
   "cell_type": "markdown",
   "id": "18b387a6",
   "metadata": {},
   "source": [
    "Generate cue object with bigrams:"
   ]
  },
  {
   "cell_type": "code",
   "execution_count": null,
   "id": "1ac8fc0a",
   "metadata": {},
   "outputs": [],
   "source": [
    "cue_obj = JudiLing.make_cue_matrix(dutch,\n",
    "                                   grams=2,\n",
    "                                   target_col=\"Ortho\");"
   ]
  },
  {
   "cell_type": "markdown",
   "id": "05ffd082",
   "metadata": {},
   "source": [
    "What's in `cue_obj`? Use the help pages to find out:"
   ]
  },
  {
   "cell_type": "code",
   "execution_count": null,
   "id": "32559faa",
   "metadata": {},
   "outputs": [],
   "source": [
    "?cue_obj"
   ]
  },
  {
   "cell_type": "markdown",
   "id": "bca97332",
   "metadata": {},
   "source": [
    "Let's take a look at the actual cue matrix in `cue_obj.C`:"
   ]
  },
  {
   "cell_type": "code",
   "execution_count": null,
   "id": "af1fa75d",
   "metadata": {},
   "outputs": [],
   "source": [
    "JudiLing.display_matrix(dutch, :Ortho, cue_obj, \n",
    "                        cue_obj.C, :C, nrow=6, ncol=6)"
   ]
  },
  {
   "cell_type": "code",
   "execution_count": null,
   "id": "b5770deb",
   "metadata": {},
   "outputs": [],
   "source": [
    "?JudiLing.display_matrix"
   ]
  },
  {
   "cell_type": "markdown",
   "id": "252adf0e",
   "metadata": {},
   "source": [
    "`cue_obj.f2i` provides a bigram to column mapping, and `cue_obj.i2f` a column to bigram mapping."
   ]
  },
  {
   "cell_type": "code",
   "execution_count": null,
   "id": "90f731b4",
   "metadata": {},
   "outputs": [],
   "source": [
    "cue_obj.f2i"
   ]
  },
  {
   "cell_type": "code",
   "execution_count": null,
   "id": "c5a8fa02",
   "metadata": {},
   "outputs": [],
   "source": [
    "cue_obj.i2f"
   ]
  },
  {
   "cell_type": "markdown",
   "id": "e153387b",
   "metadata": {},
   "source": [
    "`cue_obj.A` is the adjacency matrix of the words in the dutch dataset:"
   ]
  },
  {
   "cell_type": "code",
   "execution_count": null,
   "id": "408f8336",
   "metadata": {
    "scrolled": true
   },
   "outputs": [],
   "source": [
    "JudiLing.display_matrix(dutch, :Ortho, cue_obj, cue_obj.A, :A)"
   ]
  },
  {
   "cell_type": "markdown",
   "id": "95f3fa31",
   "metadata": {},
   "source": [
    "`cue_obj.gold_ind` shows the order of the bigrams for each word form."
   ]
  },
  {
   "cell_type": "code",
   "execution_count": null,
   "id": "f2a67832",
   "metadata": {},
   "outputs": [],
   "source": [
    "cue_obj.gold_ind"
   ]
  },
  {
   "cell_type": "markdown",
   "id": "304268a0",
   "metadata": {},
   "source": [
    "To use trigrams instead of bigrams, `grams` needs to be set to 3:"
   ]
  },
  {
   "cell_type": "code",
   "execution_count": null,
   "id": "ae7415b7",
   "metadata": {},
   "outputs": [],
   "source": [
    "cue_obj = JudiLing.make_cue_matrix(dutch,\n",
    "                                   grams=3,\n",
    "                                   target_col=\"Ortho\");\n",
    "JudiLing.display_matrix(dutch, :Ortho, cue_obj, cue_obj.C, :C)"
   ]
  },
  {
   "cell_type": "markdown",
   "id": "43ccf350",
   "metadata": {},
   "source": [
    "### Auditory"
   ]
  },
  {
   "cell_type": "markdown",
   "id": "e15fc8b6",
   "metadata": {},
   "source": [
    "As you can see, there is also a simple phonological representation of the words in the `Word` column in our dataset:"
   ]
  },
  {
   "cell_type": "code",
   "execution_count": null,
   "id": "021eb353",
   "metadata": {},
   "outputs": [],
   "source": [
    "first(dutch, 5)"
   ]
  },
  {
   "cell_type": "markdown",
   "id": "a95e19cf",
   "metadata": {},
   "source": [
    "We can use the `Word` column in the same way as the `Ortho` column to generate cues:"
   ]
  },
  {
   "cell_type": "code",
   "execution_count": null,
   "id": "70a52fcc",
   "metadata": {},
   "outputs": [],
   "source": [
    "cue_obj = JudiLing.make_cue_matrix(dutch,\n",
    "                                   grams=2,\n",
    "                                   target_col=\"Word\");\n",
    "JudiLing.display_matrix(dutch, :Word, cue_obj, cue_obj.C, :C)"
   ]
  },
  {
   "cell_type": "markdown",
   "id": "691ec760",
   "metadata": {},
   "source": [
    "Finally, we can also use bi-syllables instead of bigrams. `dutch` also contains a column with `Syllables`."
   ]
  },
  {
   "cell_type": "code",
   "execution_count": null,
   "id": "4f68d0f5",
   "metadata": {},
   "outputs": [],
   "source": [
    "first(dutch, 5)"
   ]
  },
  {
   "cell_type": "markdown",
   "id": "c957845b",
   "metadata": {},
   "source": [
    "Consult the help pages to get information on how to use syllables instead of n-grams:"
   ]
  },
  {
   "cell_type": "code",
   "execution_count": null,
   "id": "8567d66f",
   "metadata": {},
   "outputs": [],
   "source": [
    "?JudiLing.make_cue_matrix"
   ]
  },
  {
   "cell_type": "markdown",
   "id": "b2318e96",
   "metadata": {},
   "source": [
    "We need to use `target_col=\"Syllables\"`. This column already has syllable boundaries, so we set `tokenized=true` and because syllables are separated with a `-`, we set `sep_token=\"-\"`. Finally, we want to keep the syllable information in the generated bi-syllables, so we set `keep_sep=true`."
   ]
  },
  {
   "cell_type": "code",
   "execution_count": null,
   "id": "255937f0",
   "metadata": {},
   "outputs": [],
   "source": [
    "cue_obj = JudiLing.make_cue_matrix(dutch,\n",
    "                                   grams=2,\n",
    "                                   target_col=\"Syllables\",\n",
    "                                   tokenized=true,\n",
    "                                   keep_sep=true,\n",
    "                                   sep_token=\"-\");\n",
    "JudiLing.display_matrix(dutch, :Word, cue_obj, cue_obj.C, :C, ncol=10)"
   ]
  },
  {
   "cell_type": "markdown",
   "id": "f6e2e0a8-ddcf-445e-8a51-93bfe83eb937",
   "metadata": {},
   "source": [
    "Creating a cue matrix from Continuous Frequency Band Summaries (CFBS) features (Shafaei et al., 2023):\n",
    "\n",
    "First, load prepared dataframe with the feature vectors (the code for generating such a dataframe as well as the audio tokens the vectors are based on can be found [here](https://osf.io/tdja2/))."
   ]
  },
  {
   "cell_type": "code",
   "execution_count": null,
   "id": "7016565d-bf01-4e97-ae8e-07f2f0f6bf7e",
   "metadata": {
    "scrolled": true
   },
   "outputs": [],
   "source": [
    "df_cfbs = JudiLing.load_dataset(\"../dat/cfbs_example.csv\");\n",
    "first(df_cfbs)"
   ]
  },
  {
   "cell_type": "markdown",
   "id": "fe000ca9-ecba-4705-a962-fc8d443e2023",
   "metadata": {},
   "source": [
    "The issue with the feature vectors is that they are currently represented as strings:"
   ]
  },
  {
   "cell_type": "code",
   "execution_count": null,
   "id": "60475f39-d994-4453-9894-7d93553ea461",
   "metadata": {},
   "outputs": [],
   "source": [
    "df_cfbs.features[1]"
   ]
  },
  {
   "cell_type": "markdown",
   "id": "716995fc-3d8b-4976-8a2e-342cda212903",
   "metadata": {},
   "source": [
    "So we need to parse them to vectors of numbers. I will show how we do this here for the first row, and then we apply it to all rows in the two dataframes. First, we remove the initial and final brackets `\"[\"` and `\"]\"`:"
   ]
  },
  {
   "cell_type": "code",
   "execution_count": null,
   "id": "7195176c-e7ea-4668-83e1-39ebc3a34be3",
   "metadata": {},
   "outputs": [],
   "source": [
    "nums = df_cfbs.features[1][2:(end-1)]"
   ]
  },
  {
   "cell_type": "markdown",
   "id": "3c42ca01-633d-4955-b671-abd6a3fa546f",
   "metadata": {},
   "source": [
    "Next, we split them by `\", \"`:"
   ]
  },
  {
   "cell_type": "code",
   "execution_count": null,
   "id": "a0f27ff3-c44e-46a8-9c0d-4f285f40fe45",
   "metadata": {
    "scrolled": true
   },
   "outputs": [],
   "source": [
    "nums_split = split(nums, \", \")"
   ]
  },
  {
   "cell_type": "markdown",
   "id": "26ebd839-1e8c-4fd4-8a15-c8153cc333cd",
   "metadata": {},
   "source": [
    "Finally, we need to convert the strings to floats:"
   ]
  },
  {
   "cell_type": "code",
   "execution_count": null,
   "id": "78daf487-0229-4935-8044-1ff3a11533f0",
   "metadata": {
    "scrolled": true
   },
   "outputs": [],
   "source": [
    "parse.(Float64, nums_split)"
   ]
  },
  {
   "cell_type": "markdown",
   "id": "2a3b7c66-6a9c-44b1-8e78-cf6261589734",
   "metadata": {},
   "source": [
    "Alternatively, we can perform the steps above in a single line:"
   ]
  },
  {
   "cell_type": "code",
   "execution_count": null,
   "id": "2d071a57-8b94-435c-af04-6a7c7221c870",
   "metadata": {
    "scrolled": true
   },
   "outputs": [],
   "source": [
    "cfbs_vecs = [parse.(Float64, split(features[2:(end-1)], r\", \")) for features in df_cfbs.features];\n",
    "cfbs_vecs[1]"
   ]
  },
  {
   "cell_type": "markdown",
   "id": "287b86c1-9cd7-424e-b2eb-68b34d13a91c",
   "metadata": {},
   "source": [
    "This is now a float vector. However, the vectors have different lengths, e.g.:"
   ]
  },
  {
   "cell_type": "code",
   "execution_count": null,
   "id": "62eb6321-0cef-439f-89b6-b7fe222ac25a",
   "metadata": {},
   "outputs": [],
   "source": [
    "@show length(cfbs_vecs[1]);\n",
    "@show length(cfbs_vecs[2]);"
   ]
  },
  {
   "cell_type": "markdown",
   "id": "6bcc058b-42dd-4970-95f9-1abf39e1f961",
   "metadata": {},
   "source": [
    "We use `make_cue_matrix_from_CFBS` to turn the vectors of different lengths into a matrix where vectors are padded with zeros to make them all as long as the longest vector:"
   ]
  },
  {
   "cell_type": "code",
   "execution_count": null,
   "id": "aac5aff1-bdb5-42c4-96de-0e843d588e26",
   "metadata": {},
   "outputs": [],
   "source": [
    "C = JudiLing.make_cue_matrix_from_CFBS(cfbs_vecs, pad_val=0.);\n",
    "C[1:5, 1:5]"
   ]
  },
  {
   "cell_type": "markdown",
   "id": "6f7b3ef5-fd72-4ee7-ba1b-d3abdb5144b9",
   "metadata": {},
   "source": [
    "Since we padded the vectors, we expect that all the way to the right of the matrix there are many zeros:"
   ]
  },
  {
   "cell_type": "code",
   "execution_count": null,
   "id": "e5b1770d-9d03-4af5-87ec-05c0b650f10f",
   "metadata": {},
   "outputs": [],
   "source": [
    "C[1:5, (end-5):end]"
   ]
  },
  {
   "cell_type": "markdown",
   "id": "35cfd05e-30f6-41ec-b9fc-593ebcf5f97b",
   "metadata": {},
   "source": [
    "Indeed, the second row has the maximum length feature vector, but for all other vectors there is padding."
   ]
  },
  {
   "cell_type": "code",
   "execution_count": null,
   "id": "454250c7-e3af-4f0c-af9e-cc2a7002e747",
   "metadata": {},
   "outputs": [],
   "source": [
    "findmax([length(c) for c in cfbs_vecs])"
   ]
  },
  {
   "cell_type": "markdown",
   "id": "bd438d50",
   "metadata": {},
   "source": [
    "### Exercises"
   ]
  },
  {
   "cell_type": "markdown",
   "id": "86839e13",
   "metadata": {},
   "source": [
    "#### Exercise 1\n",
    "\n",
    "Load the latin dataset"
   ]
  },
  {
   "cell_type": "code",
   "execution_count": null,
   "id": "684fda40",
   "metadata": {},
   "outputs": [],
   "source": [
    "latin = JudiLing.load_dataset(\"../dat/latin.csv\");\n",
    "first(latin, 5)"
   ]
  },
  {
   "cell_type": "markdown",
   "id": "11f30b3b",
   "metadata": {},
   "source": [
    "#### Exercise 2\n",
    "\n",
    "Get the number of rows and columns in the dataset."
   ]
  },
  {
   "cell_type": "code",
   "execution_count": null,
   "id": "2f652743",
   "metadata": {},
   "outputs": [],
   "source": [
    "nrow(latin)"
   ]
  },
  {
   "cell_type": "code",
   "execution_count": null,
   "id": "328abdf7",
   "metadata": {},
   "outputs": [],
   "source": [
    "ncol(latin)"
   ]
  },
  {
   "cell_type": "markdown",
   "id": "00daa66f",
   "metadata": {},
   "source": [
    "Or alternatively:"
   ]
  },
  {
   "cell_type": "code",
   "execution_count": null,
   "id": "4509904e",
   "metadata": {},
   "outputs": [],
   "source": [
    "size(latin)"
   ]
  },
  {
   "cell_type": "markdown",
   "id": "922c123c",
   "metadata": {},
   "source": [
    "#### Exercise 3\n",
    "\n",
    "Creating a cue object:"
   ]
  },
  {
   "cell_type": "code",
   "execution_count": null,
   "id": "1fe98c44",
   "metadata": {},
   "outputs": [],
   "source": [
    "cue_obj_latin = JudiLing.make_cue_matrix(latin, grams=3, \n",
    "                                        target_col=\"Word\");"
   ]
  },
  {
   "cell_type": "markdown",
   "id": "beb91929",
   "metadata": {},
   "source": [
    "#### Exercise 4\n",
    "\n",
    "Displaying first 5 rows and columns of the C matrix:"
   ]
  },
  {
   "cell_type": "code",
   "execution_count": null,
   "id": "e4cb6593",
   "metadata": {},
   "outputs": [],
   "source": [
    "JudiLing.display_matrix(latin, :Word, cue_obj_latin, \n",
    "    cue_obj_latin.C, :C,\n",
    "    nrow = 5, ncol = 5)"
   ]
  },
  {
   "cell_type": "markdown",
   "id": "c8dc8ba4",
   "metadata": {},
   "source": [
    "#### Exercise 5\n",
    "\n",
    "Getting the number of unique cues:"
   ]
  },
  {
   "cell_type": "code",
   "execution_count": null,
   "id": "c12cd507",
   "metadata": {},
   "outputs": [],
   "source": [
    "# option 1\n",
    "length(cue_obj_latin.f2i)"
   ]
  },
  {
   "cell_type": "code",
   "execution_count": null,
   "id": "b4115677",
   "metadata": {},
   "outputs": [],
   "source": [
    "# option 2\n",
    "length(cue_obj_latin.i2f)"
   ]
  },
  {
   "cell_type": "code",
   "execution_count": null,
   "id": "debfe3fc",
   "metadata": {},
   "outputs": [],
   "source": [
    "# option 3\n",
    "size(cue_obj_latin.C)[2]"
   ]
  }
 ],
 "metadata": {
  "kernelspec": {
   "display_name": "Julia 1.11.2",
   "language": "julia",
   "name": "julia-1.11"
  },
  "language_info": {
   "file_extension": ".jl",
   "mimetype": "application/julia",
   "name": "julia",
   "version": "1.11.2"
  },
  "toc": {
   "base_numbering": 1,
   "nav_menu": {},
   "number_sections": true,
   "sideBar": true,
   "skip_h1_title": false,
   "title_cell": "Table of Contents",
   "title_sidebar": "Contents",
   "toc_cell": false,
   "toc_position": {
    "height": "calc(100% - 180px)",
    "left": "10px",
    "top": "150px",
    "width": "165px"
   },
   "toc_section_display": true,
   "toc_window_display": false
  }
 },
 "nbformat": 4,
 "nbformat_minor": 5
}
