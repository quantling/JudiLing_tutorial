{
 "cells": [
  {
   "cell_type": "markdown",
   "id": "c0663f3d-94d9-4e0d-8b30-41bc6700b888",
   "metadata": {},
   "source": [
    "# Chapter 14.3: Vertical tongue tip position\n",
    "\n",
    "## Modeling"
   ]
  },
  {
   "cell_type": "code",
   "execution_count": null,
   "id": "6e772744-0f04-4d46-ae96-0a7d57d1219b",
   "metadata": {},
   "outputs": [],
   "source": [
    "using JudiLing, JudiLingMeasures, DataFrames, RCall"
   ]
  },
  {
   "cell_type": "markdown",
   "id": "0f000929-e58d-4fc4-8289-7f91c770e569",
   "metadata": {},
   "source": [
    "__Training data__"
   ]
  },
  {
   "cell_type": "code",
   "execution_count": null,
   "id": "c3b51624-57cf-46f4-b960-85767ebf3c1a",
   "metadata": {},
   "outputs": [],
   "source": [
    "german = JudiLing.load_dataset(\"../dat/frequencylist.txt\", delim=\"\\t\");"
   ]
  },
  {
   "cell_type": "code",
   "execution_count": null,
   "id": "5fbf6d21-406d-4946-a237-aefe2762788a",
   "metadata": {},
   "outputs": [],
   "source": [
    "first(german, 6)"
   ]
  },
  {
   "cell_type": "code",
   "execution_count": null,
   "id": "a6767fea-cd84-493b-b97f-1cdde376419e",
   "metadata": {},
   "outputs": [],
   "source": [
    "size(german)"
   ]
  },
  {
   "cell_type": "markdown",
   "id": "6d855939-d03b-4976-bd10-d69b50b17e2f",
   "metadata": {},
   "source": [
    "__Modeling with word2vec using frequency-informed learning__"
   ]
  },
  {
   "cell_type": "markdown",
   "id": "3a770e86-78f4-4b97-a41e-9063b6cf8858",
   "metadata": {},
   "source": [
    "__NB__ The following code snippets cannot be excecuted as we cannot distribute the specific word2vec embeddings used by Saito. The resulting SemanticSupport measure is available in the \"articulography.csv\" dataset that is used below. "
   ]
  },
  {
   "cell_type": "code",
   "execution_count": null,
   "id": "7fc4ff99-642b-4b9c-9539-21b23c6ba788",
   "metadata": {},
   "outputs": [],
   "source": [
    "#S, words = JudiLing.load_S_matrix(\"data/german_w2v.csv\",\n",
    "#                                  header=false, sep='\\t');"
   ]
  },
  {
   "cell_type": "code",
   "execution_count": null,
   "id": "e4a460b1-985d-4147-bc0f-71ad17abb810",
   "metadata": {},
   "outputs": [],
   "source": [
    "#first(words, 6)"
   ]
  },
  {
   "cell_type": "code",
   "execution_count": null,
   "id": "14f694d4-6210-450d-a6e6-d1dca4949996",
   "metadata": {},
   "outputs": [],
   "source": [
    "#size(words)"
   ]
  },
  {
   "cell_type": "code",
   "execution_count": null,
   "id": "7628a5dd-cfc7-42ee-a1f3-f557c7a52c76",
   "metadata": {},
   "outputs": [],
   "source": [
    "#Cue_object = JudiLing.make_cue_matrix(german, grams=3, target_col=\"WordPhono\");"
   ]
  },
  {
   "cell_type": "code",
   "execution_count": null,
   "id": "0ae25519-28e4-4834-83cd-ce7abd207cf8",
   "metadata": {},
   "outputs": [],
   "source": [
    "#G = JudiLing.make_transform_matrix(S, Cue_object.C, german.Frequency);"
   ]
  },
  {
   "cell_type": "code",
   "execution_count": null,
   "id": "07ea4230-3298-42fc-9d3d-c45aecf17acc",
   "metadata": {},
   "outputs": [],
   "source": [
    "#Chat = S * G;"
   ]
  },
  {
   "cell_type": "code",
   "execution_count": null,
   "id": "c5cfe29a-8740-42fb-914e-aa4bc586e9d3",
   "metadata": {},
   "outputs": [],
   "source": [
    "#semantic_support_word2vec = JudiLingMeasures.last_support(Cue_object, Chat);"
   ]
  },
  {
   "cell_type": "markdown",
   "id": "3e24ddbe-8e35-425d-9c34-f9599c6fb414",
   "metadata": {},
   "source": [
    "__Modeling with FastText vectors using frequency-informed learning__"
   ]
  },
  {
   "cell_type": "markdown",
   "id": "511e31eb-abbe-49d2-b679-9ed156e030ea",
   "metadata": {},
   "source": [
    "We require German fasttext vectors:"
   ]
  },
  {
   "cell_type": "code",
   "execution_count": null,
   "id": "a4a44bda-8800-4a66-b51d-e81f3da70a67",
   "metadata": {
    "scrolled": true
   },
   "outputs": [],
   "source": [
    "germanft, Sft = JudiLing.load_S_matrix_from_fasttext(\n",
    "                    german,\n",
    "                    :de,\n",
    "                    target_col=:WordOrtho);"
   ]
  },
  {
   "cell_type": "code",
   "execution_count": null,
   "id": "79d7a31f-69b1-4336-8518-16847970ef6a",
   "metadata": {},
   "outputs": [],
   "source": [
    "size(germanft)"
   ]
  },
  {
   "cell_type": "code",
   "execution_count": null,
   "id": "8a257b2f-4423-4679-bff2-8d8e0c5af3a1",
   "metadata": {},
   "outputs": [],
   "source": [
    "Cue_object = JudiLing.make_cue_matrix(germanft, grams=3, target_col=\"WordPhono\");"
   ]
  },
  {
   "cell_type": "code",
   "execution_count": null,
   "id": "da9650e6-2953-4515-8e49-848677403b28",
   "metadata": {},
   "outputs": [],
   "source": [
    "G = JudiLing.make_transform_matrix(Sft, Cue_object.C, germanft.Frequency);"
   ]
  },
  {
   "cell_type": "code",
   "execution_count": null,
   "id": "9ae3fdce-7beb-41d6-984d-4582ffcb38e9",
   "metadata": {},
   "outputs": [],
   "source": [
    "Chat = Sft * G;"
   ]
  },
  {
   "cell_type": "code",
   "execution_count": null,
   "id": "0eda3a42-5d74-4930-bd5b-152af39d50f4",
   "metadata": {},
   "outputs": [],
   "source": [
    "semantic_support_fasttext = JudiLingMeasures.last_support(Cue_object, Chat);"
   ]
  },
  {
   "cell_type": "markdown",
   "id": "10cb1c0a-5a9d-4fa6-b4f6-6ed9dbf51ef5",
   "metadata": {},
   "source": [
    "__Modeling FastText vectors using endstate learning__"
   ]
  },
  {
   "cell_type": "code",
   "execution_count": null,
   "id": "e0ad66b6-b473-4811-a8c0-877e91f7ef34",
   "metadata": {},
   "outputs": [],
   "source": [
    "Cue_object = JudiLing.make_cue_matrix(germanft, grams=3, target_col=\"WordPhono\");"
   ]
  },
  {
   "cell_type": "code",
   "execution_count": null,
   "id": "d6a35714-2ede-4f92-a600-ad4b3136e6ac",
   "metadata": {},
   "outputs": [],
   "source": [
    "G = JudiLing.make_transform_matrix(Sft, Cue_object.C);"
   ]
  },
  {
   "cell_type": "code",
   "execution_count": null,
   "id": "9f01a7a4-3f59-4a94-85ab-c8261cd4a863",
   "metadata": {},
   "outputs": [],
   "source": [
    "Chat = Sft * G;"
   ]
  },
  {
   "cell_type": "code",
   "execution_count": null,
   "id": "168b9050-d043-4f98-9e8c-cd025d6bdec5",
   "metadata": {},
   "outputs": [],
   "source": [
    "semantic_support_fasttext_EOL = JudiLingMeasures.last_support(Cue_object, Chat);"
   ]
  },
  {
   "cell_type": "markdown",
   "id": "3723d644-5d94-499e-aa7b-b922bc54956c",
   "metadata": {},
   "source": [
    "__Save results__"
   ]
  },
  {
   "cell_type": "code",
   "execution_count": null,
   "id": "5525db12-7130-4098-aaa1-5ab979124676",
   "metadata": {},
   "outputs": [],
   "source": [
    "#dfrw2v = DataFrame(Word=german.WordOrtho, Phon=german.WordPhono, Frequency=german.Frequency, \n",
    "#    SemanticSupport=semantic_support_word2vec);\n",
    "dfrft = DataFrame(Word=germanft.WordOrtho, Phon=germanft.WordPhono, Frequency=germanft.Frequency, \n",
    "    SemanticSupportFIL=semantic_support_fasttext, SemanticSupportEOL=semantic_support_fasttext_EOL);"
   ]
  },
  {
   "cell_type": "code",
   "execution_count": null,
   "id": "2aa87c6c-825f-499a-af40-e21c6d130649",
   "metadata": {},
   "outputs": [],
   "source": [
    "# @rput dfrw2v;\n",
    "@rput dfrft;"
   ]
  },
  {
   "cell_type": "code",
   "execution_count": null,
   "id": "bf596487-2c64-40bb-b868-c7aafd507761",
   "metadata": {},
   "outputs": [],
   "source": [
    "R\"\"\"\n",
    "save(dfrft, file=\"../res/dfrft.rda\")\n",
    "\"\"\";"
   ]
  },
  {
   "cell_type": "markdown",
   "id": "f228ec24-0624-41fa-b2ab-8b7db3ad17cd",
   "metadata": {},
   "source": [
    "## Statistical analysis\n",
    "\n",
    "We do the analysis here with the precompiled measures using word2vec vectors as reported in the book. To do the analysis with a DLM based on fasttext vectors see Exercise 1."
   ]
  },
  {
   "cell_type": "code",
   "execution_count": null,
   "id": "8e3d2aa9-94d1-41ef-999f-be06fb5c2772",
   "metadata": {
    "scrolled": true
   },
   "outputs": [],
   "source": [
    "R\"\"\"\n",
    "ema = read.csv(\"../dat/articulography.csv\", header=TRUE)\n",
    "head(ema)\n",
    "\"\"\""
   ]
  },
  {
   "cell_type": "code",
   "execution_count": null,
   "id": "e082ce48-cd52-4497-98c7-6eab2e94f32b",
   "metadata": {},
   "outputs": [],
   "source": [
    "R\"\"\"\n",
    "suppressPackageStartupMessages(library(mgcv))\n",
    "suppressPackageStartupMessages(library(itsadug))\n",
    "\"\"\";"
   ]
  },
  {
   "cell_type": "markdown",
   "id": "decffa75-3318-4b20-ae76-dc1c6c392591",
   "metadata": {},
   "source": [
    "__Analysis using the word2vec based measure__"
   ]
  },
  {
   "cell_type": "markdown",
   "id": "9fde118a-fc33-4360-ab23-47e247d43d61",
   "metadata": {},
   "source": [
    "Merge datasets and prepare for modeling with GAMs."
   ]
  },
  {
   "cell_type": "code",
   "execution_count": null,
   "id": "1662fa6e-0cf5-4681-945c-98e928bf0f8b",
   "metadata": {},
   "outputs": [],
   "source": [
    "R\"\"\"\n",
    "dat = ema\n",
    "dat = dat[order(dat$OrigOrder),]\n",
    "dat$Speaker  = factor(dat$Speaker)\n",
    "dat$Prev1Seg = factor(dat$Prev1Seg)\n",
    "dat$Next1Seg = factor(dat$Next1Seg)\n",
    "head(dat)\n",
    "\"\"\""
   ]
  },
  {
   "cell_type": "markdown",
   "id": "09b3e53b-a70f-46bc-9945-3f6ffaab436d",
   "metadata": {},
   "source": [
    "Detect and remove extreme outliers using a simple GAM model with little concurvity."
   ]
  },
  {
   "cell_type": "code",
   "execution_count": null,
   "id": "71563d3c-5bae-41b7-850c-d12072c438b0",
   "metadata": {},
   "outputs": [],
   "source": [
    "R\"\"\"\n",
    "fmla = formula(SenTT.Z ~ s(Speaker, bs=\"re\") + \n",
    "                         s(Prev1Seg, bs=\"re\") + \n",
    "                         te(SemanticSupportW2V, WordFreq, nTime, k=c(3,3,3)))\n",
    "m = bam(fmla, data=dat)\n",
    "qqnorm(resid(m));qqline(resid(m))\n",
    "dat2 = dat[resid(m) > -10,]\n",
    "\"\"\";"
   ]
  },
  {
   "cell_type": "code",
   "execution_count": null,
   "id": "4f46f002-9d45-4bc0-933f-aa5fa9ef6674",
   "metadata": {},
   "outputs": [],
   "source": [
    "R\"\"\"\n",
    "w2v.gam = bam(fmla, data=dat2, \n",
    "              AR.start=AR.start.segment, rho=0.91,\n",
    "              discrete=TRUE)\n",
    "summary(w2v.gam)\n",
    "\"\"\""
   ]
  },
  {
   "cell_type": "markdown",
   "id": "3b389f5b-9c37-417d-a9d9-208dd1f37f94",
   "metadata": {},
   "source": [
    "Adding scat does not improve model fit."
   ]
  },
  {
   "cell_type": "code",
   "execution_count": null,
   "id": "1ae9a9f2-b2a3-475b-b213-1f8d7b4ca292",
   "metadata": {},
   "outputs": [],
   "source": [
    "R\"\"\"\n",
    "w2v_scat.gam = bam(fmla, data=dat2, \n",
    "               AR.start=AR.start.segment, rho=0.91,\n",
    "               family=\"scat\", discrete=TRUE)\n",
    "AIC(w2v.gam, w2v_scat.gam)\n",
    "\"\"\""
   ]
  },
  {
   "cell_type": "markdown",
   "id": "25e0c620-6815-4cf9-aa26-6c19c9b4af7d",
   "metadata": {},
   "source": [
    "Concurvity is low for the tensor product smooth, so the model, and specifically the te(), is interpretable."
   ]
  },
  {
   "cell_type": "code",
   "execution_count": null,
   "id": "2e822d78-a990-4a3f-abe7-c05ad88ec27b",
   "metadata": {},
   "outputs": [],
   "source": [
    "R\"\"\"\n",
    "concurvity(w2v.gam)\n",
    "\"\"\""
   ]
  },
  {
   "cell_type": "markdown",
   "id": "80ee894f-3ee8-42b7-b4d1-513bffc2728e",
   "metadata": {},
   "source": [
    "Removing Semantic Support leads to a substantial increase in AIC:"
   ]
  },
  {
   "cell_type": "code",
   "execution_count": null,
   "id": "433bdd34-f1fe-4b31-96ed-6a447f7f659e",
   "metadata": {},
   "outputs": [],
   "source": [
    "R\"\"\"\n",
    "fmlaAIC = formula(SenTT.Z ~ s(Speaker, bs=\"re\") + \n",
    "                            s(Prev1Seg, bs=\"re\") + \n",
    "                            te(WordFreq, nTime, k=c(3,3)))\n",
    "m = bam(fmla, data=dat, AR.start=AR.start.segment, rho=0.91,\n",
    "              discrete=TRUE)\n",
    "AIC(m, w2v.gam)\n",
    "\"\"\""
   ]
  },
  {
   "cell_type": "markdown",
   "id": "3cd1685c-5503-411d-92cd-4a25620de628",
   "metadata": {},
   "source": [
    "The residuals of the model have long thin tails, but there is little we can do about this. \n",
    "Visualisation:"
   ]
  },
  {
   "cell_type": "code",
   "execution_count": null,
   "id": "2f58bbc1-7965-42f8-a5b4-61d60138eb62",
   "metadata": {},
   "outputs": [],
   "source": [
    "R\"\"\"\n",
    "plot(w2v.gam, select=3, scheme=2,hcolors=topo.colors(20), main=\"tensor product smooth\")\n",
    "\"\"\";"
   ]
  },
  {
   "cell_type": "code",
   "execution_count": null,
   "id": "25d5c69b-44f8-469a-9393-50e639316049",
   "metadata": {},
   "outputs": [],
   "source": [
    "R\"\"\"\n",
    "pdf(\"../fig/w2v_FIL.pdf\", he=8, wi=8)\n",
    "plot(w2v.gam, select=3, scheme=2, hcolors=topo.colors(20),\n",
    "     main=\"partial effect\")\n",
    "dev.off()\n",
    "\"\"\";"
   ]
  },
  {
   "cell_type": "markdown",
   "id": "ad5fe5e8-9502-4afb-827e-3bab887cd748",
   "metadata": {},
   "source": [
    "## Exercises"
   ]
  },
  {
   "cell_type": "markdown",
   "id": "5433ef9e-cd2f-4901-8556-21eafe05c01d",
   "metadata": {},
   "source": [
    "__Analysis using the fasttext based measures__\n",
    "\n",
    "Load the data"
   ]
  },
  {
   "cell_type": "code",
   "execution_count": null,
   "id": "4ea30d19-7e2e-4f3e-b146-49d5c0d0c733",
   "metadata": {
    "scrolled": true
   },
   "outputs": [],
   "source": [
    "R\"\"\"\n",
    "load(\"../res/dfrft.rda\")\n",
    "dfrft$SemanticSupportFIL=as.vector(unlist(dfrft$SemanticSupportFIL))\n",
    "dfrft$SemanticSupportEOL=as.vector(unlist(dfrft$SemanticSupportEOL))\n",
    "ema = read.csv(\"../dat/articulography.csv\", header=TRUE)\n",
    "dat = merge(ema, dfrft, by=\"Word\")\n",
    "dat = dat[order(dat$OrigOrder),]\n",
    "dat$Speaker  = factor(dat$Speaker)\n",
    "dat$Prev1Seg = factor(dat$Prev1Seg)\n",
    "dat$Next1Seg = factor(dat$Next1Seg)\n",
    "head(dat)\n",
    "\"\"\""
   ]
  },
  {
   "cell_type": "markdown",
   "id": "5be224dd-6ee1-41e6-b842-1ce0a72688bb",
   "metadata": {},
   "source": [
    "__Analyse fasttext+EOL based measure__"
   ]
  },
  {
   "cell_type": "markdown",
   "id": "7ae92920-95a1-40d4-933a-98e80eeadb2a",
   "metadata": {},
   "source": [
    "Detect and remove extreme outliers."
   ]
  },
  {
   "cell_type": "code",
   "execution_count": null,
   "id": "6d23eb66-2796-4b9f-be7b-d14f6ac25cd7",
   "metadata": {
    "scrolled": true
   },
   "outputs": [],
   "source": [
    "R\"\"\"\n",
    "fmla = formula(SenTT.Z ~ s(Speaker, bs=\"re\") + \n",
    "                         s(Prev1Seg, bs=\"re\") + \n",
    "                         te(SemanticSupportEOL, WordFreq, nTime, k=c(3,3,3)))\n",
    "m = bam(fmla, data=dat)\n",
    "qqnorm(resid(m));qqline(resid(m))\n",
    "\n",
    "dat2 = dat[resid(m) > -10,]\n",
    "\"\"\";"
   ]
  },
  {
   "cell_type": "code",
   "execution_count": null,
   "id": "b7e82d0f-65ca-41dc-b8a7-51de6146ffb4",
   "metadata": {
    "scrolled": true
   },
   "outputs": [],
   "source": [
    "R\"\"\"\n",
    "ft_EOL.gam = bam(fmla, data=dat2, AR.start=AR.start.segment, rho=0.91,\n",
    "             discrete=TRUE)\n",
    "plot(ft_EOL.gam, select=3, scheme=2,hcolors=topo.colors(20))\n",
    "\"\"\";"
   ]
  },
  {
   "cell_type": "markdown",
   "id": "3a9da2ce-dda8-4195-bf26-8a254b970e18",
   "metadata": {},
   "source": [
    "This is a rather different partial effect than that obtained with word2vec."
   ]
  },
  {
   "cell_type": "markdown",
   "id": "86c080d1-b1e2-446b-8210-b652247e9fde",
   "metadata": {},
   "source": [
    "__Analysis using the fasttext+EOL based measure__\n",
    "\n",
    "Detect and remove extreme outliers."
   ]
  },
  {
   "cell_type": "code",
   "execution_count": null,
   "id": "35eb011c-588b-441d-be74-b9f4c975536b",
   "metadata": {
    "scrolled": true
   },
   "outputs": [],
   "source": [
    "R\"\"\"\n",
    "fmla = formula(SenTT.Z ~ s(Speaker, bs=\"re\") + \n",
    "                         s(Prev1Seg, bs=\"re\") + \n",
    "                         te(SemanticSupportFIL, WordFreq, nTime, k=c(3,3,3)))\n",
    "m = bam(fmla, data=dat)\n",
    "qqnorm(resid(m));qqline(resid(m))\n",
    "\n",
    "dat2 = dat[resid(m) > -10,]\n",
    "\"\"\";"
   ]
  },
  {
   "cell_type": "code",
   "execution_count": null,
   "id": "e7d280a0-c60a-4166-ab3f-55d83497cbc3",
   "metadata": {},
   "outputs": [],
   "source": [
    "R\"\"\"\n",
    "ft_FIL.gam = bam(fmla, data=dat2, AR.start=AR.start.segment, rho=0.91,\n",
    "             discrete=TRUE)\n",
    "plot(ft_FIL.gam, select=3, scheme=2,hcolors=topo.colors(20))\n",
    "\"\"\";"
   ]
  },
  {
   "cell_type": "markdown",
   "id": "016d3195-77cf-4575-8986-131e293bb12d",
   "metadata": {},
   "source": [
    "Carry out model comparison with AIC."
   ]
  },
  {
   "cell_type": "code",
   "execution_count": null,
   "id": "4d90443a-a753-4f2c-9ec3-9092bb2085b0",
   "metadata": {},
   "outputs": [],
   "source": [
    "R\"\"\"\n",
    "aics = AIC(ft_FIL.gam, ft_EOL.gam, w2v.gam)\n",
    "aics[order(aics$AIC),]\n",
    "\"\"\""
   ]
  },
  {
   "cell_type": "markdown",
   "id": "764d9fe9-4594-4f7a-b43d-7f1918ed72e3",
   "metadata": {},
   "source": [
    "The model using word2vec is superior, and the tensor product interaction for this model is also the simplest and the easiest to make sense of."
   ]
  },
  {
   "cell_type": "code",
   "execution_count": null,
   "id": "fd4bc8e0-d141-44c2-a0d4-8ddda1827591",
   "metadata": {},
   "outputs": [],
   "source": []
  }
 ],
 "metadata": {
  "kernelspec": {
   "display_name": "Julia 1.11.2",
   "language": "julia",
   "name": "julia-1.11"
  },
  "language_info": {
   "file_extension": ".jl",
   "mimetype": "application/julia",
   "name": "julia",
   "version": "1.11.2"
  }
 },
 "nbformat": 4,
 "nbformat_minor": 5
}
