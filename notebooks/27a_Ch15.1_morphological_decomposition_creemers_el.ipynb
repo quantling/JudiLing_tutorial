{
 "cells": [
  {
   "cell_type": "markdown",
   "id": "609e6258",
   "metadata": {},
   "source": [
    "# Chapter 15.1: Morphological decomposition? "
   ]
  },
  {
   "cell_type": "markdown",
   "id": "7d929f09",
   "metadata": {},
   "source": [
    "In this notebook we model a priming study reported by Creemers et al. (2020) with LDL-EL, replicating Chuang, Kang, Luo and Baayen (2022)."
   ]
  },
  {
   "cell_type": "code",
   "execution_count": null,
   "id": "a82aa9d8-5995-40cb-b27b-c62871831818",
   "metadata": {
    "scrolled": true
   },
   "outputs": [],
   "source": [
    "import Pkg; Pkg.add(\"StatsPlots\")\n",
    "using JudiLing, JudiLingMeasures, CSV, DataFrames, StatsPlots, Statistics, RCall"
   ]
  },
  {
   "cell_type": "markdown",
   "id": "8f64ede2-7239-4b0e-a10d-666ea3ccdf5a",
   "metadata": {},
   "source": [
    "Input for modeling was a set of 7803 Dutch words, selected from the lemma database in CELEX\n",
    "(Baayen et al., 1995). For a word to be included, it had to have a frequency of occurrence exceeding\n",
    "100 (per 42 million) and have at most two constituents, or it had to be listed as a prime or target\n",
    "in Experiment 1 of Creemers et al. (2020).  The dataset loaded in the next code snippet contains four additional words."
   ]
  },
  {
   "cell_type": "code",
   "execution_count": null,
   "id": "f6dd4c7e-f42f-4fd4-ae4b-5fd3e72037c8",
   "metadata": {},
   "outputs": [],
   "source": [
    "phon = JudiLing.load_dataset(\"../dat/dutch_phon.csv\");"
   ]
  },
  {
   "cell_type": "code",
   "execution_count": null,
   "id": "40ede9e9-f2c7-4d27-8523-ab55b0459eb4",
   "metadata": {},
   "outputs": [],
   "source": [
    "size(phon)"
   ]
  },
  {
   "cell_type": "code",
   "execution_count": null,
   "id": "f474891d-2cd5-474e-9a28-57861cd47a96",
   "metadata": {},
   "outputs": [],
   "source": [
    "first(phon, 6)"
   ]
  },
  {
   "cell_type": "markdown",
   "id": "a88a60d6",
   "metadata": {},
   "source": [
    "Load the S matrix."
   ]
  },
  {
   "cell_type": "code",
   "execution_count": null,
   "id": "b21d36f9-5045-47e5-9752-bd5203de37d7",
   "metadata": {},
   "outputs": [],
   "source": [
    "S, words = JudiLing.load_S_matrix(\"../dat/dutch_phon_ft.txt\", header = false, sep = \" \");"
   ]
  },
  {
   "cell_type": "markdown",
   "id": "2f7d05a9",
   "metadata": {},
   "source": [
    "Create the cue object."
   ]
  },
  {
   "cell_type": "code",
   "execution_count": null,
   "id": "487748fb-6258-42cd-982e-7ebf63e4869b",
   "metadata": {},
   "outputs": [],
   "source": [
    "cue_obj = JudiLing.make_cue_matrix(phon, grams=3, target_col=:phon);"
   ]
  },
  {
   "cell_type": "code",
   "execution_count": null,
   "id": "a3d015a6-51c5-4b91-ba99-a83419064839",
   "metadata": {
    "scrolled": true
   },
   "outputs": [],
   "source": [
    "size(cue_obj.C)"
   ]
  },
  {
   "cell_type": "markdown",
   "id": "0cc90ab4",
   "metadata": {},
   "source": [
    "Compute the F and G matrices."
   ]
  },
  {
   "cell_type": "code",
   "execution_count": null,
   "id": "c703ebaf-f622-4923-bd08-e66d474a2dc6",
   "metadata": {},
   "outputs": [],
   "source": [
    "F = JudiLing.make_transform_matrix(cue_obj.C, S);"
   ]
  },
  {
   "cell_type": "code",
   "execution_count": null,
   "id": "e3a6fa78-a827-4d48-9c07-c6a5f91e2149",
   "metadata": {},
   "outputs": [],
   "source": [
    "G = JudiLing.make_transform_matrix(S, cue_obj.C);"
   ]
  },
  {
   "cell_type": "markdown",
   "id": "566896b0",
   "metadata": {},
   "source": [
    "Predict $\\hat{\\mathbf{S}}$ and $\\hat{\\mathbf{C}}$."
   ]
  },
  {
   "cell_type": "code",
   "execution_count": null,
   "id": "cb7ee3a1-53b3-4e37-b7f0-f093808db0f3",
   "metadata": {},
   "outputs": [],
   "source": [
    "Shat = cue_obj.C * F;\n",
    "Chat = S * G;"
   ]
  },
  {
   "cell_type": "markdown",
   "id": "e977a238",
   "metadata": {},
   "source": [
    "Compute accuracy and correlation matrix."
   ]
  },
  {
   "cell_type": "code",
   "execution_count": null,
   "id": "7f0293d3-9047-4088-84f2-cf0e5c640d7f",
   "metadata": {},
   "outputs": [],
   "source": [
    "accuracy, R = JudiLing.eval_SC(Shat, S, phon, :phon, R=true);\n",
    "accuracy"
   ]
  },
  {
   "cell_type": "markdown",
   "id": "b536401e",
   "metadata": {},
   "source": [
    "Compute measures with JudiLingMeasures and save."
   ]
  },
  {
   "cell_type": "code",
   "execution_count": null,
   "id": "2c329fb7-d700-4c73-ba9b-3515ea080242",
   "metadata": {},
   "outputs": [],
   "source": [
    "measures = JudiLingMeasures.compute_all_measures_train(phon, \n",
    "                                                       cue_obj, \n",
    "                                                       Chat, \n",
    "                                                       S, \n",
    "                                                       Shat, \n",
    "                                                       F, \n",
    "                                                       G, \n",
    "                                                       low_cost_measures_only=true);"
   ]
  },
  {
   "cell_type": "code",
   "execution_count": null,
   "id": "18904c1a-5fad-4264-b65d-2d080df348d9",
   "metadata": {},
   "outputs": [],
   "source": [
    "CSV.write(\"../res/dutch_phon_EOL_measures.csv\", measures);"
   ]
  },
  {
   "cell_type": "code",
   "execution_count": null,
   "id": "9c101c61-13cd-4908-a320-2ad30b67221b",
   "metadata": {},
   "outputs": [],
   "source": [
    "CSV.write(\"../res/dutch_phon_EOL_Shat.csv\", DataFrame(Shat, :auto));"
   ]
  },
  {
   "cell_type": "markdown",
   "id": "3a657ffc",
   "metadata": {},
   "source": [
    "Load the stimuli used in Creemer's experiment."
   ]
  },
  {
   "cell_type": "code",
   "execution_count": null,
   "id": "faa15513",
   "metadata": {
    "scrolled": true
   },
   "outputs": [],
   "source": [
    "stim = JudiLing.load_dataset(\"../dat/creemers_stimuli.csv\")"
   ]
  },
  {
   "cell_type": "markdown",
   "id": "0435e0d6",
   "metadata": {},
   "source": [
    "Remove word missing from the training data. Extract the target words, and the priming types"
   ]
  },
  {
   "cell_type": "code",
   "execution_count": null,
   "id": "becd2ebb",
   "metadata": {
    "scrolled": true
   },
   "outputs": [],
   "source": [
    "stim = stim[stim.Word .!= \"omfietsen\", :] # missing in the training data\n",
    "targets = stim[stim.Type .== \"target\",\"Word\"];\n",
    "types = [\"ms\", \"m\", \"ph\", \"c\"]"
   ]
  },
  {
   "cell_type": "markdown",
   "id": "4ded380b",
   "metadata": {},
   "source": [
    "Get the primes for the targets, together with prime type and correlation between prime and target"
   ]
  },
  {
   "cell_type": "code",
   "execution_count": null,
   "id": "9e38616e",
   "metadata": {
    "scrolled": true
   },
   "outputs": [],
   "source": [
    "res = []\n",
    "for target in targets\n",
    "    set = stim[stim.Word .== target, \"Set\"] # get the set number for the target word\n",
    "    set = stim[stim.Set .== set, :] # get all rows with the same set number\n",
    "    for ty in types\n",
    "        prime = set[set.Type .== ty, \"Word\"]\n",
    "        if length(prime) > 0\n",
    "            corr = vec(R[phon.orth .== prime, phon.orth .== target])\n",
    "            append!(res, [(target, prime[1], ty, corr[1])])\n",
    "        end\n",
    "    end\n",
    "end\n",
    "res = DataFrame(res, [\"target\", \"prime\", \"prime_type\", \"r\"])"
   ]
  },
  {
   "cell_type": "markdown",
   "id": "22a02a4f",
   "metadata": {},
   "source": [
    "Count number of rows per prime type."
   ]
  },
  {
   "cell_type": "code",
   "execution_count": null,
   "id": "65c5cebd",
   "metadata": {},
   "outputs": [],
   "source": [
    "combine(groupby(res, \"prime_type\"), nrow)"
   ]
  },
  {
   "cell_type": "markdown",
   "id": "0ea1d4ed",
   "metadata": {},
   "source": [
    "Plot."
   ]
  },
  {
   "cell_type": "code",
   "execution_count": null,
   "id": "d672120c",
   "metadata": {},
   "outputs": [],
   "source": [
    "boxplot(res.prime_type, res.r, group=res.prime_type, legend=false, title=\"prime-target correlation\")"
   ]
  },
  {
   "cell_type": "markdown",
   "id": "1a7c8c48",
   "metadata": {},
   "source": [
    "Get the experimental data and compute mean log rts."
   ]
  },
  {
   "cell_type": "code",
   "execution_count": null,
   "id": "8abd3294",
   "metadata": {
    "scrolled": true
   },
   "outputs": [],
   "source": [
    "expdata = JudiLing.load_dataset(\"../dat/expdata1_cleaned.csv\")\n",
    "expdata[!, \"combi\"] = string.(expdata.prime, \"_\", expdata.target, )\n",
    "means = combine(groupby(expdata, :combi), \"target_rt.log\" => mean => \"target_rt.log.mean\")"
   ]
  },
  {
   "cell_type": "markdown",
   "id": "0ce2b5e1",
   "metadata": {},
   "source": [
    "Add the mean log RTs to the dataframe with the LDL correlations."
   ]
  },
  {
   "cell_type": "code",
   "execution_count": null,
   "id": "11d05a9b",
   "metadata": {
    "scrolled": true
   },
   "outputs": [],
   "source": [
    "res[!, \"prime_target\"] = string.(res.prime, \"_\", res.target)\n",
    "res[!, \"MeanLogRT\"] = [means[means.combi .== c, \"target_rt.log.mean\"][1] for c in res.prime_target]"
   ]
  },
  {
   "cell_type": "markdown",
   "id": "039d0f50",
   "metadata": {},
   "source": [
    "Put dataframe to R for computing Pearson correlation."
   ]
  },
  {
   "cell_type": "code",
   "execution_count": null,
   "id": "9c006e9c-30e2-4f7b-bfcc-d60a4ffbc818",
   "metadata": {},
   "outputs": [],
   "source": [
    "@rput res\n",
    "R\"\"\"\n",
    "cor.test(res$r, res$MeanLogRT)\n",
    "\"\"\""
   ]
  },
  {
   "cell_type": "markdown",
   "id": "2c58a8d1",
   "metadata": {},
   "source": [
    "Plot mean log RT and correlation box plots side-by-side."
   ]
  },
  {
   "cell_type": "code",
   "execution_count": null,
   "id": "91d25119",
   "metadata": {
    "scrolled": true
   },
   "outputs": [],
   "source": [
    "p1 = boxplot(res.prime_type, res.MeanLogRT, group=res.prime_type, legend=false, title=\"mean RT\")\n",
    "p2 = boxplot(res.prime_type, res.r, group=res.prime_type, legend=false, title=\"prime-target correlation\")\n",
    "plot(p1, p2, size=(600,300))"
   ]
  },
  {
   "cell_type": "code",
   "execution_count": null,
   "id": "371a1b93",
   "metadata": {
    "scrolled": true
   },
   "outputs": [],
   "source": [
    "savefig(\"../fig/creemers_boxplots_eol.pdf\")"
   ]
  },
  {
   "cell_type": "markdown",
   "id": "0a2fb6dd",
   "metadata": {},
   "source": [
    "Compute correlations between prime embedding and target embedding."
   ]
  },
  {
   "cell_type": "code",
   "execution_count": null,
   "id": "58f0f9bd",
   "metadata": {
    "scrolled": true
   },
   "outputs": [],
   "source": [
    "res[!, \"rft\"] = [cor(S[phon.orth .== row.prime, :], S[phon.orth .== row.target,:], dims=2)[1] for row in eachrow(res)];"
   ]
  },
  {
   "cell_type": "markdown",
   "id": "8380b0fe",
   "metadata": {},
   "source": [
    "Plot."
   ]
  },
  {
   "cell_type": "code",
   "execution_count": null,
   "id": "19f71212",
   "metadata": {
    "scrolled": true
   },
   "outputs": [],
   "source": [
    "boxplot(res.prime_type, res.rft, group = res.prime_type, legend=false, \n",
    "    title=\"mean correlation of prime\\nand target embeddings\", size=(300,300))"
   ]
  },
  {
   "cell_type": "code",
   "execution_count": null,
   "id": "6bda7dca",
   "metadata": {},
   "outputs": [],
   "source": [
    "savefig(\"../fig/creemers_boxplots_fasttext.pdf\")"
   ]
  },
  {
   "cell_type": "markdown",
   "id": "df8753d8-024c-4138-a095-3cc4fbe5f4d7",
   "metadata": {},
   "source": [
    "# Exercises\n",
    "\n",
    "Please see solutions for exercises in the following notebooks."
   ]
  },
  {
   "cell_type": "markdown",
   "id": "ad5a4451-341d-4711-94ab-20f798975c0d",
   "metadata": {},
   "source": [
    "# References\n",
    "\n",
    "Chuang, Y.-Y., Kang, M., Luo, X., and Baayen, R. H. (2022a). Vector space morphology with linear discriminative learning. In Crepaldi, D., editor, Linguistic morphology in the mind and brain.\n",
    "\n",
    "Creemers, A., Davies, A. G., Wilder, R. J., Tamminga, M., and Embick, D. (2020). Opacity, transparency, and morphological priming: A study of prefixed verbs in dutch. Journal of Memory and Language, 110:104055."
   ]
  }
 ],
 "metadata": {
  "kernelspec": {
   "display_name": "Julia 1.11.2",
   "language": "julia",
   "name": "julia-1.11"
  },
  "language_info": {
   "file_extension": ".jl",
   "mimetype": "application/julia",
   "name": "julia",
   "version": "1.11.2"
  },
  "toc": {
   "base_numbering": 1,
   "nav_menu": {},
   "number_sections": true,
   "sideBar": true,
   "skip_h1_title": false,
   "title_cell": "Table of Contents",
   "title_sidebar": "Contents",
   "toc_cell": false,
   "toc_position": {},
   "toc_section_display": true,
   "toc_window_display": false
  }
 },
 "nbformat": 4,
 "nbformat_minor": 5
}
