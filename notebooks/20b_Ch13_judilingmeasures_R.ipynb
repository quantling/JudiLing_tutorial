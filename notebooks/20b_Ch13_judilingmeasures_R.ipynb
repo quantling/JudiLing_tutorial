{
 "cells": [
  {
   "cell_type": "markdown",
   "id": "0e9f2b9c",
   "metadata": {},
   "source": [
    "# Chapter 13: JudiLingMeasures (R analysis)\n",
    "\n",
    "If necessary install, and then load the mgcv package."
   ]
  },
  {
   "cell_type": "code",
   "execution_count": null,
   "id": "095d78d5",
   "metadata": {
    "scrolled": true
   },
   "outputs": [],
   "source": [
    "#install.packages(\"mgcv\")\n",
    "library(mgcv)"
   ]
  },
  {
   "cell_type": "markdown",
   "id": "e3534469",
   "metadata": {},
   "source": [
    "Load the measures data calculated in the previous notebook."
   ]
  },
  {
   "cell_type": "code",
   "execution_count": null,
   "id": "bf34920b",
   "metadata": {},
   "outputs": [],
   "source": [
    "all_measures = read.table(\"../res/dlp_measures.csv\", sep=\",\", header=T)"
   ]
  },
  {
   "cell_type": "code",
   "execution_count": null,
   "id": "40585a42",
   "metadata": {},
   "outputs": [],
   "source": [
    "head(all_measures)"
   ]
  },
  {
   "cell_type": "markdown",
   "id": "0f772ae4",
   "metadata": {},
   "source": [
    "Load the DLP dataset (Keuleers et al, 2010, you can download it from [here](https://osf.io/uw7t6/) if you haven't downloaded it before) including information such as reaction times and accuracy.\n",
    "Remove nonwords with duplicate spellings."
   ]
  },
  {
   "cell_type": "code",
   "execution_count": null,
   "id": "d9efb559",
   "metadata": {},
   "outputs": [],
   "source": [
    "dlp.items = read.table(\"../dat/dlp-items.txt\", header=T)\n",
    "dup_spellings = dlp.items$spelling[duplicated(dlp.items$spelling)]\n",
    "dup_spellings = dlp.items[dlp.items$spelling %in% dup_spellings,]\n",
    "rownames_to_exclude = rownames(dup_spellings[dup_spellings$lexicality == \"N\",])\n",
    "dlp.items = dlp.items[-as.numeric(rownames_to_exclude),]"
   ]
  },
  {
   "cell_type": "code",
   "execution_count": null,
   "id": "a2b22c2f",
   "metadata": {},
   "outputs": [],
   "source": [
    "head(dlp.items)"
   ]
  },
  {
   "cell_type": "markdown",
   "id": "64ac9357",
   "metadata": {},
   "source": [
    "Merge the DLP data with reaction times and accuracy with the measures dataset."
   ]
  },
  {
   "cell_type": "code",
   "execution_count": null,
   "id": "2cb98e88",
   "metadata": {},
   "outputs": [],
   "source": [
    "dlp = merge(all_measures, dlp.items[,c(\"spelling\", \"rt\", \"accuracy\")], by.x=\"spelling\", by.y=\"spelling\")"
   ]
  },
  {
   "cell_type": "code",
   "execution_count": null,
   "id": "80bbd745",
   "metadata": {},
   "outputs": [],
   "source": [
    "head(dlp)"
   ]
  },
  {
   "cell_type": "markdown",
   "id": "0e837e99",
   "metadata": {},
   "source": [
    "Remove rows where RT and word frequency are NaN or infinite."
   ]
  },
  {
   "cell_type": "code",
   "execution_count": null,
   "id": "56f574db",
   "metadata": {},
   "outputs": [],
   "source": [
    "dlp = dlp[!is.na(dlp$rt),]\n",
    "dlp = dlp[!is.infinite(dlp$rt),]\n",
    "dlp = dlp[!is.na(dlp$celex.frequency),]"
   ]
  },
  {
   "cell_type": "markdown",
   "id": "1c8923a5",
   "metadata": {},
   "source": [
    "Normalise reaction times + word frequency. Add a column with number of letters for each word."
   ]
  },
  {
   "cell_type": "code",
   "execution_count": null,
   "id": "317b454e",
   "metadata": {},
   "outputs": [],
   "source": [
    "dlp$RTinv = -1000/dlp$rt\n",
    "dlp$celex.frequency.log = log(as.numeric(dlp$celex.frequency) + 0.002)\n",
    "dlp$nletters = nchar(dlp$spelling)"
   ]
  },
  {
   "cell_type": "markdown",
   "id": "d321511b",
   "metadata": {},
   "source": [
    "Normalise Coltheart's N for all words for which Coltheart's N is  > 0. Add a new column indicating whether Coltheart's N is 0 or > 0."
   ]
  },
  {
   "cell_type": "code",
   "execution_count": null,
   "id": "5cfb2df6",
   "metadata": {},
   "outputs": [],
   "source": [
    "dlp$coltheart.N.log = as.numeric(dlp$coltheart.N)\n",
    "dlp$has_neighbour = ifelse(dlp$coltheart.N > 0, 1, 0)\n",
    "dlp$has_neighbour_fac = as.factor(dlp$has_neighbour)\n",
    "dlp[dlp$has_neighbour == 1, \"coltheart.N.log\"] = as.numeric(scale(log(dlp$coltheart.N[dlp$has_neighbour==1])))"
   ]
  },
  {
   "cell_type": "markdown",
   "id": "b51cb574",
   "metadata": {},
   "source": [
    "Install and load packages for plotting."
   ]
  },
  {
   "cell_type": "code",
   "execution_count": null,
   "id": "1eeb2165",
   "metadata": {},
   "outputs": [],
   "source": [
    "#install.packages(\"ggplot2\")\n",
    "#install.packages(\"GGally\")\n",
    "library(ggplot2)\n",
    "library(GGally)"
   ]
  },
  {
   "cell_type": "markdown",
   "id": "3ed28060",
   "metadata": {},
   "source": [
    "Plot the distributions of and correlations between classical predictors of lexical reaction times."
   ]
  },
  {
   "cell_type": "code",
   "execution_count": null,
   "id": "251a3713",
   "metadata": {
    "scrolled": true
   },
   "outputs": [],
   "source": [
    "options(repr.plot.width=5, repr.plot.height=5)\n",
    "#pdf(\"../../fig/dlp.dist.classical.pdf\", he=5, wi=5)\n",
    "ggpairs(dlp[, c(\"RTinv\", \"celex.frequency.log\", \"coltheart.N.log\", \"nletters\")])\n",
    "#dev.off()"
   ]
  },
  {
   "cell_type": "markdown",
   "id": "f8f44b19",
   "metadata": {},
   "source": [
    "GAM of RT predicted by word frequency, Coltheart's N and word length."
   ]
  },
  {
   "cell_type": "code",
   "execution_count": null,
   "id": "7975d573",
   "metadata": {},
   "outputs": [],
   "source": [
    "gam.classical = gam(RTinv ~ s(celex.frequency.log) + \n",
    "                                s(coltheart.N.log, by=has_neighbour_fac) + \n",
    "                                has_neighbour_fac  + \n",
    "                                s(nletters), \n",
    "                    data=dlp)"
   ]
  },
  {
   "cell_type": "markdown",
   "id": "14f58303",
   "metadata": {},
   "source": [
    "Inspect model summary and plot."
   ]
  },
  {
   "cell_type": "code",
   "execution_count": null,
   "id": "27badccc",
   "metadata": {},
   "outputs": [],
   "source": [
    "summary(gam.classical)"
   ]
  },
  {
   "cell_type": "code",
   "execution_count": null,
   "id": "bd28eaa4",
   "metadata": {},
   "outputs": [],
   "source": [
    "options(repr.plot.width=15, repr.plot.height=4)\n",
    "#pdf(\"../fig/dlp.gam.classical.pdf\", he=4, wi=15)\n",
    "par(mfrow=c(1,4), mar=c(5.1, 5.1, 4.1, 2.1))\n",
    "plot(gam.classical, scale=F, rug=T, scheme=1, shade.col=\"steelblue2\", ylab=\"RTinv\", cex.lab=2.5, cex.axis=2)\n",
    "#dev.off()"
   ]
  },
  {
   "cell_type": "code",
   "execution_count": null,
   "id": "6c00cfcf-5fb1-4304-a09f-4d3d36a07a78",
   "metadata": {},
   "outputs": [],
   "source": [
    "options(repr.plot.width=11.5, repr.plot.height=4)\n",
    "pdf(\"../fig/dlp.gam.classical_bw.pdf\", he=4, wi=11.5)\n",
    "par(mfrow=c(1,3), mar=c(5.1, 5.1, 4.1, 2.1))\n",
    "plot(gam.classical, scale=F, rug=T, scheme=1, select=1, ylab=\"RTinv\", cex.lab=2.5, cex.axis=2)\n",
    "plot(gam.classical, scale=F, rug=T, scheme=1, select=3, ylab=\"RTinv\", cex.lab=2.5, cex.axis=2)\n",
    "plot(gam.classical, scale=F, rug=T, scheme=1, select=4, ylab=\"RTinv\", cex.lab=2.5, cex.axis=2)\n",
    "dev.off()"
   ]
  },
  {
   "cell_type": "markdown",
   "id": "a1a8f9da",
   "metadata": {},
   "source": [
    "Plot the distributions of and correlations between reaction times and two DLM-based measures."
   ]
  },
  {
   "cell_type": "code",
   "execution_count": null,
   "id": "1219a7b5",
   "metadata": {},
   "outputs": [],
   "source": [
    "options(repr.plot.width=5, repr.plot.height=5)\n",
    "#pdf(\"../../fig/dlp.dist.measures.pdf\", he=5, wi=5)\n",
    "dlp$SemanticSupportForForm.log = log(dlp$SemanticSupportForForm + 1)\n",
    "ggpairs(dlp[, c(\"RTinv\", \"SemanticDensity\", \"SemanticSupportForForm.log\")])\n",
    "#dev.off()"
   ]
  },
  {
   "cell_type": "markdown",
   "id": "03fbc345",
   "metadata": {},
   "source": [
    "GAM of RT predicted by word frequency, semantic density and semantic support for form."
   ]
  },
  {
   "cell_type": "code",
   "execution_count": null,
   "id": "e9ddb30e",
   "metadata": {},
   "outputs": [],
   "source": [
    "gam.measures = gam(RTinv ~ s(celex.frequency.log) + \n",
    "                               s(SemanticDensity) + \n",
    "                               s(SemanticSupportForForm.log), \n",
    "                   data=dlp)"
   ]
  },
  {
   "cell_type": "markdown",
   "id": "42b81c90",
   "metadata": {},
   "source": [
    "Inspect model summary and plot."
   ]
  },
  {
   "cell_type": "code",
   "execution_count": null,
   "id": "477b30e7",
   "metadata": {},
   "outputs": [],
   "source": [
    "summary(gam.measures)"
   ]
  },
  {
   "cell_type": "code",
   "execution_count": null,
   "id": "daf5fef8",
   "metadata": {},
   "outputs": [],
   "source": [
    "options(repr.plot.width=15, repr.plot.height=5)\n",
    "#pdf(\"../../fig/dlp.gam.measures.pdf\", he=5, wi=15)\n",
    "par(mfrow=c(1,3), mar=c(5.1, 5.1, 4.1, 2.1))\n",
    "plot(gam.measures, scale=F, rug=T, scheme=1, shade.col=\"steelblue2\", ylab=\"RTinv\", cex.lab=2.5, cex.axis=2)\n",
    "#dev.off()"
   ]
  },
  {
   "cell_type": "markdown",
   "id": "d70d4fcc",
   "metadata": {},
   "source": [
    "Inspect concurvity (collinearity in non-linear models) of the DLM-based model:"
   ]
  },
  {
   "cell_type": "code",
   "execution_count": null,
   "id": "cc6796e4",
   "metadata": {},
   "outputs": [],
   "source": [
    "concurvity(gam.measures)"
   ]
  },
  {
   "cell_type": "markdown",
   "id": "29f3cdb5",
   "metadata": {},
   "source": [
    "Concurvity is fine.\n",
    "\n",
    "Calculate AIC of the classical and DLM-based measures GAMs."
   ]
  },
  {
   "cell_type": "code",
   "execution_count": null,
   "id": "a951e09b",
   "metadata": {},
   "outputs": [],
   "source": [
    "AIC(gam.classical)"
   ]
  },
  {
   "cell_type": "code",
   "execution_count": null,
   "id": "f02b163e",
   "metadata": {},
   "outputs": [],
   "source": [
    "AIC(gam.measures)"
   ]
  },
  {
   "cell_type": "code",
   "execution_count": null,
   "id": "83f309e8",
   "metadata": {},
   "outputs": [],
   "source": [
    "AIC(gam.classical) - AIC(gam.measures)"
   ]
  },
  {
   "cell_type": "markdown",
   "id": "0b8cacd7",
   "metadata": {},
   "source": [
    "The AIC of the DLM-based measures GAM is clearly lower than of the classical GAM. Thus, the DLM-based measures GAM is much more likely to have produced the observed data."
   ]
  },
  {
   "cell_type": "markdown",
   "id": "9f0486e0-ca66-4f1c-ad7e-14326b95563e",
   "metadata": {},
   "source": [
    "# References\n",
    "\n",
    "Keuleers, E., Diependaele, K., and Brysbaert, M. (2010). Practice effects in large-scale visual word recognition studies: A lexical decision study on 14,000 dutch mono-and disyllabic words and nonwords. Frontiers in psychology, 1:174."
   ]
  }
 ],
 "metadata": {
  "kernelspec": {
   "display_name": "R",
   "language": "R",
   "name": "ir"
  },
  "language_info": {
   "codemirror_mode": "r",
   "file_extension": ".r",
   "mimetype": "text/x-r-source",
   "name": "R",
   "pygments_lexer": "r",
   "version": "4.2.3"
  },
  "toc": {
   "base_numbering": 1,
   "nav_menu": {},
   "number_sections": true,
   "sideBar": true,
   "skip_h1_title": false,
   "title_cell": "Table of Contents",
   "title_sidebar": "Contents",
   "toc_cell": false,
   "toc_position": {},
   "toc_section_display": true,
   "toc_window_display": false
  }
 },
 "nbformat": 4,
 "nbformat_minor": 5
}
