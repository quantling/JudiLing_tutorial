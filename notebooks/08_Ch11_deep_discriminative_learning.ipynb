{
 "cells": [
  {
   "cell_type": "markdown",
   "id": "0a876028",
   "metadata": {},
   "source": [
    "# Chapter 12: Deep discriminative learning in JudLing"
   ]
  },
  {
   "cell_type": "markdown",
   "id": "c11fb524",
   "metadata": {},
   "source": [
    "To use deep learning in JudiLing, we first have to install Julia's deep learning library `Flux`:"
   ]
  },
  {
   "cell_type": "code",
   "execution_count": null,
   "id": "0e83b919",
   "metadata": {
    "scrolled": true
   },
   "outputs": [],
   "source": [
    "using Pkg\n",
    "Pkg.add(\"Flux\")"
   ]
  },
  {
   "cell_type": "markdown",
   "id": "6238808e",
   "metadata": {},
   "source": [
    "(Note: if you want to accelerate training by utilising a GPU, follow the instructions [here](https://fluxml.ai/Flux.jl/stable/gpu/).)\n",
    "\n",
    "Now, we can make both Flux and JudiLing available to our session. Here it is important that we first load Flux and only then load JudiLing, so that JudiLing is aware that Flux is available. In this way, JudiLing will also make available to us the deep learning functionality."
   ]
  },
  {
   "cell_type": "code",
   "execution_count": null,
   "id": "29e89f96",
   "metadata": {
    "scrolled": true
   },
   "outputs": [],
   "source": [
    "using Flux\n",
    "using JudiLing\n",
    "using DataFrames, CSV, Plots"
   ]
  },
  {
   "cell_type": "markdown",
   "id": "e19a7312",
   "metadata": {},
   "source": [
    "# Preparation\n",
    "\n",
    "First, we do a careful split along Lexeme, Number and WordCat. We model using triphones, so we also make sure that each triphone in the validation data has occured in the training data. We hold out 300 data points in the validation data."
   ]
  },
  {
   "cell_type": "code",
   "execution_count": null,
   "id": "399460ed",
   "metadata": {
    "scrolled": true
   },
   "outputs": [],
   "source": [
    "data_train, data_val = JudiLing.loading_data_careful_split(\n",
    "\"../dat/dutch.csv\", \"dutch\", joinpath(@__DIR__, \"..\", \"dat\", \"careful\"),\n",
    "[\"Lexeme\", \"Number\", \"WordCat\"],\n",
    "n_grams_target_col = \"Word\",\n",
    "grams = 3,\n",
    "val_sample_size = 300,\n",
    "random_seed = 42)"
   ]
  },
  {
   "cell_type": "markdown",
   "id": "31231fd5",
   "metadata": {},
   "source": [
    "Load embeddings from fasttext."
   ]
  },
  {
   "cell_type": "code",
   "execution_count": null,
   "id": "c381c5c8",
   "metadata": {
    "scrolled": true
   },
   "outputs": [],
   "source": [
    "data_train, data_val, S_train, S_val = JudiLing.load_S_matrix_from_fasttext(data_train, data_val, :nl, \n",
    "                                                                        target_col=:Ortho)"
   ]
  },
  {
   "cell_type": "code",
   "execution_count": null,
   "id": "344b496d",
   "metadata": {},
   "outputs": [],
   "source": [
    "size(data_train)"
   ]
  },
  {
   "cell_type": "code",
   "execution_count": null,
   "id": "773a936d",
   "metadata": {},
   "outputs": [],
   "source": [
    "size(data_val)"
   ]
  },
  {
   "cell_type": "markdown",
   "id": "958b4c63",
   "metadata": {},
   "source": [
    "Get cue objects for training and validation data."
   ]
  },
  {
   "cell_type": "code",
   "execution_count": null,
   "id": "7caae086",
   "metadata": {
    "scrolled": true
   },
   "outputs": [],
   "source": [
    "cue_obj_train, cue_obj_val = JudiLing.make_combined_cue_matrix(data_train, data_val, grams=3,\n",
    "                                                                target_col=\"Word\")"
   ]
  },
  {
   "cell_type": "markdown",
   "id": "f9b005ce",
   "metadata": {},
   "source": [
    "# Comprehension\n",
    "\n",
    "## Baseline"
   ]
  },
  {
   "cell_type": "markdown",
   "id": "01633b5e",
   "metadata": {},
   "source": [
    "Train comprehension mapping."
   ]
  },
  {
   "cell_type": "code",
   "execution_count": null,
   "id": "3c5cfd11",
   "metadata": {
    "scrolled": true
   },
   "outputs": [],
   "source": [
    "@time F = JudiLing.make_transform_matrix(cue_obj_train.C, S_train)"
   ]
  },
  {
   "cell_type": "markdown",
   "id": "f5930db1",
   "metadata": {},
   "source": [
    "Evaluate training and testing accuracy."
   ]
  },
  {
   "cell_type": "code",
   "execution_count": null,
   "id": "cf32f4cf",
   "metadata": {},
   "outputs": [],
   "source": [
    "Shat_train = cue_obj_train.C * F\n",
    "JudiLing.eval_SC(Shat_train, S_train, data_train, :Word)"
   ]
  },
  {
   "cell_type": "code",
   "execution_count": null,
   "id": "470a45a7",
   "metadata": {},
   "outputs": [],
   "source": [
    "Shat_val = cue_obj_val.C * F\n",
    "JudiLing.eval_SC(Shat_val, S_val, S_train, data_val, data_train, :Word)"
   ]
  },
  {
   "cell_type": "markdown",
   "id": "271d76bc",
   "metadata": {},
   "source": [
    "## Deep default model, training data only"
   ]
  },
  {
   "cell_type": "markdown",
   "id": "b4cfb4ac",
   "metadata": {},
   "source": [
    "Train model, only taking into account training data. The `get_and_train_model` function receives the input data (`cue_obj_train.C`) and the target data (`S_train`). The model is saved to `\"../res/comp_train_only.bcomp\"` and the function returns losses for each epoch for both the training data and theoretically also the validation data. However, since no validation data has been supplied, the validation losses will be empty."
   ]
  },
  {
   "cell_type": "code",
   "execution_count": null,
   "id": "5d196a0c",
   "metadata": {
    "scrolled": true
   },
   "outputs": [],
   "source": [
    "@time res_train_only = JudiLing.get_and_train_model(\n",
    "                                                    cue_obj_train.C,\n",
    "                                                    S_train,\n",
    "                                                    \"../res/comp_train_only.bson\", \n",
    "                                                    verbose=true)"
   ]
  },
  {
   "cell_type": "markdown",
   "id": "5186a9ca",
   "metadata": {},
   "source": [
    "Plot training loss."
   ]
  },
  {
   "cell_type": "code",
   "execution_count": null,
   "id": "eca227ce",
   "metadata": {},
   "outputs": [],
   "source": [
    "plot(res_train_only.losses_train, xlab=\"epoch\", ylab=\"loss\", label = \"training\", size=(400, 200), \n",
    "    linecolor=\"black\")"
   ]
  },
  {
   "cell_type": "code",
   "execution_count": null,
   "id": "18a7f96b",
   "metadata": {},
   "outputs": [],
   "source": [
    "savefig(\"../fig/deep_training_only_bw.pdf\")"
   ]
  },
  {
   "cell_type": "markdown",
   "id": "1c658f0f",
   "metadata": {},
   "source": [
    "Predict $\\hat{\\mathbf{S}}$ matrix for the training data."
   ]
  },
  {
   "cell_type": "code",
   "execution_count": null,
   "id": "30413500",
   "metadata": {
    "scrolled": true
   },
   "outputs": [],
   "source": [
    "Shat_train = JudiLing.predict_from_deep_model(res_train_only.model, cue_obj_train.C);"
   ]
  },
  {
   "cell_type": "markdown",
   "id": "450c1522",
   "metadata": {},
   "source": [
    "Calculate comprehension accuracy."
   ]
  },
  {
   "cell_type": "code",
   "execution_count": null,
   "id": "c97cc474",
   "metadata": {},
   "outputs": [],
   "source": [
    "JudiLing.eval_SC(Shat_train, S_train, data_train, :Word)"
   ]
  },
  {
   "cell_type": "markdown",
   "id": "70f57fe8",
   "metadata": {},
   "source": [
    "Predict semantic matrix for validation data."
   ]
  },
  {
   "cell_type": "code",
   "execution_count": null,
   "id": "d70f42cd",
   "metadata": {
    "scrolled": true
   },
   "outputs": [],
   "source": [
    "Shat_val = JudiLing.predict_from_deep_model(res_train_only.model, cue_obj_val.C);"
   ]
  },
  {
   "cell_type": "markdown",
   "id": "15b41b4a",
   "metadata": {},
   "source": [
    "Compute comprehension accuracy"
   ]
  },
  {
   "cell_type": "code",
   "execution_count": null,
   "id": "8fb4d1ae",
   "metadata": {},
   "outputs": [],
   "source": [
    "JudiLing.eval_SC(Shat_val, S_val, S_train, data_val, data_train, :Word)"
   ]
  },
  {
   "cell_type": "markdown",
   "id": "110a05a2",
   "metadata": {},
   "source": [
    "## Deep default model, training and validation data\n",
    "\n",
    "Now, we also supply validation data, i.e. `cue_obj_val.C` and `S_val`. To compute validation accuracy after each epoch, the function also requires `data_train`, `data_val` as well as the target column `:Word`. The model is saved to `\"../res/comp_full.bcomp\"`, and losses are returned, this time also for the validation data."
   ]
  },
  {
   "cell_type": "code",
   "execution_count": null,
   "id": "f46864a8",
   "metadata": {
    "scrolled": true
   },
   "outputs": [],
   "source": [
    "@time res_full = JudiLing.get_and_train_model(\n",
    "                                            cue_obj_train.C,\n",
    "                                            S_train,\n",
    "                                            cue_obj_val.C,\n",
    "                                            S_val,\n",
    "                                            data_train,\n",
    "                                            data_val,\n",
    "                                            :Word,\n",
    "                                            \"../res/comp_full.bson\",\n",
    "                                            verbose=true)"
   ]
  },
  {
   "cell_type": "markdown",
   "id": "fa6c4351",
   "metadata": {},
   "source": [
    "Plot losses."
   ]
  },
  {
   "cell_type": "code",
   "execution_count": null,
   "id": "0e065c86",
   "metadata": {
    "scrolled": true
   },
   "outputs": [],
   "source": [
    "plot(res_full.losses_train, xlab=\"epoch\", ylab=\"loss\", label = \"training\", size=(400,200), legend=:right,\n",
    "linecolor=\"black\")\n",
    "plot!(res_full.losses_val, label = \"validation\",\n",
    "linecolor=\"black\", linestyle=:dash)"
   ]
  },
  {
   "cell_type": "code",
   "execution_count": null,
   "id": "aaff6875",
   "metadata": {},
   "outputs": [],
   "source": [
    "savefig(\"../fig/deep_full_loss_bw.pdf\")"
   ]
  },
  {
   "cell_type": "markdown",
   "id": "ea8a0f45",
   "metadata": {},
   "source": [
    "Plot accuracy on the validation data."
   ]
  },
  {
   "cell_type": "code",
   "execution_count": null,
   "id": "cedfa713",
   "metadata": {},
   "outputs": [],
   "source": [
    "plot(res_full.accs_val, xlab=\"epoch\", ylab=\"accuracy\", label=\"validation\", size=(400,200),\n",
    "linecolor=\"black\", linestyle=:dash)"
   ]
  },
  {
   "cell_type": "code",
   "execution_count": null,
   "id": "7cf04a6e",
   "metadata": {
    "scrolled": true
   },
   "outputs": [],
   "source": [
    "savefig(\"../fig/deep_full_acc_bw.pdf\")"
   ]
  },
  {
   "cell_type": "markdown",
   "id": "85d4fd13",
   "metadata": {},
   "source": [
    "Training accuracy:"
   ]
  },
  {
   "cell_type": "code",
   "execution_count": null,
   "id": "33f0b75e",
   "metadata": {
    "scrolled": true
   },
   "outputs": [],
   "source": [
    "Shat_train = JudiLing.predict_from_deep_model(res_full.model, cue_obj_train.C)\n",
    "JudiLing.eval_SC(Shat_train, S_train, data_train, :Word)"
   ]
  },
  {
   "cell_type": "markdown",
   "id": "92274c20",
   "metadata": {},
   "source": [
    "Validation accuracy:"
   ]
  },
  {
   "cell_type": "code",
   "execution_count": null,
   "id": "d3b66302",
   "metadata": {
    "scrolled": true
   },
   "outputs": [],
   "source": [
    "Shat_val = JudiLing.predict_from_deep_model(res_full.model, cue_obj_val.C)\n",
    "JudiLing.eval_SC(Shat_val, S_val, S_train, data_val, data_train, :Word)"
   ]
  },
  {
   "cell_type": "markdown",
   "id": "feb74a24",
   "metadata": {},
   "source": [
    "## Deep default model, optimising for accuracy\n",
    "\n",
    "This time, we keep the same model as before, but now we retain the model with the best validation **accuracy** rather than with the lowest loss. To achieve this, we set `optimise_for_acc=true`. We also stop training if the validation accuracy has not improved after `early_stopping=20` epochs."
   ]
  },
  {
   "cell_type": "code",
   "execution_count": null,
   "id": "965425af",
   "metadata": {
    "scrolled": true
   },
   "outputs": [],
   "source": [
    "@time res_acc = JudiLing.get_and_train_model(cue_obj_train.C,\n",
    "                                            S_train,\n",
    "                                            cue_obj_val.C,\n",
    "                                            S_val,\n",
    "                                            data_train,\n",
    "                                            data_val,\n",
    "                                            :Word,\n",
    "                                            \"../res/comp_acc.bson\",\n",
    "                                            verbose=true,\n",
    "                                            n_epochs=100,\n",
    "                                            early_stopping=20,\n",
    "                                            optimise_for_acc=true)"
   ]
  },
  {
   "cell_type": "markdown",
   "id": "14c9b0b1",
   "metadata": {},
   "source": [
    "Plot losses."
   ]
  },
  {
   "cell_type": "code",
   "execution_count": null,
   "id": "d575eae8",
   "metadata": {},
   "outputs": [],
   "source": [
    "plot(res_acc.losses_train, xlab=\"epoch\", ylab=\"loss\", label = \"training\", size=(400,200),\n",
    "linecolor=\"black\")\n",
    "plot!(res_acc.losses_val, label = \"validation\", linecolor=\"black\", linestyle=:dash)"
   ]
  },
  {
   "cell_type": "code",
   "execution_count": null,
   "id": "9614bb87",
   "metadata": {},
   "outputs": [],
   "source": [
    "savefig(\"../fig/deep_full_acc_loss_bw.pdf\")"
   ]
  },
  {
   "cell_type": "markdown",
   "id": "164af5c7",
   "metadata": {},
   "source": [
    "Plot validation accuracies."
   ]
  },
  {
   "cell_type": "code",
   "execution_count": null,
   "id": "0f16b96e",
   "metadata": {
    "scrolled": true
   },
   "outputs": [],
   "source": [
    "plot(res_acc.accs_val, xlab=\"epoch\", ylab=\"accuracy\", label=\"validation\", size=(400,200),\n",
    "    linecolor=\"black\", linestyle=:dash)"
   ]
  },
  {
   "cell_type": "code",
   "execution_count": null,
   "id": "6850e35d",
   "metadata": {
    "scrolled": true
   },
   "outputs": [],
   "source": [
    "savefig(\"../fig/deep_full_acc_acc_bw.pdf\")"
   ]
  },
  {
   "cell_type": "markdown",
   "id": "56282eae",
   "metadata": {},
   "source": [
    "Training accuracy."
   ]
  },
  {
   "cell_type": "code",
   "execution_count": null,
   "id": "eae6dffb",
   "metadata": {
    "scrolled": true
   },
   "outputs": [],
   "source": [
    "Shat_train = JudiLing.predict_from_deep_model(res_acc.model, cue_obj_train.C)\n",
    "JudiLing.eval_SC(Shat_train, S_train, data_train, :Word)"
   ]
  },
  {
   "cell_type": "markdown",
   "id": "6be8b80c",
   "metadata": {},
   "source": [
    "Validation accuracy."
   ]
  },
  {
   "cell_type": "code",
   "execution_count": null,
   "id": "b56857c5",
   "metadata": {},
   "outputs": [],
   "source": [
    "Shat_val = JudiLing.predict_from_deep_model(res_acc.model, cue_obj_val.C);\n",
    "JudiLing.eval_SC(Shat_val, S_val, S_train, data_val, data_train, :Word)"
   ]
  },
  {
   "cell_type": "markdown",
   "id": "5f4a1574",
   "metadata": {},
   "source": [
    "## Deep default model, optimising for accuracy, lower learning rate\n",
    "\n",
    "Next, we keep the same setup as for the previous model, but experiment with the learning rate. For this, we first have to define an optimizer with the new learning rate:"
   ]
  },
  {
   "cell_type": "code",
   "execution_count": null,
   "id": "3605fe25",
   "metadata": {},
   "outputs": [],
   "source": [
    "optimizer_llr = Flux.Adam(0.0001)"
   ]
  },
  {
   "cell_type": "markdown",
   "id": "c8c69ba8",
   "metadata": {},
   "source": [
    "Then we supply this optimizer to the `get_and_train_model` function:"
   ]
  },
  {
   "cell_type": "code",
   "execution_count": null,
   "id": "bbed7e1c",
   "metadata": {
    "scrolled": true
   },
   "outputs": [],
   "source": [
    "@time res_acc_llr = JudiLing.get_and_train_model(\n",
    "                                                cue_obj_train.C,\n",
    "                                                S_train,\n",
    "                                                cue_obj_val.C,\n",
    "                                                S_val,\n",
    "                                                data_train,\n",
    "                                                data_val,\n",
    "                                                :Word,\n",
    "                                                \"../res/comp_acc_llr.bson\",\n",
    "                                                verbose=true,\n",
    "                                                n_epochs=100,\n",
    "                                                early_stopping=20,\n",
    "                                                optimise_for_acc=true,\n",
    "                                                optimizer=optimizer_llr)"
   ]
  },
  {
   "cell_type": "markdown",
   "id": "21d949ce",
   "metadata": {},
   "source": [
    "Plot losses."
   ]
  },
  {
   "cell_type": "code",
   "execution_count": null,
   "id": "0b3538c9",
   "metadata": {
    "scrolled": true
   },
   "outputs": [],
   "source": [
    "plot(res_acc_llr.losses_train, xlab=\"epoch\", ylab=\"loss\", label = \"training\", size=(400,200),\n",
    "linecolor=\"black\")\n",
    "plot!(res_acc_llr.losses_val, label = \"validation\", linecolor=\"black\", linestyle=:dash)"
   ]
  },
  {
   "cell_type": "code",
   "execution_count": null,
   "id": "2e333fc7",
   "metadata": {},
   "outputs": [],
   "source": [
    "savefig(\"../fig/deep_full_llr_loss_bw.pdf\")"
   ]
  },
  {
   "cell_type": "markdown",
   "id": "1478dddb",
   "metadata": {},
   "source": [
    "Plot validation accuracies."
   ]
  },
  {
   "cell_type": "code",
   "execution_count": null,
   "id": "bb5f9bdc",
   "metadata": {
    "scrolled": true
   },
   "outputs": [],
   "source": [
    "plot(res_acc_llr.accs_val, xlab=\"epoch\", ylab=\"accuracy\", label=\"validation\", size=(400,200), linecolor=\"black\", linestyle=:dash)"
   ]
  },
  {
   "cell_type": "code",
   "execution_count": null,
   "id": "34d5a86d",
   "metadata": {
    "scrolled": true
   },
   "outputs": [],
   "source": [
    "savefig(\"../fig/deep_full_llr_acc_bw.pdf\")"
   ]
  },
  {
   "cell_type": "markdown",
   "id": "8ffab6d4",
   "metadata": {},
   "source": [
    "Training accuracy:"
   ]
  },
  {
   "cell_type": "code",
   "execution_count": null,
   "id": "a96178ab",
   "metadata": {},
   "outputs": [],
   "source": [
    "Shat_train = JudiLing.predict_from_deep_model(res_acc_llr.model, cue_obj_train.C)\n",
    "JudiLing.eval_SC(Shat_train, S_train, data_train, :Word)"
   ]
  },
  {
   "cell_type": "markdown",
   "id": "c552ee29",
   "metadata": {},
   "source": [
    "Validation accuracy."
   ]
  },
  {
   "cell_type": "code",
   "execution_count": null,
   "id": "f21fe09d",
   "metadata": {
    "scrolled": true
   },
   "outputs": [],
   "source": [
    "Shat_val = JudiLing.predict_from_deep_model(res_acc_llr.model, cue_obj_val.C);\n",
    "JudiLing.eval_SC(Shat_val, S_val, S_train, data_val, data_train, :Word)"
   ]
  },
  {
   "cell_type": "markdown",
   "id": "4c37ee07",
   "metadata": {},
   "source": [
    "## Deeper model\n",
    "\n",
    "Finally, we experiment with using a deeper model. We have to define this model first in the following way:"
   ]
  },
  {
   "cell_type": "code",
   "execution_count": null,
   "id": "3a56ebad",
   "metadata": {},
   "outputs": [],
   "source": [
    "model_deeper= Chain(Dense(size(cue_obj_train.C, 2) => 1000, relu),\n",
    "            Dense(1000 => 1000, relu),\n",
    "            Dense(1000 => size(S_train, 2)))"
   ]
  },
  {
   "cell_type": "markdown",
   "id": "8b51b89a",
   "metadata": {},
   "source": [
    "This model contains two hidden layers with a dimensionality of 1000 each, and each layer (except the last) is followed by a ReLU activation function.\n",
    "\n",
    "We supply this model to the `model` parameter of `get_and_train_model`:"
   ]
  },
  {
   "cell_type": "code",
   "execution_count": null,
   "id": "c2fec4fc",
   "metadata": {
    "scrolled": true
   },
   "outputs": [],
   "source": [
    "@time res_deeper = JudiLing.get_and_train_model(\n",
    "                                                                cue_obj_train.C,\n",
    "                                                                S_train,\n",
    "                                                                cue_obj_val.C,\n",
    "                                                                S_val,\n",
    "                                                                data_train,\n",
    "                                                                data_val,\n",
    "                                                                :Word,\n",
    "                                                                \"../res/comp_deeper.bcomp\",\n",
    "                                                                return_losses=true, \n",
    "                                                                verbose=true,\n",
    "                                                                model=model_deeper,\n",
    "                                                                optimise_for_acc=true,\n",
    "                                                                early_stopping=20)"
   ]
  },
  {
   "cell_type": "markdown",
   "id": "b2a01065",
   "metadata": {},
   "source": [
    "Plot losses."
   ]
  },
  {
   "cell_type": "code",
   "execution_count": null,
   "id": "1b4900d4",
   "metadata": {},
   "outputs": [],
   "source": [
    "plot(res_deeper.losses_train, xlab=\"epoch\", ylab=\"loss\", label = \"training\", size=(400,200),\n",
    "linecolor=\"black\")\n",
    "plot!(res_deeper.losses_val, label = \"validation\", linecolor=\"black\", linestyle=:dash)"
   ]
  },
  {
   "cell_type": "code",
   "execution_count": null,
   "id": "9fe1613b",
   "metadata": {
    "scrolled": true
   },
   "outputs": [],
   "source": [
    "savefig(\"../fig/deep_full_deeper_loss_bw.pdf\")"
   ]
  },
  {
   "cell_type": "markdown",
   "id": "57a737e2",
   "metadata": {},
   "source": [
    "Plot validation accuracies."
   ]
  },
  {
   "cell_type": "code",
   "execution_count": null,
   "id": "28187a0e",
   "metadata": {
    "scrolled": true
   },
   "outputs": [],
   "source": [
    "plot(res_deeper.accs_val, xlab=\"epoch\", ylab=\"accuracy\", label=\"validation\", size=(400,200), linecolor=\"black\", linestyle=:dash)"
   ]
  },
  {
   "cell_type": "code",
   "execution_count": null,
   "id": "13a0295f",
   "metadata": {},
   "outputs": [],
   "source": [
    "savefig(\"../fig/deep_full_deeper_acc_bw.pdf\")"
   ]
  },
  {
   "cell_type": "markdown",
   "id": "050f1e92",
   "metadata": {},
   "source": [
    "Training accuracy."
   ]
  },
  {
   "cell_type": "code",
   "execution_count": null,
   "id": "cace5896",
   "metadata": {
    "scrolled": true
   },
   "outputs": [],
   "source": [
    "Shat_train = JudiLing.predict_from_deep_model(res_deeper.model, cue_obj_train.C)\n",
    "JudiLing.eval_SC(Shat_train, S_train, data_train, :Word)"
   ]
  },
  {
   "cell_type": "markdown",
   "id": "1bb8cce2",
   "metadata": {},
   "source": [
    "Validation accuracy."
   ]
  },
  {
   "cell_type": "code",
   "execution_count": null,
   "id": "0971899d",
   "metadata": {},
   "outputs": [],
   "source": [
    "Shat_val = JudiLing.predict_from_deep_model(res_deeper.model, cue_obj_val.C)\n",
    "JudiLing.eval_SC(Shat_val, S_val, S_train, data_val, data_train, :Word)"
   ]
  },
  {
   "cell_type": "markdown",
   "id": "d2bbfa41",
   "metadata": {},
   "source": [
    "# Production\n",
    "\n",
    "## Baseline"
   ]
  },
  {
   "cell_type": "markdown",
   "id": "822647a5",
   "metadata": {},
   "source": [
    "Train production mapping."
   ]
  },
  {
   "cell_type": "code",
   "execution_count": null,
   "id": "716abcf8",
   "metadata": {
    "scrolled": true
   },
   "outputs": [],
   "source": [
    "@time G = JudiLing.make_transform_matrix(S_train, cue_obj_train.C)"
   ]
  },
  {
   "cell_type": "markdown",
   "id": "cfdcbd69",
   "metadata": {},
   "source": [
    "Evaluate train and validation correlation accuracy."
   ]
  },
  {
   "cell_type": "code",
   "execution_count": null,
   "id": "f6803ed9",
   "metadata": {
    "scrolled": true
   },
   "outputs": [],
   "source": [
    "Chat_train_linear = S_train * G\n",
    "JudiLing.eval_SC(Chat_train_linear, cue_obj_train.C, data_train, :Word)"
   ]
  },
  {
   "cell_type": "code",
   "execution_count": null,
   "id": "97e6c38e",
   "metadata": {},
   "outputs": [],
   "source": [
    "Chat_val_linear = S_val * G\n",
    "JudiLing.eval_SC(Chat_val_linear, cue_obj_val.C, cue_obj_train.C, data_val, data_train, :Word)"
   ]
  },
  {
   "cell_type": "markdown",
   "id": "b5eed32e",
   "metadata": {},
   "source": [
    "Run learn paths algorithm. First compute maximum number of time steps:"
   ]
  },
  {
   "cell_type": "code",
   "execution_count": null,
   "id": "b4187851",
   "metadata": {
    "scrolled": true
   },
   "outputs": [],
   "source": [
    "max_t = JudiLing.cal_max_timestep(data_train, data_val, \"Word\")"
   ]
  },
  {
   "cell_type": "markdown",
   "id": "1b247cc8",
   "metadata": {},
   "source": [
    "Now run `learn_paths` on the training data. We set the threshold to 0.01, and turn tolerance mode off."
   ]
  },
  {
   "cell_type": "code",
   "execution_count": null,
   "id": "d60aff36",
   "metadata": {
    "scrolled": true
   },
   "outputs": [],
   "source": [
    "prod_train_linear = JudiLing.learn_paths(\n",
    "            data_train, # training dataset\n",
    "            data_train, # validation dataset\n",
    "            cue_obj_train.C, # form matrix for training data\n",
    "            S_train, # targeted semantic matrix for validation data\n",
    "            F, # comprehension model\n",
    "            Chat_train_linear, # predicted form matrix for validation data\n",
    "            cue_obj_train.A, # adjacency matrix for validation data\n",
    "            cue_obj_train.i2f, # index-to-feature dictionary for training data\n",
    "            cue_obj_train.f2i, # feature-to-index dictionary for training data\n",
    "            max_t=max_t,\n",
    "            threshold=0.01,\n",
    "            grams=3,\n",
    "            target_col=\"Word\",\n",
    "            verbose=true,\n",
    "            is_tolerant = false)"
   ]
  },
  {
   "cell_type": "markdown",
   "id": "678ffc75",
   "metadata": {},
   "source": [
    "Accuracy @1:"
   ]
  },
  {
   "cell_type": "code",
   "execution_count": null,
   "id": "07bc560b",
   "metadata": {},
   "outputs": [],
   "source": [
    "JudiLing.eval_acc(prod_train_linear, cue_obj_train)"
   ]
  },
  {
   "cell_type": "markdown",
   "id": "80d1c181",
   "metadata": {},
   "source": [
    "Accuracy @10:"
   ]
  },
  {
   "cell_type": "code",
   "execution_count": null,
   "id": "7b300c02",
   "metadata": {
    "scrolled": true
   },
   "outputs": [],
   "source": [
    "JudiLing.eval_acc_loose(prod_train_linear, cue_obj_train.gold_ind)"
   ]
  },
  {
   "cell_type": "markdown",
   "id": "5c89ce7a",
   "metadata": {},
   "source": [
    "Run `learn_paths` on validation data. We set the threshold to 0.01, but allow one trigram with a lower threshold to be included (`is_tolerant=true` and `max_tolerance=1`)."
   ]
  },
  {
   "cell_type": "code",
   "execution_count": null,
   "id": "2ed76878",
   "metadata": {
    "scrolled": true
   },
   "outputs": [],
   "source": [
    "prod_val_linear = JudiLing.learn_paths(\n",
    "            data_train, # training dataset\n",
    "            data_val, # validation dataset\n",
    "            cue_obj_train.C, # form matrix for training data\n",
    "            S_val, # targeted semantic matrix for validation data\n",
    "            F, # comprehension model\n",
    "            Chat_val_linear, # predicted form matrix for validation data\n",
    "            cue_obj_val.A, # adjacency matrix for validation data\n",
    "            cue_obj_train.i2f, # index-to-feature dictionary for training data\n",
    "            cue_obj_train.f2i, # feature-to-index dictionary for training data\n",
    "            max_t=max_t,\n",
    "            threshold=0.01,\n",
    "            grams=3,\n",
    "            target_col=\"Word\",\n",
    "            verbose=true,\n",
    "            is_tolerant = true,\n",
    "            max_tolerance=1)"
   ]
  },
  {
   "cell_type": "markdown",
   "id": "735cd073",
   "metadata": {},
   "source": [
    "Accuracy @1:"
   ]
  },
  {
   "cell_type": "code",
   "execution_count": null,
   "id": "a32a207c",
   "metadata": {
    "scrolled": true
   },
   "outputs": [],
   "source": [
    "JudiLing.eval_acc(prod_val_linear, cue_obj_val)"
   ]
  },
  {
   "cell_type": "markdown",
   "id": "1d28f0c0",
   "metadata": {},
   "source": [
    "Accuracy @2:"
   ]
  },
  {
   "cell_type": "code",
   "execution_count": null,
   "id": "cc450289",
   "metadata": {},
   "outputs": [],
   "source": [
    "JudiLing.eval_acc_loose(prod_val_linear, cue_obj_val.gold_ind)"
   ]
  },
  {
   "cell_type": "markdown",
   "id": "9ae4feee",
   "metadata": {},
   "source": [
    "## Deep default model\n",
    "\n",
    "First, we have to define a model which ends with a sigmoid function:"
   ]
  },
  {
   "cell_type": "code",
   "execution_count": null,
   "id": "20c803da",
   "metadata": {
    "scrolled": true
   },
   "outputs": [],
   "source": [
    "model_prod = Chain(\n",
    "            Dense(size(S_train, 2) => 1000, relu),   # activation function inside layer\n",
    "            Dense(1000 => size(cue_obj_train.C, 2)),\n",
    "            sigmoid) |> gpu    "
   ]
  },
  {
   "cell_type": "markdown",
   "id": "237ea728",
   "metadata": {},
   "source": [
    "Now we supply this model to the `get_and_train_model` function. Note that the order of the S and C matrices is now swapped: `S_train` is the training input, `cue_obj_train.C` the training target, and analogously for the validation data. The rest is the same as for the comprehension model, with the exception of the loss function, which we specify as `Flux.binarycrossentropy`. We use the model with the lowest validation loss and stop if it has not improved for 20 epochs."
   ]
  },
  {
   "cell_type": "code",
   "execution_count": null,
   "id": "8cc7733c",
   "metadata": {
    "scrolled": true
   },
   "outputs": [],
   "source": [
    "@time res_prod = JudiLing.get_and_train_model(S_train,\n",
    "                                            cue_obj_train.C,\n",
    "                                            S_val,\n",
    "                                            cue_obj_val.C,\n",
    "                                            data_train,\n",
    "                                            data_val,\n",
    "                                            :Word,\n",
    "                                            \"../res/dutch_model_prod.bson\",\n",
    "                                            verbose=true,\n",
    "                                            n_epochs=100,\n",
    "                                            early_stopping=20,\n",
    "                                            model=model_prod,\n",
    "                                            loss_func=Flux.binarycrossentropy)"
   ]
  },
  {
   "cell_type": "markdown",
   "id": "ad29e0d0",
   "metadata": {},
   "source": [
    "Training correlation accuracy:"
   ]
  },
  {
   "cell_type": "code",
   "execution_count": null,
   "id": "a3c614bd",
   "metadata": {},
   "outputs": [],
   "source": [
    "Chat_train = JudiLing.predict_from_deep_model(res_prod.model, S_train)\n",
    "JudiLing.eval_SC(Chat_train, cue_obj_train.C, data_train, :Word)"
   ]
  },
  {
   "cell_type": "markdown",
   "id": "b2357362",
   "metadata": {},
   "source": [
    "Validation correlation accuracy:"
   ]
  },
  {
   "cell_type": "code",
   "execution_count": null,
   "id": "4c05ad21",
   "metadata": {},
   "outputs": [],
   "source": [
    "Chat_val = JudiLing.predict_from_deep_model(res_prod.model, S_val)\n",
    "JudiLing.eval_SC(Chat_val, cue_obj_val.C, cue_obj_train.C, data_val, data_train, :Word)"
   ]
  },
  {
   "cell_type": "markdown",
   "id": "24e6f8c1",
   "metadata": {},
   "source": [
    "## Production algorithm\n",
    "\n",
    "### Combining deep production with linear comprehension mapping"
   ]
  },
  {
   "cell_type": "code",
   "execution_count": null,
   "id": "560377d4",
   "metadata": {
    "scrolled": true
   },
   "outputs": [],
   "source": [
    "max_t = JudiLing.cal_max_timestep(data_train, data_val, :Word)"
   ]
  },
  {
   "cell_type": "code",
   "execution_count": null,
   "id": "1ba3251d",
   "metadata": {
    "scrolled": true
   },
   "outputs": [],
   "source": [
    "prod_val = JudiLing.learn_paths(\n",
    "            data_train, # training dataset\n",
    "            data_val, # validation dataset\n",
    "            cue_obj_train.C, # form matrix for training data\n",
    "            S_val, # targeted semantic matrix for validation data\n",
    "            F, # comprehension model\n",
    "            Chat_val, # predicted form matrix for validation data\n",
    "            cue_obj_val.A, # adjacency matrix for validation data\n",
    "            cue_obj_train.i2f, # index-to-feature dictionary for training data\n",
    "            cue_obj_train.f2i, # feature-to-index dictionary for training data\n",
    "            max_t=max_t,\n",
    "            threshold=0.01,\n",
    "            grams=3,\n",
    "            target_col=\"Word\",\n",
    "            verbose=true,\n",
    "            is_tolerant = true,\n",
    "            max_tolerance=1)"
   ]
  },
  {
   "cell_type": "code",
   "execution_count": null,
   "id": "ec3add5b",
   "metadata": {
    "scrolled": true
   },
   "outputs": [],
   "source": [
    "JudiLing.eval_acc(prod_val, cue_obj_val)"
   ]
  },
  {
   "cell_type": "code",
   "execution_count": null,
   "id": "15b8fc7d",
   "metadata": {},
   "outputs": [],
   "source": [
    "JudiLing.eval_acc_loose(prod_val, cue_obj_val.gold_ind)"
   ]
  },
  {
   "cell_type": "code",
   "execution_count": null,
   "id": "95994eb2",
   "metadata": {
    "scrolled": true
   },
   "outputs": [],
   "source": [
    "prod_train = JudiLing.learn_paths(\n",
    "            data_train, # training dataset\n",
    "            data_train, # validation dataset\n",
    "            cue_obj_train.C, # form matrix for training data\n",
    "            S_train, # targeted semantic matrix for validation data\n",
    "            F, # comprehension model\n",
    "            Chat_train, # predicted form matrix for validation data\n",
    "            cue_obj_train.A, # adjacency matrix for validation data\n",
    "            cue_obj_train.i2f, # index-to-feature dictionary for training data\n",
    "            cue_obj_train.f2i, # feature-to-index dictionary for training data\n",
    "            max_t=max_t,\n",
    "            threshold=0.01,\n",
    "            grams=3,\n",
    "            target_col=\"Word\",\n",
    "            verbose=true,\n",
    "            is_tolerant = false)"
   ]
  },
  {
   "cell_type": "code",
   "execution_count": null,
   "id": "c7ed4a63",
   "metadata": {},
   "outputs": [],
   "source": [
    "JudiLing.eval_acc(prod_train, cue_obj_train)"
   ]
  },
  {
   "cell_type": "markdown",
   "id": "d8f5af24",
   "metadata": {},
   "source": [
    "### Combining deep production with deep comprehension"
   ]
  },
  {
   "cell_type": "code",
   "execution_count": null,
   "id": "f70d1550",
   "metadata": {
    "scrolled": true
   },
   "outputs": [],
   "source": [
    "prod_val_deep = JudiLing.learn_paths(\n",
    "            data_train, # training dataset\n",
    "            data_val, # validation dataset\n",
    "            cue_obj_train.C, # form matrix for training data\n",
    "            S_val, # targeted semantic matrix for validation data\n",
    "            res_acc.model, # comprehension model\n",
    "            Chat_val, # predicted form matrix for validation data\n",
    "            cue_obj_val.A, # adjacency matrix for validation data\n",
    "            cue_obj_train.i2f, # index-to-feature dictionary for training data\n",
    "            cue_obj_train.f2i, # feature-to-index dictionary for training data\n",
    "            max_t=max_t,\n",
    "            threshold=0.01,\n",
    "            grams=3,\n",
    "            target_col=\"Word\",\n",
    "            verbose=true,\n",
    "            is_tolerant = true,\n",
    "            max_tolerance=1)"
   ]
  },
  {
   "cell_type": "code",
   "execution_count": null,
   "id": "0141e56e",
   "metadata": {},
   "outputs": [],
   "source": [
    "JudiLing.eval_acc(prod_val_deep, cue_obj_val)"
   ]
  },
  {
   "cell_type": "code",
   "execution_count": null,
   "id": "47c6b5ff",
   "metadata": {
    "scrolled": true
   },
   "outputs": [],
   "source": [
    "prod_train_deep = JudiLing.learn_paths(\n",
    "            data_train, # training dataset\n",
    "            data_train, # validation dataset\n",
    "            cue_obj_train.C, # form matrix for training data\n",
    "            S_train, # targeted semantic matrix for validation data\n",
    "            res_acc.model, # comprehension model\n",
    "            Chat_train, # predicted form matrix for validation data\n",
    "            cue_obj_train.A, # adjacency matrix for validation data\n",
    "            cue_obj_train.i2f, # index-to-feature dictionary for training data\n",
    "            cue_obj_train.f2i, # feature-to-index dictionary for training data\n",
    "            max_t=max_t,\n",
    "            threshold=0.01,\n",
    "            grams=3,\n",
    "            target_col=\"Word\",\n",
    "            verbose=true,\n",
    "            is_tolerant = false)"
   ]
  },
  {
   "cell_type": "code",
   "execution_count": null,
   "id": "0198c1aa",
   "metadata": {},
   "outputs": [],
   "source": [
    "JudiLing.eval_acc(prod_train_deep, cue_obj_train)"
   ]
  },
  {
   "cell_type": "markdown",
   "id": "4913e532-0f6e-4f61-85da-75faf0101685",
   "metadata": {},
   "source": [
    "How correlated are the predicted semantic vectors of candidates when using deep comprehension model rather than a linear comprehension model in synthesis by analysis?"
   ]
  },
  {
   "cell_type": "code",
   "execution_count": null,
   "id": "8cb4bce8-3622-4e8f-a7b4-413d505ceec9",
   "metadata": {},
   "outputs": [],
   "source": [
    "using Statistics"
   ]
  },
  {
   "cell_type": "markdown",
   "id": "48104245-7315-4278-8a28-8718bfbbb7c7",
   "metadata": {},
   "source": [
    "Write the candidates produced by the learn_paths algorithm in the case of the linear model:"
   ]
  },
  {
   "cell_type": "code",
   "execution_count": null,
   "id": "44e538f3",
   "metadata": {
    "scrolled": true
   },
   "outputs": [],
   "source": [
    "cand_dat = JudiLing.write2df(prod_val, data_val, cue_obj_train, cue_obj_val, target_col=\"Word\")\n",
    "cand_dat = cand_dat[.!ismissing.(cand_dat.pred),:]"
   ]
  },
  {
   "cell_type": "markdown",
   "id": "ad281ea4-15ee-47dd-a22d-c835dd812ad0",
   "metadata": {},
   "source": [
    "And for the deep learning model:"
   ]
  },
  {
   "cell_type": "code",
   "execution_count": null,
   "id": "af6a4277-71df-4982-89a8-676630c8a89a",
   "metadata": {
    "scrolled": true
   },
   "outputs": [],
   "source": [
    "cand_dat_deep = JudiLing.write2df(prod_val_deep, data_val, cue_obj_train, cue_obj_val, target_col=\"Word\")\n",
    "cand_dat_deep = cand_dat_deep[.!ismissing.(cand_dat_deep.pred),:]"
   ]
  },
  {
   "cell_type": "markdown",
   "id": "1c2c53e4-dc1b-4de7-9951-c9f954edc663",
   "metadata": {},
   "source": [
    "Create cue objects for both the linear and the deep candidates:"
   ]
  },
  {
   "cell_type": "code",
   "execution_count": null,
   "id": "8cc27fd3-eceb-4de2-9a75-246ce9784257",
   "metadata": {},
   "outputs": [],
   "source": [
    "cue_obj_cand_lin = JudiLing.make_cue_matrix(cand_dat, cue_obj_train, grams=3, target_col=\"pred\");\n",
    "cue_obj_cand_deep = JudiLing.make_cue_matrix(cand_dat_deep, cue_obj_train, grams=3, target_col=\"pred\");"
   ]
  },
  {
   "cell_type": "markdown",
   "id": "5ffd9cc1-0ef8-4966-be4f-d53de1c49319",
   "metadata": {},
   "source": [
    "Get the predicted semantic matrices for both:"
   ]
  },
  {
   "cell_type": "code",
   "execution_count": null,
   "id": "39bcd523-e5ca-4c37-8cf3-efc240c4c29d",
   "metadata": {},
   "outputs": [],
   "source": [
    "Shat_cand_lin = cue_obj_cand_lin.C * F;\n",
    "Shat_cand_deep = JudiLing.predict_from_deep_model(res_acc.model, cue_obj_cand_deep.C);"
   ]
  },
  {
   "cell_type": "markdown",
   "id": "4ea018bf-c981-4032-9ba0-24871f1bf11a",
   "metadata": {},
   "source": [
    "Compute correlation between the candidates:"
   ]
  },
  {
   "cell_type": "code",
   "execution_count": null,
   "id": "d5e2c078-715c-4cf1-a058-4b92e4108a1b",
   "metadata": {},
   "outputs": [],
   "source": [
    "cor_shat_cand_lin = cor(Shat_cand_lin, dims=2);\n",
    "cor_shat_cand_deep = cor(Shat_cand_deep, dims=2);"
   ]
  },
  {
   "cell_type": "markdown",
   "id": "ef645354-e502-4449-ac63-64809c17b677",
   "metadata": {},
   "source": [
    "Compute correlation of the predicted semantic vectors with the best-supported candidate"
   ]
  },
  {
   "cell_type": "code",
   "execution_count": null,
   "id": "1fb26425-1924-4e0a-9b07-91fd45b2af1f",
   "metadata": {},
   "outputs": [],
   "source": [
    "cand_dat[!, :cor_with_best] .= 0.\n",
    "for identifier in cand_dat[cand_dat.isbest .== true, :identifier]\n",
    "    cor_subset = cor_shat_cand_lin[cand_dat.identifier .== identifier, cand_dat.identifier .== identifier]\n",
    "    cand_dat[cand_dat.identifier .== identifier, :cor_with_best] = cor_subset[1,:]\n",
    "end"
   ]
  },
  {
   "cell_type": "code",
   "execution_count": null,
   "id": "16efbfe2-7aed-48da-a6a6-f6d7e8fc45aa",
   "metadata": {},
   "outputs": [],
   "source": [
    "cand_dat_deep[!, :cor_with_best] .= 0.\n",
    "for identifier in cand_dat_deep[cand_dat_deep.isbest .== true, :identifier]\n",
    "    cor_subset = cor_shat_cand_deep[cand_dat_deep.identifier .== identifier, cand_dat_deep.identifier .== identifier]\n",
    "    cand_dat_deep[cand_dat_deep.identifier .== identifier, :cor_with_best] = cor_subset[1,:]\n",
    "end"
   ]
  },
  {
   "cell_type": "markdown",
   "id": "202ba167-064d-4a02-bf96-c8a73e3774c1",
   "metadata": {},
   "source": [
    "Compute average of the correlations between predicted semantic vectors and best-supported candidates:"
   ]
  },
  {
   "cell_type": "code",
   "execution_count": null,
   "id": "d412bd7a-d294-4366-a9f6-ec8eec399d7f",
   "metadata": {},
   "outputs": [],
   "source": [
    "mean(cand_dat[.!cand_dat.isbest, :cor_with_best])"
   ]
  },
  {
   "cell_type": "code",
   "execution_count": null,
   "id": "77df4a0a-6cd6-4806-b2dd-ca47cf0a75f1",
   "metadata": {},
   "outputs": [],
   "source": [
    "mean(cand_dat_deep[.!cand_dat_deep.isbest, :cor_with_best])"
   ]
  },
  {
   "cell_type": "markdown",
   "id": "95b012b7-c7f3-4138-b385-b7bd2f6b2b27",
   "metadata": {},
   "source": [
    "Add this to a dataframe:"
   ]
  },
  {
   "cell_type": "code",
   "execution_count": null,
   "id": "34079600-70f5-4811-9708-96556aa74d04",
   "metadata": {
    "scrolled": true
   },
   "outputs": [],
   "source": [
    "cand_dat[!,:comp] .= \"linear\"\n",
    "cand_dat_deep[!,:comp] .= \"deep\"\n",
    "cand_dat_all = vcat(cand_dat, cand_dat_deep)"
   ]
  },
  {
   "cell_type": "markdown",
   "id": "f077cecd-f5b1-4dc9-9c03-d98c13c5d0ea",
   "metadata": {},
   "source": [
    "Plot the distribution of correlations using a boxplot:"
   ]
  },
  {
   "cell_type": "code",
   "execution_count": null,
   "id": "612a7322-7699-43cf-bed0-1e7ad226189b",
   "metadata": {},
   "outputs": [],
   "source": [
    "gr()"
   ]
  },
  {
   "cell_type": "code",
   "execution_count": null,
   "id": "c3508348-b497-4312-903e-8f0f8cc35ed5",
   "metadata": {
    "scrolled": true
   },
   "outputs": [],
   "source": [
    "Pkg.add(\"StatsPlots\")\n",
    "using StatsPlots\n",
    "default(fmt=:png)"
   ]
  },
  {
   "cell_type": "code",
   "execution_count": null,
   "id": "32d9c8b7-4806-4ebb-96a9-aa05d88229cd",
   "metadata": {},
   "outputs": [],
   "source": [
    "@df cand_dat_all[.!cand_dat_all.isbest,:] boxplot(:comp, :cor_with_best, label=\"\", ylab=\"Correlation\",\n",
    "title=\"Correlation of highest supported candidates with\\nrespective alternative candidates\")"
   ]
  },
  {
   "cell_type": "code",
   "execution_count": null,
   "id": "fec92435-9c16-46f4-9614-f3b876813d3d",
   "metadata": {},
   "outputs": [],
   "source": [
    "savefig(\"../fig/deep_corr_alternatives.pdf\")"
   ]
  },
  {
   "cell_type": "markdown",
   "id": "5cff5696-b7b8-4aa6-bf23-28dc74ae593a",
   "metadata": {},
   "source": [
    "## Frequency-informed Deep Discriminative Learning (FIDDL)"
   ]
  },
  {
   "cell_type": "markdown",
   "id": "c1ffa030-4a93-4cc7-80e6-58ba4d142d15",
   "metadata": {},
   "source": [
    "Load the full dutch dataset:"
   ]
  },
  {
   "cell_type": "code",
   "execution_count": null,
   "id": "82b86867-7a72-4898-9227-ff7032b23105",
   "metadata": {
    "scrolled": true
   },
   "outputs": [],
   "source": [
    "dutch = JudiLing.load_dataset(\"../dat/dutch.csv\")"
   ]
  },
  {
   "cell_type": "markdown",
   "id": "d4c75bd9-db2e-4d78-b5e4-f4b2a3484f31",
   "metadata": {},
   "source": [
    "Scale down frequencies a bit to speed up training for demonstration purposes:"
   ]
  },
  {
   "cell_type": "code",
   "execution_count": null,
   "id": "2f9b11d8-0f22-4ad5-bf31-d50a09c0dbb1",
   "metadata": {
    "scrolled": true
   },
   "outputs": [],
   "source": [
    "dutch[!, \"Frequency_scaled10\"] = dutch.Frequency./10;\n",
    "dutch[!, \"Frequency_scaled10\"] = Int.(ceil.(dutch.Frequency_scaled10));"
   ]
  },
  {
   "cell_type": "markdown",
   "id": "a22e68d2-8585-4202-ab58-e69044e44b7e",
   "metadata": {},
   "source": [
    "Load S matrix and create cue object:"
   ]
  },
  {
   "cell_type": "code",
   "execution_count": null,
   "id": "4f7a8187-d479-4f64-89d0-0e767a2fc5b5",
   "metadata": {},
   "outputs": [],
   "source": [
    "dutch, S = JudiLing.load_S_matrix_from_fasttext(dutch, \n",
    "                                    :nl, \n",
    "                                    target_col=:Ortho);\n",
    "cue_obj = JudiLing.make_cue_matrix(dutch, grams=3, target_col=\"Word\");"
   ]
  },
  {
   "cell_type": "markdown",
   "id": "b0f65613-c0a0-4876-8545-9367b069a9c1",
   "metadata": {},
   "source": [
    "Generate a learning sequence based on the scaled frequencies."
   ]
  },
  {
   "cell_type": "code",
   "execution_count": null,
   "id": "e4920a43-70a8-4f8c-a950-f15146d45584",
   "metadata": {},
   "outputs": [],
   "source": [
    "learn_seq = JudiLing.make_learn_seq(dutch.Frequency_scaled10;\n",
    "                                           random_seed = 314);"
   ]
  },
  {
   "cell_type": "code",
   "execution_count": null,
   "id": "0905bca4-eead-4718-bb57-43c1e9064312",
   "metadata": {},
   "outputs": [],
   "source": [
    "length(learn_seq)"
   ]
  },
  {
   "cell_type": "markdown",
   "id": "2e9f5cda-0437-4184-a3bc-f6b539b7b5a1",
   "metadata": {},
   "source": [
    "Train the FIDDL model."
   ]
  },
  {
   "cell_type": "code",
   "execution_count": null,
   "id": "954b33d3-7a35-4e4d-a76f-e8f00c6ac371",
   "metadata": {
    "scrolled": true
   },
   "outputs": [],
   "source": [
    "res_fiddl = JudiLing.fiddl(cue_obj.C,\n",
    "                S,\n",
    "                learn_seq,\n",
    "                dutch,\n",
    "                :Word,\n",
    "                \"../res/dutch_fiddl_comp.bson\";\n",
    "                hidden_dim=1000,\n",
    "                batchsize=512,\n",
    "                verbose=true,\n",
    "                n_batch_eval=100)"
   ]
  },
  {
   "cell_type": "markdown",
   "id": "1b249446-852e-46d1-8009-b56ac670395b",
   "metadata": {},
   "source": [
    "Plot the accuracies across learning steps:"
   ]
  },
  {
   "cell_type": "code",
   "execution_count": null,
   "id": "a2c0b854-bca5-4d4b-ac5b-203fd0abbe36",
   "metadata": {},
   "outputs": [],
   "source": [
    "evaluation_steps = [i*512*100 for i in 1:length(res_fiddl.accs)]\n",
    "plot(evaluation_steps, res_fiddl.accs, xlab=\"Learning step\", ylab=\"Accuracy\", legend=false, linecolor=\"black\")"
   ]
  },
  {
   "cell_type": "code",
   "execution_count": null,
   "id": "cbbba27f-991b-48e3-b2de-5062b5d81426",
   "metadata": {},
   "outputs": [],
   "source": [
    "savefig(\"../fig/fiddl_acc_bw.pdf\")"
   ]
  },
  {
   "cell_type": "markdown",
   "id": "d23b6cd8-c6df-48f8-a4e3-428b60f81852",
   "metadata": {},
   "source": [
    "Compute the final accuracy:"
   ]
  },
  {
   "cell_type": "code",
   "execution_count": null,
   "id": "6f5f0fa3-8b4a-444a-b5dd-f2e74afd2cd8",
   "metadata": {},
   "outputs": [],
   "source": [
    "Shat = JudiLing.predict_from_deep_model(res_fiddl.model, cue_obj.C);\n",
    "JudiLing.eval_SC(Shat, S, dutch, :Word)"
   ]
  },
  {
   "cell_type": "markdown",
   "id": "6bc2f8c8-ef2a-4b3c-8599-26a4e77154f2",
   "metadata": {},
   "source": [
    "Plot correlations with target vectors against frequency:"
   ]
  },
  {
   "cell_type": "code",
   "execution_count": null,
   "id": "546a7788-3e71-4a88-ad45-a09f4abd8240",
   "metadata": {},
   "outputs": [],
   "source": [
    "using LinearAlgebra\n",
    "\n",
    "target_correlations = diag(cor(Shat, S, dims=2))\n",
    "\n",
    "scatter(log.(dutch.Frequency), target_correlations, xlab=\"Log Frequency\", ylab=\"Target Correlation\")"
   ]
  },
  {
   "cell_type": "code",
   "execution_count": null,
   "id": "2d5ff1db-a79c-410b-a560-f6d36009c114",
   "metadata": {
    "scrolled": true
   },
   "outputs": [],
   "source": [
    "savefig(\"../fig/fiddl_cor_vs_freq.pdf\")"
   ]
  },
  {
   "cell_type": "markdown",
   "id": "0f553f5c-f4fb-4d27-a71a-01f00a118a49",
   "metadata": {},
   "source": [
    "There is a clear relationship between frequency and target correlation."
   ]
  },
  {
   "cell_type": "markdown",
   "id": "bfcbf681-e79c-4b8c-b01e-6909ab87cecc",
   "metadata": {},
   "source": [
    "## Exercises"
   ]
  },
  {
   "cell_type": "markdown",
   "id": "1f752633-5065-46f8-b8f8-7d7b9278c10b",
   "metadata": {},
   "source": [
    "Create a random data split for the latin dataset:"
   ]
  },
  {
   "cell_type": "code",
   "execution_count": null,
   "id": "a605ac1c-d87e-4ead-85b4-dd7a1384195f",
   "metadata": {},
   "outputs": [],
   "source": [
    "data_train, data_val = JudiLing.loading_data_randomly_split(\n",
    "     \"../dat/latin.csv\", \"../dat/cv_random\", \"latin\",\n",
    "     val_sample_size = 50,\n",
    "     random_seed = 42);"
   ]
  },
  {
   "cell_type": "markdown",
   "id": "a808c367-6cae-49ac-aaea-87426679c603",
   "metadata": {},
   "source": [
    "Create C and S matrices"
   ]
  },
  {
   "cell_type": "code",
   "execution_count": null,
   "id": "4cd9ae40-9525-423f-b537-e8320778fee1",
   "metadata": {},
   "outputs": [],
   "source": [
    "cue_obj_train, cue_obj_val = JudiLing.make_combined_cue_matrix(data_train,\n",
    "                                   data_val,\n",
    "                                   grams=3,\n",
    "                                   target_col=\"Word\");"
   ]
  },
  {
   "cell_type": "code",
   "execution_count": null,
   "id": "179d7bfb-c238-4387-a737-efcf05cdba8c",
   "metadata": {},
   "outputs": [],
   "source": [
    "S_train, S_val = JudiLing.make_combined_S_matrix(\n",
    "                           data_train,\n",
    "                           data_val,\n",
    "                           [\"Lexeme\"],\n",
    "                           [\"Person\", \"Number\", \"Tense\", \"Voice\", \"Mood\"],\n",
    "                           ncol=300);"
   ]
  },
  {
   "cell_type": "markdown",
   "id": "149caaf2-26bc-43c7-8c5c-25dea8abf386",
   "metadata": {},
   "source": [
    "Train a DDL comprehension model with one hidden layer with a dimensionality of 500 on the training data for 100 epochs"
   ]
  },
  {
   "cell_type": "code",
   "execution_count": null,
   "id": "7a376b0e-61a3-405e-9941-62828ba63700",
   "metadata": {
    "scrolled": true
   },
   "outputs": [],
   "source": [
    "latin_res_train_only = JudiLing.get_and_train_model(cue_obj_train.C,\n",
    "                                                    S_train,\n",
    "                                                    \"../res/latin_comp_train_only.bson\", \n",
    "                                                    verbose=true)"
   ]
  },
  {
   "cell_type": "code",
   "execution_count": null,
   "id": "cc1d1eb3-fa6d-4b4f-b07f-3d50042dec44",
   "metadata": {
    "scrolled": true
   },
   "outputs": [],
   "source": [
    "Shat_train = JudiLing.predict_from_deep_model(latin_res_train_only.model, cue_obj_train.C)\n",
    "Shat_val = JudiLing.predict_from_deep_model(latin_res_train_only.model, cue_obj_val.C)"
   ]
  },
  {
   "cell_type": "code",
   "execution_count": null,
   "id": "59e0a680-9fbe-47aa-8a7d-f35f880d1657",
   "metadata": {},
   "outputs": [],
   "source": [
    "JudiLing.eval_SC(Shat_train, S_train, data_train, :Word)"
   ]
  },
  {
   "cell_type": "code",
   "execution_count": null,
   "id": "f3f1a114-2cff-41af-9529-3ffcd232eb27",
   "metadata": {},
   "outputs": [],
   "source": [
    "JudiLing.eval_SC(Shat_val, S_val, S_train, data_val, data_train, :Word)"
   ]
  },
  {
   "cell_type": "markdown",
   "id": "961a7c27-302a-43de-8d4d-3a9bdaea2f73",
   "metadata": {},
   "source": [
    "Now we also supply the validation data to the function, and stop the training after the loss stops improving, and after the accuracy stops improving:"
   ]
  },
  {
   "cell_type": "code",
   "execution_count": null,
   "id": "2bd5f776-c9b4-4749-b8eb-8591c1d05a79",
   "metadata": {
    "scrolled": true
   },
   "outputs": [],
   "source": [
    "latin_res_loss = JudiLing.get_and_train_model(cue_obj_train.C,\n",
    "                                            S_train,\n",
    "                                            cue_obj_val.C,\n",
    "                                            S_val,\n",
    "                                            data_train,\n",
    "                                            data_val,\n",
    "                                            :Word,\n",
    "                                            \"../res/latin_comp_acc.bson\",\n",
    "                                            verbose=true,\n",
    "                                            n_epochs=100,\n",
    "                                            early_stopping=20)"
   ]
  },
  {
   "cell_type": "code",
   "execution_count": null,
   "id": "d2e08c43-2c4b-4238-9361-2e4c5f09ddf5",
   "metadata": {
    "scrolled": true
   },
   "outputs": [],
   "source": [
    "Shat_train = JudiLing.predict_from_deep_model(latin_res_loss.model, cue_obj_train.C)\n",
    "Shat_val = JudiLing.predict_from_deep_model(latin_res_loss.model, cue_obj_val.C)"
   ]
  },
  {
   "cell_type": "code",
   "execution_count": null,
   "id": "d24f9bea-f3d2-4504-8513-78a77d4ed96e",
   "metadata": {},
   "outputs": [],
   "source": [
    "JudiLing.eval_SC(Shat_train, S_train, data_train, :Word)"
   ]
  },
  {
   "cell_type": "code",
   "execution_count": null,
   "id": "c7d3db98-b1b3-44d2-8d44-e8700e663849",
   "metadata": {},
   "outputs": [],
   "source": [
    "JudiLing.eval_SC(Shat_val, S_val, S_train, data_val, data_train, :Word)"
   ]
  },
  {
   "cell_type": "code",
   "execution_count": null,
   "id": "4991d89b-01f6-4b30-8464-de359e1f7767",
   "metadata": {
    "scrolled": true
   },
   "outputs": [],
   "source": [
    "latin_res_acc = JudiLing.get_and_train_model(cue_obj_train.C,\n",
    "                                            S_train,\n",
    "                                            cue_obj_val.C,\n",
    "                                            S_val,\n",
    "                                            data_train,\n",
    "                                            data_val,\n",
    "                                            :Word,\n",
    "                                            \"../res/comp_acc.bson\",\n",
    "                                            verbose=true,\n",
    "                                            n_epochs=100,\n",
    "                                            early_stopping=20,\n",
    "                                            optimise_for_acc=true)"
   ]
  },
  {
   "cell_type": "code",
   "execution_count": null,
   "id": "c7935d20-84df-48b6-b65b-57a12a0e8a31",
   "metadata": {
    "scrolled": true
   },
   "outputs": [],
   "source": [
    "Shat_train = JudiLing.predict_from_deep_model(latin_res_acc.model, cue_obj_train.C)\n",
    "Shat_val = JudiLing.predict_from_deep_model(latin_res_acc.model, cue_obj_val.C)"
   ]
  },
  {
   "cell_type": "code",
   "execution_count": null,
   "id": "e07314ec-c26b-4a9e-93fc-d21814c515ba",
   "metadata": {},
   "outputs": [],
   "source": [
    "JudiLing.eval_SC(Shat_train, S_train, data_train, :Word)"
   ]
  },
  {
   "cell_type": "code",
   "execution_count": null,
   "id": "481c474f-8c53-4bfa-ba40-84e5b10f2b9e",
   "metadata": {},
   "outputs": [],
   "source": [
    "JudiLing.eval_SC(Shat_val, S_val, S_train, data_val, data_train, :Word)"
   ]
  },
  {
   "cell_type": "markdown",
   "id": "923475e7-b112-4ead-8a78-2dce6fad4d47",
   "metadata": {},
   "source": [
    "The accuracies are very similar across the two training runs, presumably because the dataset is small and quite regular due to the semantic vectors being simulated. Interestingly, the relationship between form and meaning seems to be so regular in this simulated example that a model overfitted to the training data (the `latin_res_train_only.model`) still generalises very well to the validation data."
   ]
  },
  {
   "cell_type": "markdown",
   "id": "4c2c93f1-4375-4e04-80a4-cb547de21466",
   "metadata": {},
   "source": [
    "Training a production model with MSE loss:"
   ]
  },
  {
   "cell_type": "code",
   "execution_count": null,
   "id": "65f86ac1-9c77-42a9-923f-f7b3854047a9",
   "metadata": {
    "scrolled": true
   },
   "outputs": [],
   "source": [
    "latin_model_prod = Chain(\n",
    "            Dense(size(S_train, 2) => 500, relu),   # activation function inside layer\n",
    "            Dense(500 => 500, relu),\n",
    "            Dense(500 => size(cue_obj_train.C, 2))) |> gpu    "
   ]
  },
  {
   "cell_type": "code",
   "execution_count": null,
   "id": "add47afc-90c5-47c0-9ade-b066c330a228",
   "metadata": {
    "scrolled": true
   },
   "outputs": [],
   "source": [
    "latin_res_prod_mse = JudiLing.get_and_train_model(S_train,\n",
    "                                            cue_obj_train.C,\n",
    "                                            S_val,\n",
    "                                            cue_obj_val.C,\n",
    "                                            data_train,\n",
    "                                            data_val,\n",
    "                                            :Word,\n",
    "                                            \"../res/latin_prod.bson\",\n",
    "                                            verbose=true,\n",
    "                                            n_epochs=100,\n",
    "                                            early_stopping=20,\n",
    "                                            optimise_for_acc=true,\n",
    "                                            model=latin_model_prod,\n",
    "                                            loss_func=Flux.mse)"
   ]
  },
  {
   "cell_type": "code",
   "execution_count": null,
   "id": "0e85d428-4698-4834-9ed5-9e5dfcee40bc",
   "metadata": {
    "scrolled": true
   },
   "outputs": [],
   "source": [
    "Chat_train = JudiLing.predict_from_deep_model(latin_res_prod_mse.model, S_train)\n",
    "Chat_val = JudiLing.predict_from_deep_model(latin_res_prod_mse.model, S_val)"
   ]
  },
  {
   "cell_type": "code",
   "execution_count": null,
   "id": "0d0d4198-88cb-4ba9-94cd-413ecca350c6",
   "metadata": {},
   "outputs": [],
   "source": [
    "JudiLing.eval_SC(Chat_train, cue_obj_train.C, data_train, :Word)"
   ]
  },
  {
   "cell_type": "code",
   "execution_count": null,
   "id": "bcc00e7b-7ae1-4f5c-9847-35b411d6003a",
   "metadata": {},
   "outputs": [],
   "source": [
    "JudiLing.eval_SC(Chat_val, cue_obj_val.C, cue_obj_train.C,data_val, data_train, :Word)"
   ]
  },
  {
   "cell_type": "markdown",
   "id": "51e9b069-0a98-4d68-a12e-0a7e824bd45e",
   "metadata": {},
   "source": [
    "Train a production model with binary cross entropy loss"
   ]
  },
  {
   "cell_type": "code",
   "execution_count": null,
   "id": "8e0ed9c8-daeb-4971-be8f-8852a9242ebd",
   "metadata": {},
   "outputs": [],
   "source": [
    "latin_model_prod = Chain(\n",
    "            Dense(size(S_train, 2) => 500, relu),   # activation function inside layer\n",
    "            Dense(500 => 500, relu),\n",
    "            Dense(500 => size(cue_obj_train.C, 2)),\n",
    "            sigmoid) |> gpu    "
   ]
  },
  {
   "cell_type": "code",
   "execution_count": null,
   "id": "f82084da-3a7a-4499-8cc7-b6b982f87298",
   "metadata": {
    "scrolled": true
   },
   "outputs": [],
   "source": [
    "latin_res_prod_bce = JudiLing.get_and_train_model(S_train,\n",
    "                                            cue_obj_train.C,\n",
    "                                            S_val,\n",
    "                                            cue_obj_val.C,\n",
    "                                            data_train,\n",
    "                                            data_val,\n",
    "                                            :Word,\n",
    "                                            \"../res/latin_prod.bson\",\n",
    "                                            verbose=true,\n",
    "                                            n_epochs=100,\n",
    "                                            early_stopping=20,\n",
    "                                            optimise_for_acc=true,\n",
    "                                            model=latin_model_prod,\n",
    "                                            loss_func=Flux.binarycrossentropy)"
   ]
  },
  {
   "cell_type": "code",
   "execution_count": null,
   "id": "6c59fa32-8a2d-4e76-bab7-a9dc61a19637",
   "metadata": {
    "scrolled": true
   },
   "outputs": [],
   "source": [
    "Chat_train = JudiLing.predict_from_deep_model(latin_res_prod_bce.model, S_train)\n",
    "Chat_val = JudiLing.predict_from_deep_model(latin_res_prod_bce.model, S_val)"
   ]
  },
  {
   "cell_type": "code",
   "execution_count": null,
   "id": "e64dd7fb-0b58-41ff-b74f-864e14c59d8c",
   "metadata": {},
   "outputs": [],
   "source": [
    "JudiLing.eval_SC(Chat_train, cue_obj_train.C, data_train, :Word)"
   ]
  },
  {
   "cell_type": "code",
   "execution_count": null,
   "id": "500f017a-40b4-41dc-90c8-eb45c6c78500",
   "metadata": {},
   "outputs": [],
   "source": [
    "JudiLing.eval_SC(Chat_val, cue_obj_val.C, cue_obj_train.C,data_val, data_train, :Word)"
   ]
  },
  {
   "cell_type": "markdown",
   "id": "608bb6a5-4892-42d5-9f30-e27156a10d3a",
   "metadata": {},
   "source": [
    "The loss function makes a huge difference: High accuracies are only achieved with the binary crossentropy loss. "
   ]
  },
  {
   "cell_type": "markdown",
   "id": "12d59661-02d1-4072-8e89-5f2b08f26883",
   "metadata": {},
   "source": [
    "Running learn_paths with the best production and comprehension models. In this notebook, the loss-based comprehension model was best and we therefore use that one:"
   ]
  },
  {
   "cell_type": "code",
   "execution_count": null,
   "id": "00e5a74b-dd81-45d3-b102-25f58b8c3e38",
   "metadata": {},
   "outputs": [],
   "source": [
    "JudiLing.cal_max_timestep(data_train, data_val, \"Word\")"
   ]
  },
  {
   "cell_type": "code",
   "execution_count": null,
   "id": "c57cfa70-fb0c-4386-90d5-86552191a72b",
   "metadata": {
    "scrolled": true
   },
   "outputs": [],
   "source": [
    "prod_val = JudiLing.learn_paths(\n",
    "        data_train,            # training dataset\n",
    "        data_val,              # validation dataset\n",
    "        cue_obj_train.C,       # form matrix for training data\n",
    "        S_val,                 # targeted semantic matrix for validation data\n",
    "        latin_res_loss.model,                     # comprehension mapping\n",
    "        Chat_val,              # predicted form matrix for validation data\n",
    "        cue_obj_val.A,         # adjacency matrix for validation data\n",
    "        cue_obj_train.i2f,     # index-to-feature dictionary for training data \n",
    "        cue_obj_train.f2i,     # feature-to-index dictionary for training data\n",
    "        max_t=16,\n",
    "        threshold=0.001,\n",
    "        grams=3,\n",
    "        target_col=\"Word\",\n",
    "        verbose=true);"
   ]
  },
  {
   "cell_type": "code",
   "execution_count": null,
   "id": "7d8cbb90-5358-4f4b-ad33-470bd286ef5b",
   "metadata": {},
   "outputs": [],
   "source": [
    "JudiLing.eval_acc(prod_val, cue_obj_val)"
   ]
  },
  {
   "cell_type": "markdown",
   "id": "3db7d34d-9a34-4da9-9a61-7620e6a92eb4",
   "metadata": {},
   "source": [
    "The accuracy is substantially higher than with linear mappings (42%)."
   ]
  },
  {
   "cell_type": "markdown",
   "id": "c5b7e106-ba38-4d36-acf4-915267655231",
   "metadata": {},
   "source": [
    "Training a FIDDL model:"
   ]
  },
  {
   "cell_type": "code",
   "execution_count": null,
   "id": "f79a515a-6ce0-4124-9d25-bf6c4118b700",
   "metadata": {
    "scrolled": true
   },
   "outputs": [],
   "source": [
    "latin = DataFrame(CSV.File(\"../dat/latin.csv\"))"
   ]
  },
  {
   "cell_type": "code",
   "execution_count": null,
   "id": "58ccac8f-bcab-4ece-99ec-f8b9e8c4fbb7",
   "metadata": {},
   "outputs": [],
   "source": [
    "cue_obj = JudiLing.make_cue_matrix(latin, grams=3, target_col=\"Word\");\n",
    "S = JudiLing.make_S_matrix(\n",
    "                           latin,\n",
    "                           [\"Lexeme\"],\n",
    "                           [\"Person\", \"Number\", \"Tense\", \"Voice\", \"Mood\"],\n",
    "                           ncol=300);"
   ]
  },
  {
   "cell_type": "code",
   "execution_count": null,
   "id": "4d265f48-8016-4006-8af6-6c05877dc4a5",
   "metadata": {},
   "outputs": [],
   "source": [
    "learn_seq = JudiLing.make_learn_seq(latin.sim_freq;\n",
    "                                           random_seed = 314);"
   ]
  },
  {
   "cell_type": "markdown",
   "id": "e9e8b236-ebe3-4291-abab-72ad1a37c680",
   "metadata": {},
   "source": [
    "Train with batchsize of 32:"
   ]
  },
  {
   "cell_type": "code",
   "execution_count": null,
   "id": "bd0f1d48-a06f-44eb-af1c-316232df88f6",
   "metadata": {
    "scrolled": true
   },
   "outputs": [],
   "source": [
    "latin_res_fiddl32 = JudiLing.fiddl(cue_obj.C,\n",
    "                S,\n",
    "                learn_seq,\n",
    "                latin,\n",
    "                :Word,\n",
    "                \"../res/latin_fiddl_comp.bson\";\n",
    "                hidden_dim=1000,\n",
    "                batchsize=32,\n",
    "                verbose=true,\n",
    "                n_batch_eval=10)"
   ]
  },
  {
   "cell_type": "code",
   "execution_count": null,
   "id": "80ad13e8-9336-4bd8-837c-9b3b815d8257",
   "metadata": {},
   "outputs": [],
   "source": [
    "Shat = JudiLing.predict_from_deep_model(latin_res_fiddl32.model, cue_obj.C)\n",
    "JudiLing.eval_SC(Shat, S, latin, :Word)"
   ]
  },
  {
   "cell_type": "markdown",
   "id": "6d5e8e22-0013-4449-afec-8277919b5d48",
   "metadata": {},
   "source": [
    "Train with a batchsize of 128:"
   ]
  },
  {
   "cell_type": "code",
   "execution_count": null,
   "id": "55bb2af1-e445-40bd-94f5-6bf26c7cdccf",
   "metadata": {
    "scrolled": true
   },
   "outputs": [],
   "source": [
    "latin_res_fiddl128 = JudiLing.fiddl(cue_obj.C,\n",
    "                S,\n",
    "                learn_seq,\n",
    "                latin,\n",
    "                :Word,\n",
    "                \"../res/latin_fiddl_comp.bson\";\n",
    "                hidden_dim=1000,\n",
    "                batchsize=128,\n",
    "                verbose=true,\n",
    "                n_batch_eval=10)"
   ]
  },
  {
   "cell_type": "code",
   "execution_count": null,
   "id": "c2052c04-4790-4edf-923d-7611191e6ca3",
   "metadata": {},
   "outputs": [],
   "source": [
    "Shat = JudiLing.predict_from_deep_model(latin_res_fiddl128.model, cue_obj.C)\n",
    "JudiLing.eval_SC(Shat, S, latin, :Word)"
   ]
  },
  {
   "cell_type": "markdown",
   "id": "910dfcdc-6ae0-4965-aaa1-77a5cc17e80e",
   "metadata": {},
   "source": [
    "With a smaller batchsize the accuracy is significantly higher. The reason for this is presumably that there seems to be a relationship between learning rate and batchsize and their impact on the loss (see Jastrzębski et al, 2018, though note that their experiments are done with SGD rather than Adam). This essentially means that if the batchsize is increased, the learning rate should also be increased. If we increase the learning rate to 0.004, the accuracy is again quite similar to the run with batchsize=32 and learning rate=0.001:"
   ]
  },
  {
   "cell_type": "code",
   "execution_count": null,
   "id": "2336d0cd-88ca-4bbb-9585-de2fdf584eae",
   "metadata": {
    "scrolled": true
   },
   "outputs": [],
   "source": [
    "latin_res_fiddl128_hlr = JudiLing.fiddl(cue_obj.C,\n",
    "                S,\n",
    "                learn_seq,\n",
    "                latin,\n",
    "                :Word,\n",
    "                \"../res/latin_fiddl_comp.bson\";\n",
    "                hidden_dim=1000,\n",
    "                batchsize=128,\n",
    "                verbose=true,\n",
    "                n_batch_eval=10,\n",
    "                optimizer=Flux.Adam(0.004))"
   ]
  },
  {
   "cell_type": "code",
   "execution_count": null,
   "id": "26c06547-5451-40b7-abce-ff3993327bf0",
   "metadata": {},
   "outputs": [],
   "source": [
    "Shat = JudiLing.predict_from_deep_model(latin_res_fiddl128_hlr.model, cue_obj.C)\n",
    "JudiLing.eval_SC(Shat, S, latin, :Word)"
   ]
  },
  {
   "cell_type": "markdown",
   "id": "5425a3ab-e19a-4209-8064-fa5cc027f103",
   "metadata": {},
   "source": [
    "## References\n",
    "\n",
    "Jastrzębski, S., Kenton, Z., Arpit, D., Ballas, N., Fischer, A., Bengio, Y., & Storkey, A. (2018). Width of minima reached by stochastic gradient descent is influenced by learning rate to batch size ratio. In Artificial Neural Networks and Machine Learning–ICANN 2018: 27th International Conference on Artificial Neural Networks, Rhodes, Greece, October 4-7, 2018, Proceedings, Part III 27 (pp. 392-402). Springer International Publishing."
   ]
  }
 ],
 "metadata": {
  "kernelspec": {
   "display_name": "Julia 1.11.2",
   "language": "julia",
   "name": "julia-1.11"
  },
  "language_info": {
   "file_extension": ".jl",
   "mimetype": "application/julia",
   "name": "julia",
   "version": "1.11.2"
  },
  "toc": {
   "base_numbering": 1,
   "nav_menu": {},
   "number_sections": true,
   "sideBar": true,
   "skip_h1_title": false,
   "title_cell": "Table of Contents",
   "title_sidebar": "Contents",
   "toc_cell": false,
   "toc_position": {
    "height": "calc(100% - 180px)",
    "left": "10px",
    "top": "150px",
    "width": "292.1739196777344px"
   },
   "toc_section_display": true,
   "toc_window_display": true
  }
 },
 "nbformat": 4,
 "nbformat_minor": 5
}
