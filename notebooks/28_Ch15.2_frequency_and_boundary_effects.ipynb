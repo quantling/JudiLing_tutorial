{
 "cells": [
  {
   "cell_type": "markdown",
   "id": "0537f8fd-bebe-442b-96c4-4f609cc9c949",
   "metadata": {},
   "source": [
    "# Chapter 15.2: Frequency effects and boundary effects as litmus tests?"
   ]
  },
  {
   "cell_type": "markdown",
   "id": "aa0e5d18-1805-4d93-b7d3-6d6145fc4ffa",
   "metadata": {},
   "source": [
    "Loading libraries"
   ]
  },
  {
   "cell_type": "code",
   "execution_count": null,
   "id": "7d3f6c8d-34af-428d-b7dd-2912f1e90eae",
   "metadata": {},
   "outputs": [],
   "source": [
    "using CSV, RCall, JudiLing, JudiLingMeasures, DataFrames"
   ]
  },
  {
   "cell_type": "markdown",
   "id": "1a61ca65-550c-4549-be94-e6d1f71ef9aa",
   "metadata": {},
   "source": [
    "We first implement some Julia code to obtain the measures and statistics that we will then further scrutinize in R."
   ]
  },
  {
   "cell_type": "markdown",
   "id": "2c114dbf-8eb7-4a81-bdf1-cdb4e3a09a46",
   "metadata": {},
   "source": [
    "If you haven't done so before, download the BLP data (blp-items.txt.zip and blp-stimuli.txt.zip) from [here](https://osf.io/b5sdk/), store in `dat` and unzip them. Next, we load and merge the two dataframes:"
   ]
  },
  {
   "cell_type": "code",
   "execution_count": null,
   "id": "310e954a-d1d4-4b12-8260-e0e109241dff",
   "metadata": {
    "scrolled": true
   },
   "outputs": [],
   "source": [
    "items = JudiLing.load_dataset(\"../dat/blp-items.txt\", delim=\"\\t\")\n",
    "words = items[items.lexicality .== \"W\",:]\n",
    "stimuli = JudiLing.load_dataset(\"../dat/blp-stimuli.txt\", delim=\"\\t\")\n",
    "\n",
    "# merge the two dataframes\n",
    "english = leftjoin(words, stimuli, on = \"spelling\")\n",
    "\n",
    "# only keep relevant columns\n",
    "english = english[:, [\"spelling\", \"subtlex.frequency\", \"coltheart.N\", \"nletters\", \"rt\", \"morphology\"]]\n",
    "english = english[english.rt .!= \"NA\",:]\n",
    "english.frequency = english.\"subtlex.frequency\" .+ 1;"
   ]
  },
  {
   "cell_type": "markdown",
   "id": "c40fec00-dda3-493e-a7d7-66d95a26425c",
   "metadata": {},
   "source": [
    "Write out the data to provide the file that is used in the book."
   ]
  },
  {
   "cell_type": "code",
   "execution_count": null,
   "id": "c035b00f-232b-4ce4-ba7a-1f9572218a0e",
   "metadata": {},
   "outputs": [],
   "source": [
    "CSV.write(\"../dat/words_dualroutes.csv\", english)"
   ]
  },
  {
   "cell_type": "markdown",
   "id": "ffb6490e-8068-429d-92b1-2db88da08b5c",
   "metadata": {},
   "source": [
    "Download fasttext embeddings from [here](https://fasttext.cc/docs/en/crawl-vectors.html) (the `text` embeddings for English), unzip and store in `dat`. Then:"
   ]
  },
  {
   "cell_type": "code",
   "execution_count": null,
   "id": "50bd7b07-bc71-4a07-aa60-5199330803ef",
   "metadata": {
    "scrolled": true
   },
   "outputs": [],
   "source": [
    "english, S = JudiLing.load_S_matrix_from_fasttext_file(english, \"../dat/cc.en.300.vec\", target_col=:spelling);"
   ]
  },
  {
   "cell_type": "markdown",
   "id": "089b44f5-f4ef-4ee7-9465-20eaea754eb0",
   "metadata": {},
   "source": [
    "Create the cue object:"
   ]
  },
  {
   "cell_type": "code",
   "execution_count": null,
   "id": "984f7af4-beb3-4fb4-b8f8-162df7cf42ed",
   "metadata": {
    "scrolled": true
   },
   "outputs": [],
   "source": [
    "cue_obj = JudiLing.make_cue_matrix(english, grams=3, \n",
    "                                   target_col=:spelling, tokenized=false);"
   ]
  },
  {
   "cell_type": "markdown",
   "id": "26539d16-0c38-4cfc-b9db-ed21dfe674ba",
   "metadata": {},
   "source": [
    "Comprehension and production mapping:"
   ]
  },
  {
   "cell_type": "code",
   "execution_count": null,
   "id": "92492d7c-141c-42f1-88a5-673559de889b",
   "metadata": {
    "scrolled": true
   },
   "outputs": [],
   "source": [
    "F = JudiLing.make_transform_matrix(cue_obj.C, S, english.frequency);\n",
    "Shat = cue_obj.C * F;\n",
    "G = JudiLing.make_transform_matrix(S, cue_obj.C, english.frequency);   \n",
    "Chat = S * G;"
   ]
  },
  {
   "cell_type": "markdown",
   "id": "f1b90517-d957-4466-b0eb-610614cba81b",
   "metadata": {},
   "source": [
    "Generate measures:"
   ]
  },
  {
   "cell_type": "code",
   "execution_count": null,
   "id": "b8e55c5f-3b6c-4f1b-a08e-e72fc46b419b",
   "metadata": {},
   "outputs": [],
   "source": [
    "mes = JudiLingMeasures.compute_all_measures_train(english, \n",
    "       cue_obj, Chat, S, Shat, F, G, low_cost_measures_only=true);"
   ]
  },
  {
   "cell_type": "markdown",
   "id": "9664c98f-a9c2-4d74-85e4-f459eacc0add",
   "metadata": {},
   "source": [
    "We need the by-trigram semantic supports."
   ]
  },
  {
   "cell_type": "code",
   "execution_count": null,
   "id": "ccbbb732-5b8b-4050-acf4-f6f8e7aa4511",
   "metadata": {},
   "outputs": [],
   "source": [
    "tri_sup = JudiLingMeasures.semantic_support_for_form(cue_obj, Chat, sum_supports=false);"
   ]
  },
  {
   "cell_type": "code",
   "execution_count": null,
   "id": "737e8de4-53e3-4172-b6e1-69983c72ee4c",
   "metadata": {},
   "outputs": [],
   "source": [
    "@rput tri_sup;"
   ]
  },
  {
   "cell_type": "code",
   "execution_count": null,
   "id": "739dca97-ce3c-4e01-8736-f696835d386b",
   "metadata": {},
   "outputs": [],
   "source": [
    "R\"\"\"\n",
    "head(tri_sup)\n",
    "\"\"\""
   ]
  },
  {
   "cell_type": "code",
   "execution_count": null,
   "id": "23c1983f-9b5a-46c9-a7d4-df560f98476e",
   "metadata": {},
   "outputs": [],
   "source": [
    "@rput mes;"
   ]
  },
  {
   "cell_type": "code",
   "execution_count": null,
   "id": "d3157d42-924d-414d-8a24-4af2518db8d5",
   "metadata": {},
   "outputs": [],
   "source": [
    "R\"\"\"\n",
    "mes$LogSSF = log(unlist(mes$SemanticSupportForForm)+0.8)  # back-off from negative numbers and zero\n",
    "mes$LogL1Chat = log(mes$L1Chat)\n",
    "mes$logSubFreq = log(mes$subtlex.frequency+1)\n",
    "mes$RTinv = -1000/as.numeric(mes$rt)\n",
    "mes$origOrder = 1:nrow(mes)\n",
    "colnames(mes)\n",
    "\"\"\""
   ]
  },
  {
   "cell_type": "markdown",
   "id": "36aedea2-b13d-45b4-9429-a23bf238e031",
   "metadata": {},
   "source": [
    "## 1. Parallel dual routes?"
   ]
  },
  {
   "cell_type": "markdown",
   "id": "eab6a81c-8d8e-4d8e-abb0-3bad6b24cb95",
   "metadata": {},
   "source": [
    "Predicting RTinv (-1000/RT) using DLM measures, compared with classical measures:"
   ]
  },
  {
   "cell_type": "code",
   "execution_count": null,
   "id": "d2bc978c-ae8e-4217-b837-a6e1b30dc3b4",
   "metadata": {},
   "outputs": [],
   "source": [
    "R\"\"\"\n",
    "library(mgcv)\n",
    "mes.gam1 = bam(RTinv ~ s(logSubFreq) + s(nletters, k=4) + s(coltheart.N, k=4),\n",
    "               data=mes)\n",
    "mes.gam2 = bam(RTinv ~ s(TargetCorrelation) + s(nletters, k=4) + s(LogL1Chat),\n",
    "               data=mes)\n",
    "summary(mes.gam2)\n",
    "\"\"\""
   ]
  },
  {
   "cell_type": "code",
   "execution_count": null,
   "id": "ae9d27a7-d6a0-4284-8826-0866c4ed57f9",
   "metadata": {},
   "outputs": [],
   "source": [
    "R\"\"\"\n",
    "par(mfrow=c(1,3))\n",
    "for (i in 1:3) {\n",
    "   plot(mes.gam2, select=i, scheme=1, shade.col=\"steelblue2\")\n",
    "   abline(h=0, col=\"indianred\")\n",
    "}\n",
    "\"\"\""
   ]
  },
  {
   "cell_type": "markdown",
   "id": "e5a30dca-a065-419b-947a-896e46d19dfc",
   "metadata": {},
   "source": [
    "The model with log frequency is better (one would need the contextual indepedence measure and/or FIDLL to render log frequency superfluous):"
   ]
  },
  {
   "cell_type": "code",
   "execution_count": null,
   "id": "6a698c5f-1034-48e7-be72-93b28bbb396e",
   "metadata": {},
   "outputs": [],
   "source": [
    "R\"\"\"\n",
    "AIC(mes.gam1, mes.gam2)\n",
    "\"\"\""
   ]
  },
  {
   "cell_type": "markdown",
   "id": "655ce85d-9cb6-4bbd-b29a-f1ab96554f64",
   "metadata": {},
   "source": [
    "The mess of morphological types:"
   ]
  },
  {
   "cell_type": "code",
   "execution_count": null,
   "id": "440a4392-21fe-4449-9cd4-bb4c72862ae8",
   "metadata": {},
   "outputs": [],
   "source": [
    "R\"\"\"\n",
    "library(lattice)\n",
    "tab = table(mes$morphology)\n",
    "dotplot(sort(tab[tab>10]))\n",
    "\"\"\""
   ]
  },
  {
   "cell_type": "markdown",
   "id": "c6cab2ba-c7c5-4fb0-b10a-f89de1fd717e",
   "metadata": {},
   "source": [
    "We add in family frequency, family size, and stem frequency, for those words where there is a decent morphological structure (morphology=complex), and we exclude inflectional variants."
   ]
  },
  {
   "cell_type": "code",
   "execution_count": null,
   "id": "a660a387-1d6e-4a88-894e-373f5853623b",
   "metadata": {},
   "outputs": [],
   "source": [
    "R\"\"\"\n",
    "family_stats = read.csv(\"../dat/family_stats.csv\", header=TRUE)\n",
    "mes_fam = merge(mes, family_stats, by.x=\"spelling\", by.y=\"Word\")\n",
    "f = 1.646 # scaling factor for difference in corpus size\n",
    "mes_fam$logStemFreq = log((mes_fam$StemFreq*f)+1)\n",
    "mes_fam$MinTC = 1-mes_fam$TargetCorrelation\n",
    "\"\"\";"
   ]
  },
  {
   "cell_type": "code",
   "execution_count": null,
   "id": "f9bbeaa5-c768-4d7b-87cc-47bd13ff188c",
   "metadata": {},
   "outputs": [],
   "source": [
    "R\"\"\"\n",
    "dim(mes_fam)\n",
    "\"\"\""
   ]
  },
  {
   "cell_type": "markdown",
   "id": "953e4506-a536-4ca0-a068-20271bb4ec4c",
   "metadata": {},
   "source": [
    "GAMs comparing predicors' partial effects for RTinv and 1-TargetCorrelation."
   ]
  },
  {
   "cell_type": "code",
   "execution_count": null,
   "id": "8e1181e8-542d-459b-af6c-69ee0aa63c32",
   "metadata": {},
   "outputs": [],
   "source": [
    "R\"\"\"\n",
    "mes_fam.gam1 = gam(RTinv ~ s(logSubFreq) + s(nletters, k=4) + s(logStemFreq), \n",
    "                           data = mes_fam)\n",
    "mes_fam.gam2 = gam(MinTC ~ s(logSubFreq) + s(nletters, k=4) + s(logStemFreq), \n",
    "                           data = mes_fam)\n",
    "\"\"\";"
   ]
  },
  {
   "cell_type": "markdown",
   "id": "4e2ba306-2e38-4649-a955-1810764dc386",
   "metadata": {},
   "source": [
    "Visualization:"
   ]
  },
  {
   "cell_type": "code",
   "execution_count": null,
   "id": "104b7f8e-17ad-4fa8-af3e-c5a5af9ef764",
   "metadata": {},
   "outputs": [],
   "source": [
    "R\"\"\"\n",
    "par(mfrow=c(2,3))\n",
    "plot(mes_fam.gam1, select=1, scale=0,\n",
    "  scheme=1, shade.col=\"steelblue2\",\n",
    "  xlab=\"log word frequency\", ylab=\"partial effect RTinv\")\n",
    "abline(h=0, col=\"indianred\")\n",
    "plot(mes_fam.gam1, select=3, scale=0,\n",
    "  scheme=1, shade.col=\"steelblue2\",\n",
    "  xlab=\"log stem frequency\", ylab=\"partial effect RTinv\")\n",
    "abline(h=0, col=\"indianred\")\n",
    "plot(mes_fam.gam1, select=2, scale=0,\n",
    "  scheme=1, shade.col=\"steelblue2\",\n",
    "  xlab=\"length\", ylab=\"partial effect RTinv\")\n",
    "abline(h=0, col=\"indianred\")\n",
    "plot(mes_fam.gam2, select=1, scale=0,\n",
    "  scheme=1, shade.col=\"steelblue2\",\n",
    "  xlab=\"log word frequency\", ylab=\"partial effect 1-TargetCorrelation\")\n",
    "abline(h=0, col=\"indianred\")\n",
    "plot(mes_fam.gam2, select=3, scale=0,\n",
    "  scheme=1, shade.col=\"steelblue2\",\n",
    "  xlab=\"log stem frequency\", ylab=\"partial effect 1-TargetCorrelation\")\n",
    "abline(h=0, col=\"indianred\")\n",
    "plot(mes_fam.gam2, select=2, scale=0,\n",
    "  scheme=1, shade.col=\"steelblue2\",\n",
    "  xlab=\"length\", ylab=\"partial effect 1-TargetCorrelation\")\n",
    "abline(h=0, col=\"indianred\")\n",
    "\"\"\";"
   ]
  },
  {
   "cell_type": "markdown",
   "id": "4a2051b0-0ded-4693-91f6-9e634847f8d4",
   "metadata": {},
   "source": [
    "## 2. DLM correlates of word frequency and stem frequency"
   ]
  },
  {
   "cell_type": "markdown",
   "id": "4c12b4f6-8198-49da-9078-0df4e00d62c3",
   "metadata": {},
   "source": [
    "We add information about stem frequency for the complex words, resulting in a substantially reduced subset of words."
   ]
  },
  {
   "cell_type": "code",
   "execution_count": null,
   "id": "28952600-00bc-43b3-8974-ab901867fc80",
   "metadata": {},
   "outputs": [],
   "source": [
    "R\"\"\"\n",
    "family_stats = read.csv(\"../dat/family_stats.csv\", header=TRUE)\n",
    "mes_fam = merge(mes, family_stats, by.x=\"spelling\", by.y=\"Word\")\n",
    "f = 1.646 # scaling factor for difference in corpus sizes\n",
    "mes_fam$logStemFreq = log((mes_fam$StemFreq*f)+1)\n",
    "mes_fam$MinTC = 1-mes_fam$TargetCorrelation\n",
    "c(nrow(mes)-nrow(mes_fam), nrow(mes_fam))\n",
    "\"\"\""
   ]
  },
  {
   "cell_type": "markdown",
   "id": "6cc5b042-e3ef-48a2-b5c7-ef590bbba481",
   "metadata": {},
   "source": [
    "We are interested in how word frequency and stem frequency relate to Target Correlation and Semantic Support for Form, with word length as control."
   ]
  },
  {
   "cell_type": "code",
   "execution_count": null,
   "id": "a9e74fa2-d0e3-4b8e-b28f-46bc3d82035a",
   "metadata": {},
   "outputs": [],
   "source": [
    "R\"\"\"\n",
    "msf = gam(logSubFreq ~ s(TargetCorrelation) + s(LogSSF) + s(nletters), data = mes_fam)\n",
    "mbf = gam(logStemFreq ~ s(TargetCorrelation) + s(LogSSF) + s(nletters), data = mes_fam)\n",
    "\"\"\";"
   ]
  },
  {
   "cell_type": "code",
   "execution_count": null,
   "id": "5b2b1144-4cb0-4710-89e8-2cd5574c7f42",
   "metadata": {},
   "outputs": [],
   "source": [
    "R\"\"\"\n",
    "par(mfrow=c(2,2), oma=rep(0,4), mar=c(5,5,2,1))\n",
    "plot(msf, select=1, scheme=1, shade.col=\"steelblue2\", ylab=\"partial effect\", main=\"form frequency\") \n",
    "abline(h=0, col=\"indianred\")\n",
    "plot(msf, select=2, scheme=1, shade.col=\"steelblue2\", ylab=\"partial effect\", main=\"form frequency\") \n",
    "abline(h=0, col=\"indianred\")\n",
    "plot(mbf, select=1, scheme=1, shade.col=\"steelblue2\", ylab=\"partial effect\", main=\"stem frequency\") \n",
    "abline(h=0, col=\"indianred\")\n",
    "plot(mbf, select=2, scheme=1, shade.col=\"steelblue2\", ylab=\"partial effect\", main=\"stem frequency\") \n",
    "abline(h=0, col=\"indianred\")\n",
    "\"\"\";"
   ]
  },
  {
   "cell_type": "code",
   "execution_count": null,
   "id": "750fa4d2-91d5-4f6d-8b39-f3eec0b54c8f",
   "metadata": {},
   "outputs": [],
   "source": [
    "R\"\"\"\n",
    "pdf(\"../fig/frequencies_and_DLM_measures.pdf\", he=6, wi=6)\n",
    "par(mfrow=c(2,2), oma=rep(0,4), mar=c(5,5,2,1))\n",
    "plot(msf, select=1, scheme=1, shade.col=\"steelblue2\", ylab=\"partial effect\", main=\"form frequency\") \n",
    "abline(h=0, col=\"indianred\")\n",
    "plot(msf, select=2, scheme=1, shade.col=\"steelblue2\", ylab=\"partial effect\", main=\"form frequency\") \n",
    "abline(h=0, col=\"indianred\")\n",
    "plot(mbf, select=1, scheme=1, shade.col=\"steelblue2\", ylab=\"partial effect\", main=\"stem frequency\") \n",
    "abline(h=0, col=\"indianred\")\n",
    "plot(mbf, select=2, scheme=1, shade.col=\"steelblue2\", ylab=\"partial effect\", main=\"stem frequency\") \n",
    "abline(h=0, col=\"indianred\")\n",
    "dev.off()\n",
    "\"\"\";"
   ]
  },
  {
   "cell_type": "markdown",
   "id": "1499bdec-803b-4753-9c9b-1c84206e7b19",
   "metadata": {},
   "source": [
    "Effects in the neuroscience from the Marantz school that are traced to word frequency and stem frequency are likely confounded with Target Correlation and Semantic Support for Form. "
   ]
  },
  {
   "cell_type": "markdown",
   "id": "5e879c47-8e9c-4600-9aa9-06363413c92e",
   "metadata": {},
   "source": [
    "## 3. Reduced semantic support for syllable boundaries and morpheme boundaries"
   ]
  },
  {
   "cell_type": "markdown",
   "id": "e336ca44-b457-4e33-8690-a1b5e7610f64",
   "metadata": {},
   "source": [
    "For the majority of the words in `mes`, information on syllable and morpheme structure is available (taken or computed from the CELEX database):"
   ]
  },
  {
   "cell_type": "code",
   "execution_count": null,
   "id": "b171695d-16ba-4844-bdce-ba08ef806cb6",
   "metadata": {},
   "outputs": [],
   "source": [
    "R\"\"\"\n",
    "sy_mo_boundaries = read.csv(\"../dat/syllable_morpheme_boundaries.csv\",T)\n",
    "head(sy_mo_boundaries)\n",
    "\"\"\""
   ]
  },
  {
   "cell_type": "markdown",
   "id": "a5800e13-e32a-471b-a80f-0bbcc762d99a",
   "metadata": {},
   "source": [
    "We merge this information into `mes`:"
   ]
  },
  {
   "cell_type": "code",
   "execution_count": null,
   "id": "9d505a86-764a-4256-9a30-f14307858a37",
   "metadata": {},
   "outputs": [],
   "source": [
    "R\"\"\"\n",
    "mes2 = merge(mes, sy_mo_boundaries[,-1], by = \"spelling\")\n",
    "nrow(mes)-nrow(mes2)\n",
    "\"\"\""
   ]
  },
  {
   "cell_type": "code",
   "execution_count": null,
   "id": "cdca9b1c-f015-4247-8481-1e3752ffd85e",
   "metadata": {},
   "outputs": [],
   "source": [
    "R\"\"\"\n",
    "mes2 = mes2[order(mes2$origOrder),]\n",
    "head(mes2)\n",
    "\"\"\""
   ]
  },
  {
   "cell_type": "markdown",
   "id": "7b6464f8-5e3b-4675-ae4a-df37570f3cf8",
   "metadata": {},
   "source": [
    "We need an R function that generates trigrams."
   ]
  },
  {
   "cell_type": "code",
   "execution_count": null,
   "id": "86f36e17-3f25-44a2-9a5b-e6ba661fd137",
   "metadata": {},
   "outputs": [],
   "source": [
    "R\"\"\"\n",
    "ngram = function(s) {\n",
    "  s = paste0(\"#\", s, \"#\")\n",
    "  letter = unlist(strsplit(s, \"\"))\n",
    "  len = length(letter)\n",
    "  trigrams = NULL\n",
    "  for (i in 1:(len - 2)) {\n",
    "      trigrams = c(trigrams, paste(letter[i:(i + 2)], collapse = \"\"))\n",
    "  }\n",
    "  return(paste(trigrams, collapse = \"_\"))\n",
    "}\n",
    "\"\"\";"
   ]
  },
  {
   "cell_type": "code",
   "execution_count": null,
   "id": "c1237956-09d2-4946-b353-0f702f49464c",
   "metadata": {},
   "outputs": [],
   "source": [
    "R\"\"\"\n",
    "tri_sup2 = tri_sup[mes2$origOrder]\n",
    "head(tri_sup2)\n",
    "\"\"\""
   ]
  },
  {
   "cell_type": "markdown",
   "id": "d64c09fe-c57e-4194-8a4b-37cbaac2e147",
   "metadata": {},
   "source": [
    "### 3.1 morphological boundaries"
   ]
  },
  {
   "cell_type": "markdown",
   "id": "c483330a-5c89-47b0-aee8-9cc7d2d3c1e7",
   "metadata": {},
   "source": [
    "We now extract the semantic support for all trigrams that span a morphological boundary, and also for all trigrams that do not do so."
   ]
  },
  {
   "cell_type": "code",
   "execution_count": null,
   "id": "eb2b0a5a-7ed0-4e6b-b3c2-b39d92b51360",
   "metadata": {},
   "outputs": [],
   "source": [
    "R\"\"\"\n",
    "without_boundary_list = list()\n",
    "with_boundary_list = list()\n",
    "\n",
    "for (i in 1:nrow(mes2)) {\n",
    "  trigrams1 = strsplit(ngram(mes2$spelling[i]), \"_\")[[1]]\n",
    "  trigrams2 = strsplit(ngram(mes2$Morph[i]), \"_\")[[1]]\n",
    "  without_boundary = which(trigrams1 %in% trigrams2)\n",
    "  with_boundary = which(!is.element(trigrams1, trigrams2))\n",
    "  without_boundary_list[[i]] = tri_sup2[[i]][without_boundary]\n",
    "  with_boundary_list[[i]] = tri_sup2[[i]][with_boundary]\n",
    "}\n",
    "\n",
    "v_without_boundary = unlist(without_boundary_list)\n",
    "v_with_boundary = unlist(with_boundary_list)\n",
    "\"\"\";"
   ]
  },
  {
   "cell_type": "code",
   "execution_count": null,
   "id": "dfcf8ed3-0212-4907-ae67-36220e805ab8",
   "metadata": {},
   "outputs": [],
   "source": [
    "R\"\"\"\n",
    "boxplot(v_without_boundary, v_with_boundary, horizontal=TRUE, names=c(\"without\", \"with\"), \n",
    "        xlab=\"semantic support\", col=\"steelblue2\", cex.lab=1.5,\n",
    "        ylab=\"morphological boundary\")\n",
    "\"\"\";"
   ]
  },
  {
   "cell_type": "code",
   "execution_count": null,
   "id": "2b9637cc",
   "metadata": {},
   "outputs": [],
   "source": [
    "R\"\"\"\n",
    "pdf(\"../fig/boxplotMorphBoundary.pdf\", he=4, wi=12)\n",
    "boxplot(v_without_boundary, v_with_boundary, horizontal=TRUE, names=c(\"without\", \"with\"), \n",
    "        xlab=\"semantic support\", col=\"steelblue2\", cex.lab=1.5,\n",
    "        ylab=\"morphological boundary\")\n",
    "dev.off()\n",
    "\"\"\";"
   ]
  },
  {
   "cell_type": "code",
   "execution_count": null,
   "id": "d6d7de6e-3c84-4a48-b5e9-3a324708823b",
   "metadata": {},
   "outputs": [],
   "source": [
    "R\"\"\"\n",
    "wilcox.test(v_without_boundary, v_with_boundary)\n",
    "\"\"\""
   ]
  },
  {
   "cell_type": "code",
   "execution_count": null,
   "id": "e3661e23-8a2c-404e-9a80-c7507fb17e8a",
   "metadata": {},
   "outputs": [],
   "source": [
    "R\"\"\"\n",
    "c(mean(v_without_boundary), mean(v_with_boundary))\n",
    "\"\"\""
   ]
  },
  {
   "cell_type": "markdown",
   "id": "1f0bd877-064d-48e6-8cd5-e6b7e6647706",
   "metadata": {},
   "source": [
    "Trigrams that do not straddle a morphological boundary receive more semantic support."
   ]
  },
  {
   "cell_type": "markdown",
   "id": "17785d76-5dfd-4269-83e1-7a6cf5b96e58",
   "metadata": {},
   "source": [
    "### 3.2 Syllable boundaries"
   ]
  },
  {
   "cell_type": "code",
   "execution_count": null,
   "id": "06a5517d-34ef-4658-a2a1-936b19ecb338",
   "metadata": {},
   "outputs": [],
   "source": [
    "R\"\"\"\n",
    "without_boundary_list = list()\n",
    "with_boundary_list = list()\n",
    "\n",
    "for (i in 1:nrow(mes2)) {\n",
    "  trigrams1 = strsplit(ngram(mes2$spelling[i]), \"_\")[[1]]\n",
    "  trigrams2 = strsplit(ngram(mes2$syll[i]), \"_\")[[1]]\n",
    "  without_boundary = which(trigrams1 %in% trigrams2)\n",
    "  with_boundary = which(!is.element(trigrams1, trigrams2))\n",
    "  without_boundary_list[[i]] = tri_sup2[[i]][without_boundary]\n",
    "  with_boundary_list[[i]] = tri_sup2[[i]][with_boundary]\n",
    "}\n",
    "\n",
    "v_without_boundary = unlist(without_boundary_list)\n",
    "v_with_boundary = unlist(with_boundary_list)\n",
    "\"\"\";"
   ]
  },
  {
   "cell_type": "code",
   "execution_count": null,
   "id": "884e9f7c-730f-4d8e-a324-c1829923dd42",
   "metadata": {},
   "outputs": [],
   "source": [
    "R\"\"\"\n",
    "boxplot(v_without_boundary, v_with_boundary, horizontal=TRUE, names=c(\"without\", \"with\"), \n",
    "        xlab=\"semantic support\", col=\"steelblue2\", cex.lab=1.5,\n",
    "        ylab=\"syllable boundary\")\n",
    "\"\"\";"
   ]
  },
  {
   "cell_type": "code",
   "execution_count": null,
   "id": "9d359965-3611-49f1-ac71-a38bc84eb6ad",
   "metadata": {},
   "outputs": [],
   "source": [
    "R\"\"\"\n",
    "pdf(\"../fig/boxplotSyllBoundary.pdf\", he=4, wi=12)\n",
    "boxplot(v_without_boundary, v_with_boundary, horizontal=TRUE, names=c(\"without\", \"with\"), \n",
    "        xlab=\"semantic support\", col=\"steelblue2\", cex.lab=1.5,\n",
    "        ylab=\"syllable boundary\")\n",
    "dev.off()\n",
    "\"\"\";"
   ]
  },
  {
   "cell_type": "code",
   "execution_count": null,
   "id": "5e057875-4b27-4a9b-b4d1-d7a582b1f219",
   "metadata": {},
   "outputs": [],
   "source": [
    "R\"\"\"\n",
    "wilcox.test(v_without_boundary, v_with_boundary)\n",
    "\"\"\""
   ]
  },
  {
   "cell_type": "code",
   "execution_count": null,
   "id": "9a91a078-2d3e-40c5-9e28-0a9bce74928d",
   "metadata": {},
   "outputs": [],
   "source": [
    "R\"\"\"\n",
    "c(mean(v_without_boundary), mean(v_with_boundary))\n",
    "\"\"\""
   ]
  },
  {
   "cell_type": "markdown",
   "id": "08d966a8-da8d-4646-93ba-c6bc42615072",
   "metadata": {},
   "source": [
    "Trigrams that do not straddle a syllable boundary receive more semantic support."
   ]
  },
  {
   "cell_type": "markdown",
   "id": "38f0e92d-0d58-48dd-8d00-74500dd2c751",
   "metadata": {},
   "source": [
    "# Exercises"
   ]
  },
  {
   "cell_type": "code",
   "execution_count": null,
   "id": "1eb7d9b4-f4bb-429e-ba4e-4f935686067c",
   "metadata": {},
   "outputs": [],
   "source": [
    "R\"\"\"\n",
    "mes_fam$rank = unlist(mes_fam$rank)\n",
    "mes_fam.gam3 = gam(rank ~ s(logSubFreq) + s(nletters, k=4) + s(logStemFreq), \n",
    "                   data = mes_fam)\n",
    "par(mfrow=c(1,3))\n",
    "plot(mes_fam.gam3, select=1, scheme=1, shade.col=\"steelblue2\"); abline(h=0)\n",
    "plot(mes_fam.gam3, select=3, scheme=1, shade.col=\"steelblue2\"); abline(h=0)\n",
    "plot(mes_fam.gam3, select=2, scheme=1, shade.col=\"steelblue2\"); abline(h=0)\n",
    "\"\"\";"
   ]
  },
  {
   "cell_type": "markdown",
   "id": "9d580a15-253a-401e-ae74-23ac8557e3bd",
   "metadata": {},
   "source": [
    "The functional shapes of the frequency effects are more similar for rank and RT than for MinTC and RT, but the effect of length basically disappears. Why this happens is unclear to us."
   ]
  },
  {
   "cell_type": "code",
   "execution_count": null,
   "id": "3c32db93-3614-4339-af77-d24c63f05958",
   "metadata": {},
   "outputs": [],
   "source": []
  },
  {
   "cell_type": "code",
   "execution_count": null,
   "id": "e4f1825d-9a7a-4170-aa3c-4382d174eeef",
   "metadata": {},
   "outputs": [],
   "source": []
  },
  {
   "cell_type": "code",
   "execution_count": null,
   "id": "a4ea706a-8d8d-4968-bee4-06f51eb2a5c9",
   "metadata": {},
   "outputs": [],
   "source": []
  }
 ],
 "metadata": {
  "kernelspec": {
   "display_name": "Julia 1.11.2",
   "language": "julia",
   "name": "julia-1.11"
  },
  "language_info": {
   "file_extension": ".jl",
   "mimetype": "application/julia",
   "name": "julia",
   "version": "1.11.2"
  }
 },
 "nbformat": 4,
 "nbformat_minor": 5
}
