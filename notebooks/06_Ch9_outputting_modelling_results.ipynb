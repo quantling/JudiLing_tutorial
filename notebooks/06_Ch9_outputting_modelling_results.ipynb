{
 "cells": [
  {
   "cell_type": "markdown",
   "id": "7bd7bc41",
   "metadata": {},
   "source": [
    "# Chapter 9: Outputting modelling results"
   ]
  },
  {
   "cell_type": "markdown",
   "id": "cb47600c",
   "metadata": {},
   "source": [
    "## Preparations"
   ]
  },
  {
   "cell_type": "markdown",
   "id": "50c973cf",
   "metadata": {},
   "source": [
    "Load necessary packages."
   ]
  },
  {
   "cell_type": "code",
   "execution_count": null,
   "id": "a4cd4432",
   "metadata": {},
   "outputs": [],
   "source": [
    "using DataFrames, JudiLing"
   ]
  },
  {
   "cell_type": "markdown",
   "id": "97e63817",
   "metadata": {},
   "source": [
    "Load the Dutch dataset we will be working with."
   ]
  },
  {
   "cell_type": "code",
   "execution_count": null,
   "id": "4d954302",
   "metadata": {
    "scrolled": true
   },
   "outputs": [],
   "source": [
    "dutch = JudiLing.load_dataset(\"../dat/dutch.csv\");"
   ]
  },
  {
   "cell_type": "markdown",
   "id": "c9cc2075",
   "metadata": {},
   "source": [
    "Create `cue_obj` and `S` matrix (see tutorials on form and meaning representations):"
   ]
  },
  {
   "cell_type": "code",
   "execution_count": null,
   "id": "5d741e0b",
   "metadata": {},
   "outputs": [],
   "source": [
    "cue_obj = JudiLing.make_cue_matrix(dutch,\n",
    "                                   grams=3,\n",
    "                                   target_col=\"Ortho\");"
   ]
  },
  {
   "cell_type": "code",
   "execution_count": null,
   "id": "1e0cae31",
   "metadata": {},
   "outputs": [],
   "source": [
    "S, words = JudiLing.load_S_matrix(\"../dat/dutch_w2v.csv\"; header = false, sep = \",\");"
   ]
  },
  {
   "cell_type": "markdown",
   "id": "342419b5",
   "metadata": {},
   "source": [
    "## Comprehension results"
   ]
  },
  {
   "cell_type": "markdown",
   "id": "a2d36840",
   "metadata": {},
   "source": [
    "Compute comprehension mapping and predicted semantic matrix (see tutorial on comprehension and production):"
   ]
  },
  {
   "cell_type": "code",
   "execution_count": null,
   "id": "1e7b0072",
   "metadata": {},
   "outputs": [],
   "source": [
    "F = JudiLing.make_transform_matrix(cue_obj.C, S);\n",
    "Shat = cue_obj.C * F;"
   ]
  },
  {
   "cell_type": "markdown",
   "id": "e94e57a1",
   "metadata": {},
   "source": [
    "Now we use the `write_comprehension_eval` function to save the results of our comprehension mapping to a comma-separated file. As can be seen in the following, the function requires the predicted semantic matrix `Shat`, the original semantic matrix `S`, the dataset `dutch`, the column with the target forms `:Ortho` and finally a path to the filename where we want to save the results. In this case, we save it in the `res` directory under the name `comp.csv`."
   ]
  },
  {
   "cell_type": "code",
   "execution_count": null,
   "id": "43d55520",
   "metadata": {},
   "outputs": [],
   "source": [
    "JudiLing.write_comprehension_eval(Shat, S, dutch, :Ortho, \"../res/comp.csv\")"
   ]
  },
  {
   "cell_type": "markdown",
   "id": "18d61675",
   "metadata": {},
   "source": [
    "Now, we can examine the results by first loading the dataframe have just save as a `.csv` file:"
   ]
  },
  {
   "cell_type": "code",
   "execution_count": null,
   "id": "8cbde3fd",
   "metadata": {},
   "outputs": [],
   "source": [
    "comp = JudiLing.load_dataset(\"../res/comp.csv\");"
   ]
  },
  {
   "cell_type": "code",
   "execution_count": null,
   "id": "3a3d5c37",
   "metadata": {
    "scrolled": true
   },
   "outputs": [],
   "source": [
    "first(comp[:,2:5], 3)"
   ]
  },
  {
   "cell_type": "markdown",
   "id": "2d7a02f7",
   "metadata": {},
   "source": [
    "## Production results"
   ]
  },
  {
   "cell_type": "markdown",
   "id": "eb03edaa",
   "metadata": {},
   "source": [
    "Compute production matrix and predicted form matrix (see tutorial on comprehension and production):"
   ]
  },
  {
   "cell_type": "code",
   "execution_count": null,
   "id": "705b67ce",
   "metadata": {},
   "outputs": [],
   "source": [
    "G = JudiLing.make_transform_matrix(S, cue_obj.C);\n",
    "Chat = S * G;"
   ]
  },
  {
   "cell_type": "markdown",
   "id": "ad00b2e0",
   "metadata": {},
   "source": [
    "Now produce forms (see tutorial on producing forms):"
   ]
  },
  {
   "cell_type": "code",
   "execution_count": null,
   "id": "b069e7f8",
   "metadata": {
    "scrolled": true
   },
   "outputs": [],
   "source": [
    "prod_res = JudiLing.learn_paths(dutch, cue_obj, S, F, Chat,\n",
    "                                threshold = 0.01);"
   ]
  },
  {
   "cell_type": "markdown",
   "id": "a282605e",
   "metadata": {},
   "source": [
    "...and evaluate:"
   ]
  },
  {
   "cell_type": "code",
   "execution_count": null,
   "id": "d01d86f4",
   "metadata": {},
   "outputs": [],
   "source": [
    "JudiLing.eval_acc(prod_res, cue_obj)"
   ]
  },
  {
   "cell_type": "markdown",
   "id": "9463cfbc",
   "metadata": {},
   "source": [
    "We can again save the results to a `.csv` file. The `write2csv` function requires the output of `learn_paths`, `prod_res`, the dataset `dutch`, the `cue_obj` for the training and validation data (both are the same in the present case, see tutorial on cross validation for more information), the path to where the `.csv` file should be stored, and finally the column with the word forms in the dataset."
   ]
  },
  {
   "cell_type": "code",
   "execution_count": null,
   "id": "e7bf3691",
   "metadata": {},
   "outputs": [],
   "source": [
    "JudiLing.write2csv(prod_res, dutch, cue_obj, cue_obj,\n",
    "                   \"../res/prod.csv\", target_col=:Ortho)"
   ]
  },
  {
   "cell_type": "markdown",
   "id": "f0d7a457",
   "metadata": {},
   "source": [
    "We can again load the dataframe and inspect it."
   ]
  },
  {
   "cell_type": "code",
   "execution_count": null,
   "id": "c1963bfd",
   "metadata": {},
   "outputs": [],
   "source": [
    "prod_df = JudiLing.load_dataset(\"../res/prod.csv\");"
   ]
  },
  {
   "cell_type": "code",
   "execution_count": null,
   "id": "55d7b6ef",
   "metadata": {},
   "outputs": [],
   "source": [
    "first(prod_df[:,[2,4,6,7,8,9]],3)"
   ]
  },
  {
   "cell_type": "markdown",
   "id": "baa301b8-114f-400e-9e68-061400f1a07c",
   "metadata": {},
   "source": [
    "## Exercises"
   ]
  },
  {
   "cell_type": "markdown",
   "id": "6623c08b",
   "metadata": {},
   "source": [
    "### Exercise 1"
   ]
  },
  {
   "cell_type": "code",
   "execution_count": null,
   "id": "8806bbb3-b5ee-4f7b-a5ad-ff26917c8b38",
   "metadata": {
    "scrolled": true
   },
   "outputs": [],
   "source": [
    "latin = JudiLing.load_dataset(\"../dat/latin.csv\")\n",
    "\n",
    "cue_obj = JudiLing.make_cue_matrix(latin, grams=3, target_col=:Word);\n",
    "\n",
    "S = JudiLing.make_S_matrix(\n",
    "    latin,\n",
    "    [\"Lexeme\"],\n",
    "    [\"Person\", \"Number\", \"Tense\", \"Voice\", \"Mood\"],\n",
    "    ncol=300)\n",
    "JudiLing.display_matrix(latin, :Word, cue_obj, S, :S)\n",
    "\n",
    "F = JudiLing.make_transform_matrix(cue_obj.C, S)\n",
    "G = JudiLing.make_transform_matrix(S, cue_obj.C);\n",
    "\n",
    "Shat = cue_obj.C * F\n",
    "Chat = S * G"
   ]
  },
  {
   "cell_type": "markdown",
   "id": "f79e04c1-284e-4e05-9b1d-91b54c832f1d",
   "metadata": {},
   "source": [
    "### Exercise 2\n",
    "\n",
    "Writing comprehension results to a file."
   ]
  },
  {
   "cell_type": "code",
   "execution_count": null,
   "id": "a4334cea-b146-4592-b981-f334a110040d",
   "metadata": {},
   "outputs": [],
   "source": [
    "JudiLing.write_comprehension_eval(Shat, S, latin, :Word, \"../res/comp_latin.csv\")"
   ]
  },
  {
   "cell_type": "markdown",
   "id": "e741c6bb-4ba0-4c60-bbfd-89e622b7f280",
   "metadata": {},
   "source": [
    "Load file back into Julia"
   ]
  },
  {
   "cell_type": "code",
   "execution_count": null,
   "id": "da936b9a-c1a4-43f1-9651-48eef03a3d23",
   "metadata": {
    "scrolled": true
   },
   "outputs": [],
   "source": [
    "comp_latin = JudiLing.load_dataset(\"../res/comp_latin.csv\")"
   ]
  },
  {
   "cell_type": "markdown",
   "id": "6fb25bbe-85cf-4bd8-9985-a205882d9c27",
   "metadata": {},
   "source": [
    "Which word has the highest support?"
   ]
  },
  {
   "cell_type": "code",
   "execution_count": null,
   "id": "215fc38e-e06c-4b18-864a-d25d6ae4cd88",
   "metadata": {},
   "outputs": [],
   "source": [
    "argmax(comp_latin.support)"
   ]
  },
  {
   "cell_type": "code",
   "execution_count": null,
   "id": "bccaa2f6-4585-45b8-b184-177b5ae319c2",
   "metadata": {
    "scrolled": true
   },
   "outputs": [],
   "source": [
    "comp_latin[61,:]"
   ]
  },
  {
   "cell_type": "markdown",
   "id": "9d4bd009-b2c1-4a03-a0d2-b9af346915d7",
   "metadata": {},
   "source": [
    "### Exercise 3"
   ]
  },
  {
   "cell_type": "code",
   "execution_count": null,
   "id": "57736d8c-946e-4853-a145-48e52522f857",
   "metadata": {
    "scrolled": true
   },
   "outputs": [],
   "source": [
    "prod_res = JudiLing.learn_paths(latin, cue_obj, S, F, Chat,\n",
    "                                threshold = 0.1);"
   ]
  },
  {
   "cell_type": "markdown",
   "id": "a3bcb6d9",
   "metadata": {},
   "source": [
    "Write production evaluation results to a file:"
   ]
  },
  {
   "cell_type": "code",
   "execution_count": null,
   "id": "67c58426-a8f9-4e9a-a653-1cdb22787d7e",
   "metadata": {},
   "outputs": [],
   "source": [
    "JudiLing.write2csv(prod_res, latin, cue_obj, cue_obj,\n",
    "                   \"../res/prod_latin.csv\", target_col=:Word)"
   ]
  },
  {
   "cell_type": "markdown",
   "id": "cb09b10c-4a34-4b8a-a20f-87207c10d319",
   "metadata": {},
   "source": [
    "Load back into Julia"
   ]
  },
  {
   "cell_type": "code",
   "execution_count": null,
   "id": "db289b69-bda7-46e9-8384-44b704f33375",
   "metadata": {
    "scrolled": true
   },
   "outputs": [],
   "source": [
    "prod_latin = JudiLing.load_dataset(\"../res/prod_latin.csv\")"
   ]
  },
  {
   "cell_type": "code",
   "execution_count": null,
   "id": "3ffa4693-2c00-4bff-b9ac-dfda86e646c8",
   "metadata": {
    "scrolled": true
   },
   "outputs": [],
   "source": [
    "# alternatively directly generate this dataframe with write2df:\n",
    "prod_latin = JudiLing.write2df(prod_res, latin, cue_obj, cue_obj, target_col=:Word)"
   ]
  },
  {
   "cell_type": "markdown",
   "id": "05928b19-087f-467b-a490-847cff1f5783",
   "metadata": {},
   "source": [
    "For which words was no form produced at all?"
   ]
  },
  {
   "cell_type": "code",
   "execution_count": null,
   "id": "77339e80-6a8d-4f60-809b-fc08165fd6c0",
   "metadata": {
    "scrolled": true
   },
   "outputs": [],
   "source": [
    "prod_latin[ismissing.(prod_latin.pred),:]"
   ]
  },
  {
   "cell_type": "code",
   "execution_count": null,
   "id": "a7065a66",
   "metadata": {},
   "outputs": [],
   "source": []
  }
 ],
 "metadata": {
  "kernelspec": {
   "display_name": "Julia 1.11.2",
   "language": "julia",
   "name": "julia-1.11"
  },
  "language_info": {
   "file_extension": ".jl",
   "mimetype": "application/julia",
   "name": "julia",
   "version": "1.11.2"
  },
  "toc": {
   "base_numbering": 1,
   "nav_menu": {},
   "number_sections": true,
   "sideBar": true,
   "skip_h1_title": false,
   "title_cell": "Table of Contents",
   "title_sidebar": "Contents",
   "toc_cell": false,
   "toc_position": {},
   "toc_section_display": true,
   "toc_window_display": false
  }
 },
 "nbformat": 4,
 "nbformat_minor": 5
}
