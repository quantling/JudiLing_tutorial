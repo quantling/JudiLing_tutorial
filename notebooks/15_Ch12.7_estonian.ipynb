{
 "cells": [
  {
   "cell_type": "markdown",
   "id": "145325ed",
   "metadata": {},
   "source": [
    "# Chapter 12.7: Estonian nouns\n",
    "\n",
    "## Preparation\n",
    "\n",
    "### Exercise 1"
   ]
  },
  {
   "cell_type": "code",
   "execution_count": null,
   "id": "17e336cd",
   "metadata": {},
   "outputs": [],
   "source": [
    "using JudiLing, DataFrames"
   ]
  },
  {
   "cell_type": "markdown",
   "id": "14e86aa9",
   "metadata": {},
   "source": [
    "Load the estonian dataset from the `dat` directory."
   ]
  },
  {
   "cell_type": "code",
   "execution_count": null,
   "id": "6a76c92c",
   "metadata": {},
   "outputs": [],
   "source": [
    "estonian = JudiLing.load_dataset(\"../dat/estonian.csv\")\n",
    "first(estonian, 5)"
   ]
  },
  {
   "cell_type": "code",
   "execution_count": null,
   "id": "a6ea60b8",
   "metadata": {},
   "outputs": [],
   "source": [
    "size(estonian)"
   ]
  },
  {
   "cell_type": "code",
   "execution_count": null,
   "id": "d61d5e0e",
   "metadata": {},
   "outputs": [],
   "source": [
    "names(estonian)"
   ]
  },
  {
   "cell_type": "markdown",
   "id": "6efb6f86",
   "metadata": {},
   "source": [
    "### Exercise 2\n",
    "\n",
    "Load word embeddings directly from fasttext. If downloading the vectors first time, you will need to agree to the download under the provided license. For this, enter `y` in the `stdin` input field and press enter.\n",
    "\n",
    "The function directly creates a subset of the provided dataframe which only contains word forms which can be found in the word embeddings. This means that this new dataset will most likely be smaller than the original one."
   ]
  },
  {
   "cell_type": "code",
   "execution_count": null,
   "id": "ff6efcde",
   "metadata": {
    "scrolled": true
   },
   "outputs": [],
   "source": [
    "estonian, S = JudiLing.load_S_matrix_from_fasttext(estonian, :et, target_col=:Word)"
   ]
  },
  {
   "cell_type": "code",
   "execution_count": null,
   "id": "8269a704",
   "metadata": {
    "scrolled": true
   },
   "outputs": [],
   "source": [
    "size(estonian)"
   ]
  },
  {
   "cell_type": "markdown",
   "id": "bb0a2fa9",
   "metadata": {},
   "source": [
    "About 2000 words were excluded"
   ]
  },
  {
   "cell_type": "markdown",
   "id": "595a8bff",
   "metadata": {},
   "source": [
    "## Analysis 1: Learnability of full system"
   ]
  },
  {
   "cell_type": "markdown",
   "id": "f0486d8b",
   "metadata": {},
   "source": [
    "### Exercise 3\n",
    "\n",
    "Create a cue object using trigrams."
   ]
  },
  {
   "cell_type": "code",
   "execution_count": null,
   "id": "563d0aa6",
   "metadata": {},
   "outputs": [],
   "source": [
    "cue_obj = JudiLing.make_cue_matrix(estonian, grams=3, target_col=\"Word\")"
   ]
  },
  {
   "cell_type": "markdown",
   "id": "31288ca7",
   "metadata": {},
   "source": [
    "### Exercise 4\n",
    "\n",
    "Compute the $\\mathbf{F}$ and $\\mathbf{G}$ matrices."
   ]
  },
  {
   "cell_type": "code",
   "execution_count": null,
   "id": "5e5b3d4f",
   "metadata": {
    "scrolled": true
   },
   "outputs": [],
   "source": [
    "F = JudiLing.make_transform_matrix(cue_obj.C, S)\n",
    "G = JudiLing.make_transform_matrix(S, cue_obj.C)"
   ]
  },
  {
   "cell_type": "markdown",
   "id": "fa12c41f",
   "metadata": {},
   "source": [
    "... and the $\\hat{\\mathbf{S}}$ and $\\hat{\\mathbf{C}}$ matrices..."
   ]
  },
  {
   "cell_type": "code",
   "execution_count": null,
   "id": "f44256e6",
   "metadata": {
    "scrolled": true
   },
   "outputs": [],
   "source": [
    "Shat = cue_obj.C * F\n",
    "Chat = S * G"
   ]
  },
  {
   "cell_type": "markdown",
   "id": "99f6bbd4",
   "metadata": {},
   "source": [
    "### Exercise 5\n",
    "\n",
    "Evaluate comprehension accuracy."
   ]
  },
  {
   "cell_type": "code",
   "execution_count": null,
   "id": "2ef9d96a",
   "metadata": {},
   "outputs": [],
   "source": [
    "JudiLing.eval_SC(Shat, S, estonian, \"Word\")"
   ]
  },
  {
   "cell_type": "markdown",
   "id": "b4f11f9b",
   "metadata": {},
   "source": [
    "### Exercise 6\n",
    "\n",
    "Apply the production algorithm with threshold 0.01:"
   ]
  },
  {
   "cell_type": "code",
   "execution_count": null,
   "id": "fcbf0bf1",
   "metadata": {
    "scrolled": true
   },
   "outputs": [],
   "source": [
    "res_learn = JudiLing.learn_paths(estonian, cue_obj, S, F, Chat, threshold=0.01)"
   ]
  },
  {
   "cell_type": "markdown",
   "id": "66befe74",
   "metadata": {},
   "source": [
    "... and evaluate"
   ]
  },
  {
   "cell_type": "code",
   "execution_count": null,
   "id": "dddd80ee",
   "metadata": {},
   "outputs": [],
   "source": [
    "JudiLing.eval_acc(res_learn, cue_obj)"
   ]
  },
  {
   "cell_type": "markdown",
   "id": "ce9d68b1",
   "metadata": {},
   "source": [
    "## Analysis 2: Performance on unseen words"
   ]
  },
  {
   "cell_type": "markdown",
   "id": "e72986b1",
   "metadata": {},
   "source": [
    "### Exercise 7\n",
    "\n",
    "First, split the dataset into training and test set. The training set contains all word forms which are in the corpus, and the test set all forms which are not."
   ]
  },
  {
   "cell_type": "code",
   "execution_count": null,
   "id": "c4d85191",
   "metadata": {
    "scrolled": true
   },
   "outputs": [],
   "source": [
    "estonian_train = estonian[estonian.inCorpus .== true,:]\n",
    "estonian_test = estonian[estonian.inCorpus .== false,:]"
   ]
  },
  {
   "cell_type": "code",
   "execution_count": null,
   "id": "7c817a26",
   "metadata": {
    "scrolled": true
   },
   "outputs": [],
   "source": [
    "size(estonian_test)"
   ]
  },
  {
   "cell_type": "markdown",
   "id": "63bdaaa5",
   "metadata": {},
   "source": [
    "Create cue objects for both sets using the `make_combined_cue_matrix` function:"
   ]
  },
  {
   "cell_type": "code",
   "execution_count": null,
   "id": "628309b8",
   "metadata": {
    "scrolled": true
   },
   "outputs": [],
   "source": [
    "cue_obj_train, cue_obj_test = JudiLing.make_combined_cue_matrix(estonian_train, estonian_test, grams=3, target_col=\"Word\")"
   ]
  },
  {
   "cell_type": "markdown",
   "id": "9ae17849",
   "metadata": {},
   "source": [
    "Subset the S matrix for the training and test set:"
   ]
  },
  {
   "cell_type": "code",
   "execution_count": null,
   "id": "3ade5d8f",
   "metadata": {
    "scrolled": true
   },
   "outputs": [],
   "source": [
    "S_train = S[estonian.inCorpus .== true,:]\n",
    "S_test = S[estonian.inCorpus .== false,:]"
   ]
  },
  {
   "cell_type": "markdown",
   "id": "7d055624",
   "metadata": {},
   "source": [
    "Compute the $\\mathbf{F}$ and $\\mathbf{G}$ matrices."
   ]
  },
  {
   "cell_type": "code",
   "execution_count": null,
   "id": "bd0376e3",
   "metadata": {
    "scrolled": true
   },
   "outputs": [],
   "source": [
    "F_train = JudiLing.make_transform_matrix(cue_obj_train.C, S_train)\n",
    "G_train = JudiLing.make_transform_matrix(S_train, cue_obj_train.C)"
   ]
  },
  {
   "cell_type": "markdown",
   "id": "ce9a7b72",
   "metadata": {},
   "source": [
    "... and the $\\hat{\\mathbf{S}}$ and $\\hat{\\mathbf{C}}$ matrices for the training set..."
   ]
  },
  {
   "cell_type": "code",
   "execution_count": null,
   "id": "b40daddd",
   "metadata": {
    "scrolled": true
   },
   "outputs": [],
   "source": [
    "Shat_train = cue_obj_train.C * F_train\n",
    "Chat_train = S_train * G_train"
   ]
  },
  {
   "cell_type": "markdown",
   "id": "16a96ab6",
   "metadata": {},
   "source": [
    "Evaluate comprehension accuracy on the training data"
   ]
  },
  {
   "cell_type": "code",
   "execution_count": null,
   "id": "e6ae6997",
   "metadata": {},
   "outputs": [],
   "source": [
    "JudiLing.eval_SC(Shat, S)"
   ]
  },
  {
   "cell_type": "markdown",
   "id": "2a607bf0",
   "metadata": {},
   "source": [
    "Apply the production algorithm to the training data..."
   ]
  },
  {
   "cell_type": "code",
   "execution_count": null,
   "id": "cc847d07",
   "metadata": {
    "scrolled": true
   },
   "outputs": [],
   "source": [
    "res_learn_train = JudiLing.learn_paths(estonian_train, \n",
    "                                        cue_obj_train, S_train, F_train, Chat_train, threshold=0.01)"
   ]
  },
  {
   "cell_type": "markdown",
   "id": "d8779a1e",
   "metadata": {},
   "source": [
    "...and compute the accuracy:"
   ]
  },
  {
   "cell_type": "code",
   "execution_count": null,
   "id": "0beac257",
   "metadata": {},
   "outputs": [],
   "source": [
    "JudiLing.eval_acc(res_learn_train, cue_obj_train)"
   ]
  },
  {
   "cell_type": "markdown",
   "id": "a5984e5d",
   "metadata": {},
   "source": [
    "Now moving to the unseen data, calculate the $\\hat{\\mathbf{S}}$ and $\\hat{\\mathbf{C}}$ matrices for the test set"
   ]
  },
  {
   "cell_type": "code",
   "execution_count": null,
   "id": "1ddc2c0a",
   "metadata": {
    "scrolled": true
   },
   "outputs": [],
   "source": [
    "Shat_test = cue_obj_test.C * F_train\n",
    "Chat_test = S_test * G_train"
   ]
  },
  {
   "cell_type": "markdown",
   "id": "05d61c65",
   "metadata": {},
   "source": [
    "and evaluate without taking into account the training data..."
   ]
  },
  {
   "cell_type": "code",
   "execution_count": null,
   "id": "cdb5987e",
   "metadata": {},
   "outputs": [],
   "source": [
    "JudiLing.eval_SC(Shat_test, S_test)"
   ]
  },
  {
   "cell_type": "markdown",
   "id": "45dc0c7f",
   "metadata": {},
   "source": [
    "... and taking into account the training data"
   ]
  },
  {
   "cell_type": "code",
   "execution_count": null,
   "id": "2721b6b4",
   "metadata": {},
   "outputs": [],
   "source": [
    "JudiLing.eval_SC(Shat_test, S_test, S_train)"
   ]
  },
  {
   "cell_type": "markdown",
   "id": "68c5ddf8",
   "metadata": {},
   "source": [
    "Apply the production algorithm"
   ]
  },
  {
   "cell_type": "code",
   "execution_count": null,
   "id": "0b37f1fc",
   "metadata": {
    "scrolled": true
   },
   "outputs": [],
   "source": [
    "res_learn_test= JudiLing.learn_paths(\n",
    "    estonian_train,\n",
    "    estonian_test,\n",
    "    cue_obj_train.C,\n",
    "    S_test,\n",
    "    F_train,\n",
    "    Chat_test,\n",
    "    cue_obj_train.A,\n",
    "    cue_obj_train.i2f,\n",
    "    cue_obj_train.f2i, # api changed in 0.3.1\n",
    "    gold_ind = cue_obj_train.gold_ind,\n",
    "    Shat_val = Shat_test,\n",
    "    check_gold_path = false,\n",
    "    max_t = JudiLing.cal_max_timestep(estonian_test, :Word),\n",
    "    max_can = 10,\n",
    "    grams = 3,\n",
    "    threshold = 0.01,\n",
    "    tokenized = false,\n",
    "    sep_token = \"_\",\n",
    "    keep_sep = false,\n",
    "    target_col = :Word,\n",
    "    verbose = true,\n",
    ");"
   ]
  },
  {
   "cell_type": "markdown",
   "id": "8ad71793",
   "metadata": {},
   "source": [
    "And evaluate"
   ]
  },
  {
   "cell_type": "code",
   "execution_count": null,
   "id": "8a2e5111",
   "metadata": {},
   "outputs": [],
   "source": [
    "JudiLing.eval_acc(res_learn_test, cue_obj_test)"
   ]
  },
  {
   "cell_type": "markdown",
   "id": "05e37dd8",
   "metadata": {},
   "source": [
    "The production accuracy isn't too impressive, we now try what happens if we turn on the tolerance mode:"
   ]
  },
  {
   "cell_type": "code",
   "execution_count": null,
   "id": "0ba55938",
   "metadata": {
    "scrolled": true
   },
   "outputs": [],
   "source": [
    "res_learn_test= JudiLing.learn_paths(\n",
    "    estonian_train,\n",
    "    estonian_test,\n",
    "    cue_obj_train.C,\n",
    "    S_test,\n",
    "    F_train,\n",
    "    Chat_test,\n",
    "    cue_obj_train.A,\n",
    "    cue_obj_train.i2f,\n",
    "    cue_obj_train.f2i, # api changed in 0.3.1\n",
    "    gold_ind = cue_obj_train.gold_ind,\n",
    "    Shat_val = Shat_test,\n",
    "    check_gold_path = false,\n",
    "    max_t = JudiLing.cal_max_timestep(estonian_test, :Word),\n",
    "    max_can = 10,\n",
    "    grams = 3,\n",
    "    threshold = 0.01,\n",
    "    is_tolerant=true,\n",
    "    max_tolerance=1,\n",
    "    tolerance=-1.,\n",
    "    target_col = :Word,\n",
    "    verbose = true,\n",
    ");"
   ]
  },
  {
   "cell_type": "markdown",
   "id": "816bb13b",
   "metadata": {},
   "source": [
    "This looks much better."
   ]
  },
  {
   "cell_type": "code",
   "execution_count": null,
   "id": "55d5e0b3",
   "metadata": {
    "scrolled": true
   },
   "outputs": [],
   "source": [
    "JudiLing.eval_acc(res_learn_test, cue_obj_test)"
   ]
  },
  {
   "cell_type": "markdown",
   "id": "6bc29352",
   "metadata": {},
   "source": [
    "Finally, we want to know whether the production performance varies for principal parts and non-principal parts. For this, we first turn the output of `learn_paths` into a dataframe..."
   ]
  },
  {
   "cell_type": "code",
   "execution_count": null,
   "id": "f700f193",
   "metadata": {
    "scrolled": true
   },
   "outputs": [],
   "source": [
    "prod_test = JudiLing.write2df(res_learn_test, estonian_test, cue_obj_train, cue_obj_test, target_col=\"Word\")"
   ]
  },
  {
   "cell_type": "markdown",
   "id": "31f700cd",
   "metadata": {},
   "source": [
    "...only keep the form with the highest support..."
   ]
  },
  {
   "cell_type": "code",
   "execution_count": null,
   "id": "5299f7b4",
   "metadata": {
    "scrolled": true
   },
   "outputs": [],
   "source": [
    "prod_test_preds = prod_test[(prod_test.isbest .== true),:]"
   ]
  },
  {
   "cell_type": "markdown",
   "id": "f2a5ce5b",
   "metadata": {},
   "source": [
    "Compute accuracy for the non-principal parts..."
   ]
  },
  {
   "cell_type": "code",
   "execution_count": null,
   "id": "40347a16",
   "metadata": {},
   "outputs": [],
   "source": [
    "using Statistics"
   ]
  },
  {
   "cell_type": "code",
   "execution_count": null,
   "id": "04704f0a",
   "metadata": {},
   "outputs": [],
   "source": [
    "prod_test_preds_non_pp = prod_test_preds[Not((estonian_test.Number .== \"sg\") .& \n",
    "                    ((estonian_test.Case .== \"gen\") .| (estonian_test.Case .== \"nom\") .| (estonian_test.Case .== \"part\"))),:]\n",
    "mean(prod_test_preds_non_pp.iscorrect)"
   ]
  },
  {
   "cell_type": "markdown",
   "id": "62324de2",
   "metadata": {},
   "source": [
    "...and for the principal parts"
   ]
  },
  {
   "cell_type": "code",
   "execution_count": null,
   "id": "ae298606",
   "metadata": {},
   "outputs": [],
   "source": [
    "prod_test_preds_pp = prod_test_preds[(estonian_test.Number .== \"sg\") .& \n",
    "                    ((estonian_test.Case .== \"gen\") .| (estonian_test.Case .== \"nom\") .| (estonian_test.Case .== \"part\")),:]\n",
    "mean(prod_test_preds_pp.iscorrect)"
   ]
  },
  {
   "cell_type": "markdown",
   "id": "0398556d",
   "metadata": {},
   "source": [
    "It looks like here the performance for principal parts is higher, but there are very few principal parts in the held-out data:"
   ]
  },
  {
   "cell_type": "code",
   "execution_count": null,
   "id": "8ff9f2e9",
   "metadata": {
    "scrolled": true
   },
   "outputs": [],
   "source": [
    "estonian_test[(estonian_test.Number .== \"sg\") .& \n",
    "                    ((estonian_test.Case .== \"gen\") .| (estonian_test.Case .== \"nom\") .| (estonian_test.Case .== \"part\")),:]"
   ]
  },
  {
   "cell_type": "markdown",
   "id": "c3fba66f",
   "metadata": {},
   "source": [
    "## Analysis 3: Training with and without principal parts"
   ]
  },
  {
   "cell_type": "markdown",
   "id": "6ea8cb2a",
   "metadata": {},
   "source": [
    "Load `StatsBase` and `Random` for random sampling"
   ]
  },
  {
   "cell_type": "code",
   "execution_count": null,
   "id": "ec9970ac",
   "metadata": {},
   "outputs": [],
   "source": [
    "import Pkg; Pkg.add(\"StatsBase\")\n",
    "using StatsBase, Random"
   ]
  },
  {
   "cell_type": "markdown",
   "id": "7560b9a1",
   "metadata": {},
   "source": [
    "Split up the estonian data into a test dataset with no principal parts included and two training data sets, one without any principal parts and one with principal parts included."
   ]
  },
  {
   "cell_type": "code",
   "execution_count": null,
   "id": "259bdb31",
   "metadata": {
    "scrolled": true
   },
   "outputs": [],
   "source": [
    "# all rows in the dataframe\n",
    "rows = collect(1:size(estonian,1))\n",
    "# all rows without principal parts\n",
    "rows_non_pp = rows[Not((estonian.Number .== \"sg\") .& ((estonian.Case .== \"gen\") .| (estonian.Case .== \"nom\") .| (estonian.Case .== \"part\"))),:]\n",
    "# sample 800 test rows from the rows without principal parts\n",
    "Random.seed!(42)\n",
    "rows_test = sample(rows_non_pp, 800, replace = false)\n",
    "# select all rows without principal parts which are not in the test rows\n",
    "rows_train_none = collect(setdiff(Set(rows_non_pp),Set(rows_test)))\n",
    "\n",
    "# subset a test set from the estonian dataframe\n",
    "estonian_test_pp = estonian[rows_test,:]\n",
    "# a training set with all rows which are not in the test set (this contains principal parts)\n",
    "estonian_train_pp_all = estonian[Not(rows_test),:]\n",
    "# a training set without any principal parts\n",
    "estonian_train_pp_none = estonian[rows_train_none,:]"
   ]
  },
  {
   "cell_type": "markdown",
   "id": "00fad566",
   "metadata": {},
   "source": [
    "### Exercise 8\n",
    "\n",
    "First, create cue objects for the larger training data and the test data"
   ]
  },
  {
   "cell_type": "code",
   "execution_count": null,
   "id": "70ad6faa",
   "metadata": {},
   "outputs": [],
   "source": [
    "cue_obj_train_pp_all, \n",
    "    cue_obj_test_pp = JudiLing.make_combined_cue_matrix(estonian_train_pp_all,\n",
    "                                                        estonian_test_pp,\n",
    "                                                        grams=3, target_col=\"Word\");"
   ]
  },
  {
   "cell_type": "markdown",
   "id": "525292c3",
   "metadata": {},
   "source": [
    "### Exercise 9\n",
    "\n",
    "Now create an additional cue object for the smaller training set. It is a subset of the larger training set, so we can reuse the `i2f` and `f2i` mappings created above. To do this, all we need to do is provide `cue_obj_train_pp_all` to the `make_cue_matrix` function."
   ]
  },
  {
   "cell_type": "code",
   "execution_count": null,
   "id": "fc8e38fc",
   "metadata": {},
   "outputs": [],
   "source": [
    "cue_obj_train_pp_none = JudiLing.make_cue_matrix(estonian_train_pp_none,\n",
    "                                                cue_obj_train_pp_all,\n",
    "                                                grams=3, target_col=\"Word\");"
   ]
  },
  {
   "cell_type": "markdown",
   "id": "e220dee4",
   "metadata": {},
   "source": [
    "### Exercise 10\n",
    "\n",
    "Now subset the S matrix for three datasets."
   ]
  },
  {
   "cell_type": "code",
   "execution_count": null,
   "id": "a16e3bb3",
   "metadata": {
    "scrolled": true
   },
   "outputs": [],
   "source": [
    "S_test_pp = S[rows_test,:]\n",
    "S_train_pp_all = S[Not(rows_test),:]\n",
    "S_train_pp_none = S[rows_train_none,:]"
   ]
  },
  {
   "cell_type": "markdown",
   "id": "b169fd28",
   "metadata": {},
   "source": [
    "### Exercise 11\n",
    "\n",
    "Compute mapping matrices."
   ]
  },
  {
   "cell_type": "code",
   "execution_count": null,
   "id": "cb509fa1",
   "metadata": {
    "scrolled": true
   },
   "outputs": [],
   "source": [
    "F_train_pp_all = JudiLing.make_transform_matrix(cue_obj_train_pp_all.C, S_train_pp_all)\n",
    "G_train_pp_all = JudiLing.make_transform_matrix(S_train_pp_all, cue_obj_train_pp_all.C)"
   ]
  },
  {
   "cell_type": "code",
   "execution_count": null,
   "id": "3fa20ad3",
   "metadata": {},
   "outputs": [],
   "source": [
    "F_train_pp_none = JudiLing.make_transform_matrix(cue_obj_train_pp_none.C, S_train_pp_none)\n",
    "G_train_pp_none = JudiLing.make_transform_matrix(S_train_pp_none, cue_obj_train_pp_none.C)"
   ]
  },
  {
   "cell_type": "markdown",
   "id": "3aaee054",
   "metadata": {},
   "source": [
    "### Exercise 12\n",
    "\n",
    "And predicted matrices for the test set."
   ]
  },
  {
   "cell_type": "code",
   "execution_count": null,
   "id": "68c60eb6",
   "metadata": {
    "scrolled": true
   },
   "outputs": [],
   "source": [
    "Shat_test_pp_all = cue_obj_test_pp.C * F_train_pp_all\n",
    "Chat_test_pp_all = S_test_pp * G_train_pp_all"
   ]
  },
  {
   "cell_type": "code",
   "execution_count": null,
   "id": "5496a300",
   "metadata": {},
   "outputs": [],
   "source": [
    "Shat_test_pp_none = cue_obj_test_pp.C * F_train_pp_none\n",
    "Chat_test_pp_none = S_test_pp * G_train_pp_none"
   ]
  },
  {
   "cell_type": "markdown",
   "id": "10c6b6e5",
   "metadata": {},
   "source": [
    "### Exercise 13\n",
    "\n",
    "Compute comprehension test accuracy based on the two training datasets:"
   ]
  },
  {
   "cell_type": "code",
   "execution_count": null,
   "id": "b158485b",
   "metadata": {},
   "outputs": [],
   "source": [
    "JudiLing.eval_SC(Shat_test_pp_all, S_test_pp)"
   ]
  },
  {
   "cell_type": "code",
   "execution_count": null,
   "id": "4c112d91",
   "metadata": {},
   "outputs": [],
   "source": [
    "JudiLing.eval_SC(Shat_test_pp_none, S_test_pp)"
   ]
  },
  {
   "cell_type": "markdown",
   "id": "4af693e0",
   "metadata": {},
   "source": [
    "### Exercise 14\n",
    "\n",
    "Apply the production algorithm:"
   ]
  },
  {
   "cell_type": "code",
   "execution_count": null,
   "id": "a1a54741",
   "metadata": {
    "scrolled": true
   },
   "outputs": [],
   "source": [
    "res_learn_test_pp_all= JudiLing.learn_paths(\n",
    "    estonian_train_pp_all,\n",
    "    estonian_test_pp,\n",
    "    cue_obj_train_pp_all.C,\n",
    "    S_test_pp,\n",
    "    F_train_pp_all,\n",
    "    Chat_test_pp_all,\n",
    "    cue_obj_train_pp_all.A,\n",
    "    cue_obj_train_pp_all.i2f,\n",
    "    cue_obj_train_pp_all.f2i, # api changed in 0.3.1\n",
    "    gold_ind = cue_obj_train_pp_all.gold_ind,\n",
    "    Shat_val = Shat_test_pp_all,\n",
    "    check_gold_path = false,\n",
    "    max_t = JudiLing.cal_max_timestep(estonian_test_pp, :Word),\n",
    "    max_can = 10,\n",
    "    grams = 3,\n",
    "    threshold = 0.01,\n",
    "    is_tolerant=true,\n",
    "    max_tolerance=1,\n",
    "    tolerance=-1.,\n",
    "    target_col = :Word,\n",
    "    verbose = true,\n",
    ");"
   ]
  },
  {
   "cell_type": "code",
   "execution_count": null,
   "id": "88a3670a",
   "metadata": {},
   "outputs": [],
   "source": [
    "JudiLing.eval_acc(res_learn_test_pp_all, cue_obj_test_pp)"
   ]
  },
  {
   "cell_type": "code",
   "execution_count": null,
   "id": "22b4b089",
   "metadata": {
    "scrolled": true
   },
   "outputs": [],
   "source": [
    "res_learn_test_pp_none= JudiLing.learn_paths(\n",
    "    estonian_train_pp_none,\n",
    "    estonian_test_pp,\n",
    "    cue_obj_train_pp_none.C,\n",
    "    S_test_pp,\n",
    "    F_train_pp_none,\n",
    "    Chat_test_pp_none,\n",
    "    cue_obj_train_pp_none.A,\n",
    "    cue_obj_train_pp_none.i2f,\n",
    "    cue_obj_train_pp_none.f2i, # api changed in 0.3.1\n",
    "    gold_ind = cue_obj_train_pp_none.gold_ind,\n",
    "    Shat_val = Shat_test_pp_none,\n",
    "    check_gold_path = false,\n",
    "    max_t = JudiLing.cal_max_timestep(estonian_test_pp, :Word),\n",
    "    max_can = 10,\n",
    "    grams = 3,\n",
    "    threshold = 0.01,\n",
    "    is_tolerant=true,\n",
    "    max_tolerance=1,\n",
    "    tolerance=-1.,\n",
    "    target_col = :Word,\n",
    "    verbose = true,\n",
    ");"
   ]
  },
  {
   "cell_type": "code",
   "execution_count": null,
   "id": "fdbef180",
   "metadata": {},
   "outputs": [],
   "source": [
    "JudiLing.eval_acc(res_learn_test_pp_none, cue_obj_test_pp)"
   ]
  }
 ],
 "metadata": {
  "kernelspec": {
   "display_name": "Julia 1.11.2",
   "language": "julia",
   "name": "julia-1.11"
  },
  "language_info": {
   "file_extension": ".jl",
   "mimetype": "application/julia",
   "name": "julia",
   "version": "1.11.2"
  },
  "toc": {
   "base_numbering": 1,
   "nav_menu": {},
   "number_sections": true,
   "sideBar": true,
   "skip_h1_title": false,
   "title_cell": "Table of Contents",
   "title_sidebar": "Contents",
   "toc_cell": false,
   "toc_position": {
    "height": "calc(100% - 180px)",
    "left": "10px",
    "top": "150px",
    "width": "335.59375px"
   },
   "toc_section_display": true,
   "toc_window_display": true
  }
 },
 "nbformat": 4,
 "nbformat_minor": 5
}
