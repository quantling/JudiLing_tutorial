{
 "cells": [
  {
   "cell_type": "markdown",
   "id": "267b5a47",
   "metadata": {},
   "source": [
    "# Chapter 13.1: Korean verbs\n",
    "\n",
    "## Exercise 1\n",
    "\n",
    "Load the usual packages:"
   ]
  },
  {
   "cell_type": "code",
   "execution_count": null,
   "id": "44ec259e",
   "metadata": {
    "scrolled": true
   },
   "outputs": [],
   "source": [
    "using DataFrames, JudiLing"
   ]
  },
  {
   "cell_type": "markdown",
   "id": "6d96680f",
   "metadata": {},
   "source": [
    "## Data preparation\n",
    "\n",
    "### Exercise 2\n",
    "\n",
    "Load the korean dataset and inspect the first rows"
   ]
  },
  {
   "cell_type": "code",
   "execution_count": null,
   "id": "9ee9e3f0",
   "metadata": {
    "scrolled": true
   },
   "outputs": [],
   "source": [
    "korean = JudiLing.load_dataset(\"../dat/korean.csv\")\n",
    "first(korean, 5)"
   ]
  },
  {
   "cell_type": "markdown",
   "id": "593bce19",
   "metadata": {},
   "source": [
    "Inspect the size of the loaded dataset:"
   ]
  },
  {
   "cell_type": "code",
   "execution_count": null,
   "id": "4eeb57b0",
   "metadata": {
    "scrolled": true
   },
   "outputs": [],
   "source": [
    "size(korean)"
   ]
  },
  {
   "cell_type": "markdown",
   "id": "f15e8e7f",
   "metadata": {},
   "source": [
    "## Model\n",
    "\n",
    "### Exercise 3\n",
    "\n",
    "Create a cue object, using bi-syllables:"
   ]
  },
  {
   "cell_type": "code",
   "execution_count": null,
   "id": "e5730b3b",
   "metadata": {},
   "outputs": [],
   "source": [
    "cue_obj = JudiLing.make_cue_matrix(korean, \n",
    "                                    grams=2, \n",
    "                                    target_col=:Word, \n",
    "                                    tokenized=true,\n",
    "                                    sep_token=\"_\", \n",
    "                                    keep_sep=true);"
   ]
  },
  {
   "cell_type": "code",
   "execution_count": null,
   "id": "214ebbb3",
   "metadata": {
    "scrolled": true
   },
   "outputs": [],
   "source": [
    "JudiLing.display_matrix(korean, :Word, cue_obj, cue_obj.C, :C)"
   ]
  },
  {
   "cell_type": "markdown",
   "id": "ded533e4",
   "metadata": {},
   "source": [
    "### Exercise 4\n",
    "\n",
    "Simulate semantic vectors:"
   ]
  },
  {
   "cell_type": "code",
   "execution_count": null,
   "id": "baff9af5",
   "metadata": {},
   "outputs": [],
   "source": [
    "S = JudiLing.make_S_matrix(korean,\n",
    "                            [:Lexeme],\n",
    "                            [:Honorifics, :Tense, :SpeechLevel, :IllocutionaryForce],\n",
    "                            ncol=size(cue_obj.C, 2));"
   ]
  },
  {
   "cell_type": "code",
   "execution_count": null,
   "id": "c81cdf44",
   "metadata": {
    "scrolled": true
   },
   "outputs": [],
   "source": [
    "JudiLing.display_matrix(korean, :Word, cue_obj, S, :S)"
   ]
  },
  {
   "cell_type": "markdown",
   "id": "e21c5cf9",
   "metadata": {},
   "source": [
    "### Exercises 5 + 6\n",
    "\n",
    "Compute the mapping matrix F from form to meaning, as well as the predicted semantic matrix:"
   ]
  },
  {
   "cell_type": "code",
   "execution_count": null,
   "id": "762adbc4",
   "metadata": {
    "scrolled": true
   },
   "outputs": [],
   "source": [
    "F = JudiLing.make_transform_matrix(cue_obj.C, S)\n",
    "Shat = cue_obj.C * F"
   ]
  },
  {
   "cell_type": "markdown",
   "id": "68cb46bf",
   "metadata": {},
   "source": [
    "### Exercise 7\n",
    "\n",
    "Evaluate comprehension accuracy using lenient evaluation:"
   ]
  },
  {
   "cell_type": "code",
   "execution_count": null,
   "id": "725c3178",
   "metadata": {
    "scrolled": true
   },
   "outputs": [],
   "source": [
    "JudiLing.eval_SC(Shat, S, korean, :Word)"
   ]
  },
  {
   "cell_type": "markdown",
   "id": "f88b9c7f",
   "metadata": {},
   "source": [
    "### Exercise 8\n",
    "\n",
    "Compute the production mapping G and the predicted form matrix:"
   ]
  },
  {
   "cell_type": "code",
   "execution_count": null,
   "id": "a43c6dac",
   "metadata": {
    "scrolled": true
   },
   "outputs": [],
   "source": [
    "G = JudiLing.make_transform_matrix(S, cue_obj.C)\n",
    "Chat = S * G"
   ]
  },
  {
   "cell_type": "markdown",
   "id": "3b5c4d28",
   "metadata": {},
   "source": [
    "### Exercise 9\n",
    "\n",
    "Run the learn_paths algorithm:"
   ]
  },
  {
   "cell_type": "code",
   "execution_count": null,
   "id": "d3df95e5",
   "metadata": {
    "scrolled": true
   },
   "outputs": [],
   "source": [
    "res = JudiLing.learn_paths(korean, cue_obj, S, F, Chat, Shat_val=Shat)"
   ]
  },
  {
   "cell_type": "markdown",
   "id": "ba570c15",
   "metadata": {},
   "source": [
    "### Exercise 10\n",
    "\n",
    "Evaluate production accuracy:"
   ]
  },
  {
   "cell_type": "code",
   "execution_count": null,
   "id": "68a3abae",
   "metadata": {
    "scrolled": true
   },
   "outputs": [],
   "source": [
    "JudiLing.eval_acc(res, cue_obj)"
   ]
  },
  {
   "cell_type": "markdown",
   "id": "4f0c6528",
   "metadata": {},
   "source": [
    "### Exercise 11\n",
    "\n",
    "Now we redo this analysis for testing also on held-out data.\n",
    "\n",
    "First, split the data carefully:"
   ]
  },
  {
   "cell_type": "code",
   "execution_count": null,
   "id": "4fe0a2df",
   "metadata": {
    "scrolled": true
   },
   "outputs": [],
   "source": [
    "data_train, data_val = JudiLing.loading_data_careful_split(\n",
    "\"../dat/korean.csv\", \"korean\", \"../dat/careful\",\n",
    "[:Lexeme, :Honorifics, :Tense, :SpeechLevel, :IllocutionaryForce],\n",
    "n_grams_target_col = \"Word\",\n",
    "grams = 2,\n",
    "val_sample_size = 300,\n",
    "random_seed = 42,\n",
    "n_grams_tokenized=true,\n",
    "n_grams_sep_token=\"_\", \n",
    "n_grams_keep_sep=true)"
   ]
  },
  {
   "cell_type": "markdown",
   "id": "77b98096",
   "metadata": {},
   "source": [
    "Create cue and semantic matrices:"
   ]
  },
  {
   "cell_type": "code",
   "execution_count": null,
   "id": "09d53d5a",
   "metadata": {},
   "outputs": [],
   "source": [
    "cue_obj_train, cue_obj_val = JudiLing.make_combined_cue_matrix(data_train, \n",
    "                                    data_val,\n",
    "                                    grams=2, \n",
    "                                    target_col=:Word, \n",
    "                                    tokenized=true,\n",
    "                                    sep_token=\"_\", \n",
    "                                    keep_sep=true);"
   ]
  },
  {
   "cell_type": "code",
   "execution_count": null,
   "id": "32e0284f",
   "metadata": {},
   "outputs": [],
   "source": [
    "S_train, S_val = JudiLing.make_S_matrix(data_train, \n",
    "                                    data_val,\n",
    "                            [:Lexeme],\n",
    "                            [:Honorifics, :Tense, :SpeechLevel, :IllocutionaryForce],\n",
    "                            ncol=size(cue_obj_train.C, 2));"
   ]
  },
  {
   "cell_type": "markdown",
   "id": "602af895",
   "metadata": {},
   "source": [
    "Train F and G matrices on training data:"
   ]
  },
  {
   "cell_type": "code",
   "execution_count": null,
   "id": "51ade4d5",
   "metadata": {
    "scrolled": true
   },
   "outputs": [],
   "source": [
    "F_train = JudiLing.make_transform_matrix(cue_obj_train.C, S_train)\n",
    "G_train = JudiLing.make_transform_matrix(S_train, cue_obj_train.C)"
   ]
  },
  {
   "cell_type": "markdown",
   "id": "08c1f4d5",
   "metadata": {},
   "source": [
    "Predict cue and semantic matrices for validation data:"
   ]
  },
  {
   "cell_type": "code",
   "execution_count": null,
   "id": "fd67d39d",
   "metadata": {
    "scrolled": true
   },
   "outputs": [],
   "source": [
    "Shat_val = cue_obj_val.C * F_train\n",
    "Chat_val = S_val * G_train"
   ]
  },
  {
   "cell_type": "markdown",
   "id": "81059075",
   "metadata": {},
   "source": [
    "Evaluate comprehension:"
   ]
  },
  {
   "cell_type": "code",
   "execution_count": null,
   "id": "c0872cc4",
   "metadata": {},
   "outputs": [],
   "source": [
    "JudiLing.eval_SC(Shat_val, S_val, S_train, data_val, data_train, \"Word\")"
   ]
  },
  {
   "cell_type": "markdown",
   "id": "50430fe5",
   "metadata": {},
   "source": [
    "Run learn paths on the validation:"
   ]
  },
  {
   "cell_type": "code",
   "execution_count": null,
   "id": "eb4654d5",
   "metadata": {
    "scrolled": true
   },
   "outputs": [],
   "source": [
    "prod_val = JudiLing.learn_paths(\n",
    "        data_train,            # training dataset\n",
    "        data_val,              # validation dataset\n",
    "        cue_obj_train.C,       # form matrix for training data\n",
    "        S_val,                 # targeted semantic matrix for validation data\n",
    "        F_train,                     # comprehension mapping\n",
    "        Chat_val,              # predicted form matrix for validation data\n",
    "        cue_obj_val.A,         # adjacency matrix for validation data\n",
    "        cue_obj_train.i2f,     # index-to-feature dictionary for training data \n",
    "        cue_obj_train.f2i,     # feature-to-index dictionary for training data\n",
    "        max_t=JudiLing.cal_max_timestep(data_train, data_val, \"Word\"),\n",
    "        threshold=0.001,\n",
    "        grams=2,\n",
    "        target_col=\"Word\",\n",
    "        tokenized=true,\n",
    "        sep_token=\"_\", \n",
    "        keep_sep=true)"
   ]
  },
  {
   "cell_type": "markdown",
   "id": "b64b2ab0",
   "metadata": {},
   "source": [
    "Evaluate production accuracy:"
   ]
  },
  {
   "cell_type": "code",
   "execution_count": null,
   "id": "ed0c2f76",
   "metadata": {},
   "outputs": [],
   "source": [
    "JudiLing.eval_acc(prod_val, cue_obj_val)"
   ]
  },
  {
   "cell_type": "markdown",
   "id": "d6dae3bb",
   "metadata": {},
   "source": [
    "### Exercise 12\n",
    "\n",
    "Moving on to using Hangul spelling instead of pronunciations.\n",
    "\n",
    "First, split the data:"
   ]
  },
  {
   "cell_type": "code",
   "execution_count": null,
   "id": "0ebc1445",
   "metadata": {
    "scrolled": true
   },
   "outputs": [],
   "source": [
    "data_train, data_val = JudiLing.loading_data_careful_split(\n",
    "\"../dat/korean.csv\", \"korean_han\", \"../dat/careful\",\n",
    "[:Lexeme, :Honorifics, :Tense, :SpeechLevel, :IllocutionaryForce],\n",
    "n_grams_target_col = \"Hangul\",\n",
    "grams = 2,\n",
    "val_sample_size = 300,\n",
    "random_seed = 42)"
   ]
  },
  {
   "cell_type": "markdown",
   "id": "0038e8cb",
   "metadata": {},
   "source": [
    "Create cue and semantic matrices:"
   ]
  },
  {
   "cell_type": "code",
   "execution_count": null,
   "id": "be88cac0",
   "metadata": {},
   "outputs": [],
   "source": [
    "cue_obj_train, cue_obj_val = JudiLing.make_combined_cue_matrix(data_train, \n",
    "                                    data_val,\n",
    "                                    grams=2, \n",
    "                                    target_col=:Hangul);"
   ]
  },
  {
   "cell_type": "code",
   "execution_count": null,
   "id": "4313d008",
   "metadata": {},
   "outputs": [],
   "source": [
    "S_train, S_val = JudiLing.make_S_matrix(data_train, \n",
    "                                    data_val,\n",
    "                            [:Lexeme],\n",
    "                            [:Honorifics, :Tense, :SpeechLevel, :IllocutionaryForce],\n",
    "                            ncol=size(cue_obj_train.C, 2));"
   ]
  },
  {
   "cell_type": "markdown",
   "id": "375b0e21",
   "metadata": {},
   "source": [
    "Train F and G matrices and predict semantic and cue matrices for the validation data:"
   ]
  },
  {
   "cell_type": "code",
   "execution_count": null,
   "id": "d82810bb",
   "metadata": {},
   "outputs": [],
   "source": [
    "F_train = JudiLing.make_transform_matrix(cue_obj_train.C, S_train)\n",
    "G_train = JudiLing.make_transform_matrix(S_train, cue_obj_train.C)"
   ]
  },
  {
   "cell_type": "code",
   "execution_count": null,
   "id": "1f0899d6",
   "metadata": {},
   "outputs": [],
   "source": [
    "Shat_val = cue_obj_val.C * F_train\n",
    "Chat_val = S_val * G_train"
   ]
  },
  {
   "cell_type": "markdown",
   "id": "6ce887f1",
   "metadata": {},
   "source": [
    "Evaluate comprehension:"
   ]
  },
  {
   "cell_type": "code",
   "execution_count": null,
   "id": "468a96bd",
   "metadata": {},
   "outputs": [],
   "source": [
    "JudiLing.eval_SC(Shat_val, S_val, S_train, data_val, data_train, \"Hangul\")"
   ]
  },
  {
   "cell_type": "markdown",
   "id": "88a4e142",
   "metadata": {},
   "source": [
    "Run learn paths:"
   ]
  },
  {
   "cell_type": "code",
   "execution_count": null,
   "id": "aa1269b9",
   "metadata": {
    "scrolled": true
   },
   "outputs": [],
   "source": [
    "prod_val = JudiLing.learn_paths(\n",
    "        data_train,            # training dataset\n",
    "        data_val,              # validation dataset\n",
    "        cue_obj_train.C,       # form matrix for training data\n",
    "        S_val,                 # targeted semantic matrix for validation data\n",
    "        F_train,                     # comprehension mapping\n",
    "        Chat_val,              # predicted form matrix for validation data\n",
    "        cue_obj_val.A,         # adjacency matrix for validation data\n",
    "        cue_obj_train.i2f,     # index-to-feature dictionary for training data \n",
    "        cue_obj_train.f2i,     # feature-to-index dictionary for training data\n",
    "        max_t=JudiLing.cal_max_timestep(data_train, data_val, \"Hangul\"),\n",
    "        threshold=0.001,\n",
    "        grams=2,\n",
    "        target_col=\"Hangul\")"
   ]
  },
  {
   "cell_type": "markdown",
   "id": "b90b29ee",
   "metadata": {},
   "source": [
    "Evaluate production accuracy:"
   ]
  },
  {
   "cell_type": "code",
   "execution_count": null,
   "id": "8120708c",
   "metadata": {},
   "outputs": [],
   "source": [
    "JudiLing.eval_acc(prod_val, cue_obj_val)"
   ]
  },
  {
   "cell_type": "code",
   "execution_count": null,
   "id": "7e9973d1",
   "metadata": {},
   "outputs": [],
   "source": []
  }
 ],
 "metadata": {
  "kernelspec": {
   "display_name": "Julia 1.11.2",
   "language": "julia",
   "name": "julia-1.11"
  },
  "language_info": {
   "file_extension": ".jl",
   "mimetype": "application/julia",
   "name": "julia",
   "version": "1.11.2"
  },
  "toc": {
   "base_numbering": 1,
   "nav_menu": {},
   "number_sections": true,
   "sideBar": true,
   "skip_h1_title": false,
   "title_cell": "Table of Contents",
   "title_sidebar": "Contents",
   "toc_cell": false,
   "toc_position": {},
   "toc_section_display": true,
   "toc_window_display": false
  }
 },
 "nbformat": 4,
 "nbformat_minor": 5
}
