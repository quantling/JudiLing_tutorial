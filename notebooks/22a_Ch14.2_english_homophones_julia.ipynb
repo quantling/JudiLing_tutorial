{
 "cells": [
  {
   "cell_type": "markdown",
   "id": "7d0f7c9f",
   "metadata": {},
   "source": [
    "# Chapter 14.2: Spoken word duration of English homophones EOL (DLM simulation in Julia)"
   ]
  },
  {
   "cell_type": "markdown",
   "id": "875e0ba8-9ea7-4e5c-a05d-b732e8507876",
   "metadata": {},
   "source": [
    "## Setup for FIL and EOL"
   ]
  },
  {
   "cell_type": "markdown",
   "id": "db866c0c",
   "metadata": {},
   "source": [
    "Load packages"
   ]
  },
  {
   "cell_type": "code",
   "execution_count": null,
   "id": "3f2ba58f",
   "metadata": {
    "scrolled": true
   },
   "outputs": [],
   "source": [
    "using JudiLing, CSV, DataFrames, JudiLingMeasures"
   ]
  },
  {
   "cell_type": "markdown",
   "id": "f579185b",
   "metadata": {},
   "source": [
    "Load the training dataset. Frequency counts are from the British National Corpus (BNC, http://www.natcorp.ox.ac.uk)"
   ]
  },
  {
   "cell_type": "code",
   "execution_count": null,
   "id": "75a5acc2-5b6f-4530-a568-2c5193314991",
   "metadata": {
    "scrolled": true
   },
   "outputs": [],
   "source": [
    "dat = JudiLing.load_dataset(\"../dat/time_thyme_training_data.txt\");\n",
    "first(dat, 6)"
   ]
  },
  {
   "cell_type": "markdown",
   "id": "54b9028d",
   "metadata": {},
   "source": [
    "Load the corresponding fasttext vectors"
   ]
  },
  {
   "cell_type": "code",
   "execution_count": null,
   "id": "07f4d0de",
   "metadata": {},
   "outputs": [],
   "source": [
    "S, words = JudiLing.load_S_matrix(\"../dat/time_thyme_fasttext_cc.txt\", header = false, sep = \" \");"
   ]
  },
  {
   "cell_type": "markdown",
   "id": "0b38a4e3",
   "metadata": {},
   "source": [
    "Calculate the cue object, which contains the C matrix"
   ]
  },
  {
   "cell_type": "code",
   "execution_count": null,
   "id": "b16973a7",
   "metadata": {
    "scrolled": true
   },
   "outputs": [],
   "source": [
    "cue_obj = JudiLing.make_cue_matrix(dat, grams=3, target_col=:Word);"
   ]
  },
  {
   "cell_type": "markdown",
   "id": "9a925ba6-3d2b-40bc-9dce-e1055fd10535",
   "metadata": {},
   "source": [
    "# EOL"
   ]
  },
  {
   "cell_type": "markdown",
   "id": "411f2a55-418e-4a7b-84c5-f9a4121ef0a4",
   "metadata": {},
   "source": [
    "Calculate the comprehension mapping, using EOL"
   ]
  },
  {
   "cell_type": "code",
   "execution_count": null,
   "id": "d83d7ba4-dfc2-4720-b13e-356ae7f3e4ff",
   "metadata": {
    "scrolled": true
   },
   "outputs": [],
   "source": [
    "F = JudiLing.make_transform_matrix(cue_obj.C, S);"
   ]
  },
  {
   "cell_type": "markdown",
   "id": "5f20b6e6-3cb1-4028-aa7c-24c7ec706403",
   "metadata": {},
   "source": [
    "Calculate the production matrix, using EOL"
   ]
  },
  {
   "cell_type": "code",
   "execution_count": null,
   "id": "2df66e7b-5e60-4c92-aa2e-a35bbcb3560d",
   "metadata": {
    "scrolled": true
   },
   "outputs": [],
   "source": [
    "G = JudiLing.make_transform_matrix(S, cue_obj.C);"
   ]
  },
  {
   "cell_type": "markdown",
   "id": "5e2917fb-3184-45ff-a4ce-8a7e0bff64b8",
   "metadata": {},
   "source": [
    "Calculate predicted form and meaning matrices"
   ]
  },
  {
   "cell_type": "code",
   "execution_count": null,
   "id": "5038cbcf-9493-46c9-834b-ea8f75785f0f",
   "metadata": {
    "scrolled": true
   },
   "outputs": [],
   "source": [
    "Shat = cue_obj.C * F;\n",
    "Chat = S * G;"
   ]
  },
  {
   "cell_type": "markdown",
   "id": "cc3454fe-2420-46c2-bd04-908012f31c33",
   "metadata": {},
   "source": [
    "Compute model-based measures"
   ]
  },
  {
   "cell_type": "code",
   "execution_count": null,
   "id": "ad70137d-320e-45ed-af17-c472cf30752a",
   "metadata": {
    "scrolled": true
   },
   "outputs": [],
   "source": [
    "measures = JudiLingMeasures.compute_all_measures_train(dat, \n",
    "                                                       cue_obj, \n",
    "                                                       Chat, \n",
    "                                                       S, \n",
    "                                                       Shat, \n",
    "                                                       F, \n",
    "                                                       G, \n",
    "                                                       low_cost_measures_only=true);"
   ]
  },
  {
   "cell_type": "markdown",
   "id": "10d854bb-59fe-4473-984d-bc7776ce920a",
   "metadata": {},
   "source": [
    "Write out the results"
   ]
  },
  {
   "cell_type": "code",
   "execution_count": null,
   "id": "bfacea45-4f3a-43a7-b2d7-45ca67957ad2",
   "metadata": {},
   "outputs": [],
   "source": [
    "CSV.write(\"../res/timeAndThyme_EOL_measures.csv\", measures);"
   ]
  },
  {
   "cell_type": "markdown",
   "id": "5505d46b-0776-42cb-b7d0-da8b8bee265f",
   "metadata": {},
   "source": [
    "See the next notebook for R code."
   ]
  },
  {
   "cell_type": "markdown",
   "id": "4a998b5c-24d7-4c1e-94bd-2f8b34988361",
   "metadata": {},
   "source": [
    "## Exercises\n",
    "\n",
    "### Exercise 2"
   ]
  },
  {
   "cell_type": "markdown",
   "id": "b89583de",
   "metadata": {},
   "source": [
    "Calculate the comprehension mapping, using FIL"
   ]
  },
  {
   "cell_type": "code",
   "execution_count": null,
   "id": "a2d267f2",
   "metadata": {
    "scrolled": true
   },
   "outputs": [],
   "source": [
    "F = JudiLing.make_transform_matrix(cue_obj.C, S, dat.Frequency);"
   ]
  },
  {
   "cell_type": "markdown",
   "id": "3c9aec8a",
   "metadata": {},
   "source": [
    "Calculate the production matrix, using FIL"
   ]
  },
  {
   "cell_type": "code",
   "execution_count": null,
   "id": "36ebada6",
   "metadata": {
    "scrolled": true
   },
   "outputs": [],
   "source": [
    "G = JudiLing.make_transform_matrix(S, cue_obj.C, dat.Frequency);"
   ]
  },
  {
   "cell_type": "markdown",
   "id": "11fff03a",
   "metadata": {},
   "source": [
    "Calculate predicted form and meaning matrices"
   ]
  },
  {
   "cell_type": "code",
   "execution_count": null,
   "id": "59f8e80b",
   "metadata": {
    "scrolled": true
   },
   "outputs": [],
   "source": [
    "Shat = cue_obj.C * F;\n",
    "Chat = S * G;"
   ]
  },
  {
   "cell_type": "markdown",
   "id": "f159bc1f",
   "metadata": {},
   "source": [
    "Compute model-based measures"
   ]
  },
  {
   "cell_type": "code",
   "execution_count": null,
   "id": "d056ead8",
   "metadata": {
    "scrolled": true
   },
   "outputs": [],
   "source": [
    "measures = JudiLingMeasures.compute_all_measures_train(dat, \n",
    "                                                       cue_obj, \n",
    "                                                       Chat, \n",
    "                                                       S, \n",
    "                                                       Shat, \n",
    "                                                       F, \n",
    "                                                       G, \n",
    "                                                       low_cost_measures_only=true);"
   ]
  },
  {
   "cell_type": "markdown",
   "id": "91f04133",
   "metadata": {},
   "source": [
    "Write out the results"
   ]
  },
  {
   "cell_type": "code",
   "execution_count": null,
   "id": "56cf28a0",
   "metadata": {},
   "outputs": [],
   "source": [
    "CSV.write(\"../res/timeAndThyme_FIL_measures.csv\", measures);"
   ]
  },
  {
   "cell_type": "markdown",
   "id": "8366a0eb-0dff-4d98-876e-1e65b306e4d6",
   "metadata": {},
   "source": [
    "See the next notebook for R code."
   ]
  },
  {
   "cell_type": "code",
   "execution_count": null,
   "id": "bb819671-4952-409d-9430-6bae41f7a32c",
   "metadata": {},
   "outputs": [],
   "source": []
  }
 ],
 "metadata": {
  "kernelspec": {
   "display_name": "Julia 1.11.2",
   "language": "julia",
   "name": "julia-1.11"
  },
  "language_info": {
   "file_extension": ".jl",
   "mimetype": "application/julia",
   "name": "julia",
   "version": "1.11.2"
  },
  "toc": {
   "base_numbering": 1,
   "nav_menu": {},
   "number_sections": true,
   "sideBar": true,
   "skip_h1_title": false,
   "title_cell": "Table of Contents",
   "title_sidebar": "Contents",
   "toc_cell": false,
   "toc_position": {},
   "toc_section_display": true,
   "toc_window_display": false
  }
 },
 "nbformat": 4,
 "nbformat_minor": 5
}
