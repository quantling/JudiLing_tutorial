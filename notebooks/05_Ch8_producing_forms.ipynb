{
 "cells": [
  {
   "cell_type": "markdown",
   "id": "4cc519e5",
   "metadata": {},
   "source": [
    "# Chapter 8: Producing forms"
   ]
  },
  {
   "cell_type": "markdown",
   "id": "c82bbafc",
   "metadata": {},
   "source": [
    "## Preparations"
   ]
  },
  {
   "cell_type": "markdown",
   "id": "04248f9d",
   "metadata": {},
   "source": [
    "Load necessary packages."
   ]
  },
  {
   "cell_type": "code",
   "execution_count": null,
   "id": "9941563a",
   "metadata": {},
   "outputs": [],
   "source": [
    "using DataFrames, JudiLing"
   ]
  },
  {
   "cell_type": "markdown",
   "id": "c5fefd1c",
   "metadata": {},
   "source": [
    "Load the Dutch dataset we will be working with."
   ]
  },
  {
   "cell_type": "code",
   "execution_count": null,
   "id": "85ff02d7",
   "metadata": {},
   "outputs": [],
   "source": [
    "dutch = JudiLing.load_dataset(\"../dat/dutch.csv\");"
   ]
  },
  {
   "cell_type": "markdown",
   "id": "c89c7274",
   "metadata": {},
   "source": [
    "Generate `cue_obj` and `S` matrix (see tutorials 1 and 2):"
   ]
  },
  {
   "cell_type": "code",
   "execution_count": null,
   "id": "7237ac78",
   "metadata": {},
   "outputs": [],
   "source": [
    "cue_obj = JudiLing.make_cue_matrix(dutch,\n",
    "                                   grams=3,\n",
    "                                   target_col=\"Ortho\");"
   ]
  },
  {
   "cell_type": "code",
   "execution_count": null,
   "id": "88fa6acd",
   "metadata": {},
   "outputs": [],
   "source": [
    "S, words = JudiLing.load_S_matrix(\"../dat/dutch_w2v.csv\"; header = false, sep = \",\");"
   ]
  },
  {
   "cell_type": "markdown",
   "id": "9215010a",
   "metadata": {},
   "source": [
    "Generate endstate of learning mappings and predicted matrices (see tutorial 3):"
   ]
  },
  {
   "cell_type": "code",
   "execution_count": null,
   "id": "fd43f67d",
   "metadata": {},
   "outputs": [],
   "source": [
    "F = JudiLing.make_transform_matrix(cue_obj.C, S);\n",
    "Shat = cue_obj.C * F;\n",
    "\n",
    "G = JudiLing.make_transform_matrix(S, cue_obj.C);\n",
    "Chat = S * G;"
   ]
  },
  {
   "cell_type": "markdown",
   "id": "903d2d8d",
   "metadata": {},
   "source": [
    "## Producing forms\n",
    "\n",
    "Now, we use the function `learn_paths` to actually produce forms. It requires the dataset `dutch`, the `cue_obj`, the semantic matrix `S`, the comprehension mapping `F` (required for synthesis-by-analysis) and the predicted form matrix `Chat`. We can also set a threshold, which controls how many of the cues in `Chat` will be filtered out."
   ]
  },
  {
   "cell_type": "code",
   "execution_count": null,
   "id": "86dc6d6e",
   "metadata": {
    "scrolled": true
   },
   "outputs": [],
   "source": [
    "prod_res = JudiLing.learn_paths(dutch, cue_obj, S, F, Chat,\n",
    "                                threshold = 0.01);"
   ]
  },
  {
   "cell_type": "markdown",
   "id": "44a2ed91",
   "metadata": {},
   "source": [
    "In reality, there are many more parameters controlling `learn_paths`. You can learn more about them by consulting the help pages, but they will also be explained in more detail in on of the next notebooks."
   ]
  },
  {
   "cell_type": "code",
   "execution_count": null,
   "id": "16947bce",
   "metadata": {
    "scrolled": true
   },
   "outputs": [],
   "source": [
    "?JudiLing.learn_paths"
   ]
  },
  {
   "cell_type": "code",
   "execution_count": null,
   "id": "5faf3d59",
   "metadata": {},
   "outputs": [],
   "source": [
    "JudiLing.eval_acc(prod_res, cue_obj)"
   ]
  },
  {
   "cell_type": "markdown",
   "id": "38014e47-63df-42d2-be14-b292ce0b5319",
   "metadata": {},
   "source": [
    "## Exercises"
   ]
  },
  {
   "cell_type": "markdown",
   "id": "b3bffeaf-5410-4109-8078-5e85c54d5df3",
   "metadata": {},
   "source": [
    "### Exercise 1\n",
    "\n",
    "Preparations:"
   ]
  },
  {
   "cell_type": "code",
   "execution_count": null,
   "id": "ece5edc2-1919-42a6-8724-3f4d8f6b1908",
   "metadata": {
    "scrolled": true
   },
   "outputs": [],
   "source": [
    "latin = JudiLing.load_dataset(\"../dat/latin.csv\")\n",
    "\n",
    "cue_obj = JudiLing.make_cue_matrix(latin, grams=3, target_col=:Word);\n",
    "\n",
    "S = JudiLing.make_S_matrix(\n",
    "    latin,\n",
    "    [\"Lexeme\"],\n",
    "    [\"Person\", \"Number\", \"Tense\", \"Voice\", \"Mood\"],\n",
    "    ncol=300)\n",
    "JudiLing.display_matrix(latin, :Word, cue_obj, S, :S)\n",
    "\n",
    "F = JudiLing.make_transform_matrix(cue_obj.C, S)\n",
    "G = JudiLing.make_transform_matrix(S, cue_obj.C);\n",
    "\n",
    "Chat = S * G"
   ]
  },
  {
   "cell_type": "markdown",
   "id": "f93caf74-97d7-42fa-b8b7-61c06d40307b",
   "metadata": {},
   "source": [
    "### Exercise 2\n",
    "\n",
    "Use learn_paths with the standard parameters to produce word forms:"
   ]
  },
  {
   "cell_type": "code",
   "execution_count": null,
   "id": "b72eb7f0-e8d4-4bb5-af00-9166d22c387d",
   "metadata": {
    "scrolled": true
   },
   "outputs": [],
   "source": [
    "prod_res = JudiLing.learn_paths(latin, cue_obj, S, F, Chat,\n",
    "                                threshold = 0.1);"
   ]
  },
  {
   "cell_type": "code",
   "execution_count": null,
   "id": "6811a3f4-28a3-48cb-adbb-e0e4cbcdaf4e",
   "metadata": {},
   "outputs": [],
   "source": [
    "JudiLing.eval_acc(prod_res, cue_obj)"
   ]
  },
  {
   "cell_type": "markdown",
   "id": "7caa145c-b1ee-4a22-9efc-dda7ec5b9ee9",
   "metadata": {},
   "source": [
    "Decreasing the threshold:"
   ]
  },
  {
   "cell_type": "code",
   "execution_count": null,
   "id": "ec50e32d-5d25-445b-a860-1f87c9e507e4",
   "metadata": {
    "scrolled": true
   },
   "outputs": [],
   "source": [
    "prod_res = JudiLing.learn_paths(latin, cue_obj, S, F, Chat,\n",
    "                                threshold = 0.08);"
   ]
  },
  {
   "cell_type": "code",
   "execution_count": null,
   "id": "c67b02fe-b3b6-4c36-a08f-d51092862096",
   "metadata": {},
   "outputs": [],
   "source": [
    "JudiLing.eval_acc(prod_res, cue_obj)"
   ]
  },
  {
   "cell_type": "code",
   "execution_count": null,
   "id": "81a5b022-c539-4bca-a86c-058b08a827b3",
   "metadata": {
    "scrolled": true
   },
   "outputs": [],
   "source": [
    "prod_res = JudiLing.learn_paths(latin, cue_obj, S, F, Chat,\n",
    "                                threshold = 0.05);"
   ]
  },
  {
   "cell_type": "code",
   "execution_count": null,
   "id": "77c5e79f-cc6f-4cc1-9fec-94ea0a2d9633",
   "metadata": {},
   "outputs": [],
   "source": [
    "JudiLing.eval_acc(prod_res, cue_obj)"
   ]
  },
  {
   "cell_type": "markdown",
   "id": "52b31278-520d-4ee9-839a-809dcd25bcf0",
   "metadata": {},
   "source": [
    "### Exercise 3\n",
    "\n",
    "The lower the threshold parameter, the higher the accuracy, and the higher the average number of paths evaluated for each target word."
   ]
  }
 ],
 "metadata": {
  "kernelspec": {
   "display_name": "Julia 1.11.2",
   "language": "julia",
   "name": "julia-1.11"
  },
  "language_info": {
   "file_extension": ".jl",
   "mimetype": "application/julia",
   "name": "julia",
   "version": "1.11.2"
  },
  "toc": {
   "base_numbering": 1,
   "nav_menu": {},
   "number_sections": true,
   "sideBar": true,
   "skip_h1_title": false,
   "title_cell": "Table of Contents",
   "title_sidebar": "Contents",
   "toc_cell": false,
   "toc_position": {},
   "toc_section_display": true,
   "toc_window_display": false
  }
 },
 "nbformat": 4,
 "nbformat_minor": 5
}
