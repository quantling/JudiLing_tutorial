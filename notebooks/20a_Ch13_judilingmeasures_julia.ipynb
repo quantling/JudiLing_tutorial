{
 "cells": [
  {
   "cell_type": "markdown",
   "id": "778b104a",
   "metadata": {},
   "source": [
    "# Chapter 13: JudiLingMeasures\n",
    "\n",
    "First, install JudiLingMeasures."
   ]
  },
  {
   "cell_type": "code",
   "execution_count": null,
   "id": "4ea56ae2",
   "metadata": {
    "scrolled": true
   },
   "outputs": [],
   "source": [
    "using Pkg\n",
    "Pkg.add(\"JudiLingMeasures\")"
   ]
  },
  {
   "cell_type": "markdown",
   "id": "73b0f215",
   "metadata": {},
   "source": [
    "Load JudiLingMeasures together with JudiLing, DataFrames and CSV."
   ]
  },
  {
   "cell_type": "code",
   "execution_count": null,
   "id": "ce94319f",
   "metadata": {},
   "outputs": [],
   "source": [
    "using Flux\n",
    "using JudiLing, JudiLingMeasures, DataFrames, CSV"
   ]
  },
  {
   "cell_type": "markdown",
   "id": "aa8d68a8",
   "metadata": {},
   "source": [
    "## Preparations\n",
    "\n",
    "Load the DLP data from Keuleers et al (2010). The data is available [here](https://osf.io/uw7t6/). If you haven't done so before, download the `dlp-items.txt` and `dlp-stimuli.txt` files and store them in the `dat` directory."
   ]
  },
  {
   "cell_type": "code",
   "execution_count": null,
   "id": "cd4ea17b",
   "metadata": {
    "scrolled": true
   },
   "outputs": [],
   "source": [
    "dlp = JudiLing.load_dataset(\"../dat/dlp-stimuli.txt\", delim=\"\\t\");\n",
    "# only keep words\n",
    "dlp = dlp[dlp[:,\"celex.frequency\"] .!= \"NA\",:]\n",
    "# only keep relevant columns\n",
    "dlp = dlp[:,[\"spelling\", \"celex.frequency\", \"coltheart.N\"]];"
   ]
  },
  {
   "cell_type": "markdown",
   "id": "7d82ef9a",
   "metadata": {},
   "source": [
    "Load word embeddings."
   ]
  },
  {
   "cell_type": "code",
   "execution_count": null,
   "id": "7646efdf",
   "metadata": {
    "scrolled": true
   },
   "outputs": [],
   "source": [
    "S, words = JudiLing.load_S_matrix(\"../dat/dlp_w2v.csv\", header=true, sep=\",\")"
   ]
  },
  {
   "cell_type": "markdown",
   "id": "3c0597ed",
   "metadata": {},
   "source": [
    "Only keep words from the DLP for which word embeddings are available."
   ]
  },
  {
   "cell_type": "code",
   "execution_count": null,
   "id": "178e71b7",
   "metadata": {
    "scrolled": true
   },
   "outputs": [],
   "source": [
    "dlp = filter(row -> lowercase(row.spelling) in lowercase.(words), dlp)"
   ]
  },
  {
   "cell_type": "markdown",
   "id": "54ffde3e",
   "metadata": {},
   "source": [
    "Make sure the order of the word forms in the `dlp` dataset and the semantic matrix `S` are the same."
   ]
  },
  {
   "cell_type": "code",
   "execution_count": null,
   "id": "4aa08270",
   "metadata": {},
   "outputs": [],
   "source": [
    "all(dlp.spelling .== words)"
   ]
  },
  {
   "cell_type": "markdown",
   "id": "ec4d6903",
   "metadata": {},
   "source": [
    "Create the cue objet."
   ]
  },
  {
   "cell_type": "code",
   "execution_count": null,
   "id": "9b380d9d",
   "metadata": {},
   "outputs": [],
   "source": [
    "cue_obj = JudiLing.make_cue_matrix(dlp,\n",
    "                                   grams=3,\n",
    "                                   target_col=\"spelling\");"
   ]
  },
  {
   "cell_type": "markdown",
   "id": "45dcb523",
   "metadata": {},
   "source": [
    "Calculate the F and G matrices."
   ]
  },
  {
   "cell_type": "code",
   "execution_count": null,
   "id": "472049c2",
   "metadata": {
    "scrolled": true
   },
   "outputs": [],
   "source": [
    "F = JudiLing.make_transform_matrix(cue_obj.C, S)\n",
    "G = JudiLing.make_transform_matrix(S, cue_obj.C)"
   ]
  },
  {
   "cell_type": "markdown",
   "id": "e62a3448",
   "metadata": {},
   "source": [
    "Calculate $\\hat{S}$ (`Shat`) and $\\hat{C}$ (`Chat`)."
   ]
  },
  {
   "cell_type": "code",
   "execution_count": null,
   "id": "bc9529f3",
   "metadata": {
    "scrolled": true
   },
   "outputs": [],
   "source": [
    "Shat = cue_obj.C * F\n",
    "Chat = S * G"
   ]
  },
  {
   "cell_type": "markdown",
   "id": "d0a48968",
   "metadata": {},
   "source": [
    "Use the `learn_paths_rpi` function for computing the produced word forms. The function returns three objects:\n",
    "- `res_learn`: standard output of `learn_paths` containing the prduced word forms\n",
    "- `gpi_learn`: contains path supports for the targeted word forms\n",
    "- `rpi_learn`: contains path supports for the predicted word forms\n",
    "\n",
    "For improved performance we set `treshold=0.005`, which means that running the next cell takes a few minutes. It is possible to skip this step and only calculate measures which do not require path supports."
   ]
  },
  {
   "cell_type": "code",
   "execution_count": null,
   "id": "192a958e",
   "metadata": {
    "scrolled": true
   },
   "outputs": [],
   "source": [
    "res_learn, gpi_learn, rpi_learn = JudiLing.learn_paths_rpi(\n",
    "    dlp,\n",
    "    dlp,\n",
    "    cue_obj.C,\n",
    "    S,\n",
    "    F,\n",
    "    Chat,\n",
    "    cue_obj.A,\n",
    "    cue_obj.i2f,\n",
    "    cue_obj.f2i, # api changed in 0.3.1\n",
    "    gold_ind = cue_obj.gold_ind,\n",
    "    Shat_val = Shat,\n",
    "    check_gold_path = true,\n",
    "    max_t = JudiLing.cal_max_timestep(dlp, :spelling),\n",
    "    max_can = 10,\n",
    "    grams = 3,\n",
    "    threshold = 0.005,\n",
    "    tokenized = false,\n",
    "    sep_token = \"_\",\n",
    "    keep_sep = false,\n",
    "    target_col = :spelling,\n",
    "    verbose = true,\n",
    ");"
   ]
  },
  {
   "cell_type": "markdown",
   "id": "d6346d8d",
   "metadata": {},
   "source": [
    "Compute the production accuracy."
   ]
  },
  {
   "cell_type": "code",
   "execution_count": null,
   "id": "2ac4b88d",
   "metadata": {},
   "outputs": [],
   "source": [
    "JudiLing.eval_acc(res_learn, cue_obj)"
   ]
  },
  {
   "cell_type": "markdown",
   "id": "26fabb6a",
   "metadata": {},
   "source": [
    "# Computing measures"
   ]
  },
  {
   "cell_type": "markdown",
   "id": "ff01f9f2",
   "metadata": {},
   "source": [
    "Compute all available measures (only works if you ran the cell with `learn_paths_rpi` above). Due to the size of the dataset we set `low_cost_measures_only=true`, so the function will only calculate computationally light-weight measures. If you can afford to wait for a while, or have a smaller dataset, you can also set this parameter to `false`."
   ]
  },
  {
   "cell_type": "code",
   "execution_count": null,
   "id": "0c83470e",
   "metadata": {
    "scrolled": true
   },
   "outputs": [],
   "source": [
    "all_measures = JudiLingMeasures.compute_all_measures_train(dlp, # the data of interest\n",
    "                                                     cue_obj, # the cue_obj of the training data\n",
    "                                                     Chat, # the Chat of the data of interest\n",
    "                                                     S, # the S matrix of the data of interest\n",
    "                                                     Shat, # the Shat matrix of the data of interest\n",
    "                                                     F, # the F matrix\n",
    "                                                     G, # the G matrix\n",
    "                                                     res_learn_train=res_learn,\n",
    "                                                     rpi_learn_train=rpi_learn,\n",
    "                                                     gpi_learn_train=gpi_learn,\n",
    "                                                     low_cost_measures_only=true); "
   ]
  },
  {
   "cell_type": "markdown",
   "id": "3b813ced",
   "metadata": {},
   "source": [
    "Alternatively, only measures without path supports can be calculated by simply not providing the outputs of `learn_paths_rpi` to the function:"
   ]
  },
  {
   "cell_type": "code",
   "execution_count": null,
   "id": "34f3d9e0",
   "metadata": {},
   "outputs": [],
   "source": [
    "all_measures_no_path_supports = JudiLingMeasures.compute_all_measures_train(dlp, # the data of interest\n",
    "                                                     cue_obj, # the cue_obj of the training data\n",
    "                                                     Chat, # the Chat of the data of interest\n",
    "                                                     S, # the S matrix of the data of interest\n",
    "                                                     Shat, # the Shat matrix of the data of interest\n",
    "                                                     F, # the F matrix\n",
    "                                                     G, # the G matrix\n",
    "                                                     low_cost_measures_only=true); "
   ]
  },
  {
   "cell_type": "markdown",
   "id": "5a0d3f86",
   "metadata": {},
   "source": [
    "You can compare which measures have been calculated by the three methods:"
   ]
  },
  {
   "cell_type": "code",
   "execution_count": null,
   "id": "e6ef77c2",
   "metadata": {},
   "outputs": [],
   "source": [
    "names(all_measures)"
   ]
  },
  {
   "cell_type": "code",
   "execution_count": null,
   "id": "e21c2221",
   "metadata": {},
   "outputs": [],
   "source": [
    "names(all_measures_no_path_supports)"
   ]
  },
  {
   "cell_type": "code",
   "execution_count": null,
   "id": "a46a7e49",
   "metadata": {
    "scrolled": true
   },
   "outputs": [],
   "source": [
    "first(all_measures, 10)"
   ]
  },
  {
   "cell_type": "markdown",
   "id": "2b0381e3",
   "metadata": {},
   "source": [
    "Save measures. If you didn't calculate the full set of measures, make sure you change `all_measures` to `all_measures_no_path_supports`. It does not matter for the following analysis which of the two datasets you work with."
   ]
  },
  {
   "cell_type": "code",
   "execution_count": null,
   "id": "d3c515e4",
   "metadata": {},
   "outputs": [],
   "source": [
    "CSV.write(\"../res/dlp_measures.csv\", all_measures)"
   ]
  },
  {
   "cell_type": "markdown",
   "id": "9baeafe9-8bab-4572-9c59-54388d3f3188",
   "metadata": {},
   "source": [
    "## Modelling behavioural data with the calculated measures\n",
    "\n",
    "Please find the R code in the next notebook."
   ]
  },
  {
   "cell_type": "markdown",
   "id": "aed1a026-1844-4954-91f0-2319aa65d942",
   "metadata": {},
   "source": [
    "## Computing measures for DDL models"
   ]
  },
  {
   "cell_type": "markdown",
   "id": "653782cb-dd6c-444d-b6b4-c71c38ea8abf",
   "metadata": {},
   "source": [
    "Training DDL comprehension and production models. For demonstration purposes we only train for one epoch here:"
   ]
  },
  {
   "cell_type": "code",
   "execution_count": null,
   "id": "8c526649-f23f-407e-875b-7eefc4933814",
   "metadata": {},
   "outputs": [],
   "source": [
    "res_comp = JudiLing.get_and_train_model(cue_obj.C,\n",
    "                                        S,\n",
    "                                        \"../res/dlp_comp.bson\", \n",
    "                                        verbose=true,\n",
    "                                        n_epochs=1);\n",
    "model_prod = Chain(\n",
    "            Dense(size(S, 2) => 1000, relu),   # activation function inside layer\n",
    "            Dense(1000 => size(cue_obj.C, 2)),\n",
    "            sigmoid) |> gpu    \n",
    "res_prod = JudiLing.get_and_train_model(S,\n",
    "                                        cue_obj.C,\n",
    "                                        \"../res/dlp_prod.bson\", \n",
    "                                        model=model_prod,\n",
    "                                        loss_func=Flux.binarycrossentropy,\n",
    "                                        verbose=true,\n",
    "                                        n_epochs=1);"
   ]
  },
  {
   "cell_type": "markdown",
   "id": "7924a51d-67f3-488a-a764-ff97ef524f4c",
   "metadata": {},
   "source": [
    "Predicting $\\hat{\\mathbf{S}}$ and $\\hat{\\mathbf{C}}$ matrices:"
   ]
  },
  {
   "cell_type": "code",
   "execution_count": null,
   "id": "2970b928-6ee4-43cb-884f-51100f04506e",
   "metadata": {
    "scrolled": true
   },
   "outputs": [],
   "source": [
    "Shat = JudiLing.predict_from_deep_model(res_comp.model, cue_obj.C)\n",
    "Chat = JudiLing.predict_from_deep_model(res_prod.model, S)"
   ]
  },
  {
   "cell_type": "markdown",
   "id": "8ddb8209-9572-4839-99e0-869c9472d3dd",
   "metadata": {},
   "source": [
    "Compute measures:"
   ]
  },
  {
   "cell_type": "code",
   "execution_count": null,
   "id": "3b9bce2a-02e3-459f-ac85-b32f86e6918c",
   "metadata": {},
   "outputs": [],
   "source": [
    "all_measures = JudiLingMeasures.compute_all_measures_train(dlp, # the data of interest\n",
    "                                                    cue_obj, # the cue_obj of the training data\n",
    "                                                    Chat, # the Chat of the data of interest\n",
    "                                                    S, # the S matrix of the data of interest\n",
    "                                                    Shat, # the Shat matrix of the data of interest\n",
    "                                                    low_cost_measures_only=true);"
   ]
  },
  {
   "cell_type": "code",
   "execution_count": null,
   "id": "e498c748-d210-44cf-b7e1-ed60963e9bb0",
   "metadata": {
    "scrolled": true
   },
   "outputs": [],
   "source": [
    "all_measures"
   ]
  },
  {
   "cell_type": "markdown",
   "id": "d23875ee-764d-4087-a2cf-5f839da9984b",
   "metadata": {},
   "source": [
    "## Exercises"
   ]
  },
  {
   "cell_type": "markdown",
   "id": "613d84cc-b3c4-4a28-81f8-83b836bfe418",
   "metadata": {},
   "source": [
    "Load the latin dataset and setup C and S matrices."
   ]
  },
  {
   "cell_type": "code",
   "execution_count": null,
   "id": "596543db-abf4-4281-bd49-010e9520c7e5",
   "metadata": {
    "scrolled": true
   },
   "outputs": [],
   "source": [
    "latin = JudiLing.load_dataset(\"../dat/latin.csv\")"
   ]
  },
  {
   "cell_type": "code",
   "execution_count": null,
   "id": "d5b31618-8d23-4325-8417-70243d540d4c",
   "metadata": {},
   "outputs": [],
   "source": [
    "cue_obj = JudiLing.make_cue_matrix(latin, grams=3, target_col=\"Word\");\n",
    "S = JudiLing.make_S_matrix(\n",
    "                           latin,\n",
    "                           [\"Lexeme\"],\n",
    "                           [\"Person\", \"Number\", \"Tense\", \"Voice\", \"Mood\"],\n",
    "                           ncol=300);"
   ]
  },
  {
   "cell_type": "markdown",
   "id": "6eb86975-61cd-4874-9337-8a970d0f2bf3",
   "metadata": {},
   "source": [
    "Compute F and G and predict semantic and form matrices."
   ]
  },
  {
   "cell_type": "code",
   "execution_count": null,
   "id": "f8f73f37-4dbb-4927-9dea-fd52d76f0eea",
   "metadata": {
    "scrolled": true
   },
   "outputs": [],
   "source": [
    "F = JudiLing.make_transform_matrix(cue_obj.C, S)\n",
    "G = JudiLing.make_transform_matrix(S, cue_obj.C)"
   ]
  },
  {
   "cell_type": "code",
   "execution_count": null,
   "id": "245031f7-d0f5-4c50-99f7-8240d94b5bef",
   "metadata": {
    "scrolled": true
   },
   "outputs": [],
   "source": [
    "Shat = cue_obj.C * F\n",
    "Chat = S * G"
   ]
  },
  {
   "cell_type": "markdown",
   "id": "c78c41c7-516d-4e00-abd9-390c39a2823e",
   "metadata": {},
   "source": [
    "Produce wordforms:"
   ]
  },
  {
   "cell_type": "code",
   "execution_count": null,
   "id": "32d802bd-80af-41ca-8ce1-43115a60cf72",
   "metadata": {
    "scrolled": true
   },
   "outputs": [],
   "source": [
    "res_learn, gpi_learn, rpi_learn = JudiLing.learn_paths_rpi(\n",
    "    latin,\n",
    "    latin,\n",
    "    cue_obj.C,\n",
    "    S,\n",
    "    F,\n",
    "    Chat,\n",
    "    cue_obj.A,\n",
    "    cue_obj.i2f,\n",
    "    cue_obj.f2i, # api changed in 0.3.1\n",
    "    gold_ind = cue_obj.gold_ind,\n",
    "    Shat_val = Shat,\n",
    "    check_gold_path = true,\n",
    "    max_t = JudiLing.cal_max_timestep(latin, :Word),\n",
    "    max_can = 10,\n",
    "    grams = 3,\n",
    "    target_col = :Word,\n",
    "    verbose = true,\n",
    ");"
   ]
  },
  {
   "cell_type": "code",
   "execution_count": null,
   "id": "4753f72b-a6b7-4cca-9360-e328fb2745bd",
   "metadata": {},
   "outputs": [],
   "source": [
    "JudiLing.eval_acc(res_learn, cue_obj)"
   ]
  },
  {
   "cell_type": "markdown",
   "id": "206a25a7-7a9c-4694-b952-ebec4463282c",
   "metadata": {},
   "source": [
    "Calculate measures."
   ]
  },
  {
   "cell_type": "code",
   "execution_count": null,
   "id": "3541ace2-8eb0-4413-8306-acf06a662d92",
   "metadata": {},
   "outputs": [],
   "source": [
    "latin_measures = JudiLingMeasures.compute_all_measures_train(latin, # the data of interest\n",
    "                                                     cue_obj, # the cue_obj of the training data\n",
    "                                                     Chat, # the Chat of the data of interest\n",
    "                                                     S, # the S matrix of the data of interest\n",
    "                                                     Shat, # the Shat matrix of the data of interest\n",
    "                                                     F, # the F matrix\n",
    "                                                     G, # the G matrix\n",
    "                                                     res_learn_train=res_learn,\n",
    "                                                     rpi_learn_train=rpi_learn,\n",
    "                                                     gpi_learn_train=gpi_learn,\n",
    "                                                     low_cost_measures_only=false); "
   ]
  },
  {
   "cell_type": "markdown",
   "id": "070e541d-0f44-42d4-81a6-aeddb595e970",
   "metadata": {},
   "source": [
    "# References\n",
    "\n",
    "Keuleers, E., Diependaele, K., and Brysbaert, M. (2010). Practice effects in large-scale visual word recognition studies: A lexical decision study on 14,000 dutch mono-and disyllabic words and nonwords. Frontiers in psychology, 1:174."
   ]
  }
 ],
 "metadata": {
  "kernelspec": {
   "display_name": "Julia 1.11.2",
   "language": "julia",
   "name": "julia-1.11"
  },
  "language_info": {
   "file_extension": ".jl",
   "mimetype": "application/julia",
   "name": "julia",
   "version": "1.11.2"
  },
  "toc": {
   "base_numbering": 1,
   "nav_menu": {},
   "number_sections": true,
   "sideBar": true,
   "skip_h1_title": false,
   "title_cell": "Table of Contents",
   "title_sidebar": "Contents",
   "toc_cell": false,
   "toc_position": {},
   "toc_section_display": true,
   "toc_window_display": false
  }
 },
 "nbformat": 4,
 "nbformat_minor": 5
}
