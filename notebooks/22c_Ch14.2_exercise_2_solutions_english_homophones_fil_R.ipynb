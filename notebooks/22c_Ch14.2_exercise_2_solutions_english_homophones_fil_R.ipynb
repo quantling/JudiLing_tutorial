{
 "cells": [
  {
   "cell_type": "markdown",
   "id": "a364986e",
   "metadata": {},
   "source": [
    "# Chapter 14.2 Exercise 2 solutions: Spoken word duration of English homophones FIL (statistics)"
   ]
  },
  {
   "cell_type": "markdown",
   "id": "02d9fd13",
   "metadata": {},
   "source": [
    "## Preparations"
   ]
  },
  {
   "cell_type": "markdown",
   "id": "29bc52ab-1992-4af0-bea0-f581f50341e3",
   "metadata": {},
   "source": [
    "Load csv file with FIL measures calculated for the training dataset"
   ]
  },
  {
   "cell_type": "code",
   "execution_count": null,
   "id": "fb64efa0-02d1-4b79-b311-eb45be2924cc",
   "metadata": {},
   "outputs": [],
   "source": [
    "fil = read.csv(\"../res/timeAndThyme_FIL_measures.csv\")\n",
    "head(fil)"
   ]
  },
  {
   "cell_type": "markdown",
   "id": "788c9259-0db6-4d60-8770-7f50393c2e70",
   "metadata": {},
   "source": [
    "Load the dataset with the homophones from Gahl and Baayen (2024)"
   ]
  },
  {
   "cell_type": "code",
   "execution_count": null,
   "id": "c107786b-b4b0-493e-ab7b-d5ec8e67e788",
   "metadata": {},
   "outputs": [],
   "source": [
    "dat = read.table(\"../dat/time_thyme.txt\", header=TRUE)\n",
    "head(dat)"
   ]
  },
  {
   "cell_type": "code",
   "execution_count": null,
   "id": "7d7ffb92-2ad9-46c3-93e3-59a7ba5be606",
   "metadata": {},
   "outputs": [],
   "source": [
    "homophones = merge(dat, fil, by.x=\"Spelling\", by.y=\"Word\")"
   ]
  },
  {
   "cell_type": "markdown",
   "id": "ee4294a8-53be-4dea-82f2-a6e656937a7e",
   "metadata": {},
   "source": [
    "__not all homophones have embeddings for the common crawl fasttext embeddings__"
   ]
  },
  {
   "cell_type": "code",
   "execution_count": null,
   "id": "a245db05-58a6-4076-a1bd-5dd5a39e1fe2",
   "metadata": {},
   "outputs": [],
   "source": [
    "nrow(dat) - nrow(homophones)"
   ]
  },
  {
   "cell_type": "markdown",
   "id": "d7baf061-7c97-4a43-aae0-0d761cdb716c",
   "metadata": {},
   "source": [
    "Load the GAM library"
   ]
  },
  {
   "cell_type": "code",
   "execution_count": null,
   "id": "5f56eae0",
   "metadata": {},
   "outputs": [],
   "source": [
    "library(mgcv)"
   ]
  },
  {
   "cell_type": "markdown",
   "id": "e4dfcdf9-55dc-4e8a-aa12-326eebb0a6fe",
   "metadata": {},
   "source": [
    "Prepare predictor variables"
   ]
  },
  {
   "cell_type": "code",
   "execution_count": null,
   "id": "e8fb87d6-52ae-4431-afa6-121f93f2c386",
   "metadata": {},
   "outputs": [],
   "source": [
    "homophones$NounBias = factor(homophones$NounBias)\n",
    "homophones$LogMeanBigramProbability = log(homophones$MeanBigramProbability)"
   ]
  },
  {
   "cell_type": "markdown",
   "id": "2333d85a-90cb-44ae-9fdd-60c622a7ba66",
   "metadata": {},
   "source": [
    "Just as for the EOL-based GAMs, we use a baseline duration measure from which other predictors have been partialled out, we do this for both a model with localist variables, and a model with DLM variables. We first reconstruct the localist model."
   ]
  },
  {
   "cell_type": "code",
   "execution_count": null,
   "id": "a75e527e-bdfe-4c30-ade3-368a5ea76090",
   "metadata": {},
   "outputs": [],
   "source": [
    "homophones$ResidualLogBaselineDuration =\n",
    "   resid(gam(LogBaselineDuration ~ s(LogPronunciationFrequency, k=3) +\n",
    "                                   s(PhonologicalNeighborhoodDensity) +\n",
    "                                   s(LogMeanBigramProbability, k=5),\n",
    "             data=homophones)\n",
    "   )"
   ]
  },
  {
   "cell_type": "markdown",
   "id": "67d60ce5",
   "metadata": {},
   "source": [
    "## GAMs"
   ]
  },
  {
   "cell_type": "markdown",
   "id": "d652dc22-aecb-4460-bd73-5cf35b2cff0e",
   "metadata": {},
   "source": [
    "### Localist GAM"
   ]
  },
  {
   "cell_type": "code",
   "execution_count": null,
   "id": "7fb334d0-62e5-48dc-9cad-f481caf14f8f",
   "metadata": {},
   "outputs": [],
   "source": [
    "localist.gam = gam(list(LogMeanDuration ~ s(PauseQuotient) +\n",
    "                                          NounBias +\n",
    "                                          s(PhonologicalNeighborhoodDensity) +\n",
    "                                          s(OrthographicRegularity) +\n",
    "                                          te(LogCelexFrequency, LogRelativeFrequency) +\n",
    "                                          s(ResidualLogBaselineDuration),\n",
    "                                        ~ s(LogCelexFrequency)),\n",
    "                   data=homophones, family=\"gaulss\", method=\"ML\")"
   ]
  },
  {
   "cell_type": "code",
   "execution_count": null,
   "id": "84303a43-a0c5-4fe1-b9ba-589887ed9836",
   "metadata": {},
   "outputs": [],
   "source": [
    "summary(localist.gam)"
   ]
  },
  {
   "cell_type": "code",
   "execution_count": null,
   "id": "0b6c9972-f9df-495b-b8ea-a8bc7f10ffca",
   "metadata": {},
   "outputs": [],
   "source": [
    "AIC(localist.gam)"
   ]
  },
  {
   "cell_type": "code",
   "execution_count": null,
   "id": "b1e2ac20-29c8-4c59-9a7e-3c1289a00798",
   "metadata": {},
   "outputs": [],
   "source": [
    "plot(localist.gam, pages=1, scale=0)"
   ]
  },
  {
   "cell_type": "markdown",
   "id": "6d1750e0-0a3e-4a86-a3db-e325a2ce1890",
   "metadata": {},
   "source": [
    "### GAM with DLM predictors"
   ]
  },
  {
   "cell_type": "markdown",
   "id": "6b7e6c96-a50c-4a4c-9a8e-ddbf96deaac0",
   "metadata": {},
   "source": [
    "SemanticSupportForForm and C.Precision are strongly correlated predictors, and even more strongly so compared to when EOL is used:"
   ]
  },
  {
   "cell_type": "code",
   "execution_count": null,
   "id": "a54452ac-5e0d-4809-962e-b6c0e15b9d33",
   "metadata": {},
   "outputs": [],
   "source": [
    "cor(homophones$SemanticSupportForForm, homophones$C.Precision, method=\"sp\")"
   ]
  },
  {
   "cell_type": "markdown",
   "id": "e4c769b7-0afc-4420-bd83-f9878a89ace0",
   "metadata": {},
   "source": [
    "The two distributions are also similar:"
   ]
  },
  {
   "cell_type": "code",
   "execution_count": null,
   "id": "b0157d2c-b10e-4100-9a2c-3b0380bdb25f",
   "metadata": {},
   "outputs": [],
   "source": [
    "options(repr.plot.width=10, repr.plot.height=5)\n",
    "par(mfrow=c(1,2))\n",
    "plot(density(homophones$SemanticSupportForForm))\n",
    "plot(density(homophones$C.Precision))"
   ]
  },
  {
   "cell_type": "markdown",
   "id": "73401af6-72f7-4832-8d17-cf8604879c3b",
   "metadata": {},
   "source": [
    "A logarithmic transformation is not optimal:"
   ]
  },
  {
   "cell_type": "code",
   "execution_count": null,
   "id": "0b46077a-163a-441e-889d-256937fe4b91",
   "metadata": {},
   "outputs": [],
   "source": [
    "homophones$LogSemanticSupportForForm = log(homophones$SemanticSupportForForm+0.2)"
   ]
  },
  {
   "cell_type": "code",
   "execution_count": null,
   "id": "505fa263-1244-4a67-a371-a6df8dfc8409",
   "metadata": {
    "scrolled": true
   },
   "outputs": [],
   "source": [
    "options(repr.plot.width=5, repr.plot.height=5)\n",
    "plot(density(homophones$LogSemanticSupportForForm))"
   ]
  },
  {
   "cell_type": "markdown",
   "id": "5cf6bd4f-64d3-4472-a467-c3a0dfa21bc3",
   "metadata": {},
   "source": [
    "A square root transformation performs somewhat better."
   ]
  },
  {
   "cell_type": "code",
   "execution_count": null,
   "id": "6e194540-e1a7-4695-91cd-ef736363b4ee",
   "metadata": {},
   "outputs": [],
   "source": [
    "homophones$SqrtSemanticSupportForForm = sqrt(homophones$SemanticSupportForForm+0.2)\n",
    "homophones$SqrtCPrecision = sqrt(homophones$C.Precision+0.2)"
   ]
  },
  {
   "cell_type": "code",
   "execution_count": null,
   "id": "66509cd6-a67b-4960-bccf-7a63d0486013",
   "metadata": {
    "scrolled": true
   },
   "outputs": [],
   "source": [
    "options(repr.plot.width=10, repr.plot.height=5)\n",
    "par(mfrow=c(1,2))\n",
    "plot(density(homophones$SqrtSemanticSupportForForm))\n",
    "plot(density(homophones$SqrtCPrecision))"
   ]
  },
  {
   "cell_type": "code",
   "execution_count": null,
   "id": "a0b52277-5be2-4508-953c-fe36071b8673",
   "metadata": {},
   "outputs": [],
   "source": [
    "resid.gam = gam(LogBaselineDuration ~ #s(SqrtSemanticSupportForForm, k=3) +   ## n.s.\n",
    "                                      s(Cind) +\n",
    "                                      s(HomophoneSemanticSimilarity, k=3),\n",
    "                data = homophones)\n",
    "homophones$ResidualLogBaselineDurationFIL = resid(resid.gam)"
   ]
  },
  {
   "cell_type": "markdown",
   "id": "32428ea5-ba4e-4406-a06c-d00d35b399a4",
   "metadata": {},
   "source": [
    "Semantic support for form is not well supported:"
   ]
  },
  {
   "cell_type": "code",
   "execution_count": null,
   "id": "7e2828d1-a6f6-4b0f-948e-759bfa388a97",
   "metadata": {},
   "outputs": [],
   "source": [
    "dlm_fil.gam = gam(list(LogMeanDuration ~ s(PauseQuotient) +\n",
    "                                         NounBias +\n",
    "                                         s(HomophoneSemanticSimilarity) +\n",
    "                                         s(SqrtSemanticSupportForForm) +\n",
    "                                         s(OrthographicRegularity) +\n",
    "                                         s(ResidualLogBaselineDurationFIL) +\n",
    "                                         s(Cind),\n",
    "                                       ~ s(Cind)),\n",
    "                  data=homophones, family=\"gaulss\", method=\"ML\")"
   ]
  },
  {
   "cell_type": "code",
   "execution_count": null,
   "id": "46701e95-dd25-4c4f-91b8-35c8403f4cc7",
   "metadata": {},
   "outputs": [],
   "source": [
    "summary(dlm_fil.gam)"
   ]
  },
  {
   "cell_type": "code",
   "execution_count": null,
   "id": "7a3587bf-0867-40a7-a329-5d5a8020da34",
   "metadata": {},
   "outputs": [],
   "source": [
    "AIC(dlm_fil.gam, localist.gam)"
   ]
  },
  {
   "cell_type": "code",
   "execution_count": null,
   "id": "7dd7b232-15a8-4c49-8722-27d621edc2a5",
   "metadata": {},
   "outputs": [],
   "source": [
    "options(repr.plot.width=10, repr.plot.height=10)\n",
    "plot(dlm_fil.gam, pages=1, scale=0, scheme=1)"
   ]
  },
  {
   "cell_type": "markdown",
   "id": "7faf8780-a3c7-490b-a8bc-4eca5db47bbd",
   "metadata": {},
   "source": [
    "The partial effect plot suggests that there is a positive trend where we have dense data.  We therefore restrict the range of SemanticSupportForForm to the (0, 0.5) interval, removing the 43 outliers for which this measure is unlikely to be informative. "
   ]
  },
  {
   "cell_type": "code",
   "execution_count": null,
   "id": "bf051a01-bdb0-41b2-bf13-ead32d97ad2b",
   "metadata": {},
   "outputs": [],
   "source": [
    "homophones2 = homophones[homophones$SemanticSupportForForm > 0 & homophones$SemanticSupportForForm < 0.5,]\n",
    "nrow(homophones)-nrow(homophones2)"
   ]
  },
  {
   "cell_type": "code",
   "execution_count": null,
   "id": "5a68f2d9-b8a3-4b13-bf22-8796cc3f0f6d",
   "metadata": {},
   "outputs": [],
   "source": [
    "43/nrow(homophones)"
   ]
  },
  {
   "cell_type": "markdown",
   "id": "73dc96ff-3cbc-4cce-b62c-44b64528387b",
   "metadata": {},
   "source": [
    "For the GAM, we now no longer need a transformation."
   ]
  },
  {
   "cell_type": "code",
   "execution_count": null,
   "id": "92de5aa0-a7a4-4b4b-a333-83375c14c72c",
   "metadata": {},
   "outputs": [],
   "source": [
    "dlm_fil.gam2 = gam(list(LogMeanDuration ~ s(PauseQuotient) +\n",
    "                                          NounBias +\n",
    "                                          s(HomophoneSemanticSimilarity) +\n",
    "                                          s(SemanticSupportForForm) +\n",
    "                                          s(OrthographicRegularity) +\n",
    "                                          s(ResidualLogBaselineDurationFIL) +\n",
    "                                          s(Cind),\n",
    "                                        ~ s(Cind)),\n",
    "                   data=homophones2, family=\"gaulss\", method=\"ML\")\n",
    "summary(dlm_fil.gam2)"
   ]
  },
  {
   "cell_type": "code",
   "execution_count": null,
   "id": "c9fe5cd5-fe06-4f0b-967e-69e6c9ac8648",
   "metadata": {},
   "outputs": [],
   "source": [
    "options(repr.plot.width=5, repr.plot.height=5)\n",
    "plot(dlm_fil.gam2, select=3, scale=0, scheme=1, shade.col=\"steelblue2\")\n",
    "abline(h=0, col=\"indianred\")"
   ]
  },
  {
   "cell_type": "markdown",
   "id": "f09ad061-a371-4356-ad88-99197ed169d8",
   "metadata": {},
   "source": [
    "With FIL, the SemanticSupportForForm measure is so strongly correlated with frequency that it becomes difficult to see its effect in a regression model that includes a frequency measure."
   ]
  },
  {
   "cell_type": "markdown",
   "id": "f3877f61-0d6a-44dc-a2d2-0083446763be",
   "metadata": {},
   "source": [
    "# References\n",
    "\n",
    "Gahl, S. and Baayen, R. H. (2024). Time and thyme again: Connecting spoken word duration to\n",
    "models of the mental lexicon. Language. accepted for publication."
   ]
  }
 ],
 "metadata": {
  "kernelspec": {
   "display_name": "R",
   "language": "R",
   "name": "ir"
  },
  "language_info": {
   "codemirror_mode": "r",
   "file_extension": ".r",
   "mimetype": "text/x-r-source",
   "name": "R",
   "pygments_lexer": "r",
   "version": "4.2.3"
  },
  "toc": {
   "base_numbering": 1,
   "nav_menu": {},
   "number_sections": true,
   "sideBar": true,
   "skip_h1_title": false,
   "title_cell": "Table of Contents",
   "title_sidebar": "Contents",
   "toc_cell": false,
   "toc_position": {},
   "toc_section_display": true,
   "toc_window_display": false
  }
 },
 "nbformat": 4,
 "nbformat_minor": 5
}
