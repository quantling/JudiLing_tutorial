{
 "cells": [
  {
   "cell_type": "markdown",
   "id": "a7f1981a",
   "metadata": {},
   "source": [
    "# Chapter 7: Evaluating mapping accuracy"
   ]
  },
  {
   "cell_type": "markdown",
   "id": "6310592f",
   "metadata": {},
   "source": [
    "## Preparations"
   ]
  },
  {
   "cell_type": "markdown",
   "id": "9d748d16",
   "metadata": {},
   "source": [
    "Load necessary packages."
   ]
  },
  {
   "cell_type": "code",
   "execution_count": null,
   "id": "cf97d90b",
   "metadata": {
    "scrolled": true
   },
   "outputs": [],
   "source": [
    "using JudiLing, DataFrames, Plots"
   ]
  },
  {
   "cell_type": "markdown",
   "id": "d6ab9146",
   "metadata": {},
   "source": [
    "Load the Dutch dataset we will be working with."
   ]
  },
  {
   "cell_type": "code",
   "execution_count": null,
   "id": "ac68206a",
   "metadata": {},
   "outputs": [],
   "source": [
    "# Adjust the filepath to the location of your dutch.csv file.\n",
    "dutch = JudiLing.load_dataset(\"../dat/dutch.csv\");\n",
    "dutch = dutch[:,[:Ortho, :Word, :Number, :WordCat, :Lexeme, :Syllables, :Frequency]];"
   ]
  },
  {
   "cell_type": "markdown",
   "id": "c47e7c52",
   "metadata": {},
   "source": [
    "Generate `cue_obj` and `S` matrix:"
   ]
  },
  {
   "cell_type": "code",
   "execution_count": null,
   "id": "95af2b7a",
   "metadata": {},
   "outputs": [],
   "source": [
    "cue_obj = JudiLing.make_cue_matrix(dutch,\n",
    "                                   grams=3,\n",
    "                                   target_col=\"Ortho\");\n",
    "S, words = JudiLing.load_S_matrix(\"../dat/dutch_w2v.csv\"; header = false, sep = \",\");"
   ]
  },
  {
   "cell_type": "markdown",
   "id": "bfe47352",
   "metadata": {},
   "source": [
    "## Evaluating mapping accuracy"
   ]
  },
  {
   "cell_type": "markdown",
   "id": "641ace10",
   "metadata": {},
   "source": [
    "Compute mapping matrix F using the endstate of learning."
   ]
  },
  {
   "cell_type": "code",
   "execution_count": null,
   "id": "e84dcbc1",
   "metadata": {
    "scrolled": true
   },
   "outputs": [],
   "source": [
    "F = JudiLing.make_transform_matrix(cue_obj.C, S)\n",
    "Shat = cue_obj.C * F"
   ]
  },
  {
   "cell_type": "markdown",
   "id": "0af331e2",
   "metadata": {},
   "source": [
    "`eval_SC` calculates for each predicted vector the similarity with each vector in $\\mathbf{S}$. If the most similar vector is the target vector, the mapping is counted as correct."
   ]
  },
  {
   "cell_type": "code",
   "execution_count": null,
   "id": "6c415ce5",
   "metadata": {},
   "outputs": [],
   "source": [
    "JudiLing.eval_SC(Shat, S)"
   ]
  },
  {
   "cell_type": "markdown",
   "id": "ca8010ca",
   "metadata": {},
   "source": [
    "However, this strict evaluation might be unfair. From the form of homographs, which have identical forms, it is impossible to know which semantics are correct (this is why there is a warning message). Consider the following example:"
   ]
  },
  {
   "cell_type": "code",
   "execution_count": null,
   "id": "f6df730e",
   "metadata": {},
   "outputs": [],
   "source": [
    "dutch[dutch.Ortho .== \"missen\",:]"
   ]
  },
  {
   "cell_type": "markdown",
   "id": "bdffd0b6",
   "metadata": {},
   "source": [
    "From the form \"missen\" alone it is impossible which of the two meanings is referred to. We therefore might want to count a mapping as correct, if it is closest to any of the two meanings of \"missen\".\n",
    "\n",
    "By additionally specifying the dataset and the column with wordforms, homographs are taken into account during evaluation:"
   ]
  },
  {
   "cell_type": "code",
   "execution_count": null,
   "id": "e5cfd53c",
   "metadata": {
    "scrolled": true
   },
   "outputs": [],
   "source": [
    "JudiLing.eval_SC(Shat, S, dutch, :Ortho)"
   ]
  },
  {
   "cell_type": "markdown",
   "id": "467c409b",
   "metadata": {},
   "source": [
    "In this case, accuracy hasn't improved, presumably because in the previous evaluation the correct form was selected by chance. In general, our Dutch dataset only includes very few homographs. However, in languages such as German which has many homographs across paradigm cells, substantial improvements can be expected when using lenient evaluation."
   ]
  },
  {
   "cell_type": "markdown",
   "id": "86378a41",
   "metadata": {},
   "source": [
    "We might also be interested in whether the target vector is among the top k most correlated. For this, we can use `eval_SC_loose`, specifying k to be 5 and again adding the dataset and the column with wordforms in order to take homographs into account."
   ]
  },
  {
   "cell_type": "code",
   "execution_count": null,
   "id": "71a09c0c",
   "metadata": {
    "scrolled": true
   },
   "outputs": [],
   "source": [
    "JudiLing.eval_SC_loose(Shat, S, 5, dutch, :Ortho)"
   ]
  },
  {
   "cell_type": "markdown",
   "id": "3c695eaf-337a-4640-9869-a54bd6fc12b7",
   "metadata": {},
   "source": [
    "Finally, we can also compute token-based acccuracy by supplying frequency counts for the word types:"
   ]
  },
  {
   "cell_type": "code",
   "execution_count": null,
   "id": "ffa2f197-68a6-4f7c-8bea-0971a121fc9c",
   "metadata": {
    "scrolled": true
   },
   "outputs": [],
   "source": [
    "JudiLing.eval_SC(Shat, S, dutch, :Ortho, freq=dutch.Frequency)"
   ]
  },
  {
   "cell_type": "markdown",
   "id": "6e6ba1e1-c116-43f5-b8ea-fbc487c9675e",
   "metadata": {},
   "source": [
    "Token-based accuracy using FIL:"
   ]
  },
  {
   "cell_type": "code",
   "execution_count": null,
   "id": "f660036f-5503-457f-bf0d-330a87e8c0b9",
   "metadata": {},
   "outputs": [],
   "source": [
    "F_fil = JudiLing.make_transform_matrix(cue_obj.C, S, dutch.Frequency)\n",
    "Shat_fil = cue_obj.C * F_fil\n",
    "\n",
    "@show JudiLing.eval_SC(Shat_fil, S, dutch, :Ortho)\n",
    "@show JudiLing.eval_SC(Shat_fil, S, dutch, :Ortho, freq=dutch.Frequency)"
   ]
  },
  {
   "cell_type": "markdown",
   "id": "2becd584",
   "metadata": {},
   "source": [
    "We can follow the same procedure for production:"
   ]
  },
  {
   "cell_type": "code",
   "execution_count": null,
   "id": "de985647",
   "metadata": {
    "scrolled": true
   },
   "outputs": [],
   "source": [
    "G = JudiLing.make_transform_matrix(S, cue_obj.C)\n",
    "Chat = S * G"
   ]
  },
  {
   "cell_type": "code",
   "execution_count": null,
   "id": "c8d84f60",
   "metadata": {
    "scrolled": true
   },
   "outputs": [],
   "source": [
    "JudiLing.eval_SC(Chat, cue_obj.C)"
   ]
  },
  {
   "cell_type": "markdown",
   "id": "89f5ad1e",
   "metadata": {},
   "source": [
    "However, this type of evaluation is not ideal for production, as no actual word forms have been produced. Details on how to to this can be found in the next notebook."
   ]
  },
  {
   "cell_type": "markdown",
   "id": "86e52f21",
   "metadata": {},
   "source": [
    "Finally, we might be interested in what kind of errors the model makes during comprehension. `JudiLing.accuracy_comprehension` is designed to give information about this."
   ]
  },
  {
   "cell_type": "markdown",
   "id": "46956c43",
   "metadata": {},
   "source": [
    "In addition to specifying the semantic matrix, the predicted matrix, the dataset and the column with the target wordforms, we also specify the columns with the base and grammatical features:"
   ]
  },
  {
   "cell_type": "code",
   "execution_count": null,
   "id": "c1e41f24",
   "metadata": {},
   "outputs": [],
   "source": [
    "acc = JudiLing.accuracy_comprehension(S, Shat, dutch,\n",
    "                                        target_col=:Ortho,\n",
    "                                        base=[\"Lexeme\"],\n",
    "                                        inflections=[\"Number\", \"WordCat\"]);"
   ]
  },
  {
   "cell_type": "markdown",
   "id": "d39462a4",
   "metadata": {},
   "source": [
    "To see what the generated `acc` object contains, we can consult the help pages:"
   ]
  },
  {
   "cell_type": "code",
   "execution_count": null,
   "id": "ced4b6eb",
   "metadata": {},
   "outputs": [],
   "source": [
    "?acc"
   ]
  },
  {
   "cell_type": "markdown",
   "id": "76381133",
   "metadata": {},
   "source": [
    "`acc.acc` contains the mapping accuracy:"
   ]
  },
  {
   "cell_type": "code",
   "execution_count": null,
   "id": "c5571ac4",
   "metadata": {},
   "outputs": [],
   "source": [
    "acc.acc"
   ]
  },
  {
   "cell_type": "markdown",
   "id": "d88c8313",
   "metadata": {},
   "source": [
    "`acc.dfr` is a dataframe with each target word form, its predicted form, correlation with the predicted semantics and the target semantics, a column indicating whether the wordform was comprehended correctly and for each of the semantic components (here: lexeme, number and word category) information about whether they were correctly recognised:"
   ]
  },
  {
   "cell_type": "code",
   "execution_count": null,
   "id": "89bb6e1d",
   "metadata": {},
   "outputs": [],
   "source": [
    "first(acc.dfr, 5)"
   ]
  },
  {
   "cell_type": "markdown",
   "id": "a0e1af58",
   "metadata": {},
   "source": [
    "Finally, `acc.err` contains a list of indices of all wordforms which were comprehended incorrectly:"
   ]
  },
  {
   "cell_type": "code",
   "execution_count": null,
   "id": "53c539aa",
   "metadata": {},
   "outputs": [],
   "source": [
    "first(acc.err, 5)"
   ]
  },
  {
   "cell_type": "markdown",
   "id": "8560b15b-1853-4fb1-b01d-00b28f09078e",
   "metadata": {},
   "source": [
    "## Exercises\n",
    "\n",
    "Preparation:"
   ]
  },
  {
   "cell_type": "code",
   "execution_count": null,
   "id": "2f1bbd37-baa1-41fd-9c2f-b31fda4ff5d3",
   "metadata": {
    "scrolled": true
   },
   "outputs": [],
   "source": [
    "latin = JudiLing.load_dataset(\"../dat/latin.csv\")"
   ]
  },
  {
   "cell_type": "markdown",
   "id": "1f97dc7a-baec-42c7-a0fa-a8b545bb1ff6",
   "metadata": {},
   "source": [
    "### Exercise 1\n",
    "\n",
    "Comparing performance of various n-gram sizes"
   ]
  },
  {
   "cell_type": "code",
   "execution_count": null,
   "id": "fac8f94e-e796-4be8-ab21-17c4cd5bf50c",
   "metadata": {
    "scrolled": true
   },
   "outputs": [],
   "source": [
    "S = JudiLing.make_S_matrix(\n",
    "    latin,\n",
    "    [\"Lexeme\"],\n",
    "    [\"Person\", \"Number\", \"Tense\", \"Voice\", \"Mood\"],\n",
    "    ncol=300)\n",
    "JudiLing.display_matrix(latin, :Word, S, S, :S)"
   ]
  },
  {
   "cell_type": "code",
   "execution_count": null,
   "id": "d5841c59-eb84-4f0a-b6a6-15cc4864d05f",
   "metadata": {},
   "outputs": [],
   "source": [
    "cue_obj2 = JudiLing.make_cue_matrix(latin, grams=2, target_col=:Word);\n",
    "cue_obj3 = JudiLing.make_cue_matrix(latin, grams=3, target_col=:Word);"
   ]
  },
  {
   "cell_type": "code",
   "execution_count": null,
   "id": "c78d28b6-cc24-45f3-bdec-1f9e69b75f9f",
   "metadata": {},
   "outputs": [],
   "source": [
    "F2 = JudiLing.make_transform_matrix(cue_obj2.C, S)\n",
    "F3 = JudiLing.make_transform_matrix(cue_obj3.C, S);"
   ]
  },
  {
   "cell_type": "code",
   "execution_count": null,
   "id": "3434ec81-ce15-46f6-8cc7-d58ecb6d6a30",
   "metadata": {},
   "outputs": [],
   "source": [
    "Shat2 = cue_obj2.C * F2\n",
    "JudiLing.eval_SC(Shat2, S)"
   ]
  },
  {
   "cell_type": "code",
   "execution_count": null,
   "id": "ddf0fb1f-cebe-4e49-91ee-7727cd3c1029",
   "metadata": {},
   "outputs": [],
   "source": [
    "Shat3 = cue_obj3.C * F3\n",
    "JudiLing.eval_SC(Shat3, S)"
   ]
  },
  {
   "cell_type": "code",
   "execution_count": null,
   "id": "b9be6151-77bb-4cf3-83e0-366567aa6508",
   "metadata": {},
   "outputs": [],
   "source": [
    "G2 = JudiLing.make_transform_matrix(S, cue_obj2.C)\n",
    "G3 = JudiLing.make_transform_matrix(S, cue_obj3.C);"
   ]
  },
  {
   "cell_type": "code",
   "execution_count": null,
   "id": "9048ca56-43ac-4c1d-b0f6-a5e20dff40be",
   "metadata": {},
   "outputs": [],
   "source": [
    "Chat2 = S * G2\n",
    "JudiLing.eval_SC(Chat2, cue_obj2.C)"
   ]
  },
  {
   "cell_type": "code",
   "execution_count": null,
   "id": "83c1f7f0-c563-4983-9db8-0eb48aa5c2c9",
   "metadata": {},
   "outputs": [],
   "source": [
    "Chat3 = S * G3\n",
    "JudiLing.eval_SC(Chat3, cue_obj3.C)"
   ]
  },
  {
   "cell_type": "markdown",
   "id": "f29f1573-2552-423f-acb9-dca0142d5559",
   "metadata": {},
   "source": [
    "Accuracy is higher with trigrams than with bigrams"
   ]
  },
  {
   "cell_type": "markdown",
   "id": "59f1f295-695e-4ac0-a568-80ae09857daf",
   "metadata": {},
   "source": [
    "### Exercise 2\n",
    "\n",
    "Comparing different S matrix dimensionalities:"
   ]
  },
  {
   "cell_type": "code",
   "execution_count": null,
   "id": "74a77475-cb94-4f2c-8ff9-1b2c2c70109b",
   "metadata": {
    "scrolled": true
   },
   "outputs": [],
   "source": [
    "S50 = JudiLing.make_S_matrix(\n",
    "    latin,\n",
    "    [\"Lexeme\"],\n",
    "    [\"Person\", \"Number\", \"Tense\", \"Voice\", \"Mood\"],\n",
    "    ncol=200)\n",
    "\n",
    "S300 = JudiLing.make_S_matrix(\n",
    "    latin,\n",
    "    [\"Lexeme\"],\n",
    "    [\"Person\", \"Number\", \"Tense\", \"Voice\", \"Mood\"],\n",
    "    ncol=300)\n",
    "\n",
    "S1000 = JudiLing.make_S_matrix(\n",
    "    latin,\n",
    "    [\"Lexeme\"],\n",
    "    [\"Person\", \"Number\", \"Tense\", \"Voice\", \"Mood\"],\n",
    "    ncol=1000)"
   ]
  },
  {
   "cell_type": "code",
   "execution_count": null,
   "id": "1d4ebf98-5485-44bb-b023-c883b30269ad",
   "metadata": {},
   "outputs": [],
   "source": [
    "F50 = JudiLing.make_transform_matrix(cue_obj2.C, S50)\n",
    "F300 = JudiLing.make_transform_matrix(cue_obj2.C, S300);\n",
    "F1000 = JudiLing.make_transform_matrix(cue_obj2.C, S1000);"
   ]
  },
  {
   "cell_type": "code",
   "execution_count": null,
   "id": "8448c2bf-0bb3-4a25-8e7e-ff9a0482f6d6",
   "metadata": {
    "scrolled": true
   },
   "outputs": [],
   "source": [
    "Shat50 = cue_obj2.C * F50\n",
    "JudiLing.eval_SC(Shat50, S50)"
   ]
  },
  {
   "cell_type": "code",
   "execution_count": null,
   "id": "0954ab54-fc38-485e-a2d0-3ecddbfd8c2c",
   "metadata": {},
   "outputs": [],
   "source": [
    "Shat300 = cue_obj2.C * F300\n",
    "JudiLing.eval_SC(Shat300, S300)"
   ]
  },
  {
   "cell_type": "code",
   "execution_count": null,
   "id": "19e860d5-e4db-4ecd-b178-c9383390466b",
   "metadata": {},
   "outputs": [],
   "source": [
    "Shat1000 = cue_obj2.C * F1000\n",
    "JudiLing.eval_SC(Shat1000, S1000)"
   ]
  },
  {
   "cell_type": "markdown",
   "id": "6cc97ed7-0868-467f-852b-9f6196ee9da2",
   "metadata": {},
   "source": [
    "For comprehension, no clear influence of semantic dimensionality on accuracy."
   ]
  },
  {
   "cell_type": "code",
   "execution_count": null,
   "id": "2acb8bac-e3f6-42fd-80b9-b217b2963eb4",
   "metadata": {},
   "outputs": [],
   "source": [
    "G50 = JudiLing.make_transform_matrix(S50, cue_obj2.C)\n",
    "G300 = JudiLing.make_transform_matrix(S300, cue_obj2.C);\n",
    "G1000 = JudiLing.make_transform_matrix(S1000, cue_obj2.C);"
   ]
  },
  {
   "cell_type": "code",
   "execution_count": null,
   "id": "1e6510a6-a8e6-4fe7-b7da-d24387ac95a9",
   "metadata": {},
   "outputs": [],
   "source": [
    "Chat50 = S50 * G50\n",
    "JudiLing.eval_SC(Chat50, cue_obj2.C)"
   ]
  },
  {
   "cell_type": "code",
   "execution_count": null,
   "id": "a20d8497-f2da-47cd-9032-e70d4a091f2d",
   "metadata": {},
   "outputs": [],
   "source": [
    "Chat300 = S300 * G300\n",
    "JudiLing.eval_SC(Chat300, cue_obj2.C)"
   ]
  },
  {
   "cell_type": "code",
   "execution_count": null,
   "id": "9cc3044f-a9d3-4157-b13c-eb27f2f3b4a7",
   "metadata": {},
   "outputs": [],
   "source": [
    "Chat1000 = S1000 * G1000\n",
    "JudiLing.eval_SC(Chat1000, cue_obj2.C)"
   ]
  },
  {
   "cell_type": "markdown",
   "id": "b3360103-5832-454a-b047-fcb98f7e1f64",
   "metadata": {},
   "source": [
    "For production, a larger semantic dimensionality improves performance."
   ]
  },
  {
   "cell_type": "markdown",
   "id": "bfc10b07-7251-431d-8aa3-1a28e4948d9e",
   "metadata": {},
   "source": [
    "### Exercise 3\n",
    "\n",
    "Comparing the accuracy with strict evaluation taking into account homographs for mappings between a bigram cue matrix and a 300-dimensional semantic matrix."
   ]
  },
  {
   "cell_type": "code",
   "execution_count": null,
   "id": "a87f077e-a1ea-4b79-8d83-057484fd7ea3",
   "metadata": {},
   "outputs": [],
   "source": [
    "Shat300 = cue_obj2.C * F300\n",
    "# strict\n",
    "JudiLing.eval_SC(Shat300, S300)"
   ]
  },
  {
   "cell_type": "code",
   "execution_count": null,
   "id": "b7d398fc-1683-4377-89f2-100843823315",
   "metadata": {
    "scrolled": true
   },
   "outputs": [],
   "source": [
    "# taking into account homographs\n",
    "JudiLing.eval_SC(Shat300, S300, latin, :Word)"
   ]
  },
  {
   "cell_type": "code",
   "execution_count": null,
   "id": "1d68ecb6-c824-4c16-971e-e797e16fa0e4",
   "metadata": {},
   "outputs": [],
   "source": [
    "Chat300 = S300 * G300\n",
    "# strict\n",
    "JudiLing.eval_SC(Chat300, cue_obj2.C)"
   ]
  },
  {
   "cell_type": "code",
   "execution_count": null,
   "id": "76445715-7030-4e1c-8d64-2a7df04b75c8",
   "metadata": {},
   "outputs": [],
   "source": [
    "# taking into account homographs\n",
    "JudiLing.eval_SC(Chat300, cue_obj2.C, latin, :Word)"
   ]
  },
  {
   "cell_type": "markdown",
   "id": "27488065-c9eb-476e-810e-2d2a2ccd0afe",
   "metadata": {},
   "source": [
    "Contrary to intuition, the accuracy is higher for the strict evaluation than for the one taking into account homographs. To illustrate why this happens, let's inspect \"terreereemus\", which is counted as correct under \"strict\" evaluation and incorrect under the one taking into account homographs:"
   ]
  },
  {
   "cell_type": "markdown",
   "id": "f387ecf0-e7ca-417f-8ceb-d69b364cf1b5",
   "metadata": {},
   "source": [
    "Let's first extract the correlation matrix. This is the same in both evaluation modes, so we can just use one of them to do so:"
   ]
  },
  {
   "cell_type": "code",
   "execution_count": null,
   "id": "52de3f35-5422-4c04-8660-ff4c92940846",
   "metadata": {},
   "outputs": [],
   "source": [
    "acc, R = JudiLing.eval_SC(Chat300, cue_obj2.C, R= true)"
   ]
  },
  {
   "cell_type": "markdown",
   "id": "a323e3d2-5bc2-4d01-a3e6-e12b9abd65e4",
   "metadata": {},
   "source": [
    "\"terreereemus\" is in the following line"
   ]
  },
  {
   "cell_type": "code",
   "execution_count": null,
   "id": "863f7af9-53f0-4672-974e-eb59c603a88a",
   "metadata": {},
   "outputs": [],
   "source": [
    "latin[latin.Word .== \"terreereemus\",:]"
   ]
  },
  {
   "cell_type": "markdown",
   "id": "6db28ccd-4340-47a9-b028-7a95cb1e1f81",
   "metadata": {},
   "source": [
    "So let's see what the correlations in line 448 are:"
   ]
  },
  {
   "cell_type": "code",
   "execution_count": null,
   "id": "d6321cc8-d64c-4f51-a559-ef28e1d2e8bb",
   "metadata": {
    "scrolled": true
   },
   "outputs": [],
   "source": [
    "R[448,:]"
   ]
  },
  {
   "cell_type": "markdown",
   "id": "9b73d4ba-55f2-4e57-b7cf-dfb545b63821",
   "metadata": {},
   "source": [
    "With which word is the predicted form vector of \"terreereemus\" correlated the most?"
   ]
  },
  {
   "cell_type": "code",
   "execution_count": null,
   "id": "10467e13-0b24-41f3-8285-8b856f227bc3",
   "metadata": {},
   "outputs": [],
   "source": [
    "argmax(R[448,:])"
   ]
  },
  {
   "cell_type": "markdown",
   "id": "6148014f-bae0-4fb8-a9b6-2348c68b2956",
   "metadata": {},
   "source": [
    "With the word in row 28. Let's see which word that is:"
   ]
  },
  {
   "cell_type": "code",
   "execution_count": null,
   "id": "532f008a-deb4-48e8-8117-752f174e94c7",
   "metadata": {
    "scrolled": true
   },
   "outputs": [],
   "source": [
    "latin[28,:]"
   ]
  },
  {
   "cell_type": "markdown",
   "id": "decff668-a041-4fa2-8309-1d112e080458",
   "metadata": {},
   "source": [
    "\"terreemus\" != \"terreereemus\", and therefore, when we take into account the wordforms in the dataframe, this is counted as incorrect. Why is it counted as correct in the strict evaluation then?\n",
    "\n",
    "Let's take a look at the actual correlation value of \"teereereemus\" with row 28:"
   ]
  },
  {
   "cell_type": "code",
   "execution_count": null,
   "id": "ac0cce9a-33ee-4dbe-8cea-aa9f6deadbbd",
   "metadata": {},
   "outputs": [],
   "source": [
    "R[448,28]"
   ]
  },
  {
   "cell_type": "markdown",
   "id": "2fce6445-9ad0-45d8-94ee-9372c3a64620",
   "metadata": {},
   "source": [
    "\"strict\" evaluation counts a mapping as correct if the highest correlation is the same as the correlation on the diagonal of the correlation matrix, assuming that prediction and target are in the corresponding rows in the predicted and the target matrices. Let's see what the correlation is of row 448 in the predicted matrix with row 448 in the target matrix:"
   ]
  },
  {
   "cell_type": "code",
   "execution_count": null,
   "id": "04a84b50-daa5-46aa-93b2-72d603642ee1",
   "metadata": {},
   "outputs": [],
   "source": [
    "R[448,448]"
   ]
  },
  {
   "cell_type": "markdown",
   "id": "ca91745a-3c73-40e0-80d3-45e93d4caaf9",
   "metadata": {},
   "source": [
    "It's the same value as with line 28! Therefore, it is true that the maximum correlation for this row is the same as the one on the diagonal, and the mapping is counted as correct. In the evaluation taking into account homographs on the other hand, the row with the maximum correlation which is picked is not necessarily on the diagonal and may therefore be counted as incorrect, which is what happens here."
   ]
  },
  {
   "cell_type": "markdown",
   "id": "75cb07e1-9848-4340-8e25-3e38c03e2347",
   "metadata": {},
   "source": [
    "### Exercise 4\n",
    "\n",
    "Compute loose evaluation with various values of k:"
   ]
  },
  {
   "cell_type": "code",
   "execution_count": null,
   "id": "a5d82326-b3f3-40f9-a6ec-19b4a1e4329d",
   "metadata": {},
   "outputs": [],
   "source": [
    "Shat300 = cue_obj2.C * F300\n",
    "JudiLing.eval_SC(Shat300, S300)"
   ]
  },
  {
   "cell_type": "code",
   "execution_count": null,
   "id": "0b24a8d3-606e-4062-95fa-02a7814407b3",
   "metadata": {},
   "outputs": [],
   "source": [
    "JudiLing.eval_SC_loose(Shat300, S300, 5)"
   ]
  },
  {
   "cell_type": "code",
   "execution_count": null,
   "id": "8bf8dbc3-8b1f-46fa-b674-0c2ccb5e8738",
   "metadata": {},
   "outputs": [],
   "source": [
    "JudiLing.eval_SC_loose(Shat300, S300, 10)"
   ]
  },
  {
   "cell_type": "code",
   "execution_count": null,
   "id": "60d95785-1474-4a16-b2dd-64443b6f2360",
   "metadata": {},
   "outputs": [],
   "source": [
    "Chat300 = S300 * G300\n",
    "JudiLing.eval_SC(Chat300, cue_obj2.C)"
   ]
  },
  {
   "cell_type": "code",
   "execution_count": null,
   "id": "2d7101cc-e378-4a84-ad30-afebc47c50f2",
   "metadata": {},
   "outputs": [],
   "source": [
    "JudiLing.eval_SC_loose(Chat300, cue_obj2.C, 5)"
   ]
  },
  {
   "cell_type": "code",
   "execution_count": null,
   "id": "b4fb929a-886c-4d78-96f7-206709926f97",
   "metadata": {},
   "outputs": [],
   "source": [
    "JudiLing.eval_SC_loose(Chat300, cue_obj2.C, 10)"
   ]
  },
  {
   "cell_type": "markdown",
   "id": "54d126ab-0720-49d7-b70d-869cf258cfc1",
   "metadata": {},
   "source": [
    "With higher k accuracy increases."
   ]
  },
  {
   "cell_type": "markdown",
   "id": "2449cf4f-5224-4d4a-945e-ca10dc8a052c",
   "metadata": {},
   "source": [
    "### Exercise 5\n",
    "\n",
    "Compute token-based accuracy:"
   ]
  },
  {
   "cell_type": "code",
   "execution_count": null,
   "id": "2c1c4411-941f-420d-9136-82e2db41f925",
   "metadata": {},
   "outputs": [],
   "source": [
    "JudiLing.eval_SC(Shat300, S300, latin, :Word, freq=latin.sim_freq)"
   ]
  },
  {
   "cell_type": "code",
   "execution_count": null,
   "id": "67aad1c8-74ac-4c16-ae35-18e5cbac184b",
   "metadata": {
    "scrolled": true
   },
   "outputs": [],
   "source": [
    "JudiLing.eval_SC(Chat300, cue_obj2.C, latin, :Word, freq=latin.sim_freq)"
   ]
  },
  {
   "cell_type": "markdown",
   "id": "1171902a-ddf3-4101-bb1a-1d17315c5406",
   "metadata": {},
   "source": [
    "Accuracy stays very similar under token-based evaluation compared to type-based evaluation."
   ]
  },
  {
   "cell_type": "markdown",
   "id": "ccba9cc4-195a-489c-8090-30bd82370fa3",
   "metadata": {},
   "source": [
    "### Exercise 6\n",
    "\n",
    "Using `accuracy_comprehension` to inspect which words are not understood correctly in a mapping from a bigram cue matrix to a 300-dimensional semantic matrix. "
   ]
  },
  {
   "cell_type": "code",
   "execution_count": null,
   "id": "91f7a233-4825-43ec-9f00-8e5a8ff86889",
   "metadata": {},
   "outputs": [],
   "source": [
    "acc = JudiLing.accuracy_comprehension(S300, Shat300, latin,\n",
    "                                        target_col=:Word,\n",
    "                                        base=[\"Lexeme\"],\n",
    "                                        inflections=[\"Person\", \"Number\", \"Tense\", \"Voice\", \"Mood\"]);"
   ]
  },
  {
   "cell_type": "code",
   "execution_count": null,
   "id": "961d8a65-0bd3-4490-a203-5170ba2cd486",
   "metadata": {
    "scrolled": true
   },
   "outputs": [],
   "source": [
    "dfr = acc.dfr"
   ]
  },
  {
   "cell_type": "markdown",
   "id": "e9e7e616-7b3f-4a4c-ba92-65b5c38d0f7e",
   "metadata": {},
   "source": [
    "With which inflectional feature does the mapping struggle with the most?"
   ]
  },
  {
   "cell_type": "code",
   "execution_count": null,
   "id": "d6073ab0-47a5-40b4-b86b-d116e8d946fe",
   "metadata": {
    "scrolled": true
   },
   "outputs": [],
   "source": [
    "sum.(eachcol(dfr[:,[\"Lexeme\", \"Person\", \"Number\", \"Tense\", \"Voice\", \"Mood\"]]))"
   ]
  },
  {
   "cell_type": "markdown",
   "id": "3083a08b-0c64-49bb-bc6a-b967037e1c08",
   "metadata": {},
   "source": [
    "It makes the most mistakes for \"Mood\" (note that this may look different for you, since the simulated semantic matrix introduces randomness into the process)."
   ]
  },
  {
   "cell_type": "code",
   "execution_count": null,
   "id": "ed23f338-2748-4124-add4-c6c777963c03",
   "metadata": {},
   "outputs": [],
   "source": []
  }
 ],
 "metadata": {
  "kernelspec": {
   "display_name": "Julia 1.11.2",
   "language": "julia",
   "name": "julia-1.11"
  },
  "language_info": {
   "file_extension": ".jl",
   "mimetype": "application/julia",
   "name": "julia",
   "version": "1.11.2"
  },
  "toc": {
   "base_numbering": 1,
   "nav_menu": {},
   "number_sections": true,
   "sideBar": true,
   "skip_h1_title": false,
   "title_cell": "Table of Contents",
   "title_sidebar": "Contents",
   "toc_cell": false,
   "toc_position": {
    "height": "calc(100% - 180px)",
    "left": "10px",
    "top": "150px",
    "width": "332.59375px"
   },
   "toc_section_display": true,
   "toc_window_display": false
  }
 },
 "nbformat": 4,
 "nbformat_minor": 5
}
