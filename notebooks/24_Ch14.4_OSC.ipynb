{
 "cells": [
  {
   "cell_type": "markdown",
   "id": "52e80c8a-408c-459e-a623-74866614085f",
   "metadata": {},
   "source": [
    "# Chapter 14.4: Orthographic-Semantic-Consistency measure"
   ]
  },
  {
   "cell_type": "markdown",
   "id": "df2a0685-2b37-49c1-8bb8-b672d43da158",
   "metadata": {},
   "source": [
    "Load the usual packages"
   ]
  },
  {
   "cell_type": "code",
   "execution_count": null,
   "id": "dbc7c52b-782c-42d3-9b93-eb36697ddf7a",
   "metadata": {},
   "outputs": [],
   "source": [
    "using CSV, RCall, JudiLing, JudiLingMeasures"
   ]
  },
  {
   "cell_type": "markdown",
   "id": "a131057c-2623-4598-b251-08f65096e124",
   "metadata": {},
   "source": [
    "The dataset with OSC measures included can be downloaded from [here](https://www.marcomarelli.net/resources/osc). Store it in `../dat/English_OSC.txt`, then we can continue:"
   ]
  },
  {
   "cell_type": "code",
   "execution_count": null,
   "id": "b849a1c9-e91e-4aee-8cbb-48973f700606",
   "metadata": {
    "scrolled": true
   },
   "outputs": [],
   "source": [
    "eng = JudiLing.load_dataset(\"../dat/English_OSC.txt\", delim=\" \");"
   ]
  },
  {
   "cell_type": "code",
   "execution_count": null,
   "id": "e5388d76-5648-4ecd-94fe-84fe6bfc12df",
   "metadata": {
    "scrolled": true
   },
   "outputs": [],
   "source": [
    "first(eng, 10)"
   ]
  },
  {
   "cell_type": "code",
   "execution_count": null,
   "id": "21edb44d-5a71-44e6-a3d7-9f913c5c83ac",
   "metadata": {},
   "outputs": [],
   "source": [
    "eng.FreqOSC = exp.(eng.log_frequency);"
   ]
  },
  {
   "cell_type": "markdown",
   "id": "d83ce2a9-9829-4c18-b484-4027b887757d",
   "metadata": {},
   "source": [
    "Load fasttext vectors for the words in `eng`:"
   ]
  },
  {
   "cell_type": "code",
   "execution_count": null,
   "id": "d46ef70f-27b5-42d3-8867-f020d58f3cc1",
   "metadata": {
    "scrolled": true
   },
   "outputs": [],
   "source": [
    "engft, S = JudiLing.load_S_matrix_from_fasttext(eng, :en, target_col=:word)"
   ]
  },
  {
   "cell_type": "code",
   "execution_count": null,
   "id": "b8aabd0a-88a8-4182-a79c-035a1085876d",
   "metadata": {},
   "outputs": [],
   "source": [
    "size(engft)\n",
    "size(S)"
   ]
  },
  {
   "cell_type": "markdown",
   "id": "412893ff-748e-4ece-a859-b716b35a7b21",
   "metadata": {},
   "source": [
    "Generate cue object, train F and G matrices and predict semantic and cue matrices:"
   ]
  },
  {
   "cell_type": "code",
   "execution_count": null,
   "id": "1964bef7-5f51-4ee9-bdfa-f150a01d6819",
   "metadata": {},
   "outputs": [],
   "source": [
    "cue_obj = JudiLing.make_cue_matrix(engft, grams=3, target_col=\"word\");"
   ]
  },
  {
   "cell_type": "code",
   "execution_count": null,
   "id": "31fb5f4a-8301-4b49-b090-dff4735932de",
   "metadata": {},
   "outputs": [],
   "source": [
    "F = JudiLing.make_transform_matrix(cue_obj.C, S, engft.FreqOSC);\n",
    "Shat = cue_obj.C * F;"
   ]
  },
  {
   "cell_type": "code",
   "execution_count": null,
   "id": "a4d211e9-61e1-415a-bfba-95542e4d049a",
   "metadata": {},
   "outputs": [],
   "source": [
    "G = JudiLing.make_transform_matrix(S, cue_obj.C, engft.FreqOSC);\n",
    "Chat = S * G;"
   ]
  },
  {
   "cell_type": "markdown",
   "id": "50961cfb-b1a9-407d-9103-a8a20fce9a5a",
   "metadata": {},
   "source": [
    "Compute all low-cost measures:"
   ]
  },
  {
   "cell_type": "code",
   "execution_count": null,
   "id": "bde6e282-acac-430e-8088-01070cd25417",
   "metadata": {},
   "outputs": [],
   "source": [
    "res = JudiLingMeasures.compute_all_measures_train(engft, \n",
    "                 cue_obj, Chat, S, Shat, F, G, \n",
    "                 low_cost_measures_only=true);"
   ]
  },
  {
   "cell_type": "code",
   "execution_count": null,
   "id": "c4fe13dd-ecc4-4955-8819-75642057bb80",
   "metadata": {},
   "outputs": [],
   "source": [
    "first(res, 3)"
   ]
  },
  {
   "cell_type": "markdown",
   "id": "ee3c72c5-acae-4137-bc10-7f4b193b0cae",
   "metadata": {},
   "source": [
    "Save the result."
   ]
  },
  {
   "cell_type": "markdown",
   "id": "7c51bf3d-3e3b-414d-b77a-686ed4f067f5",
   "metadata": {},
   "source": [
    "We now merge in reaction times from the British Lexicon Project. If you haven't done so before, download [blp-tems.txt.zip](https://osf.io/b5sdk/#!/blp-items.txt.zip), store the file in `../dat`, and unzip.    "
   ]
  },
  {
   "cell_type": "code",
   "execution_count": null,
   "id": "4d54b678-36a9-4812-9beb-90e8a0ad0099",
   "metadata": {},
   "outputs": [],
   "source": [
    "@rput res;"
   ]
  },
  {
   "cell_type": "code",
   "execution_count": null,
   "id": "235f7ff3-4a2d-48d5-b7c8-c5b5e1b19df4",
   "metadata": {
    "scrolled": true
   },
   "outputs": [],
   "source": [
    "R\"\"\"\n",
    "blp = read.table(\"../dat/blp-items.txt\", header=TRUE)\n",
    "rt = blp$rt\n",
    "names(rt)=blp$spelling\n",
    "res$rt = rt[as.character(res$word)]\n",
    "res = res[!is.na(res$rt),]\n",
    "res$rank = unlist(res$rank)\n",
    "res$SemanticSupportForForm = unlist(res$SemanticSupportForForm)\n",
    "res$Support = unlist(res$Support)\n",
    "res$RTinv = -1000/res$rt\n",
    "res$WordLength = nchar(res$word)\n",
    "write.csv(res, file=\"../res/engft_measures.csv\")\n",
    "\"\"\";"
   ]
  },
  {
   "cell_type": "markdown",
   "id": "2c91bbe2-2234-4c59-9eea-a9bda2dcb576",
   "metadata": {},
   "source": [
    "Inspect selected measures and RTs in pairsplot:"
   ]
  },
  {
   "cell_type": "code",
   "execution_count": null,
   "id": "74daca1b-ddd8-4dbd-a429-963f1c024c96",
   "metadata": {},
   "outputs": [],
   "source": [
    "R\"\"\"\n",
    "install.packages('languageR')\n",
    "library(languageR)\n",
    "pairscor.fnc(res[,c(\"RTinv\", \"OSC\", \"TargetCorrelation\", \"SemanticSupportForForm\", \"SemanticDensity\", \"NNC\")])\n",
    "\"\"\""
   ]
  },
  {
   "cell_type": "markdown",
   "id": "c54bd3bb-435c-491e-85ef-9e8276d95190",
   "metadata": {},
   "source": [
    "Assess effect of OSC and three DLM-based predictors on reaction times:"
   ]
  },
  {
   "cell_type": "code",
   "execution_count": null,
   "id": "36004860-ff37-419a-92e6-c52d3bf63eb7",
   "metadata": {},
   "outputs": [],
   "source": [
    "R\"\"\"\n",
    "library(mgcv)\n",
    "res.gam0 = gam(RTinv ~ s(OSC) + s(WordLength) +\n",
    "                          s(TargetCorrelation) + \n",
    "                          s(NNC),\n",
    "              data=res);\n",
    "summary(res.gam0)\n",
    "\"\"\""
   ]
  },
  {
   "cell_type": "code",
   "execution_count": null,
   "id": "e5635f84-d4af-4cf7-a1ff-b54e5f6ec605",
   "metadata": {
    "scrolled": true
   },
   "outputs": [],
   "source": [
    "R\"\"\"\n",
    "plot(res.gam0, pages=1);\n",
    "\"\"\""
   ]
  },
  {
   "cell_type": "markdown",
   "id": "6966eecb-3a7c-41e0-8fb8-ed01730eb5ad",
   "metadata": {},
   "source": [
    "The wiggly effect for OSC suggest overfitting, we set k to 4."
   ]
  },
  {
   "cell_type": "code",
   "execution_count": null,
   "id": "cab93c75-3de0-44ce-83ab-7c789eb0027f",
   "metadata": {
    "scrolled": true
   },
   "outputs": [],
   "source": [
    "R\"\"\"\n",
    "res.gam1 = gam(RTinv ~ s(OSC, k=4) + s(WordLength) +\n",
    "                          s(TargetCorrelation) + \n",
    "                          s(NNC),\n",
    "              data=res);\n",
    "summary(res.gam1)\n",
    "\"\"\""
   ]
  },
  {
   "cell_type": "markdown",
   "id": "6caefe07-1db0-47d5-a984-016b3275ced3",
   "metadata": {},
   "source": [
    "Compute contribution to AIC for each predictor:"
   ]
  },
  {
   "cell_type": "code",
   "execution_count": null,
   "id": "0aa33177-f2a7-461d-9235-850c8e6c2ad2",
   "metadata": {
    "scrolled": true
   },
   "outputs": [],
   "source": [
    "R\"\"\"\n",
    "res.no.OSC.gam       = gam(RTinv ~ s(WordLength) +\n",
    "                                       s(TargetCorrelation) + s(NNC),\n",
    "                           data=res);\n",
    "res.no.length.gam    = gam(RTinv ~ s(OSC, k=4) + \n",
    "                                       s(TargetCorrelation) + s(NNC),\n",
    "                           data=res);\n",
    "res.no.TargetCor.gam = gam(RTinv ~ s(OSC, k=4) +  s(WordLength)+\n",
    "                                       s(NNC),\n",
    "                           data=res);\n",
    "res.no.NNC.gam       = gam(RTinv ~ s(OSC, k=4) +  s(WordLength)+\n",
    "                                       s(TargetCorrelation),\n",
    "                           data=res);\n",
    "\"\"\""
   ]
  },
  {
   "cell_type": "code",
   "execution_count": null,
   "id": "b592cb0b-e3bf-47e1-b51b-0fbd75f66782",
   "metadata": {},
   "outputs": [],
   "source": [
    "R\"\"\"\n",
    "aics = AIC(res.gam1, res.no.OSC.gam, res.no.length.gam, res.no.TargetCor.gam, res.no.NNC.gam)\n",
    "aics = aics[order(aics$AIC),]\n",
    "aics$dAIC = aics$AIC-aics$AIC[1]\n",
    "aics\n",
    "\"\"\""
   ]
  },
  {
   "cell_type": "markdown",
   "id": "5d2f2802-9db1-4333-aefe-22b0add0bb1c",
   "metadata": {},
   "source": [
    "Visualise effects:"
   ]
  },
  {
   "cell_type": "code",
   "execution_count": null,
   "id": "ff78c20b-a4ff-4649-bd4e-67f331d5da21",
   "metadata": {},
   "outputs": [],
   "source": [
    "R\"\"\"\n",
    "par(mfrow=c(2,2))\n",
    "plot(res.gam1, select=1, scheme=1, shade.col=\"steelblue2\",\n",
    " ylab=\"partial effect RTinv\") \n",
    "mtext(\"d(AIC) = 125.7\", 3, 1.4)\n",
    "abline(h=0, col=\"indianred\")\n",
    "plot(res.gam1, select=2, scheme=1, shade.col=\"steelblue2\",\n",
    "  xlab=\"Word Length\", ylab=\"partial effect RTinv\") \n",
    "mtext(\"d(AIC) = 957.7\", 3, 1.4)\n",
    "abline(h=0, col=\"indianred\")\n",
    "plot(res.gam1, select=3, scheme=1, shade.col=\"steelblue2\",\n",
    " ylab=\"partial effect RTinv\") \n",
    "abline(h=0, col=\"indianred\")\n",
    "mtext(\"d(AIC) = 3828.8\", 3, 1.4)\n",
    "plot(res.gam1, select=4, scheme=1, shade.col=\"steelblue2\",\n",
    " ylab=\"partial effect RTinv\") \n",
    "mtext(\"d(AIC) = 4.8\", 3, 1.4)\n",
    "abline(h=0, col=\"indianred\")\n",
    "\"\"\""
   ]
  },
  {
   "cell_type": "code",
   "execution_count": null,
   "id": "d80f6331-2131-4a24-b242-08b5f76e4338",
   "metadata": {},
   "outputs": [],
   "source": [
    "R\"\"\"\n",
    "pdf(\"../fig/osc_partial_effects.pdf\", he=6, wi=6)\n",
    "par(mfrow=c(2,2), oma=rep(0,4), mar=c(5,4,3,1))\n",
    "plot(res.gam1, select=1, scheme=1, shade.col=\"steelblue2\",\n",
    " ylab=\"partial effect RTinv\") \n",
    "mtext(\"d(AIC) = 125.7\", 3, 1.4)\n",
    "abline(h=0, col=\"indianred\")\n",
    "plot(res.gam1, select=2, scheme=1, shade.col=\"steelblue2\",\n",
    "  xlab=\"Word Length\", ylab=\"partial effect RTinv\") \n",
    "mtext(\"d(AIC) = 957.7\", 3, 1.4)\n",
    "abline(h=0, col=\"indianred\")\n",
    "plot(res.gam1, select=3, scheme=1, shade.col=\"steelblue2\",\n",
    " ylab=\"partial effect RTinv\") \n",
    "abline(h=0, col=\"indianred\")\n",
    "mtext(\"d(AIC) = 3828.8\", 3, 1.4)\n",
    "plot(res.gam1, select=4, scheme=1, shade.col=\"steelblue2\",\n",
    " ylab=\"partial effect RTinv\") \n",
    "mtext(\"d(AIC) = 4.8\", 3, 1.4)\n",
    "abline(h=0, col=\"indianred\")\n",
    "dev.off()\n",
    "\"\"\""
   ]
  },
  {
   "cell_type": "code",
   "execution_count": null,
   "id": "fc295ac8-047c-4421-a689-1b6cf540ceaa",
   "metadata": {},
   "outputs": [],
   "source": []
  }
 ],
 "metadata": {
  "kernelspec": {
   "display_name": "Julia 1.11.2",
   "language": "julia",
   "name": "julia-1.11"
  },
  "language_info": {
   "file_extension": ".jl",
   "mimetype": "application/julia",
   "name": "julia",
   "version": "1.11.2"
  }
 },
 "nbformat": 4,
 "nbformat_minor": 5
}
