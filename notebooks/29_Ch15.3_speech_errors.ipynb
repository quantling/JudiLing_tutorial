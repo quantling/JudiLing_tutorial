{
 "cells": [
  {
   "cell_type": "markdown",
   "id": "eaf1b90e",
   "metadata": {},
   "source": [
    "# Chapter 15.3: Speech errors"
   ]
  },
  {
   "cell_type": "code",
   "execution_count": null,
   "id": "f57485f3",
   "metadata": {
    "scrolled": true
   },
   "outputs": [],
   "source": [
    "using DataFrames, CSV, JudiLing, RCall, Statistics"
   ]
  },
  {
   "cell_type": "markdown",
   "id": "2bbe3c89",
   "metadata": {},
   "source": [
    "# Setting up prior knowledge"
   ]
  },
  {
   "cell_type": "markdown",
   "id": "920dfd6d",
   "metadata": {},
   "source": [
    "## Data"
   ]
  },
  {
   "cell_type": "code",
   "execution_count": null,
   "id": "dd27ad72",
   "metadata": {},
   "outputs": [],
   "source": [
    "words = JudiLing.load_dataset(\"../dat/wordinfo_fasttext_aligned.csv\");\n",
    "size(words)"
   ]
  },
  {
   "cell_type": "code",
   "execution_count": null,
   "id": "fbdf6ef5",
   "metadata": {},
   "outputs": [],
   "source": [
    "S, wordlist = JudiLing.load_S_matrix(\"../dat/fasttext_wordinfo_aligned.csv\"; header = false, sep = \",\");\n",
    "size(S)"
   ]
  },
  {
   "cell_type": "markdown",
   "id": "0eb75563",
   "metadata": {},
   "source": [
    "## Setting up the mappings"
   ]
  },
  {
   "cell_type": "code",
   "execution_count": null,
   "id": "9ccc307b",
   "metadata": {},
   "outputs": [],
   "source": [
    "cue_obj = JudiLing.make_cue_matrix(words,\n",
    "                                   grams=3,\n",
    "                                   target_col = :Phon);"
   ]
  },
  {
   "cell_type": "code",
   "execution_count": null,
   "id": "0b8245de",
   "metadata": {},
   "outputs": [],
   "source": [
    "size(cue_obj.C)"
   ]
  },
  {
   "cell_type": "code",
   "execution_count": null,
   "id": "ea99b347",
   "metadata": {},
   "outputs": [],
   "source": [
    "F = JudiLing.make_transform_matrix(cue_obj.C, S);\n",
    "Shat = cue_obj.C * F;"
   ]
  },
  {
   "cell_type": "code",
   "execution_count": null,
   "id": "83ff081f",
   "metadata": {},
   "outputs": [],
   "source": [
    "size(F)"
   ]
  },
  {
   "cell_type": "code",
   "execution_count": null,
   "id": "257ceb76",
   "metadata": {},
   "outputs": [],
   "source": [
    "JudiLing.eval_SC(Shat, S, words, :Phon)"
   ]
  },
  {
   "cell_type": "code",
   "execution_count": null,
   "id": "5bb061c7",
   "metadata": {},
   "outputs": [],
   "source": [
    "JudiLing.write_comprehension_eval(Shat, S, words, :Phon, \"../res/comprehension.csv\")"
   ]
  },
  {
   "cell_type": "code",
   "execution_count": null,
   "id": "dc089e9d",
   "metadata": {},
   "outputs": [],
   "source": [
    "G = JudiLing.make_transform_matrix(S, cue_obj.C);\n",
    "Chat = S * G;"
   ]
  },
  {
   "cell_type": "code",
   "execution_count": null,
   "id": "0eb13f73",
   "metadata": {},
   "outputs": [],
   "source": [
    "max_t = JudiLing.cal_max_timestep(words, words, \"Phon\")"
   ]
  },
  {
   "cell_type": "code",
   "execution_count": null,
   "id": "058b0d22",
   "metadata": {
    "scrolled": true
   },
   "outputs": [],
   "source": [
    "res = JudiLing.learn_paths(words,\n",
    "                           cue_obj,\n",
    "                           S,\n",
    "                           F,\n",
    "                           Chat,\n",
    "                           threshold=0.005,\n",
    "                           Shat_val=Shat, \n",
    "                           verbose=true);"
   ]
  },
  {
   "cell_type": "code",
   "execution_count": null,
   "id": "8de1382c",
   "metadata": {},
   "outputs": [],
   "source": [
    "JudiLing.eval_acc(res, cue_obj)"
   ]
  },
  {
   "cell_type": "code",
   "execution_count": null,
   "id": "1ab7bc05",
   "metadata": {},
   "outputs": [],
   "source": [
    "JudiLing.write2csv(res, words, cue_obj, cue_obj,\n",
    "\"../res/production.csv\", target_col=:Phon)"
   ]
  },
  {
   "attachments": {},
   "cell_type": "markdown",
   "id": "b3aea481",
   "metadata": {},
   "source": [
    "__production neighbors of *thinly*:__\n",
    "*  *thickly, thick, thinned, finely, thin, sliced, crudely, trickly, poorly*\n",
    "\n",
    "__production neighbors of *sliced*:__\n",
    "*  *diced, slices, chopped, spliced, cubed, peeled, dice, thinly, sauced*"
   ]
  },
  {
   "cell_type": "markdown",
   "id": "0aa7be53",
   "metadata": {},
   "source": [
    "# Modeling  slicely thinned "
   ]
  },
  {
   "cell_type": "markdown",
   "id": "d4c51161",
   "metadata": {},
   "source": [
    "### Option 1: generating from the stems"
   ]
  },
  {
   "cell_type": "markdown",
   "id": "8f1b331c",
   "metadata": {},
   "source": [
    "v(slice)+v(ly),  v(thin)+v(ed)"
   ]
  },
  {
   "cell_type": "markdown",
   "id": "e8b55d57",
   "metadata": {},
   "source": [
    "Inflectional morphology of the dataset"
   ]
  },
  {
   "cell_type": "code",
   "execution_count": null,
   "id": "af8e772a",
   "metadata": {
    "scrolled": true
   },
   "outputs": [],
   "source": [
    "combine(groupby(words, :Flection), nrow)"
   ]
  },
  {
   "cell_type": "markdown",
   "id": "1d90555f-c25d-4217-b183-0e82c8c70859",
   "metadata": {},
   "source": [
    "Creating semantic vectors for -ly and -ed:"
   ]
  },
  {
   "cell_type": "code",
   "execution_count": null,
   "id": "c132252f-25ab-4694-b448-a7c10d6f01eb",
   "metadata": {},
   "outputs": [],
   "source": [
    "inflections = unique(words.Flection)"
   ]
  },
  {
   "cell_type": "code",
   "execution_count": null,
   "id": "e0871d17-4e3d-435f-af40-1a4f57e962d9",
   "metadata": {},
   "outputs": [],
   "source": [
    "flection_matrix = zeros((length(inflections), size(S,2)))"
   ]
  },
  {
   "cell_type": "code",
   "execution_count": null,
   "id": "1a38ecd1-048c-43d5-b764-097ccb17bc1e",
   "metadata": {},
   "outputs": [],
   "source": [
    "for (i, flect) in enumerate(inflections)\n",
    "    flection_matrix[i, :] = mean(S[words.Flection .== flect, :], dims=1)\n",
    "end"
   ]
  },
  {
   "cell_type": "code",
   "execution_count": null,
   "id": "d1af5d97-d4da-4063-8dd0-e8ead389be73",
   "metadata": {},
   "outputs": [],
   "source": [
    "flection_matrix"
   ]
  },
  {
   "cell_type": "markdown",
   "id": "37570f08",
   "metadata": {},
   "source": [
    "Setting up the semantic vectors of the speech errors."
   ]
  },
  {
   "cell_type": "code",
   "execution_count": null,
   "id": "51903ca7",
   "metadata": {
    "scrolled": true
   },
   "outputs": [],
   "source": [
    "Serror = [flection_matrix[inflections .== \"LY\",:] .+ S[wordlist .== \"slice\",:]\n",
    "          flection_matrix[inflections .== \"ED\",:] .+ S[wordlist .== \"thin\",:]]\n",
    "m = hcat(DataFrame(:word => [\"slicely\", \"thinned\"]), DataFrame(Serror, :auto))\n",
    "CSV.write(\"../res/Serror1.csv\", m, header=false)"
   ]
  },
  {
   "cell_type": "code",
   "execution_count": null,
   "id": "74d26a7e",
   "metadata": {},
   "outputs": [],
   "source": [
    "Serrors, errors = JudiLing.load_S_matrix(\"../res/Serror1.csv\"; header = false, sep = \",\");\n",
    "size(Serrors)"
   ]
  },
  {
   "cell_type": "code",
   "execution_count": null,
   "id": "9eba94b8",
   "metadata": {
    "scrolled": true
   },
   "outputs": [],
   "source": [
    "speech_errors = JudiLing.load_dataset(\"../dat/speech_errors.csv\");\n",
    "speech_errors"
   ]
  },
  {
   "cell_type": "markdown",
   "id": "71975ac6-da48-4889-9662-dd7af77b0d63",
   "metadata": {},
   "source": [
    "Setting up cue matrices for training and error data:"
   ]
  },
  {
   "cell_type": "code",
   "execution_count": null,
   "id": "1a41f7b6",
   "metadata": {},
   "outputs": [],
   "source": [
    "cue_obj_train, cue_obj_errors = JudiLing.make_combined_cue_matrix(\n",
    "  words[:,[:Phon]],\n",
    "  speech_errors[:,[:Phon]],\n",
    "  grams=3,\n",
    "  target_col=\"Phon\");"
   ]
  },
  {
   "cell_type": "markdown",
   "id": "7e67e738-6861-4034-b9df-b07c58c4553f",
   "metadata": {},
   "source": [
    "Computing the mapping:"
   ]
  },
  {
   "cell_type": "code",
   "execution_count": null,
   "id": "4d3543d6",
   "metadata": {},
   "outputs": [],
   "source": [
    "F = JudiLing.make_transform_matrix(cue_obj_train.C, S);"
   ]
  },
  {
   "cell_type": "code",
   "execution_count": null,
   "id": "e91ab71e",
   "metadata": {},
   "outputs": [],
   "source": [
    "G = JudiLing.make_transform_matrix(S, cue_obj_train.C);\n",
    "Chat_errors = Serrors * G;"
   ]
  },
  {
   "cell_type": "markdown",
   "id": "47da5e0e-c8f6-430d-91c5-bc31e8f1c4f3",
   "metadata": {},
   "source": [
    "Running learn paths:"
   ]
  },
  {
   "cell_type": "code",
   "execution_count": null,
   "id": "fafb5f15",
   "metadata": {},
   "outputs": [],
   "source": [
    "prod_errors = JudiLing.learn_paths(\n",
    "   words[:,[:Phon]],   \n",
    "   speech_errors[:,[:Phon]],   \n",
    "   cue_obj_train.C, \n",
    "   Serrors, \n",
    "   F, \n",
    "   Chat_errors, \n",
    "   cue_obj_errors.A, \n",
    "   cue_obj_train.i2f, \n",
    "   cue_obj_train.f2i, \n",
    "   max_t=max_t,\n",
    "   threshold=0.01,\n",
    "   grams=3,\n",
    "   target_col=\"Phon\", \n",
    "   is_tolerant = true,\n",
    "   tolerance = -0.1, \n",
    "   max_tolerance = 1,\n",
    "   max_can = 10,\n",
    "   verbose=false);"
   ]
  },
  {
   "cell_type": "code",
   "execution_count": null,
   "id": "1d1e2c3b",
   "metadata": {},
   "outputs": [],
   "source": [
    "JudiLing.write2csv(prod_errors, speech_errors, cue_obj_train, cue_obj_errors,\n",
    "\"../res/production_errors1.csv\", target_col=:Phon)"
   ]
  },
  {
   "cell_type": "markdown",
   "id": "95ae8a38",
   "metadata": {},
   "source": [
    "__*slicely* is at rank 5:__ \n",
    "\n",
    "  *slices, slicing, sliced, slice, __slicely__, diced, pliesed, dice, plieses, thinly*\n",
    "  \n",
    "__*thinned* is at rank 1:__ \n",
    "\n",
    "  *__thinned__, thin, thins, thickly, thinly, thick, grazed, veiled, dry, clotted*\n"
   ]
  },
  {
   "cell_type": "markdown",
   "id": "311fd04a",
   "metadata": {},
   "source": [
    "### Option 2: replacing stem vectors, revising earlier assignment "
   ]
  },
  {
   "cell_type": "markdown",
   "id": "94fa8673",
   "metadata": {},
   "source": [
    "v(slice)+v(ly)-v(thin),  v(thin)+v(ed)-v(slice)"
   ]
  },
  {
   "cell_type": "code",
   "execution_count": null,
   "id": "3acef0d5",
   "metadata": {},
   "outputs": [],
   "source": [
    "Serror = [flection_matrix[inflections .== \"LY\",:] .+ S[wordlist .== \"slice\",:] .- S[wordlist .== \"thin\",:]\n",
    "          flection_matrix[inflections .== \"ED\",:] .+ S[wordlist .== \"thin\",:] .- S[wordlist .== \"slice\",:]]\n",
    "m = hcat(DataFrame(:word => [\"slicely\", \"thinned\"]), DataFrame(Serror, :auto))\n",
    "CSV.write(\"../res/Serror2.csv\", m, header=false)"
   ]
  },
  {
   "cell_type": "code",
   "execution_count": null,
   "id": "e7b81bbf",
   "metadata": {},
   "outputs": [],
   "source": [
    "Serrors, errors = JudiLing.load_S_matrix(\"../res/Serror2.csv\"; header = false, sep = \",\");"
   ]
  },
  {
   "cell_type": "code",
   "execution_count": null,
   "id": "abac8026",
   "metadata": {
    "scrolled": true
   },
   "outputs": [],
   "source": [
    "speech_errors = JudiLing.load_dataset(\"../dat/speech_errors.csv\")"
   ]
  },
  {
   "cell_type": "code",
   "execution_count": null,
   "id": "71b2ad7f",
   "metadata": {},
   "outputs": [],
   "source": [
    "cue_obj_train, cue_obj_errors = JudiLing.make_combined_cue_matrix(\n",
    "  words[:,[:Phon]],\n",
    "  speech_errors[:,[:Phon]],\n",
    "  grams=3,\n",
    "  target_col=\"Phon\");"
   ]
  },
  {
   "cell_type": "code",
   "execution_count": null,
   "id": "042476c9",
   "metadata": {},
   "outputs": [],
   "source": [
    "G = JudiLing.make_transform_matrix(S, cue_obj_train.C);\n",
    "Chat_errors = Serrors * G;"
   ]
  },
  {
   "cell_type": "code",
   "execution_count": null,
   "id": "77c4a5bc",
   "metadata": {},
   "outputs": [],
   "source": [
    "prod_errors = JudiLing.learn_paths(\n",
    "   words[:,[:Phon]],   \n",
    "   speech_errors[:,[:Phon]],   \n",
    "   cue_obj_train.C, \n",
    "   Serrors, \n",
    "   F, \n",
    "   Chat_errors, \n",
    "   cue_obj_errors.A, \n",
    "   cue_obj_train.i2f, \n",
    "   cue_obj_train.f2i, \n",
    "   max_t=max_t,\n",
    "   threshold=0.005,\n",
    "   grams=3,\n",
    "   target_col=\"Phon\", \n",
    "   is_tolerant = true,\n",
    "   tolerance = -0.1, \n",
    "   max_tolerance = 1,\n",
    "   max_can = 10,\n",
    "   verbose=false);"
   ]
  },
  {
   "cell_type": "code",
   "execution_count": null,
   "id": "607a1434",
   "metadata": {},
   "outputs": [],
   "source": [
    "JudiLing.write2csv(prod_errors, speech_errors, cue_obj_train, cue_obj_errors,\n",
    "\"../res/production_errors2.csv\", target_col=:Phon)"
   ]
  },
  {
   "cell_type": "markdown",
   "id": "f6e4663c",
   "metadata": {},
   "source": [
    "__*slicely* is at rank 2:__ \n",
    "\n",
    "  *slice, __slicely__, slices, take, morsel, slicing, chop, sliced, dice, dices*\n",
    "  \n",
    "__*thinned* is at rank 1:__\n",
    "\n",
    "  *__thinned__, thin, thinning, thinned, thinneded, thins, thickly, thickling, thinneds, thick*\n",
    "  (thinned occurs once as TInd and once as TInIt)"
   ]
  },
  {
   "cell_type": "markdown",
   "id": "78bbade8",
   "metadata": {},
   "source": [
    "### Option 3: replacing stem vectors, backing off from closest inflectional neighbors"
   ]
  },
  {
   "cell_type": "markdown",
   "id": "cce94f2c",
   "metadata": {},
   "source": [
    "v(slice)+v(ly)-v(thinned),  v(thin)+v(ed)-v(slices)"
   ]
  },
  {
   "cell_type": "code",
   "execution_count": null,
   "id": "c5c4020c",
   "metadata": {},
   "outputs": [],
   "source": [
    "Serror = [flection_matrix[inflections .== \"LY\",:] .+ S[wordlist .== \"slice\",:] .- S[wordlist .== \"thinned\",:]\n",
    "          flection_matrix[inflections .== \"ED\",:] .+ S[wordlist .== \"thin\",:] .- S[wordlist .== \"slices\",:]]\n",
    "m = hcat(DataFrame(:word => [\"slicely\", \"thinned\"]), DataFrame(Serror, :auto))\n",
    "CSV.write(\"../res/Serror3.csv\", m, header=false)"
   ]
  },
  {
   "cell_type": "code",
   "execution_count": null,
   "id": "07c23ed6",
   "metadata": {
    "scrolled": true
   },
   "outputs": [],
   "source": [
    "Serrors, errors = JudiLing.load_S_matrix(\"../res/Serror3.csv\"; header = false, sep = \",\");"
   ]
  },
  {
   "cell_type": "code",
   "execution_count": null,
   "id": "96a9e419",
   "metadata": {},
   "outputs": [],
   "source": [
    "speech_errors = JudiLing.load_dataset(\"../dat/speech_errors.csv\");"
   ]
  },
  {
   "cell_type": "code",
   "execution_count": null,
   "id": "f39bd481",
   "metadata": {},
   "outputs": [],
   "source": [
    "cue_obj_train, cue_obj_errors = JudiLing.make_combined_cue_matrix(\n",
    "  words[:,[:Phon]],\n",
    "  speech_errors[:,[:Phon]],\n",
    "  grams=3,\n",
    "  target_col=\"Phon\");"
   ]
  },
  {
   "cell_type": "code",
   "execution_count": null,
   "id": "f296776e",
   "metadata": {},
   "outputs": [],
   "source": [
    "G = JudiLing.make_transform_matrix(S, cue_obj_train.C);\n",
    "Chat_errors = Serrors * G;"
   ]
  },
  {
   "cell_type": "code",
   "execution_count": null,
   "id": "e78430d1",
   "metadata": {},
   "outputs": [],
   "source": [
    "prod_errors = JudiLing.learn_paths(\n",
    "   words[:,[:Phon]],   \n",
    "   speech_errors[:,[:Phon]],   \n",
    "   cue_obj_train.C, \n",
    "   Serrors, \n",
    "   F, \n",
    "   Chat_errors, \n",
    "   cue_obj_errors.A, \n",
    "   cue_obj_train.i2f, \n",
    "   cue_obj_train.f2i, \n",
    "   max_t=max_t,\n",
    "   threshold=0.005,\n",
    "   grams=3,\n",
    "   target_col=\"Phon\", \n",
    "   is_tolerant = true,\n",
    "   tolerance = -0.1, \n",
    "   max_tolerance = 1,\n",
    "   max_can = 10,\n",
    "   verbose=false);"
   ]
  },
  {
   "cell_type": "code",
   "execution_count": null,
   "id": "006cbc9e",
   "metadata": {},
   "outputs": [],
   "source": [
    "JudiLing.write2csv(prod_errors, speech_errors, cue_obj_train, cue_obj_errors,\n",
    "\"../res/production_errors3.csv\", target_col=:Phon)"
   ]
  },
  {
   "cell_type": "markdown",
   "id": "e1c9c60f",
   "metadata": {},
   "source": [
    "__*slicely* is at rank 7:__ \n",
    "\n",
    "  *slice,  slices, slicing, chop, wrench, dice, slicely, slap, flip, wheel*\n",
    "  \n",
    "__*thinned* is at rank 1:__\n",
    "\n",
    "  *thinned, thin, thinning, lacked, thinny, thins, damped, thick, grade*"
   ]
  },
  {
   "cell_type": "code",
   "execution_count": null,
   "id": "c1c51d87-e4f6-4e12-a26d-003da404e5e8",
   "metadata": {},
   "outputs": [],
   "source": []
  },
  {
   "cell_type": "code",
   "execution_count": null,
   "id": "b21c6da4-2d37-47d8-8a73-e9057afc67fe",
   "metadata": {},
   "outputs": [],
   "source": []
  },
  {
   "cell_type": "code",
   "execution_count": null,
   "id": "0165a8e7-7a68-46aa-bfbd-1698d372290f",
   "metadata": {},
   "outputs": [],
   "source": []
  }
 ],
 "metadata": {
  "kernelspec": {
   "display_name": "Julia 1.11.2",
   "language": "julia",
   "name": "julia-1.11"
  },
  "language_info": {
   "file_extension": ".jl",
   "mimetype": "application/julia",
   "name": "julia",
   "version": "1.11.2"
  },
  "toc": {
   "base_numbering": 1,
   "nav_menu": {},
   "number_sections": true,
   "sideBar": true,
   "skip_h1_title": false,
   "title_cell": "Table of Contents",
   "title_sidebar": "Contents",
   "toc_cell": false,
   "toc_position": {},
   "toc_section_display": true,
   "toc_window_display": false
  }
 },
 "nbformat": 4,
 "nbformat_minor": 5
}
