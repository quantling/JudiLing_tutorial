{
 "cells": [
  {
   "cell_type": "markdown",
   "id": "2e06e473",
   "metadata": {},
   "source": [
    "# Chapter 14.5: Trial-to-trial learning in Dutch (Analysis in R)\n",
    "\n",
    "First, load the usual packages for data visualisation and analysis using GAMMs."
   ]
  },
  {
   "cell_type": "code",
   "execution_count": null,
   "id": "7a673fc5",
   "metadata": {
    "scrolled": true
   },
   "outputs": [],
   "source": [
    "library(mgcv)\n",
    "library(ggplot2)\n",
    "library(GGally)"
   ]
  },
  {
   "cell_type": "markdown",
   "id": "3c05162a",
   "metadata": {},
   "source": [
    "## Data preparation\n",
    "\n",
    "Load the two datasets created in the simulation part. From the dynamic dataset we only retain the columns with the measures, and add `.dynamic` to the names of all measures. Then the two are combined into one dataframe."
   ]
  },
  {
   "cell_type": "code",
   "execution_count": null,
   "id": "96106464",
   "metadata": {
    "scrolled": true
   },
   "outputs": [],
   "source": [
    "dat_static = read.csv(\"../res/dlp-trial-measures-static.csv\")\n",
    "dat_dynamic = read.csv(\"../res/dlp-trial-measures-dynamic.csv\")[,c(6, 22:23)]\n",
    "colnames(dat_dynamic)<-paste(colnames(dat_dynamic),\"dynamic\",sep=\".\")\n",
    "dat = cbind(dat_static, dat_dynamic)\n",
    "head(dat)"
   ]
  },
  {
   "cell_type": "markdown",
   "id": "d67c382b",
   "metadata": {},
   "source": [
    "Since we also require frequency and orthographic neighbourhood density, we now also load the `dlp-stimuli` datasets (download it from the Dutch Lexicon Project, Keuleers et al, 2010, if you haven't done so before, from [here](https://osf.io/uw7t6/))."
   ]
  },
  {
   "cell_type": "code",
   "execution_count": null,
   "id": "7c4bfa9f",
   "metadata": {
    "scrolled": true
   },
   "outputs": [],
   "source": [
    "dlp_items = read.csv(\"../dat/dlp-stimuli.txt\", sep=\"\\t\")\n",
    "head(dlp_items)"
   ]
  },
  {
   "cell_type": "markdown",
   "id": "1bb2fc95",
   "metadata": {},
   "source": [
    "We merge the two dataframes along the `spelling` and `lexicality` columns."
   ]
  },
  {
   "cell_type": "code",
   "execution_count": null,
   "id": "8e3c8623",
   "metadata": {},
   "outputs": [],
   "source": [
    "dat = merge(dat, dlp_items, on=c(\"spelling\", \"lexicality\"))"
   ]
  },
  {
   "cell_type": "markdown",
   "id": "c388a5ed",
   "metadata": {},
   "source": [
    "Next, we exclude all rows where the reaction times are NaN or infinity, and for simplicity restrict ourselves to \"word\" responses:"
   ]
  },
  {
   "cell_type": "code",
   "execution_count": null,
   "id": "5ebad9eb",
   "metadata": {},
   "outputs": [],
   "source": [
    "dat=dat[!is.na(dat$rt.raw),]\n",
    "dat = dat[!is.infinite(dat$rt.raw),]\n",
    "dat = dat[(dat$response == \"W\"),]"
   ]
  },
  {
   "cell_type": "markdown",
   "id": "29e00ba9",
   "metadata": {},
   "source": [
    "Some normalisation of variables. For orthographic neighbourhood density we introduce an additional variable called \"has_neighbour\" which we will use later to avoid introducing bimodality for orthographic neighbourhood density."
   ]
  },
  {
   "cell_type": "code",
   "execution_count": null,
   "id": "288cb2fc",
   "metadata": {},
   "outputs": [],
   "source": [
    "dat$RTinv = -1000/dat$rt.raw\n",
    "dat$nletters = nchar(dat$spelling)\n",
    "dat[is.na(dat$subtlex.frequency), \"subtlex.frequency\"] = 0\n",
    "dat$has_frequency = ifelse(dat$subtlex.frequency > 0, 1, 0)\n",
    "dat$has_frequency_fac = as.factor(dat$has_frequency)\n",
    "dat$subtlex.frequency.log = dat$subtlex.frequency\n",
    "dat$subtlex.frequency.log[dat$has_frequency == 1] = as.numeric(scale(log(dat$subtlex.frequency[dat$has_frequency == 1])))\n",
    "dat$has_neighbour = ifelse(dat$coltheart.N > 0, 1, 0)\n",
    "dat$has_neighbour_fac = as.factor(dat$has_neighbour)\n",
    "dat$coltheart.N.log = dat$coltheart.N\n",
    "dat$coltheart.N.log[dat$has_neighbour == 1] = as.numeric(scale(log(dat$coltheart.N[dat$has_neighbour == 1])))"
   ]
  },
  {
   "cell_type": "code",
   "execution_count": null,
   "id": "ade51778",
   "metadata": {},
   "outputs": [],
   "source": [
    "table(dat$has_frequency_fac)"
   ]
  },
  {
   "cell_type": "code",
   "execution_count": null,
   "id": "b0c22e57",
   "metadata": {},
   "outputs": [],
   "source": [
    "dat = dat[order(dat$order),]"
   ]
  },
  {
   "cell_type": "markdown",
   "id": "e0211e84",
   "metadata": {},
   "source": [
    "## Classical model"
   ]
  },
  {
   "cell_type": "markdown",
   "id": "a932c426",
   "metadata": {},
   "source": [
    "For now, it still looks like Coltheart's N has a bimodal distribution, but this will be dealt with using the `has_neighbour` variable below."
   ]
  },
  {
   "cell_type": "code",
   "execution_count": null,
   "id": "d52d3aff",
   "metadata": {
    "scrolled": true
   },
   "outputs": [],
   "source": [
    "ggpairs(dat[, c(\"subtlex.frequency.log\", \"coltheart.N.log\")])"
   ]
  },
  {
   "cell_type": "markdown",
   "id": "e871d9fe",
   "metadata": {},
   "source": [
    "Run the GAM model:"
   ]
  },
  {
   "cell_type": "code",
   "execution_count": null,
   "id": "33d86d9c",
   "metadata": {},
   "outputs": [],
   "source": [
    "model.classical = gam(RTinv ~  s(order, k = 200) + \n",
    "                                s(subtlex.frequency.log, by=has_frequency_fac) + \n",
    "                                has_frequency_fac + \n",
    "                                s(coltheart.N.log, by=has_neighbour_fac) + \n",
    "                                has_neighbour_fac + s(nletters),\n",
    "                      data=dat)"
   ]
  },
  {
   "cell_type": "code",
   "execution_count": null,
   "id": "c5eb95e1",
   "metadata": {
    "scrolled": true
   },
   "outputs": [],
   "source": [
    "summary(model.classical)"
   ]
  },
  {
   "cell_type": "code",
   "execution_count": null,
   "id": "d541c4cd",
   "metadata": {
    "scrolled": true
   },
   "outputs": [],
   "source": [
    "options(repr.plot.width=15, repr.plot.height=10)\n",
    "#pdf(\"../../fig/trial.gam.classical.pdf\", he=10, wi=15)\n",
    "par(mfrow=c(2,3), mar=c(5.1, 5.1, 4.1, 2.1))\n",
    "plot(model.classical, scale=F, scheme=1, rug=T, shade.col=\"steelblue2\", ylab=\"RTinv\", cex.lab=2.5, cex.axis=2)\n",
    "#dev.off()"
   ]
  },
  {
   "cell_type": "code",
   "execution_count": null,
   "id": "8b770bb2",
   "metadata": {},
   "outputs": [],
   "source": [
    "options(repr.plot.width=20, repr.plot.height=5)\n",
    "#pdf(\"../../fig/trial.gam.classical.pdf\", he=5, wi=20)\n",
    "par(mfrow=c(1,4), mar=c(5.1, 5.1, 4.1, 2.1))\n",
    "for (i in c(1,3,5,6)){\n",
    "plot(model.classical, scheme=1, rug=T, shade.col=\"steelblue2\", ylab=\"RTinv\", \n",
    "     cex.lab=2.5, cex.axis=2, select=i, #ylim=c(-0.4, 0.25), \n",
    "     scale=F)\n",
    "    abline(h=0, col=\"indianred\")\n",
    "}\n",
    "#dev.off()"
   ]
  },
  {
   "cell_type": "markdown",
   "id": "12b53a18",
   "metadata": {},
   "source": [
    "Run model checks"
   ]
  },
  {
   "cell_type": "code",
   "execution_count": null,
   "id": "c50e9445",
   "metadata": {},
   "outputs": [],
   "source": [
    "concurvity(model.classical)"
   ]
  },
  {
   "cell_type": "code",
   "execution_count": null,
   "id": "68eba6b9",
   "metadata": {
    "scrolled": true
   },
   "outputs": [],
   "source": [
    "gam.check(model.classical)"
   ]
  },
  {
   "cell_type": "markdown",
   "id": "107a42e2",
   "metadata": {},
   "source": [
    "## Static model\n",
    "\n",
    "We first need to normalise the `L1Chat` variable."
   ]
  },
  {
   "cell_type": "code",
   "execution_count": null,
   "id": "1a62e169",
   "metadata": {},
   "outputs": [],
   "source": [
    "dat$L1Chat.log = log(dat$L1Chat + 0.002)\n",
    "dat$L1Chat.dynamic.log = log(dat$L1Chat.dynamic + 0.002)"
   ]
  },
  {
   "cell_type": "markdown",
   "id": "3d72aad4",
   "metadata": {},
   "source": [
    "Now all distributions look acceptable."
   ]
  },
  {
   "cell_type": "code",
   "execution_count": null,
   "id": "ba5d4467",
   "metadata": {
    "scrolled": true
   },
   "outputs": [],
   "source": [
    "ggpairs(dat[, c(\"SemanticDensity\", \"L1Chat.log\")])"
   ]
  },
  {
   "cell_type": "markdown",
   "id": "efdb583f",
   "metadata": {},
   "source": [
    "Run the model"
   ]
  },
  {
   "cell_type": "code",
   "execution_count": null,
   "id": "d6d95133",
   "metadata": {},
   "outputs": [],
   "source": [
    "model.static = gam(RTinv ~ s(order, k=200) +s(subtlex.frequency.log, by=has_frequency_fac) + has_frequency_fac + s(nletters) + \n",
    "                   s(SemanticDensity) + s(L1Chat.log) ,data=dat)"
   ]
  },
  {
   "cell_type": "code",
   "execution_count": null,
   "id": "be9eed9c",
   "metadata": {},
   "outputs": [],
   "source": [
    "summary(model.static)"
   ]
  },
  {
   "cell_type": "code",
   "execution_count": null,
   "id": "d6da2df3",
   "metadata": {
    "scrolled": true
   },
   "outputs": [],
   "source": [
    "options(repr.plot.width=15, repr.plot.height=10)\n",
    "#pdf(\"../../fig/trial.gam.static.pdf\", he=10, wi=15)\n",
    "par(mfrow=c(2,3), mar=c(5.1, 5.1, 4.1, 2.1))\n",
    "plot(model.static, scale=F, scheme=1, rug=T, shade.col=\"steelblue2\", ylab=\"RTinv\", cex.lab=2.5, cex.axis=2)\n",
    "#dev.off()"
   ]
  },
  {
   "cell_type": "code",
   "execution_count": null,
   "id": "1eef3c5a",
   "metadata": {},
   "outputs": [],
   "source": [
    "options(repr.plot.width=15, repr.plot.height=10)\n",
    "pdf(\"../fig/trial.gam.static_bw.pdf\", he=10, wi=15)\n",
    "par(mfrow=c(2,3), mar=c(5.1, 5.1, 4.1, 2.1))\n",
    "for (i in c(1, 3:6)) {\n",
    "plot(model.static, scale=F, scheme=1, rug=T, select=i, #ylim=c(-0.45, 0.30),\n",
    "     ylab=\"RTinv\", cex.lab=2.5, cex.axis=2)\n",
    "     abline(h=0)\n",
    "    }\n",
    "dev.off()"
   ]
  },
  {
   "cell_type": "markdown",
   "id": "2ff2a839",
   "metadata": {},
   "source": [
    "Some model checks:"
   ]
  },
  {
   "cell_type": "code",
   "execution_count": null,
   "id": "54714be2",
   "metadata": {
    "scrolled": true
   },
   "outputs": [],
   "source": [
    "concurvity(model.static)"
   ]
  },
  {
   "cell_type": "code",
   "execution_count": null,
   "id": "39a4a27c",
   "metadata": {
    "scrolled": true
   },
   "outputs": [],
   "source": [
    "gam.check(model.static)"
   ]
  },
  {
   "cell_type": "markdown",
   "id": "7cea7ffc",
   "metadata": {},
   "source": [
    "## Dynamic simulation\n",
    "\n",
    "Predictors look acceptable:"
   ]
  },
  {
   "cell_type": "code",
   "execution_count": null,
   "id": "c8769039",
   "metadata": {
    "scrolled": true
   },
   "outputs": [],
   "source": [
    "ggpairs(dat[, c(\"SemanticDensity.dynamic\", \"L1Chat.dynamic.log\")])"
   ]
  },
  {
   "cell_type": "markdown",
   "id": "2cc3f2d5",
   "metadata": {},
   "source": [
    "Run the model:"
   ]
  },
  {
   "cell_type": "code",
   "execution_count": null,
   "id": "f253c8f4",
   "metadata": {},
   "outputs": [],
   "source": [
    "model.dynamic = gam(RTinv ~s(order, k=200) + \n",
    "                    s(subtlex.frequency.log, by=has_frequency_fac) + has_frequency_fac + \n",
    "                    s(nletters) +\n",
    "                    s(SemanticDensity.dynamic) + \n",
    "                    s(L1Chat.dynamic.log),\n",
    "                    data=dat)"
   ]
  },
  {
   "cell_type": "code",
   "execution_count": null,
   "id": "0869c1f1",
   "metadata": {
    "scrolled": true
   },
   "outputs": [],
   "source": [
    "summary(model.dynamic)"
   ]
  },
  {
   "cell_type": "markdown",
   "id": "6aa623dd",
   "metadata": {},
   "source": [
    "Some model checks:"
   ]
  },
  {
   "cell_type": "code",
   "execution_count": null,
   "id": "598d3cd8",
   "metadata": {
    "scrolled": true
   },
   "outputs": [],
   "source": [
    "concurvity(model.dynamic)"
   ]
  },
  {
   "cell_type": "code",
   "execution_count": null,
   "id": "1e635bcf",
   "metadata": {
    "scrolled": true
   },
   "outputs": [],
   "source": [
    "gam.check(model.dynamic)"
   ]
  },
  {
   "cell_type": "code",
   "execution_count": null,
   "id": "b4065924",
   "metadata": {},
   "outputs": [],
   "source": [
    "#options(repr.plot.width=15, repr.plot.height=10)\n",
    "#pdf(\"../../fig/trial.gam.dynamic.pdf\", he=10, wi=15)\n",
    "par(mfrow=c(2,3), mar=c(5.1, 5.1, 4.1, 2.1))\n",
    "for (i in c(1, 3:6)) {\n",
    "plot(model.dynamic, scale=F, scheme=1, rug=T, select=i,\n",
    "     #ylim=c(-0.45, 0.30),\n",
    "     shade.col=\"steelblue2\", ylab=\"RTinv\", cex.lab=2.5, cex.axis=2)\n",
    "abline(h=0, col=\"indianred\")\n",
    "    if (i==5) abline(v=median(dat$SemanticDensity.dynamic))\n",
    "}\n",
    "#dev.off()"
   ]
  },
  {
   "cell_type": "markdown",
   "id": "fe1aa3ad",
   "metadata": {},
   "source": [
    "## Model comparison"
   ]
  },
  {
   "cell_type": "code",
   "execution_count": null,
   "id": "50537199",
   "metadata": {
    "scrolled": true
   },
   "outputs": [],
   "source": [
    "AIC(model.classical)"
   ]
  },
  {
   "cell_type": "code",
   "execution_count": null,
   "id": "7b69b682",
   "metadata": {},
   "outputs": [],
   "source": [
    "AIC(model.static)"
   ]
  },
  {
   "cell_type": "code",
   "execution_count": null,
   "id": "2a72774a",
   "metadata": {},
   "outputs": [],
   "source": [
    "AIC(model.dynamic)"
   ]
  },
  {
   "cell_type": "markdown",
   "id": "a834b4ab",
   "metadata": {},
   "source": [
    "## Competition between order and learning"
   ]
  },
  {
   "cell_type": "markdown",
   "id": "e4ed5ea9",
   "metadata": {},
   "source": [
    "The dynamic model captures more of the trial effect, which as a consequence contributes less to the model fit."
   ]
  },
  {
   "cell_type": "code",
   "execution_count": null,
   "id": "b7fd1596",
   "metadata": {},
   "outputs": [],
   "source": [
    "model.classical1 = gam(RTinv ~ s(subtlex.frequency.log, by=has_frequency_fac) + has_frequency_fac + \n",
    "                               s(coltheart.N.log, by=has_neighbour_fac) + has_neighbour_fac + s(nletters),\n",
    "                      data=dat)"
   ]
  },
  {
   "cell_type": "code",
   "execution_count": null,
   "id": "34af30a7",
   "metadata": {},
   "outputs": [],
   "source": [
    "model.static1 = gam(RTinv ~ #s(order, k=200) +\n",
    "                   s(subtlex.frequency.log, by=has_frequency_fac) + has_frequency_fac + s(nletters) + \n",
    "                   s(SemanticDensity) + s(L1Chat.log) ,data=dat)"
   ]
  },
  {
   "cell_type": "code",
   "execution_count": null,
   "id": "6a9a8d79",
   "metadata": {},
   "outputs": [],
   "source": [
    "model.dynamic1 = gam(RTinv ~ #s(order, k=200) + \n",
    "                    s(subtlex.frequency.log, by=has_frequency_fac) + has_frequency_fac + \n",
    "                    s(nletters) +\n",
    "                    s(SemanticDensity.dynamic) + \n",
    "                    s(L1Chat.dynamic.log),\n",
    "                    data=dat)"
   ]
  },
  {
   "cell_type": "code",
   "execution_count": null,
   "id": "de9fe6db",
   "metadata": {},
   "outputs": [],
   "source": [
    "AIC(model.static1)-AIC(model.static)"
   ]
  },
  {
   "cell_type": "code",
   "execution_count": null,
   "id": "32320cf0",
   "metadata": {},
   "outputs": [],
   "source": [
    "AIC(model.dynamic1)-AIC(model.dynamic)"
   ]
  },
  {
   "cell_type": "code",
   "execution_count": null,
   "id": "61df54ca",
   "metadata": {},
   "outputs": [],
   "source": [
    "AIC(model.dynamic1)"
   ]
  },
  {
   "cell_type": "code",
   "execution_count": null,
   "id": "31dbe006",
   "metadata": {},
   "outputs": [],
   "source": [
    "AIC(model.static1)"
   ]
  },
  {
   "cell_type": "code",
   "execution_count": null,
   "id": "f49e8f9d",
   "metadata": {},
   "outputs": [],
   "source": [
    "AIC(model.classical1)"
   ]
  },
  {
   "cell_type": "markdown",
   "id": "b3f6782e",
   "metadata": {},
   "source": [
    "Autocorrelations?"
   ]
  },
  {
   "cell_type": "code",
   "execution_count": null,
   "id": "dabd8482",
   "metadata": {
    "scrolled": true
   },
   "outputs": [],
   "source": [
    "par(mfrow=c(1,2))\n",
    "acf(resid(model.static))\n",
    "acf(resid(model.dynamic))"
   ]
  },
  {
   "cell_type": "markdown",
   "id": "2b5d48c3",
   "metadata": {},
   "source": [
    "Not really an issue."
   ]
  },
  {
   "cell_type": "code",
   "execution_count": null,
   "id": "62d93951",
   "metadata": {
    "scrolled": true
   },
   "outputs": [],
   "source": [
    "par(mfrow=c(1,2))\n",
    "qqnorm(resid(model.dynamic));qqline(resid(model.dynamic))\n",
    "qqnorm(resid(model.static));qqline(resid(model.static))"
   ]
  },
  {
   "cell_type": "markdown",
   "id": "8e100fd1",
   "metadata": {},
   "source": [
    "This could be better, but it is good enough."
   ]
  },
  {
   "cell_type": "markdown",
   "id": "afc90373-e20c-46b0-9655-627773b26b01",
   "metadata": {},
   "source": [
    "# References\n",
    "\n",
    "Keuleers, E., Diependaele, K., and Brysbaert, M. (2010). Practice effects in large-scale visual word recognition studies: A lexical decision study on 14,000 dutch mono-and disyllabic words and nonwords. Frontiers in psychology, 1:174."
   ]
  }
 ],
 "metadata": {
  "kernelspec": {
   "display_name": "R",
   "language": "R",
   "name": "ir"
  },
  "language_info": {
   "codemirror_mode": "r",
   "file_extension": ".r",
   "mimetype": "text/x-r-source",
   "name": "R",
   "pygments_lexer": "r",
   "version": "4.2.3"
  },
  "toc": {
   "base_numbering": 1,
   "nav_menu": {},
   "number_sections": true,
   "sideBar": true,
   "skip_h1_title": false,
   "title_cell": "Table of Contents",
   "title_sidebar": "Contents",
   "toc_cell": false,
   "toc_position": {},
   "toc_section_display": true,
   "toc_window_display": false
  }
 },
 "nbformat": 4,
 "nbformat_minor": 5
}
